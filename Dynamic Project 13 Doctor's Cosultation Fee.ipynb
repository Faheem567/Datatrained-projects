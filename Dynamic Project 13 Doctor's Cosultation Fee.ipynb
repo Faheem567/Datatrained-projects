{
 "cells": [
  {
   "cell_type": "code",
   "execution_count": 1,
   "metadata": {},
   "outputs": [],
   "source": [
    "# Importing all the necessary libraries\n",
    "import pandas as pd\n",
    "import numpy as np\n",
    "import matplotlib.pyplot as plt\n",
    "import seaborn as sns\n",
    "%matplotlib inline\n",
    "\n",
    "# Importing warnings\n",
    "import warnings\n",
    "warnings.filterwarnings('ignore')"
   ]
  },
  {
   "cell_type": "code",
   "execution_count": 2,
   "metadata": {},
   "outputs": [
    {
     "data": {
      "text/html": [
       "<div>\n",
       "<style scoped>\n",
       "    .dataframe tbody tr th:only-of-type {\n",
       "        vertical-align: middle;\n",
       "    }\n",
       "\n",
       "    .dataframe tbody tr th {\n",
       "        vertical-align: top;\n",
       "    }\n",
       "\n",
       "    .dataframe thead th {\n",
       "        text-align: right;\n",
       "    }\n",
       "</style>\n",
       "<table border=\"1\" class=\"dataframe\">\n",
       "  <thead>\n",
       "    <tr style=\"text-align: right;\">\n",
       "      <th></th>\n",
       "      <th>Qualification</th>\n",
       "      <th>Experience</th>\n",
       "      <th>Rating</th>\n",
       "      <th>Place</th>\n",
       "      <th>Profile</th>\n",
       "      <th>Miscellaneous_Info</th>\n",
       "      <th>Fees</th>\n",
       "    </tr>\n",
       "  </thead>\n",
       "  <tbody>\n",
       "    <tr>\n",
       "      <th>0</th>\n",
       "      <td>BHMS, MD - Homeopathy</td>\n",
       "      <td>24 years experience</td>\n",
       "      <td>100%</td>\n",
       "      <td>Kakkanad, Ernakulam</td>\n",
       "      <td>Homeopath</td>\n",
       "      <td>100% 16 Feedback Kakkanad, Ernakulam</td>\n",
       "      <td>100</td>\n",
       "    </tr>\n",
       "    <tr>\n",
       "      <th>1</th>\n",
       "      <td>BAMS, MD - Ayurveda Medicine</td>\n",
       "      <td>12 years experience</td>\n",
       "      <td>98%</td>\n",
       "      <td>Whitefield, Bangalore</td>\n",
       "      <td>Ayurveda</td>\n",
       "      <td>98% 76 Feedback Whitefield, Bangalore</td>\n",
       "      <td>350</td>\n",
       "    </tr>\n",
       "    <tr>\n",
       "      <th>2</th>\n",
       "      <td>MBBS, MS - Otorhinolaryngology</td>\n",
       "      <td>9 years experience</td>\n",
       "      <td>NaN</td>\n",
       "      <td>Mathikere - BEL, Bangalore</td>\n",
       "      <td>ENT Specialist</td>\n",
       "      <td>NaN</td>\n",
       "      <td>300</td>\n",
       "    </tr>\n",
       "    <tr>\n",
       "      <th>3</th>\n",
       "      <td>BSc - Zoology, BAMS</td>\n",
       "      <td>12 years experience</td>\n",
       "      <td>NaN</td>\n",
       "      <td>Bannerghatta Road, Bangalore</td>\n",
       "      <td>Ayurveda</td>\n",
       "      <td>Bannerghatta Road, Bangalore ₹250 Available on...</td>\n",
       "      <td>250</td>\n",
       "    </tr>\n",
       "    <tr>\n",
       "      <th>4</th>\n",
       "      <td>BAMS</td>\n",
       "      <td>20 years experience</td>\n",
       "      <td>100%</td>\n",
       "      <td>Keelkattalai, Chennai</td>\n",
       "      <td>Ayurveda</td>\n",
       "      <td>100% 4 Feedback Keelkattalai, Chennai</td>\n",
       "      <td>250</td>\n",
       "    </tr>\n",
       "    <tr>\n",
       "      <th>...</th>\n",
       "      <td>...</td>\n",
       "      <td>...</td>\n",
       "      <td>...</td>\n",
       "      <td>...</td>\n",
       "      <td>...</td>\n",
       "      <td>...</td>\n",
       "      <td>...</td>\n",
       "    </tr>\n",
       "    <tr>\n",
       "      <th>5956</th>\n",
       "      <td>MBBS, MS - ENT</td>\n",
       "      <td>19 years experience</td>\n",
       "      <td>98%</td>\n",
       "      <td>Basavanagudi, Bangalore</td>\n",
       "      <td>ENT Specialist</td>\n",
       "      <td>98% 45 Feedback Basavanagudi, Bangalore</td>\n",
       "      <td>300</td>\n",
       "    </tr>\n",
       "    <tr>\n",
       "      <th>5957</th>\n",
       "      <td>MBBS</td>\n",
       "      <td>33 years experience</td>\n",
       "      <td>NaN</td>\n",
       "      <td>Nungambakkam, Chennai</td>\n",
       "      <td>General Medicine</td>\n",
       "      <td>NaN</td>\n",
       "      <td>100</td>\n",
       "    </tr>\n",
       "    <tr>\n",
       "      <th>5958</th>\n",
       "      <td>MBBS</td>\n",
       "      <td>41 years experience</td>\n",
       "      <td>97%</td>\n",
       "      <td>Greater Kailash Part 2, Delhi</td>\n",
       "      <td>General Medicine</td>\n",
       "      <td>97% 11 Feedback Greater Kailash Part 2, Delhi</td>\n",
       "      <td>600</td>\n",
       "    </tr>\n",
       "    <tr>\n",
       "      <th>5959</th>\n",
       "      <td>MBBS, MD - General Medicine</td>\n",
       "      <td>15 years experience</td>\n",
       "      <td>90%</td>\n",
       "      <td>Vileparle West, Mumbai</td>\n",
       "      <td>General Medicine</td>\n",
       "      <td>General Medical Consultation Viral Fever Treat...</td>\n",
       "      <td>100</td>\n",
       "    </tr>\n",
       "    <tr>\n",
       "      <th>5960</th>\n",
       "      <td>BDS, MDS - Orthodontics</td>\n",
       "      <td>17 years experience</td>\n",
       "      <td>100%</td>\n",
       "      <td>Pitampura, Delhi</td>\n",
       "      <td>Dentist</td>\n",
       "      <td>Acrylic Partial Denture Crowns and Bridges Fix...</td>\n",
       "      <td>200</td>\n",
       "    </tr>\n",
       "  </tbody>\n",
       "</table>\n",
       "<p>5961 rows × 7 columns</p>\n",
       "</div>"
      ],
      "text/plain": [
       "                       Qualification           Experience Rating  \\\n",
       "0              BHMS, MD - Homeopathy  24 years experience   100%   \n",
       "1       BAMS, MD - Ayurveda Medicine  12 years experience    98%   \n",
       "2     MBBS, MS - Otorhinolaryngology   9 years experience    NaN   \n",
       "3                BSc - Zoology, BAMS  12 years experience    NaN   \n",
       "4                               BAMS  20 years experience   100%   \n",
       "...                              ...                  ...    ...   \n",
       "5956                  MBBS, MS - ENT  19 years experience    98%   \n",
       "5957                            MBBS  33 years experience    NaN   \n",
       "5958                            MBBS  41 years experience    97%   \n",
       "5959     MBBS, MD - General Medicine  15 years experience    90%   \n",
       "5960         BDS, MDS - Orthodontics  17 years experience   100%   \n",
       "\n",
       "                              Place           Profile  \\\n",
       "0               Kakkanad, Ernakulam         Homeopath   \n",
       "1             Whitefield, Bangalore          Ayurveda   \n",
       "2        Mathikere - BEL, Bangalore    ENT Specialist   \n",
       "3      Bannerghatta Road, Bangalore          Ayurveda   \n",
       "4             Keelkattalai, Chennai          Ayurveda   \n",
       "...                             ...               ...   \n",
       "5956        Basavanagudi, Bangalore    ENT Specialist   \n",
       "5957          Nungambakkam, Chennai  General Medicine   \n",
       "5958  Greater Kailash Part 2, Delhi  General Medicine   \n",
       "5959         Vileparle West, Mumbai  General Medicine   \n",
       "5960               Pitampura, Delhi           Dentist   \n",
       "\n",
       "                                     Miscellaneous_Info  Fees  \n",
       "0                  100% 16 Feedback Kakkanad, Ernakulam   100  \n",
       "1                 98% 76 Feedback Whitefield, Bangalore   350  \n",
       "2                                                   NaN   300  \n",
       "3     Bannerghatta Road, Bangalore ₹250 Available on...   250  \n",
       "4                 100% 4 Feedback Keelkattalai, Chennai   250  \n",
       "...                                                 ...   ...  \n",
       "5956            98% 45 Feedback Basavanagudi, Bangalore   300  \n",
       "5957                                                NaN   100  \n",
       "5958      97% 11 Feedback Greater Kailash Part 2, Delhi   600  \n",
       "5959  General Medical Consultation Viral Fever Treat...   100  \n",
       "5960  Acrylic Partial Denture Crowns and Bridges Fix...   200  \n",
       "\n",
       "[5961 rows x 7 columns]"
      ]
     },
     "execution_count": 2,
     "metadata": {},
     "output_type": "execute_result"
    }
   ],
   "source": [
    "df=pd.read_excel(\"E:\\Datasets\\doctor_consultation_fee\\Final_Train.xlsx\")\n",
    "df"
   ]
  },
  {
   "cell_type": "code",
   "execution_count": 3,
   "metadata": {},
   "outputs": [
    {
     "data": {
      "text/plain": [
       "(5961, 7)"
      ]
     },
     "execution_count": 3,
     "metadata": {},
     "output_type": "execute_result"
    }
   ],
   "source": [
    "# Checking the shape of columns and rows.\n",
    "df.shape"
   ]
  },
  {
   "cell_type": "markdown",
   "metadata": {},
   "source": [
    "Observation: There are 5961 rows and 7 columns in the dataset."
   ]
  },
  {
   "cell_type": "code",
   "execution_count": 4,
   "metadata": {},
   "outputs": [
    {
     "name": "stdout",
     "output_type": "stream",
     "text": [
      "<class 'pandas.core.frame.DataFrame'>\n",
      "RangeIndex: 5961 entries, 0 to 5960\n",
      "Data columns (total 7 columns):\n",
      " #   Column              Non-Null Count  Dtype \n",
      "---  ------              --------------  ----- \n",
      " 0   Qualification       5961 non-null   object\n",
      " 1   Experience          5961 non-null   object\n",
      " 2   Rating              2659 non-null   object\n",
      " 3   Place               5936 non-null   object\n",
      " 4   Profile             5961 non-null   object\n",
      " 5   Miscellaneous_Info  3341 non-null   object\n",
      " 6   Fees                5961 non-null   int64 \n",
      "dtypes: int64(1), object(6)\n",
      "memory usage: 326.1+ KB\n"
     ]
    }
   ],
   "source": [
    "#Checking the information about the dataset.\n",
    "df.info()"
   ]
  },
  {
   "cell_type": "markdown",
   "metadata": {},
   "source": [
    "Observation: Only one attribute i.e. Fees is of integer datatype. Rest of the attributes are of object datatype."
   ]
  },
  {
   "cell_type": "code",
   "execution_count": 5,
   "metadata": {},
   "outputs": [
    {
     "data": {
      "text/plain": [
       "Index(['Qualification', 'Experience', 'Rating', 'Place', 'Profile',\n",
       "       'Miscellaneous_Info', 'Fees'],\n",
       "      dtype='object')"
      ]
     },
     "execution_count": 5,
     "metadata": {},
     "output_type": "execute_result"
    }
   ],
   "source": [
    "#Checking the name of attributes.\n",
    "df.columns"
   ]
  },
  {
   "cell_type": "code",
   "execution_count": 6,
   "metadata": {},
   "outputs": [
    {
     "data": {
      "text/plain": [
       "Qualification         object\n",
       "Experience            object\n",
       "Rating                object\n",
       "Place                 object\n",
       "Profile               object\n",
       "Miscellaneous_Info    object\n",
       "Fees                   int64\n",
       "dtype: object"
      ]
     },
     "execution_count": 6,
     "metadata": {},
     "output_type": "execute_result"
    }
   ],
   "source": [
    "# Checking the datatype.\n",
    "df.dtypes"
   ]
  },
  {
   "cell_type": "code",
   "execution_count": 7,
   "metadata": {},
   "outputs": [
    {
     "data": {
      "text/html": [
       "<div>\n",
       "<style scoped>\n",
       "    .dataframe tbody tr th:only-of-type {\n",
       "        vertical-align: middle;\n",
       "    }\n",
       "\n",
       "    .dataframe tbody tr th {\n",
       "        vertical-align: top;\n",
       "    }\n",
       "\n",
       "    .dataframe thead th {\n",
       "        text-align: right;\n",
       "    }\n",
       "</style>\n",
       "<table border=\"1\" class=\"dataframe\">\n",
       "  <thead>\n",
       "    <tr style=\"text-align: right;\">\n",
       "      <th></th>\n",
       "      <th>Qualification</th>\n",
       "      <th>Experience</th>\n",
       "      <th>Rating</th>\n",
       "      <th>Place</th>\n",
       "      <th>Profile</th>\n",
       "      <th>Miscellaneous_Info</th>\n",
       "      <th>Fees</th>\n",
       "    </tr>\n",
       "  </thead>\n",
       "  <tbody>\n",
       "    <tr>\n",
       "      <th>0</th>\n",
       "      <td>1420</td>\n",
       "      <td>64</td>\n",
       "      <td>51</td>\n",
       "      <td>877</td>\n",
       "      <td>6</td>\n",
       "      <td>2998</td>\n",
       "      <td>40</td>\n",
       "    </tr>\n",
       "  </tbody>\n",
       "</table>\n",
       "</div>"
      ],
      "text/plain": [
       "   Qualification  Experience  Rating  Place  Profile  Miscellaneous_Info  Fees\n",
       "0           1420          64      51    877        6                2998    40"
      ]
     },
     "execution_count": 7,
     "metadata": {},
     "output_type": "execute_result"
    }
   ],
   "source": [
    "# Checking unique entries in each of the column.\n",
    "df.nunique().to_frame().transpose()"
   ]
  },
  {
   "cell_type": "markdown",
   "metadata": {},
   "source": [
    "Observation:\n",
    "1. Our feature variable of interest is Fees. It is a continuous data. Hence, this dataset is a regression problem.\n",
    "2. Except attribute Fees, all the attributes are object datatype. So, we have to convert it into numeric ones before model building.\n",
    "3. There are 1420 unique entries in the attribute Qualification.\n",
    "4. There are 64 unique entries in the attribute Experience.\n",
    "5. There are 51 unique entries in the attribute Rating.\n",
    "6. There are 877 unique entries in the attribute Place.\n",
    "7. There are 6 unique entries in the attribute Profile.\n",
    "8. There are 2998 unique entries in the attribute Miscellaneous_Info.\n",
    "9. Lastly, there are 40 unique entries in the attribute fees."
   ]
  },
  {
   "cell_type": "code",
   "execution_count": 8,
   "metadata": {},
   "outputs": [
    {
     "data": {
      "text/plain": [
       "True"
      ]
     },
     "execution_count": 8,
     "metadata": {},
     "output_type": "execute_result"
    }
   ],
   "source": [
    "# Checking for null values\n",
    "df.isnull().values.any()"
   ]
  },
  {
   "cell_type": "code",
   "execution_count": 9,
   "metadata": {},
   "outputs": [
    {
     "data": {
      "text/plain": [
       "Qualification            0\n",
       "Experience               0\n",
       "Rating                3302\n",
       "Place                   25\n",
       "Profile                  0\n",
       "Miscellaneous_Info    2620\n",
       "Fees                     0\n",
       "dtype: int64"
      ]
     },
     "execution_count": 9,
     "metadata": {},
     "output_type": "execute_result"
    }
   ],
   "source": [
    "# Checking null values column wise\n",
    "df.isnull().sum()"
   ]
  },
  {
   "cell_type": "markdown",
   "metadata": {},
   "source": [
    "Findings:\n",
    "1. There are 3302 null values present in the Rating column.\n",
    "2. Also, there are 2620 null values present in the Miscellaneous_Info column.\n",
    "3. Further, there are 25 null values present in the Place column.\n",
    "4. All of these columns are of object datatype."
   ]
  },
  {
   "cell_type": "code",
   "execution_count": 10,
   "metadata": {},
   "outputs": [
    {
     "data": {
      "text/plain": [
       "<matplotlib.axes._subplots.AxesSubplot at 0x16a72ef7b88>"
      ]
     },
     "execution_count": 10,
     "metadata": {},
     "output_type": "execute_result"
    },
    {
     "data": {
      "image/png": "[encoded data removed]",
      "text/plain": [
       "<Figure size 720x576 with 1 Axes>"
      ]
     },
     "metadata": {
      "needs_background": "light"
     },
     "output_type": "display_data"
    }
   ],
   "source": [
    "# Visualizing the null values via heatmap\n",
    "plt.figure(figsize=(10,8))\n",
    "sns.heatmap(df.isnull(),yticklabels=False,cbar=False)"
   ]
  },
  {
   "cell_type": "code",
   "execution_count": 11,
   "metadata": {},
   "outputs": [],
   "source": [
    "#Imputing the missing value with their mode.\n",
    "from sklearn.impute import SimpleImputer\n",
    "imp=SimpleImputer(missing_values=np.NaN,strategy='most_frequent')\n",
    "df['Place']=imp.fit_transform(df['Place'].values.reshape(-1,1))\n",
    "df['Miscellaneous_Info']=imp.fit_transform(df['Miscellaneous_Info'].values.reshape(-1,1))"
   ]
  },
  {
   "cell_type": "code",
   "execution_count": 12,
   "metadata": {},
   "outputs": [],
   "source": [
    "df['Rating'].fillna('0%',inplace = True)"
   ]
  },
  {
   "cell_type": "code",
   "execution_count": 13,
   "metadata": {},
   "outputs": [
    {
     "data": {
      "text/plain": [
       "Qualification         0\n",
       "Experience            0\n",
       "Rating                0\n",
       "Place                 0\n",
       "Profile               0\n",
       "Miscellaneous_Info    0\n",
       "Fees                  0\n",
       "dtype: int64"
      ]
     },
     "execution_count": 13,
     "metadata": {},
     "output_type": "execute_result"
    }
   ],
   "source": [
    "#Now checking the null values again.\n",
    "df.isnull().sum()"
   ]
  },
  {
   "cell_type": "markdown",
   "metadata": {},
   "source": [
    "Observation: The null values have been removed."
   ]
  },
  {
   "cell_type": "code",
   "execution_count": 14,
   "metadata": {},
   "outputs": [
    {
     "data": {
      "text/plain": [
       "<matplotlib.axes._subplots.AxesSubplot at 0x16a73524b48>"
      ]
     },
     "execution_count": 14,
     "metadata": {},
     "output_type": "execute_result"
    },
    {
     "data": {
      "image/png": "[encoded data removed]",
      "text/plain": [
       "<Figure size 432x288 with 1 Axes>"
      ]
     },
     "metadata": {
      "needs_background": "light"
     },
     "output_type": "display_data"
    }
   ],
   "source": [
    "#With heatmap again checking the missing value.\n",
    "sns.heatmap(df.isnull(),yticklabels=False,cbar=False)"
   ]
  },
  {
   "cell_type": "code",
   "execution_count": 15,
   "metadata": {},
   "outputs": [
    {
     "name": "stdout",
     "output_type": "stream",
     "text": [
      "Qualification:['BHMS, MD - Homeopathy' 'BAMS, MD - Ayurveda Medicine'\n",
      " 'MBBS, MS - Otorhinolaryngology' ...\n",
      " 'MD - Dermatology , Venereology & Leprosy, MBBS, Fellowship In Dermatosurgery'\n",
      " 'BDS, certification in smile designing'\n",
      " 'MD - Homeopathy, Post Graduate Diploma in Healthcare Management(PGDHM), DHMS (Diploma in Homeopathic Medicine and Surgery)']\n",
      "BDS                                                                                                                                                                                                   488\n",
      "BHMS                                                                                                                                                                                                  477\n",
      "BAMS                                                                                                                                                                                                  471\n",
      "MBBS                                                                                                                                                                                                  334\n",
      "MBBS, MS - ENT                                                                                                                                                                                        220\n",
      "                                                                                                                                                                                                     ... \n",
      "MS - Otorhinolaryngology, MBBS, DNB, MBA (HCS), MS - ENT                                                                                                                                                1\n",
      "MBBS, MD - Paediatrics                                                                                                                                                                                  1\n",
      "MD - Homeopathy, BHMS, DHMS (Diploma in Homeopathic Medicine and Surgery), Diploma in Hospital Management, Diploma in Trichology - Cosmetology, Diploma In Skin Aesthetics, Diploma in Weight Loss      1\n",
      "MBBS, Diploma in Otorhinolaryngology (DLO), FCPS - Oto-Rhino-Laryngology, DNB - Otorhinolaryngology                                                                                                     1\n",
      "MBBS, Postgraduate Diploma Clinical Cardiology (PGDCC), Fellowship in Non-Invasive Cardiology (FIC)                                                                                                     1\n",
      "Name: Qualification, Length: 1420, dtype: int64\n",
      "*************************************************************\n",
      "\n",
      "\n",
      "Experience:['24 years experience' '12 years experience' '9 years experience'\n",
      " '20 years experience' '8 years experience' '42 years experience'\n",
      " '10 years experience' '14 years experience' '23 years experience'\n",
      " '5 years experience' '7 years experience' '21 years experience'\n",
      " '19 years experience' '41 years experience' '31 years experience'\n",
      " '25 years experience' '16 years experience' '15 years experience'\n",
      " '11 years experience' '22 years experience' '38 years experience'\n",
      " '6 years experience' '36 years experience' '13 years experience'\n",
      " '18 years experience' '46 years experience' '40 years experience'\n",
      " '49 years experience' '33 years experience' '0 years experience'\n",
      " '27 years experience' '30 years experience' '52 years experience'\n",
      " '60 years experience' '26 years experience' '35 years experience'\n",
      " '34 years experience' '39 years experience' '32 years experience'\n",
      " '17 years experience' '28 years experience' '58 years experience'\n",
      " '4 years experience' '45 years experience' '44 years experience'\n",
      " '3 years experience' '37 years experience' '50 years experience'\n",
      " '29 years experience' '43 years experience' '54 years experience'\n",
      " '66 years experience' '2 years experience' '51 years experience'\n",
      " '47 years experience' '48 years experience' '53 years experience'\n",
      " '56 years experience' '61 years experience' '59 years experience'\n",
      " '57 years experience' '55 years experience' '65 years experience'\n",
      " '64 years experience']\n",
      "9 years experience     323\n",
      "10 years experience    294\n",
      "11 years experience    288\n",
      "8 years experience     282\n",
      "12 years experience    279\n",
      "                      ... \n",
      "64 years experience      1\n",
      "59 years experience      1\n",
      "66 years experience      1\n",
      "60 years experience      1\n",
      "65 years experience      1\n",
      "Name: Experience, Length: 64, dtype: int64\n",
      "*************************************************************\n",
      "\n",
      "\n",
      "Rating:['100%' '98%' '0%' '99%' '79%' '95%' '97%' '94%' '88%' '90%' '80%' '93%'\n",
      " '36%' '78%' '87%' '96%' '82%' '89%' '74%' '86%' '92%' '83%' '76%' '85%'\n",
      " '56%' '91%' '68%' '60%' '75%' '69%' '73%' '67%' '77%' '33%' '55%' '71%'\n",
      " '84%' '45%' '63%' '72%' '81%' '62%' '57%' '7%' '48%' '40%' '70%' '64%'\n",
      " '65%' '47%' '58%' '53%']\n",
      "0%      3302\n",
      "100%     684\n",
      "98%      290\n",
      "99%      259\n",
      "97%      241\n",
      "96%      220\n",
      "95%      178\n",
      "94%      115\n",
      "93%      109\n",
      "92%       66\n",
      "90%       66\n",
      "91%       60\n",
      "89%       42\n",
      "88%       41\n",
      "85%       27\n",
      "82%       23\n",
      "86%       21\n",
      "83%       21\n",
      "80%       19\n",
      "77%       16\n",
      "87%       14\n",
      "79%       13\n",
      "84%       13\n",
      "81%       12\n",
      "67%       12\n",
      "71%        9\n",
      "76%        9\n",
      "73%        8\n",
      "75%        8\n",
      "74%        7\n",
      "60%        7\n",
      "78%        6\n",
      "68%        5\n",
      "56%        5\n",
      "69%        4\n",
      "70%        4\n",
      "57%        3\n",
      "72%        3\n",
      "63%        2\n",
      "64%        2\n",
      "62%        2\n",
      "33%        2\n",
      "55%        2\n",
      "47%        1\n",
      "53%        1\n",
      "65%        1\n",
      "48%        1\n",
      "40%        1\n",
      "58%        1\n",
      "45%        1\n",
      "7%         1\n",
      "36%        1\n",
      "Name: Rating, dtype: int64\n",
      "*************************************************************\n",
      "\n",
      "\n",
      "Place:['Kakkanad, Ernakulam' 'Whitefield, Bangalore'\n",
      " 'Mathikere - BEL, Bangalore' 'Bannerghatta Road, Bangalore'\n",
      " 'Keelkattalai, Chennai' 'Porur, Chennai' 'Karol Bagh, Delhi'\n",
      " 'Arekere, Bangalore' 'Old City, Hyderabad' 'Athani, Ernakulam'\n",
      " 'Thousand Lights, Chennai' 'Somajiguda, Hyderabad'\n",
      " 'Coimbatore Racecourse, Coimbatore' 'Jubilee Hills, Hyderabad'\n",
      " 'Kondli, Delhi' 'Saroor Nagar, Hyderabad' 'Tambaram West, Chennai'\n",
      " 'Purasawakkam, Chennai' 'KPHB, Hyderabad' 'HSR Layout, Bangalore'\n",
      " 'Pollachi, Coimbatore' 'Vasundhra Enclave, Delhi' 'Chembur, Mumbai'\n",
      " 'Thammanam, Ernakulam' 'Andheri, Mumbai' 'Pattom, Thiruvananthapuram'\n",
      " 'Kukatpally, Hyderabad' 'Vadavalli, Coimbatore' 'Defence Colony, Delhi'\n",
      " 'Banjara Hills, Hyderabad' 'Sion West, Mumbai' 'CR Park, Delhi'\n",
      " 'Mogappair East, Chennai' 'IP Extension, Delhi'\n",
      " 'Safdarjung Enclave, Delhi' 'New Friends Colony, Delhi'\n",
      " 'Borivali West, Mumbai' 'Saket, Delhi' 'Malad, Mumbai'\n",
      " 'Hyder Nagar, Hyderabad' 'Dahisar West, Mumbai' 'RT Nagar, Bangalore'\n",
      " 'Powai, Mumbai' 'Basheerbagh, Hyderabad' 'Musheerabad, Hyderabad'\n",
      " 'AS Rao Nagar, Hyderabad' 'Madhapur, Hyderabad' 'Gandhinagar, Hyderabad'\n",
      " 'Chetpet, Chennai' 'Vileparle East, Mumbai'\n",
      " 'Yelahanka New Town, Bangalore' 'Kodambakkam, Chennai'\n",
      " 'Malleswaram, Bangalore' 'Pallikaranai, Chennai' 'Nallakunta, Hyderabad'\n",
      " 'Paschim Vihar, Delhi' 'Meera Bagh, Delhi' 'Chattarpur, Delhi'\n",
      " 'Andheri West, Mumbai' 'Himayat Nagar, Hyderabad' 'Adambakkam, Chennai'\n",
      " 'Punjabi Bagh, Delhi' 'Mahalaxmi, Mumbai' 'Kalina, Mumbai'\n",
      " 'Attapur, Hyderabad' 'Lakdikapul, Hyderabad' 'Ambattur, Chennai'\n",
      " 'Ramnagar, Coimbatore' 'Shalimar Bagh, Delhi' 'Nungambakkam, Chennai'\n",
      " 'Miyapur, Hyderabad' 'Sagarpur, Delhi' 'Girgaon, Mumbai'\n",
      " 'Jayanagar, Bangalore' 'Palayam, Thiruvananthapuram' 'Munirka, Delhi'\n",
      " 'Tuglakabad, Delhi' 'Moosarambagh, Hyderabad' 'Anna Nagar East, Chennai'\n",
      " 'Bandra West, Mumbai' 'Kanakpura Road, Bangalore' 'Green Park, Delhi'\n",
      " 'Maduravoyal, Chennai' 'Dahisar East, Mumbai' 'Moosapet, Hyderabad'\n",
      " 'Koramangala, Bangalore' 'TV Medical College, Thiruvananthapuram'\n",
      " 'Kadavanthra, Ernakulam' 'Greams Road, Chennai' 'Bommanahalli, Bangalore'\n",
      " 'T Nagar, Chennai' 'Yelahanka, Bangalore' 'Hazrat Nizamuddin, Delhi'\n",
      " 'Old Rajendra Nagar, Delhi' 'Dadar West, Mumbai' 'Indiranagar, Bangalore'\n",
      " 'Perumbakkam, Chennai' 'Shaikpet, Hyderabad' 'Vyttila, Ernakulam'\n",
      " 'Khar West, Mumbai' 'Goregaon West, Mumbai' 'Bakkarwala, Delhi'\n",
      " 'Nesapakkam, Chennai' 'BTM Layout 2nd Stage, Bangalore'\n",
      " 'Ashok Nagar, Chennai' 'Chandivali, Mumbai' 'Uttam Nagar, Delhi'\n",
      " 'Gujranwala Town, Delhi' 'Greater Kailash Part 1, Delhi'\n",
      " 'Panchsheel Park, Delhi' 'Thoraipakkam, Chennai'\n",
      " 'South Extension 2, Delhi' 'Kandivali East, Mumbai' 'Pitampura, Delhi'\n",
      " 'Banashankari 3rd Stage, Bangalore' 'Kolenchery, Ernakulam'\n",
      " 'Kumaraswamy Layout, Bangalore' 'Vadapalani, Chennai'\n",
      " 'Manikonda, Hyderabad' 'Gandhipuram, Coimbatore'\n",
      " 'Yeshwanthpur, Bangalore' 'Ayanavaram, Chennai'\n",
      " 'Basaveshwaranagar, Bangalore' 'Malad West, Mumbai' 'Vikas Puri, Delhi'\n",
      " 'Kondapur, Hyderabad' 'Andheri East, Mumbai' 'Sulur, Coimbatore'\n",
      " 'Adyar, Chennai' 'Krishna Nagar, Delhi' 'Langer House, Hyderabad'\n",
      " 'Thiruvanmiyur, Chennai' 'Dwarka, Delhi' 'Bhandup West, Mumbai'\n",
      " 'Janak Puri, Delhi' 'Rajajinagar, Bangalore' 'South Extension 1, Delhi'\n",
      " 'Kemps Corner, Mumbai' 'Peelamedu, Coimbatore' 'Kandivali West, Mumbai'\n",
      " 'Thevara, Ernakulam' 'Wilson Garden, Bangalore' 'Wadala, Mumbai'\n",
      " 'Pahar Ganj, Delhi' 'Chanchalguda, Hyderabad' 'Chikkadpally, Hyderabad'\n",
      " 'Pasur-avanashi, Coimbatore' 'Nagarbhavi, Bangalore'\n",
      " 'Lajpat Nagar, Delhi' 'Mayur Vihar Ph-I, Delhi' 'Dilshad Garden, Delhi'\n",
      " 'Vijayanagar, Bangalore' 'Alwarpet, Chennai'\n",
      " 'Pappanamcode, Thiruvananthapuram' 'Aluva, Ernakulam'\n",
      " 'Nariman Point, Mumbai' 'Kilkattalai, Chennai' 'Dilsukhnagar, Hyderabad'\n",
      " 'Kurla West, Mumbai' 'Begumpet, Hyderabad' 'Kaloor, Ernakulam'\n",
      " 'Hitech City, Hyderabad' 'Goregaon East, Mumbai'\n",
      " 'Velandipalayam, Coimbatore' 'Ghatkopar East, Mumbai'\n",
      " 'Mulund West, Mumbai' 'Yousufguda, Hyderabad' 'Ghatkopar West, Mumbai'\n",
      " 'TVM Beach, Thiruvananthapuram' 'Vanagaram, Chennai' 'Worli, Mumbai'\n",
      " 'Koramangala 1 Block, Bangalore' 'Saki Vihar Road, Mumbai'\n",
      " 'Versova, Mumbai' 'CV Raman Nagar, Bangalore' 'Secunderabad, Hyderabad'\n",
      " 'BTM Layout 1st Stage, Bangalore' 'Ramkoti, Hyderabad'\n",
      " 'MRC Nagar, Chennai' 'Malkajgiri, Hyderabad' 'Gachibowli, Hyderabad'\n",
      " 'Mogappair West, Chennai' 'Mayur Vihar Ph-III, Delhi'\n",
      " 'Kurla East, Mumbai' 'Ashok Vihar, Delhi' 'Mahim, Mumbai'\n",
      " 'Villivakkam, Chennai' 'Srinagar Colony, Hyderabad' 'Chromepet, Chennai'\n",
      " 'Pammal, Chennai' 'Banashankari, Bangalore' 'Velachery, Chennai'\n",
      " 'Chanakyapuri, Delhi' 'Kalyan Nagar, Bangalore' 'Oshiwara, Mumbai'\n",
      " 'Karapakkam, Chennai' 'Borivali, Mumbai' 'Mylapore, Chennai'\n",
      " 'Electronics City, Bangalore' 'Perungudi, Chennai'\n",
      " 'Basavanagudi, Bangalore' 'MG Road, Bangalore' 'Thiruvottiyur, Chennai'\n",
      " 'Greater Kailash Part 2, Delhi' 'Bilekahalli, Bangalore'\n",
      " 'Nanganallur, Chennai' 'Rohini, Delhi' 'Thrikkakara, Ernakulam'\n",
      " 'Manapakkam, Chennai' 'Bellandur, Bangalore' 'Ameerpet, Hyderabad'\n",
      " 'Thiruvallom, Thiruvananthapuram' 'R.S. Puram, Coimbatore'\n",
      " 'Kumarapuram, Thiruvananthapuram' 'Palam Colony, Delhi' 'Manali, Chennai'\n",
      " 'Valasaravakkam, Chennai' 'Barkatpura, Hyderabad'\n",
      " 'Singanallur, Coimbatore' 'Mulund, Mumbai' 'Dadar East, Mumbai'\n",
      " 'Borabanda, Hyderabad' 'Model Town 3, Delhi' 'Ulsoor, Bangalore'\n",
      " 'Bhayandar West, Mumbai' 'Hari Nagar, Delhi' 'Horamavu, Bangalore'\n",
      " 'Santacruz East, Mumbai' 'OMR Road, Chennai' 'Kammana Halli, Bangalore'\n",
      " 'Tilak Nagar, Delhi' 'Panathur, Bangalore'\n",
      " 'Rajarajeshwarinagar, Bangalore' 'Paravur, Ernakulam'\n",
      " 'Preet Vihar, Delhi' 'Chembur East, Mumbai' 'Jakkur, Bangalore'\n",
      " 'Vanasthalipuram, Hyderabad' 'Mandaveli, Chennai'\n",
      " 'Kumara Park West, Bangalore' 'Domlur, Bangalore'\n",
      " 'Jeevanbhimanagar, Bangalore' 'Santacruz West, Mumbai'\n",
      " 'Shankar Vihar, Delhi' 'Jogeshwari East, Mumbai'\n",
      " 'Kasavanahalli, Bangalore' 'Ambalamukku, Thiruvananthapuram'\n",
      " 'Jhilmil Colony, Delhi' 'Dwarka Sector 7, Delhi' 'Tatabad, Coimbatore'\n",
      " 'Marine Lines, Mumbai' 'Tolichowki, Hyderabad' 'Sundarapuram, Coimbatore'\n",
      " 'Kothanur, Bangalore' 'Chinmaya Nagar, Chennai' 'Vasant Vihar, Delhi'\n",
      " 'Mehdipatnam, Hyderabad' 'Kadugodi, Bangalore' 'Ganapathy, Coimbatore'\n",
      " 'SR Nagar, Hyderabad' 'Perambur, Chennai' 'Opera House, Mumbai'\n",
      " 'Selvapuram, Coimbatore' 'Karkardooma, Delhi' 'Alwarthirunagar, Chennai'\n",
      " 'KR Puram, Bangalore' 'Ramesh Nagar, Delhi' 'Malakpet, Hyderabad'\n",
      " 'Tondiarpet, Chennai' 'Vikrampuri Colony, Hyderabad'\n",
      " 'Besant Nagar, Chennai' 'Vasant Kunj, Delhi' 'Banaswadi, Bangalore'\n",
      " 'BTM Layout, Bangalore' 'Medavakkam, Chennai' 'Vileparle West, Mumbai'\n",
      " 'Sahakaranagar, Bangalore' 'LB Nagar, Hyderabad' 'Punjagutta, Hyderabad'\n",
      " 'Yamuna Vihar, Delhi' 'Marathahalli, Bangalore'\n",
      " 'JP Nagar 2 Phase, Bangalore' 'Rani Bagh, Delhi' 'Jayamahal, Bangalore'\n",
      " 'Nagpada, Mumbai' 'Kundalahalli, Bangalore' 'Kailash Colony, Delhi'\n",
      " 'Pandav Nagar, Delhi' 'Karkhana, Hyderabad' 'West Mambalam, Chennai'\n",
      " 'Aminjikarai, Chennai' 'Madipakkam, Chennai' 'Charkop, Mumbai'\n",
      " 'Adarsh Nagar, Delhi' 'Dadar, Mumbai' 'Kaggadasapura, Bangalore'\n",
      " 'Matunga, Mumbai' 'Sun city, Hyderabad' 'Mahadevapura, Bangalore'\n",
      " 'Kalady, Ernakulam' 'Anna Nagar West, Chennai' 'Mayur Vihar Ph-II, Delhi'\n",
      " 'Tis Hazari, Delhi' 'Vennala, Ernakulam' 'Mira Road, Mumbai'\n",
      " 'Alwal, Hyderabad' 'Trimulgherry, Hyderabad'\n",
      " 'Raja Annamalai Puram, Chennai' 'JP Nagar 7 Phase, Bangalore'\n",
      " 'Old Bowenpally, Hyderabad' 'Santosh Nagar, Hyderabad'\n",
      " 'Hope College, Coimbatore' 'Mulund East, Mumbai' 'Mount Road, Chennai'\n",
      " 'Patel Nagar West, Delhi' 'Jayanagar 4 Block, Bangalore'\n",
      " 'West Marredpally, Hyderabad' 'Jagriti Enclave, Delhi'\n",
      " 'Sarita Vihar, Delhi' 'Rajendra Nagar, Hyderabad'\n",
      " 'Thudiyalur, Coimbatore' 'Bhayandar East, Mumbai'\n",
      " 'Narayanguda, Hyderabad' 'Kothapet, Hyderabad' 'KK Nagar, Chennai'\n",
      " 'Tripunithura, Ernakulam' 'Model Town, Delhi'\n",
      " 'Suchitra Circle, Hyderabad' 'Pusa Road, Delhi'\n",
      " 'Vijaynagar Colony, Hyderabad' 'Alandur, Chennai' 'Cuffe Parade, Mumbai'\n",
      " 'Kalkaji, Delhi' 'Saibaba Colony, Coimbatore'\n",
      " 'Kattakada, Thiruvananthapuram' 'Jogeshwari West, Mumbai'\n",
      " 'Erragadda, Hyderabad' 'Tilak Nagar, Hyderabad' 'Edapally, Ernakulam'\n",
      " 'Patparganj, Delhi' 'Sainikpuri, Hyderabad' 'Nanjundapuram, Coimbatore'\n",
      " 'Nizampet, Hyderabad' 'Kolathur, Chennai' 'Chamarajpet, Bangalore'\n",
      " 'Kala Ghoda, Mumbai' 'Padmarao Nagar, Hyderabad' 'Uppal, Hyderabad'\n",
      " 'Guduvanchery, Chennai' 'Satya Niketan, Delhi' 'Chanda Nagar, Hyderabad'\n",
      " 'Sowripalayam, Coimbatore' 'Vikhroli West, Mumbai'\n",
      " 'Rajouri Garden, Delhi' 'Alaknanda, Delhi' 'Millers Road, Bangalore'\n",
      " 'Kandanchavadi, Chennai' 'Vigyan Vihar, Delhi' 'Bandra East, Mumbai'\n",
      " 'Vilankurichi, Coimbatore' 'Malad East, Mumbai' 'Prabhadevi, Mumbai'\n",
      " 'Ulloor, Thiruvananthapuram' 'Rajakilpakkam, Chennai'\n",
      " 'Greater Kailash, Delhi' 'Madinaguda, Hyderabad' 'Borivali East, Mumbai'\n",
      " 'Juhu, Mumbai' 'Mugalivakkam, Chennai' 'Hebbal, Bangalore'\n",
      " 'Kirti Nagar, Delhi' 'Balaramapuram, Thiruvananthapuram'\n",
      " 'Bhandup East, Mumbai' 'VV Puram, Bangalore' 'Kilpauk, Chennai'\n",
      " 'Jacob Circle, Mumbai' 'Singasandra, Bangalore' 'Khairatabad, Hyderabad'\n",
      " 'Coimbatore Aerodrome, Coimbatore' 'J.C Nagar, Bangalore'\n",
      " 'Naraina Vihar, Delhi' 'Virugambakkam, Chennai' 'RK Puram, Delhi'\n",
      " 'Banashankari 1st Stage, Bangalore' 'Lajpat Nagar 4, Delhi'\n",
      " 'Jayanagar 5 Block, Bangalore' 'Kalyanpuri, Hyderabad'\n",
      " 'Tambaram, Chennai' 'Laxmi Nagar, Delhi' 'Anand Vihar, Delhi'\n",
      " 'Charni Road, Mumbai' 'Patel Nagar East, Delhi'\n",
      " 'Jayanagar 9 Block, Bangalore' 'Ecil, Hyderabad'\n",
      " 'Ramamurthy Nagar, Bangalore' 'Raj Nagar - 2, Delhi'\n",
      " 'Chunabhatti, Mumbai' 'Vikhroli East, Mumbai' 'Shakarpur, Delhi'\n",
      " 'Shahdara, Delhi' 'Govandi, Mumbai' 'Mira Bhayandar, Mumbai'\n",
      " 'Doddanekundi, Bangalore' 'Madhu Vihar, Delhi' 'Guindy, Chennai'\n",
      " 'Palarivattom, Ernakulam' 'Charminar, Hyderabad'\n",
      " 'Old Airport Road, Bangalore' 'Sarjapur Road, Bangalore' 'Okhla, Delhi'\n",
      " 'Baghlingampally, Hyderabad' 'Trombay, Mumbai' 'HRBR Layout, Bangalore'\n",
      " 'Fort, Mumbai' 'Shastri Nagar, Delhi' 'Red Hills, Chennai'\n",
      " 'New BEL Road, Bangalore' 'Park Town, Chennai' 'Frazer Town, Bangalore'\n",
      " 'Falaknuma, Hyderabad' 'Rohini Sector 7, Delhi' 'East Of Kailash, Delhi'\n",
      " 'Chintadripet, Chennai' 'Tagore Garden, Delhi' 'Tri Nagar, Delhi'\n",
      " 'Muttada, Thiruvananthapuram' 'Munnekollal, Bangalore'\n",
      " 'TV Museum, Thiruvananthapuram' 'Shivalik, Delhi' 'Neb Sarai, Delhi'\n",
      " 'Mahalakshmi Layout, Bangalore' 'Mankhurd, Mumbai' 'Kamla Nagar, Delhi'\n",
      " 'Saravanampatti, Coimbatore' 'Selaiyur, Chennai' 'Saligramam, Chennai'\n",
      " 'Thirumullaivoyal, Chennai' 'Teynampet, Chennai' 'Kochi, Ernakulam'\n",
      " 'Vidyaranyapura, Bangalore' 'Mogappair, Chennai' 'Mazgaon, Mumbai'\n",
      " 'Shivaji Nagar, Bangalore' 'Jangpura, Delhi'\n",
      " 'Kaudiar Square, Thiruvananthapuram' 'Arumbakkam, Chennai'\n",
      " 'Cherai, Ernakulam' 'Mira-Bhayandar Road, Mumbai' 'Ram Nagar, Delhi'\n",
      " 'Parel, Mumbai' 'Thanisandra, Bangalore' 'Pragathi Nagar, Hyderabad'\n",
      " 'Karamana, Thiruvananthapuram' 'AECS Layout, Bangalore'\n",
      " 'Nizamuddin East, Delhi' 'Ramanathapuram, Coimbatore'\n",
      " 'Anna Nagar, Chennai' 'Shenoy Nagar, Chennai' 'Siddhapudur, Coimbatore'\n",
      " 'Keshav Puram, Delhi' 'Edakochi, Ernakulam' 'Nagawara, Bangalore'\n",
      " 'Chintal, Hyderabad' 'Malviya Nagar, Delhi' 'Karwan, Hyderabad'\n",
      " 'Vazhakulam, Ernakulam' 'PMG Jn, Thiruvananthapuram'\n",
      " 'Dwarka Sector 6, Delhi' 'Viveknagar, Bangalore' 'Balapur, Hyderabad'\n",
      " 'Banashankari 2nd Stage, Bangalore' 'Azadpur, Delhi' 'Moti Nagar, Delhi'\n",
      " 'Sakinaka, Mumbai' 'Thoppumpady, Ernakulam' 'Sanath Nagar, Hyderabad'\n",
      " 'Royapettah, Chennai' 'Koramangala 5 Block, Bangalore'\n",
      " 'Kanjurmarg, Mumbai' 'Ernakulam College, Ernakulam' 'Urapakkam, Chennai'\n",
      " 'Coimbatore Ukkadam, Coimbatore' 'Sreekaryam, Thiruvananthapuram'\n",
      " 'Ernakulam North, Ernakulam' 'Sultanpur, Delhi' 'Banerji Road, Ernakulam'\n",
      " 'Balkampet, Hyderabad' 'Kavundampalayam, Coimbatore'\n",
      " 'Kanchanbagh, Hyderabad' 'Patel Nagar, Delhi' 'Kilokri, Delhi'\n",
      " 'Hoodi, Bangalore' 'New Seemapuri, Delhi' 'Seshadripuram, Bangalore'\n",
      " 'Vijaynagar, Delhi' 'Bowenpally, Hyderabad' 'Ondipudur, Coimbatore'\n",
      " 'Triplicane, Chennai' 'Richmond Town, Bangalore'\n",
      " 'New Rajendra Nagar, Delhi' 'Jahangirpuri, Delhi' 'Vivek Vihar, Delhi'\n",
      " 'Malleshpalya, Bangalore' 'Pezhakkappilly, Ernakulam'\n",
      " 'Lingampally, Hyderabad' 'Jamia Nagar, Delhi' 'Begum Bazar, Hyderabad'\n",
      " 'Lower Parel, Mumbai' 'ECR Road, Chennai' 'Nangloi, Delhi'\n",
      " 'Chintalmet, Hyderabad' 'West Of Chord Road, Bangalore' 'SV Road, Mumbai'\n",
      " 'JP Nagar 5 Phase, Bangalore' 'Sanjay Nagar, Bangalore'\n",
      " 'Panampilly Nagar, Ernakulam' 'Dharavi, Mumbai' 'Abbigere, Bangalore'\n",
      " 'Manacaud, Thiruvananthapuram' 'Poonamalle, Chennai' 'Najafgarh, Delhi'\n",
      " 'Uttarahalli, Bangalore' 'Sembakkam, Chennai' 'Tarnaka, Hyderabad'\n",
      " 'Nandanam, Chennai' 'Saidapet, Chennai' 'Choolaimedu, Chennai'\n",
      " 'Perungalathur, Chennai' 'Gulabi Bagh, Delhi' 'Jasola, Delhi'\n",
      " 'JP Nagar 3 Phase, Bangalore' 'Uppilipalayam, Coimbatore'\n",
      " 'Sadashivanagar, Bangalore' 'Rohini Sector 24, Delhi'\n",
      " 'Muvattupuzha, Ernakulam' 'Khan Market, Delhi' 'Abids, Hyderabad'\n",
      " 'Geeta Colony, Delhi' 'Madandapuram, Chennai' 'Dwarka Sector 22, Delhi'\n",
      " 'Grant Road, Mumbai' 'Jeedimetla, Hyderabad' 'Tambaram East, Chennai'\n",
      " 'Kothaguda, Hyderabad' 'Hauz Khas, Delhi' 'Habsiguda, Hyderabad'\n",
      " 'Breach Candy, Mumbai' 'Vidyanagar, Bangalore' 'Begur, Bangalore'\n",
      " 'Dahisar, Mumbai' 'Pachalam, Ernakulam' 'Perumbavoor, Ernakulam'\n",
      " 'Avadi, Chennai' 'Coimbatore Central, Coimbatore' 'Lokhandwala, Mumbai'\n",
      " 'Tiruvottiyur, Chennai' 'Ullal Upanagara, Bangalore'\n",
      " 'Perurkada, Thiruvananthapuram' 'Ashok Vihar Phase 3, Delhi'\n",
      " 'Walkeshwar, Mumbai' 'Saidabad, Hyderabad'\n",
      " 'Koramangala 6 Block, Bangalore' 'New Ashok Nagar, Delhi'\n",
      " 'Peddar Road, Mumbai' 'Aya Nagar, Delhi' 'JP Nagar, Bangalore'\n",
      " 'Sasthamangalam, Thiruvananthapuram' 'Yakutpura, Hyderabad'\n",
      " 'Sampangiramnagar, Bangalore' 'Kasturi nagar, Bangalore'\n",
      " 'Pallavaram, Chennai' 'Moti Bagh, Delhi' 'Mukherjee Nagar, Delhi'\n",
      " 'Byculla, Mumbai' 'Peeragarhi, Delhi' 'Amberpet, Hyderabad'\n",
      " 'JP Nagar 6 Phase, Bangalore' 'Sholinganallur, Chennai'\n",
      " 'Langford Road, Bangalore' 'Cumballa Hill, Mumbai' 'Colaba, Mumbai'\n",
      " 'Qutab Institutional Area, Delhi' 'Dommasandra, Bangalore'\n",
      " 'Malabar Hill, Mumbai' 'Koramangala 8 Block, Bangalore'\n",
      " 'Rohini Sector 22, Delhi' 'Lothkunta, Hyderabad'\n",
      " 'HAL 2nd Stage, Bangalore' 'Jayanagar 7 Block, Bangalore'\n",
      " 'Vadasserikonam, Thiruvananthapuram' 'East Marredpally, Hyderabad'\n",
      " 'Kelambakkam, Chennai' 'Chinchpokli, Mumbai' 'Delhi Cantt, Delhi'\n",
      " 'Padmanabhanagar, Bangalore' 'Sheikh Sarai, Delhi'\n",
      " 'Washermenpet, Chennai' 'Konanakunte, Bangalore'\n",
      " 'Ashok Vihar Phase 1, Delhi' 'Thirumala, Thiruvananthapuram'\n",
      " 'Sarjapura, Bangalore' 'JP Nagar 1 Phase, Bangalore' 'JB Nagar, Mumbai'\n",
      " 'Paruthippara, Thiruvananthapuram' 'Vikhroli, Mumbai'\n",
      " 'JP Nagar 8 Phase, Bangalore' 'GTB Nagar, Delhi' 'Vidyanagar, Hyderabad'\n",
      " 'Masab Tank, Hyderabad' 'Hafeezpet, Hyderabad' 'Jeevan Park, Delhi'\n",
      " 'Dwarka Sector 5, Delhi' 'Civil Lines, Delhi' 'Anand Niketan, Delhi'\n",
      " 'Pappanaickenpalayam, Coimbatore' 'Koovappady, Ernakulam'\n",
      " 'Dwarka, Sector 5, Delhi' 'Srirampuram, Bangalore' 'Korattur, Chennai'\n",
      " 'Pappanaickenpudur, Coimbatore' 'Gandhi Nagar, Delhi'\n",
      " 'Vignan Nagar, Bangalore' 'Ganganagar, Bangalore' 'Elamakkara, Ernakulam'\n",
      " 'Boduppal, Hyderabad' 'Tilak Nagar, Mumbai' 'Khetwadi, Mumbai'\n",
      " 'Kengeri, Bangalore' 'Sion East, Mumbai' 'Rohini Sector 6, Delhi'\n",
      " 'Kazhakuttam, Thiruvananthapuram' 'Goregaon, Mumbai'\n",
      " 'Peroor, Thiruvananthapuram' 'New Thippasandra, Bangalore'\n",
      " 'Jalahalli, Bangalore' 'King Koti, Hyderabad'\n",
      " 'Kallambalam, Thiruvananthapuram' 'Dwarka Sector 13, Delhi'\n",
      " 'Residency Road, Bangalore' 'Radhakrishnan Salai, Chennai'\n",
      " 'Hulimavu, Bangalore' 'Dasarahalli, Bangalore' 'Vileparle, Mumbai'\n",
      " 'Delhi, Delhi' 'Kachiguda, Hyderabad' 'Venkitapuram, Coimbatore'\n",
      " 'Kuniamuthur, Coimbatore' 'TV Chalai, Thiruvananthapuram'\n",
      " 'Serilingampally, Hyderabad' 'RMV 2nd Stage, Bangalore'\n",
      " 'Champapet, Hyderabad' 'Surya Niketan, Delhi' 'Kovilpalayam, Coimbatore'\n",
      " 'Nampally, Hyderabad' 'Siddapura, Bangalore' 'Neredmet, Hyderabad'\n",
      " 'Vellakinar, Coimbatore' 'Egmore, Chennai' 'Katwaria Sarai, Delhi'\n",
      " 'Navalur, Chennai' 'Mehrauli, Delhi' 'HBR Layout, Bangalore'\n",
      " 'Subhash Nagar, Delhi' 'Mallepally, Hyderabad' 'Eroor South, Ernakulam'\n",
      " 'Lajpat Nagar III, Delhi' 'Kodungaiyur, Chennai'\n",
      " 'Kuppakonanpudur, Coimbatore' 'Paradise, Hyderabad'\n",
      " 'Rohini Sector 4, Delhi' 'Koramangala 4 Block, Bangalore'\n",
      " 'Dwarka Sector 3, Delhi' 'Durga Puri, Delhi' 'Kalamassery, Ernakulam'\n",
      " 'Gulmohar Park, Delhi' 'Adugodi, Bangalore' 'Moti Nagar, Hyderabad'\n",
      " 'Nallagandla, Hyderabad' 'Gowrivakkam, Chennai' 'Periyar Nagar, Chennai'\n",
      " 'Austin Town, Bangalore' 'Afzalgunj, Hyderabad'\n",
      " 'Cotton Hill, Thiruvananthapuram' 'Goldwins, Coimbatore'\n",
      " 'Kuravankonam, Thiruvananthapuram' 'Rohini Sector 3, Delhi'\n",
      " 'Lado Sarai, Delhi' 'Koramangala 2 Block, Bangalore' 'Madangir, Delhi'\n",
      " 'Marine Drive, Mumbai' 'Marine Drive, Ernakulam' 'Angamaly, Ernakulam'\n",
      " 'Neelankarai, Chennai' 'Churchgate, Mumbai' 'Kalapatti, Coimbatore'\n",
      " 'Nand Nagri, Delhi' 'Kandivali, Mumbai' 'Madanpura, Mumbai'\n",
      " 'Hegde Nagar, Bangalore' 'Domalguda, Hyderabad' 'Mumbai Central, Mumbai'\n",
      " 'Vasanthnagar, Bangalore' 'Kapashera, Delhi' 'August Kranti Marg, Delhi'\n",
      " 'Krishna Nagar, Hyderabad' 'Lal baug, Mumbai'\n",
      " 'Perumathura, Thiruvananthapuram' 'Molarband, Delhi' 'Piravom, Ernakulam'\n",
      " 'Neeti Bagh, Delhi' 'Kishanbagh, Hyderabad' 'Shantinagar, Bangalore'\n",
      " 'Poojapura, Thiruvananthapuram' 'Rathinapuri, Coimbatore'\n",
      " 'Model Town 1, Delhi' 'Koothattukulam, Ernakulam' 'Anand Lok, Delhi'\n",
      " 'Pappanaickenpalayam West, Coimbatore' 'Subzi Mandi, Delhi'\n",
      " 'Sion, Mumbai' 'Nagole, Hyderabad' 'TVM Pettah, Thiruvananthapuram'\n",
      " 'Changampuzha Nagar, Ernakulam' 'Puzhal, Chennai'\n",
      " 'Vanchiyur, Thiruvananthapuram' 'Sukh Vihar, Delhi'\n",
      " 'Kovalam, Thiruvananthapuram' 'Swasthya Vihar, Delhi' 'Tardeo, Mumbai'\n",
      " 'Vishnu Garden, Delhi' 'Jayanagar 1 Block, Bangalore'\n",
      " 'Sion Koliwada, Mumbai' 'Marol, Mumbai' 'Kalkere, Bangalore'\n",
      " 'Sindhi Colony, Hyderabad' 'Silampur, Delhi' 'Varthur, Bangalore'\n",
      " 'Model Town 2, Delhi' 'Surajmal Vihar, Delhi' 'Chandni Chowk, Delhi'\n",
      " 'Veerakeralam, Coimbatore' 'T Dasarahalli, Bangalore'\n",
      " 'Kaggalipura, Bangalore' 'Thonnakkal, Thiruvananthapuram'\n",
      " 'Manjapra, Ernakulam' 'Yellareddyguda, Hyderabad'\n",
      " 'Kovilambakkam, Chennai' 'Broadway, Chennai' 'Podanur, Coimbatore'\n",
      " 'Kompally, Hyderabad' 'Kottivakkam, Chennai' 'Mansarover Garden, Delhi'\n",
      " 'Mandapeshwar, Mumbai' 'Rohini Sector 15, Delhi' 'Vaduthala, Ernakulam'\n",
      " 'Hebbal Kempapura, Bangalore' 'Sithalapakkam, Chennai'\n",
      " 'MKB Nagar, Chennai' 'MG Road, Hyderabad' 'Darya Ganj, Delhi'\n",
      " 'Venjaramoodu, Thiruvananthapuram' 'Kotturpuram, Chennai'\n",
      " 'Ramapuram, Chennai' 'Karmanghat, Hyderabad' 'Moula Ali, Hyderabad'\n",
      " 'Netaji Nagar, Delhi' 'Chandra Layout, Bangalore'\n",
      " 'Akshaya nagar, Bangalore' 'Nirman Vihar, Delhi' 'Vasant Enclave, Delhi'\n",
      " 'St Thomas Mount, Chennai' 'Royapuram, Chennai' 'Abhiramapuram, Chennai'\n",
      " 'Inder Puri, Delhi' 'Edayarpalayam, Coimbatore' 'Deoli, Delhi'\n",
      " 'Mulanthuruthy, Ernakulam' 'Sukhdev Vihar, Delhi' 'e'\n",
      " 'Kothamangalam, Ernakulam' 'Harlur, Bangalore' 'Bolarum, Hyderabad'\n",
      " 'Richards Town, Bangalore' 'Narela, Delhi' 'Nehru Place, Delhi'\n",
      " 'Ramanthapur, Hyderabad' 'Bali Nagar, Delhi' 'Palavakkam, Chennai'\n",
      " 'Balanagar, Hyderabad' 'Hyderguda, Hyderabad' 'Cherannagar, Coimbatore'\n",
      " 'Rohini Sector 11, Delhi' 'Dwarka Sector 4, Delhi'\n",
      " 'Palluruthy, Ernakulam' 'Vizhinjam, Thiruvananthapuram'\n",
      " 'Santacruz, Mumbai' 'Ganesh Nagar, Delhi' 'Vengal Rao Nagar, Hyderabad'\n",
      " 'Deonar, Mumbai' 'Edapally North, Ernakulam' 'Red Hills, Hyderabad'\n",
      " 'IDA Jeedimetla, Hyderabad' 'Mettupalayam, Coimbatore'\n",
      " 'Hayathnagar, Hyderabad' 'Kakkanad West, Ernakulam'\n",
      " 'Khajaguda, Hyderabad' 'Rohini Sector 5, Delhi' 'Saraswati Vihar, Delhi'\n",
      " 'Kingsway Camp, Delhi' 'Ramamangalam, Ernakulam' 'Indirapuram, Delhi'\n",
      " 'Parassala, Thiruvananthapuram' 'Connaught Place, Delhi'\n",
      " 'Gottigerre, Bangalore' 'Shivrampally, Hyderabad' 'Vyasarpadi, Chennai'\n",
      " 'Kovaipudur, Coimbatore' 'Vallakkadavoo, Thiruvananthapuram'\n",
      " 'Kattupakkam, Chennai' 'Nellimoodu, Thiruvananthapuram'\n",
      " 'Pondy Bazaar, Chennai' 'Prashant Vihar, Delhi' 'Chullickal, Ernakulam'\n",
      " 'Murugeshpalya, Bangalore' 'Khanpur, Delhi' 'Madiwala, Bangalore'\n",
      " 'Dwarka Sector 23, Delhi' 'Badarpur, Delhi' 'Peyad, Thiruvananthapuram'\n",
      " 'Gandhi Nagar, Chennai' 'Uday Park, Delhi' 'Bandlaguda, Hyderabad'\n",
      " 'Karukappilli, Ernakulam' 'Rana Pratap Bagh, Delhi'\n",
      " 'Kochi M.G.Road, Ernakulam' 'Gopalapuram, Chennai'\n",
      " 'Puthenvelikkara, Ernakulam' 'Sowcarpet, Chennai' 'Chitlapakkam, Chennai'\n",
      " 'Malumichampatti, Coimbatore' 'Rohini Sector 8, Delhi'\n",
      " 'Rohini Sector 2, Delhi' 'Ram Nagar, Hyderabad' 'Dwarka Sector 10, Delhi'\n",
      " 'Agaram, Chennai' 'Poovachal, Thiruvananthapuram' 'Shanti Niketan, Delhi'\n",
      " 'Pothencode, Thiruvananthapuram' 'Dickenson Road, Bangalore'\n",
      " 'RTC X Road, Hyderabad' 'Film Nagar, Hyderabad' 'Lodhi Colony, Delhi'\n",
      " 'SG Palya (Kormangla), Bangalore' 'Palkulangara, Thiruvananthapuram'\n",
      " 'Mahalingapuram, Chennai' 'Matunga West, Mumbai' 'Nettoor, Ernakulam'\n",
      " 'Rani Khera, Delhi' 'Beeramguda, Hyderabad' 'Ramachandrapuram, Hyderabad'\n",
      " 'Neyyattinkara Town, Thiruvananthapuram' 'Gorai, Mumbai'\n",
      " 'Jayanagar 3 Block, Bangalore' 'Shakti Nagar, Delhi'\n",
      " 'Sangam Vihar, Delhi' 'Shakurpur, Delhi' 'Chaitanyapuri, Hyderabad'\n",
      " 'TVM Fort, Thiruvananthapuram' 'JP Nagar 4 Phase, Bangalore'\n",
      " 'Nayandahalli, Bangalore' 'Valiathura, Thiruvananthapuram'\n",
      " 'Kowdiar, Thiruvananthapuram' 'Cunningham Road, Bangalore'\n",
      " 'Hennur, Bangalore' 'Peenya, Bangalore' 'Pattimattam, Ernakulam'\n",
      " 'HAL, Bangalore']\n",
      "HSR Layout, Bangalore       100\n",
      "Andheri West, Mumbai         70\n",
      "Dwarka, Delhi                67\n",
      "Banjara Hills, Hyderabad     64\n",
      "Mulund West, Mumbai          54\n",
      "                           ... \n",
      "Chanchalguda, Hyderabad       1\n",
      "Kakkanad West, Ernakulam      1\n",
      "Sindhi Colony, Hyderabad      1\n",
      "Rohini Sector 11, Delhi       1\n",
      "Matunga West, Mumbai          1\n",
      "Name: Place, Length: 877, dtype: int64\n",
      "*************************************************************\n",
      "\n",
      "\n",
      "Profile:['Homeopath' 'Ayurveda' 'ENT Specialist' 'Dentist' 'General Medicine'\n",
      " 'Dermatologists']\n",
      "Dentist             1397\n",
      "General Medicine    1173\n",
      "Dermatologists      1034\n",
      "Homeopath            843\n",
      "Ayurveda             786\n",
      "ENT Specialist       728\n",
      "Name: Profile, dtype: int64\n",
      "*************************************************************\n",
      "\n",
      "\n",
      "Miscellaneous_Info:['100% 16 Feedback Kakkanad, Ernakulam'\n",
      " '98% 76 Feedback Whitefield, Bangalore'\n",
      " 'Acrylic Partial Denture Crowns and Bridges Fixing Artificial Teeth' ...\n",
      " '98% 45 Feedback Basavanagudi, Bangalore'\n",
      " '97% 11 Feedback Greater Kailash Part 2, Delhi'\n",
      " 'General Medical Consultation Viral Fever Treatment Infectious Disease Treatment']\n",
      "Acrylic Partial Denture Crowns and Bridges Fixing Artificial Teeth                                              2660\n",
      "Tooth Extraction Dental Fillings Scaling / Polishing                                                              12\n",
      "Dental Fillings Zirconia Crowns Dental Implant Fixing                                                             12\n",
      "Skin Allergy Treatment Skin Allergies Dermabrasion                                                                 9\n",
      "Skin Disease Treatment Kidney Stone Treatment Gall Bladder (Biliary) Stone Treatment                               9\n",
      "                                                                                                                ... \n",
      "Nungambakkam, Chennai ₹500 Visits Today                                                                            1\n",
      "Lingual Orthodontics Jaw Orthopedics Orthodontic Treatment                                                         1\n",
      "Orthodontics General Dentistry Scaling / Polishing                                                                 1\n",
      "Treatments for neurological conditions Treatment for psychiatric conditions Obstetric and gynecological care       1\n",
      "89% 12 Feedback Sukh Vihar, Delhi                                                                                  1\n",
      "Name: Miscellaneous_Info, Length: 2998, dtype: int64\n",
      "*************************************************************\n",
      "\n",
      "\n"
     ]
    }
   ],
   "source": [
    "# Printing the object datatypes and their unique values.\n",
    "\n",
    "for column in df.columns:\n",
    "    if df[column].dtypes==object:\n",
    "        print(str(column)+':'+str(df[column].unique()))\n",
    "        print(df[column].value_counts())\n",
    "        print('*************************************************************')\n",
    "        print('\\n')"
   ]
  },
  {
   "cell_type": "code",
   "execution_count": 16,
   "metadata": {},
   "outputs": [
    {
     "data": {
      "image/png": "[encoded data removed]",
      "text/plain": [
       "<Figure size 432x288 with 1 Axes>"
      ]
     },
     "metadata": {
      "needs_background": "light"
     },
     "output_type": "display_data"
    }
   ],
   "source": [
    "#Checking the mean price.\n",
    "\n",
    "price=df['Fees'].hist(bins=60)\n",
    "mean_val=np.mean(df['Fees'])\n",
    "plt.axvline(mean_val,linewidth=4,color='red',label='mean consultation fee')\n",
    "plt.xlabel('Fees')\n",
    "plt.ylabel('count')\n",
    "plt.legend()\n",
    "plt.show()"
   ]
  },
  {
   "cell_type": "code",
   "execution_count": 17,
   "metadata": {},
   "outputs": [
    {
     "data": {
      "text/html": [
       "<div>\n",
       "<style scoped>\n",
       "    .dataframe tbody tr th:only-of-type {\n",
       "        vertical-align: middle;\n",
       "    }\n",
       "\n",
       "    .dataframe tbody tr th {\n",
       "        vertical-align: top;\n",
       "    }\n",
       "\n",
       "    .dataframe thead th {\n",
       "        text-align: right;\n",
       "    }\n",
       "</style>\n",
       "<table border=\"1\" class=\"dataframe\">\n",
       "  <thead>\n",
       "    <tr style=\"text-align: right;\">\n",
       "      <th></th>\n",
       "      <th>Qualification</th>\n",
       "      <th>Experience</th>\n",
       "      <th>Rating</th>\n",
       "      <th>Place</th>\n",
       "      <th>Profile</th>\n",
       "      <th>Miscellaneous_Info</th>\n",
       "      <th>Fees</th>\n",
       "    </tr>\n",
       "  </thead>\n",
       "  <tbody>\n",
       "    <tr>\n",
       "      <th>0</th>\n",
       "      <td>BHMS, MD - Homeopathy</td>\n",
       "      <td>24</td>\n",
       "      <td>100</td>\n",
       "      <td>Kakkanad, Ernakulam</td>\n",
       "      <td>Homeopath</td>\n",
       "      <td>100% 16 Feedback Kakkanad, Ernakulam</td>\n",
       "      <td>100</td>\n",
       "    </tr>\n",
       "    <tr>\n",
       "      <th>1</th>\n",
       "      <td>BAMS, MD - Ayurveda Medicine</td>\n",
       "      <td>12</td>\n",
       "      <td>98</td>\n",
       "      <td>Whitefield, Bangalore</td>\n",
       "      <td>Ayurveda</td>\n",
       "      <td>98% 76 Feedback Whitefield, Bangalore</td>\n",
       "      <td>350</td>\n",
       "    </tr>\n",
       "    <tr>\n",
       "      <th>2</th>\n",
       "      <td>MBBS, MS - Otorhinolaryngology</td>\n",
       "      <td>9</td>\n",
       "      <td>0</td>\n",
       "      <td>Mathikere - BEL, Bangalore</td>\n",
       "      <td>ENT Specialist</td>\n",
       "      <td>Acrylic Partial Denture Crowns and Bridges Fix...</td>\n",
       "      <td>300</td>\n",
       "    </tr>\n",
       "    <tr>\n",
       "      <th>3</th>\n",
       "      <td>BSc - Zoology, BAMS</td>\n",
       "      <td>12</td>\n",
       "      <td>0</td>\n",
       "      <td>Bannerghatta Road, Bangalore</td>\n",
       "      <td>Ayurveda</td>\n",
       "      <td>Bannerghatta Road, Bangalore ₹250 Available on...</td>\n",
       "      <td>250</td>\n",
       "    </tr>\n",
       "    <tr>\n",
       "      <th>4</th>\n",
       "      <td>BAMS</td>\n",
       "      <td>20</td>\n",
       "      <td>100</td>\n",
       "      <td>Keelkattalai, Chennai</td>\n",
       "      <td>Ayurveda</td>\n",
       "      <td>100% 4 Feedback Keelkattalai, Chennai</td>\n",
       "      <td>250</td>\n",
       "    </tr>\n",
       "    <tr>\n",
       "      <th>...</th>\n",
       "      <td>...</td>\n",
       "      <td>...</td>\n",
       "      <td>...</td>\n",
       "      <td>...</td>\n",
       "      <td>...</td>\n",
       "      <td>...</td>\n",
       "      <td>...</td>\n",
       "    </tr>\n",
       "    <tr>\n",
       "      <th>5956</th>\n",
       "      <td>MBBS, MS - ENT</td>\n",
       "      <td>19</td>\n",
       "      <td>98</td>\n",
       "      <td>Basavanagudi, Bangalore</td>\n",
       "      <td>ENT Specialist</td>\n",
       "      <td>98% 45 Feedback Basavanagudi, Bangalore</td>\n",
       "      <td>300</td>\n",
       "    </tr>\n",
       "    <tr>\n",
       "      <th>5957</th>\n",
       "      <td>MBBS</td>\n",
       "      <td>33</td>\n",
       "      <td>0</td>\n",
       "      <td>Nungambakkam, Chennai</td>\n",
       "      <td>General Medicine</td>\n",
       "      <td>Acrylic Partial Denture Crowns and Bridges Fix...</td>\n",
       "      <td>100</td>\n",
       "    </tr>\n",
       "    <tr>\n",
       "      <th>5958</th>\n",
       "      <td>MBBS</td>\n",
       "      <td>41</td>\n",
       "      <td>97</td>\n",
       "      <td>Greater Kailash Part 2, Delhi</td>\n",
       "      <td>General Medicine</td>\n",
       "      <td>97% 11 Feedback Greater Kailash Part 2, Delhi</td>\n",
       "      <td>600</td>\n",
       "    </tr>\n",
       "    <tr>\n",
       "      <th>5959</th>\n",
       "      <td>MBBS, MD - General Medicine</td>\n",
       "      <td>15</td>\n",
       "      <td>90</td>\n",
       "      <td>Vileparle West, Mumbai</td>\n",
       "      <td>General Medicine</td>\n",
       "      <td>General Medical Consultation Viral Fever Treat...</td>\n",
       "      <td>100</td>\n",
       "    </tr>\n",
       "    <tr>\n",
       "      <th>5960</th>\n",
       "      <td>BDS, MDS - Orthodontics</td>\n",
       "      <td>17</td>\n",
       "      <td>100</td>\n",
       "      <td>Pitampura, Delhi</td>\n",
       "      <td>Dentist</td>\n",
       "      <td>Acrylic Partial Denture Crowns and Bridges Fix...</td>\n",
       "      <td>200</td>\n",
       "    </tr>\n",
       "  </tbody>\n",
       "</table>\n",
       "<p>5961 rows × 7 columns</p>\n",
       "</div>"
      ],
      "text/plain": [
       "                       Qualification  Experience  Rating  \\\n",
       "0              BHMS, MD - Homeopathy          24     100   \n",
       "1       BAMS, MD - Ayurveda Medicine          12      98   \n",
       "2     MBBS, MS - Otorhinolaryngology           9       0   \n",
       "3                BSc - Zoology, BAMS          12       0   \n",
       "4                               BAMS          20     100   \n",
       "...                              ...         ...     ...   \n",
       "5956                  MBBS, MS - ENT          19      98   \n",
       "5957                            MBBS          33       0   \n",
       "5958                            MBBS          41      97   \n",
       "5959     MBBS, MD - General Medicine          15      90   \n",
       "5960         BDS, MDS - Orthodontics          17     100   \n",
       "\n",
       "                              Place           Profile  \\\n",
       "0               Kakkanad, Ernakulam         Homeopath   \n",
       "1             Whitefield, Bangalore          Ayurveda   \n",
       "2        Mathikere - BEL, Bangalore    ENT Specialist   \n",
       "3      Bannerghatta Road, Bangalore          Ayurveda   \n",
       "4             Keelkattalai, Chennai          Ayurveda   \n",
       "...                             ...               ...   \n",
       "5956        Basavanagudi, Bangalore    ENT Specialist   \n",
       "5957          Nungambakkam, Chennai  General Medicine   \n",
       "5958  Greater Kailash Part 2, Delhi  General Medicine   \n",
       "5959         Vileparle West, Mumbai  General Medicine   \n",
       "5960               Pitampura, Delhi           Dentist   \n",
       "\n",
       "                                     Miscellaneous_Info  Fees  \n",
       "0                  100% 16 Feedback Kakkanad, Ernakulam   100  \n",
       "1                 98% 76 Feedback Whitefield, Bangalore   350  \n",
       "2     Acrylic Partial Denture Crowns and Bridges Fix...   300  \n",
       "3     Bannerghatta Road, Bangalore ₹250 Available on...   250  \n",
       "4                 100% 4 Feedback Keelkattalai, Chennai   250  \n",
       "...                                                 ...   ...  \n",
       "5956            98% 45 Feedback Basavanagudi, Bangalore   300  \n",
       "5957  Acrylic Partial Denture Crowns and Bridges Fix...   100  \n",
       "5958      97% 11 Feedback Greater Kailash Part 2, Delhi   600  \n",
       "5959  General Medical Consultation Viral Fever Treat...   100  \n",
       "5960  Acrylic Partial Denture Crowns and Bridges Fix...   200  \n",
       "\n",
       "[5961 rows x 7 columns]"
      ]
     },
     "execution_count": 17,
     "metadata": {},
     "output_type": "execute_result"
    }
   ],
   "source": [
    "#Converting Exprience and Rating into integers.\n",
    "df['Experience'] =df['Experience'].str.slice(stop=2).astype(int)\n",
    "df['Rating']=df['Rating'].str.slice(stop=-1).astype(int)\n",
    "df"
   ]
  },
  {
   "cell_type": "markdown",
   "metadata": {},
   "source": [
    "# Summary Statistics"
   ]
  },
  {
   "cell_type": "code",
   "execution_count": 18,
   "metadata": {},
   "outputs": [
    {
     "data": {
      "text/html": [
       "<div>\n",
       "<style scoped>\n",
       "    .dataframe tbody tr th:only-of-type {\n",
       "        vertical-align: middle;\n",
       "    }\n",
       "\n",
       "    .dataframe tbody tr th {\n",
       "        vertical-align: top;\n",
       "    }\n",
       "\n",
       "    .dataframe thead th {\n",
       "        text-align: right;\n",
       "    }\n",
       "</style>\n",
       "<table border=\"1\" class=\"dataframe\">\n",
       "  <thead>\n",
       "    <tr style=\"text-align: right;\">\n",
       "      <th></th>\n",
       "      <th>Experience</th>\n",
       "      <th>Rating</th>\n",
       "      <th>Fees</th>\n",
       "    </tr>\n",
       "  </thead>\n",
       "  <tbody>\n",
       "    <tr>\n",
       "      <th>count</th>\n",
       "      <td>5961.000000</td>\n",
       "      <td>5961.000000</td>\n",
       "      <td>5961.000000</td>\n",
       "    </tr>\n",
       "    <tr>\n",
       "      <th>mean</th>\n",
       "      <td>17.303976</td>\n",
       "      <td>42.217245</td>\n",
       "      <td>307.944640</td>\n",
       "    </tr>\n",
       "    <tr>\n",
       "      <th>std</th>\n",
       "      <td>11.142798</td>\n",
       "      <td>47.340934</td>\n",
       "      <td>190.920373</td>\n",
       "    </tr>\n",
       "    <tr>\n",
       "      <th>min</th>\n",
       "      <td>0.000000</td>\n",
       "      <td>0.000000</td>\n",
       "      <td>5.000000</td>\n",
       "    </tr>\n",
       "    <tr>\n",
       "      <th>25%</th>\n",
       "      <td>9.000000</td>\n",
       "      <td>0.000000</td>\n",
       "      <td>150.000000</td>\n",
       "    </tr>\n",
       "    <tr>\n",
       "      <th>50%</th>\n",
       "      <td>14.000000</td>\n",
       "      <td>0.000000</td>\n",
       "      <td>300.000000</td>\n",
       "    </tr>\n",
       "    <tr>\n",
       "      <th>75%</th>\n",
       "      <td>23.000000</td>\n",
       "      <td>96.000000</td>\n",
       "      <td>500.000000</td>\n",
       "    </tr>\n",
       "    <tr>\n",
       "      <th>max</th>\n",
       "      <td>66.000000</td>\n",
       "      <td>100.000000</td>\n",
       "      <td>950.000000</td>\n",
       "    </tr>\n",
       "  </tbody>\n",
       "</table>\n",
       "</div>"
      ],
      "text/plain": [
       "        Experience       Rating         Fees\n",
       "count  5961.000000  5961.000000  5961.000000\n",
       "mean     17.303976    42.217245   307.944640\n",
       "std      11.142798    47.340934   190.920373\n",
       "min       0.000000     0.000000     5.000000\n",
       "25%       9.000000     0.000000   150.000000\n",
       "50%      14.000000     0.000000   300.000000\n",
       "75%      23.000000    96.000000   500.000000\n",
       "max      66.000000   100.000000   950.000000"
      ]
     },
     "execution_count": 18,
     "metadata": {},
     "output_type": "execute_result"
    }
   ],
   "source": [
    "df.describe()"
   ]
  },
  {
   "cell_type": "markdown",
   "metadata": {},
   "source": [
    "Observation:\n",
    "1. Minimum doctor's consulation fee is 5 and maximum is 950.\n",
    "2. Mean is slightly greater than median, so data is slightly right-skewed data.\n",
    "3. Further, minimum Experience is 0 years and maximum is 66 years.\n",
    "4. Lastly, minimum Rating is 7% and maximum Rating is 100%."
   ]
  },
  {
   "cell_type": "code",
   "execution_count": 19,
   "metadata": {},
   "outputs": [
    {
     "data": {
      "text/html": [
       "<div>\n",
       "<style scoped>\n",
       "    .dataframe tbody tr th:only-of-type {\n",
       "        vertical-align: middle;\n",
       "    }\n",
       "\n",
       "    .dataframe tbody tr th {\n",
       "        vertical-align: top;\n",
       "    }\n",
       "\n",
       "    .dataframe thead th {\n",
       "        text-align: right;\n",
       "    }\n",
       "</style>\n",
       "<table border=\"1\" class=\"dataframe\">\n",
       "  <thead>\n",
       "    <tr style=\"text-align: right;\">\n",
       "      <th></th>\n",
       "      <th>Qualification</th>\n",
       "      <th>Experience</th>\n",
       "      <th>Rating</th>\n",
       "      <th>Place</th>\n",
       "      <th>Profile</th>\n",
       "      <th>Miscellaneous_Info</th>\n",
       "      <th>Fees</th>\n",
       "    </tr>\n",
       "  </thead>\n",
       "  <tbody>\n",
       "    <tr>\n",
       "      <th>1316</th>\n",
       "      <td>BAMS</td>\n",
       "      <td>4</td>\n",
       "      <td>0</td>\n",
       "      <td>Worli, Mumbai</td>\n",
       "      <td>Ayurveda</td>\n",
       "      <td>Acrylic Partial Denture Crowns and Bridges Fix...</td>\n",
       "      <td>10</td>\n",
       "    </tr>\n",
       "    <tr>\n",
       "      <th>1930</th>\n",
       "      <td>BDS</td>\n",
       "      <td>6</td>\n",
       "      <td>0</td>\n",
       "      <td>TV Medical College, Thiruvananthapuram</td>\n",
       "      <td>Dentist</td>\n",
       "      <td>Acrylic Partial Denture Crowns and Bridges Fix...</td>\n",
       "      <td>5</td>\n",
       "    </tr>\n",
       "    <tr>\n",
       "      <th>2248</th>\n",
       "      <td>BHMS, Certificate in Child Health (CCH), CGO</td>\n",
       "      <td>22</td>\n",
       "      <td>0</td>\n",
       "      <td>Kandivali West, Mumbai</td>\n",
       "      <td>Homeopath</td>\n",
       "      <td>Acrylic Partial Denture Crowns and Bridges Fix...</td>\n",
       "      <td>40</td>\n",
       "    </tr>\n",
       "    <tr>\n",
       "      <th>2459</th>\n",
       "      <td>BAMS</td>\n",
       "      <td>37</td>\n",
       "      <td>0</td>\n",
       "      <td>Bandra East, Mumbai</td>\n",
       "      <td>Ayurveda</td>\n",
       "      <td>Acrylic Partial Denture Crowns and Bridges Fix...</td>\n",
       "      <td>40</td>\n",
       "    </tr>\n",
       "    <tr>\n",
       "      <th>2563</th>\n",
       "      <td>MD - Ayurveda Medicine</td>\n",
       "      <td>35</td>\n",
       "      <td>0</td>\n",
       "      <td>Marathahalli, Bangalore</td>\n",
       "      <td>Ayurveda</td>\n",
       "      <td>Acrylic Partial Denture Crowns and Bridges Fix...</td>\n",
       "      <td>30</td>\n",
       "    </tr>\n",
       "    <tr>\n",
       "      <th>3303</th>\n",
       "      <td>BDS</td>\n",
       "      <td>3</td>\n",
       "      <td>0</td>\n",
       "      <td>Perumbavoor, Ernakulam</td>\n",
       "      <td>Dentist</td>\n",
       "      <td>Acrylic Partial Denture Crowns and Bridges Fix...</td>\n",
       "      <td>10</td>\n",
       "    </tr>\n",
       "    <tr>\n",
       "      <th>3499</th>\n",
       "      <td>BAMS</td>\n",
       "      <td>45</td>\n",
       "      <td>0</td>\n",
       "      <td>Bhandup West, Mumbai</td>\n",
       "      <td>Ayurveda</td>\n",
       "      <td>Acrylic Partial Denture Crowns and Bridges Fix...</td>\n",
       "      <td>30</td>\n",
       "    </tr>\n",
       "    <tr>\n",
       "      <th>4290</th>\n",
       "      <td>BAMS</td>\n",
       "      <td>15</td>\n",
       "      <td>0</td>\n",
       "      <td>Secunderabad, Hyderabad</td>\n",
       "      <td>Ayurveda</td>\n",
       "      <td>Acrylic Partial Denture Crowns and Bridges Fix...</td>\n",
       "      <td>30</td>\n",
       "    </tr>\n",
       "    <tr>\n",
       "      <th>4748</th>\n",
       "      <td>MBBS, MD - General Medicine</td>\n",
       "      <td>44</td>\n",
       "      <td>0</td>\n",
       "      <td>Secunderabad, Hyderabad</td>\n",
       "      <td>General Medicine</td>\n",
       "      <td>Acrylic Partial Denture Crowns and Bridges Fix...</td>\n",
       "      <td>20</td>\n",
       "    </tr>\n",
       "    <tr>\n",
       "      <th>5703</th>\n",
       "      <td>BAMS</td>\n",
       "      <td>9</td>\n",
       "      <td>0</td>\n",
       "      <td>Goregaon East, Mumbai</td>\n",
       "      <td>Ayurveda</td>\n",
       "      <td>Acrylic Partial Denture Crowns and Bridges Fix...</td>\n",
       "      <td>30</td>\n",
       "    </tr>\n",
       "  </tbody>\n",
       "</table>\n",
       "</div>"
      ],
      "text/plain": [
       "                                     Qualification  Experience  Rating  \\\n",
       "1316                                          BAMS           4       0   \n",
       "1930                                           BDS           6       0   \n",
       "2248  BHMS, Certificate in Child Health (CCH), CGO          22       0   \n",
       "2459                                          BAMS          37       0   \n",
       "2563                        MD - Ayurveda Medicine          35       0   \n",
       "3303                                           BDS           3       0   \n",
       "3499                                          BAMS          45       0   \n",
       "4290                                          BAMS          15       0   \n",
       "4748                   MBBS, MD - General Medicine          44       0   \n",
       "5703                                          BAMS           9       0   \n",
       "\n",
       "                                       Place           Profile  \\\n",
       "1316                           Worli, Mumbai          Ayurveda   \n",
       "1930  TV Medical College, Thiruvananthapuram           Dentist   \n",
       "2248                  Kandivali West, Mumbai         Homeopath   \n",
       "2459                     Bandra East, Mumbai          Ayurveda   \n",
       "2563                 Marathahalli, Bangalore          Ayurveda   \n",
       "3303                  Perumbavoor, Ernakulam           Dentist   \n",
       "3499                    Bhandup West, Mumbai          Ayurveda   \n",
       "4290                 Secunderabad, Hyderabad          Ayurveda   \n",
       "4748                 Secunderabad, Hyderabad  General Medicine   \n",
       "5703                   Goregaon East, Mumbai          Ayurveda   \n",
       "\n",
       "                                     Miscellaneous_Info  Fees  \n",
       "1316  Acrylic Partial Denture Crowns and Bridges Fix...    10  \n",
       "1930  Acrylic Partial Denture Crowns and Bridges Fix...     5  \n",
       "2248  Acrylic Partial Denture Crowns and Bridges Fix...    40  \n",
       "2459  Acrylic Partial Denture Crowns and Bridges Fix...    40  \n",
       "2563  Acrylic Partial Denture Crowns and Bridges Fix...    30  \n",
       "3303  Acrylic Partial Denture Crowns and Bridges Fix...    10  \n",
       "3499  Acrylic Partial Denture Crowns and Bridges Fix...    30  \n",
       "4290  Acrylic Partial Denture Crowns and Bridges Fix...    30  \n",
       "4748  Acrylic Partial Denture Crowns and Bridges Fix...    20  \n",
       "5703  Acrylic Partial Denture Crowns and Bridges Fix...    30  "
      ]
     },
     "execution_count": 19,
     "metadata": {},
     "output_type": "execute_result"
    }
   ],
   "source": [
    "#Lets check Fees column where consultation charge is less than 50.\n",
    "df[df.Fees < 50]"
   ]
  },
  {
   "cell_type": "markdown",
   "metadata": {},
   "source": [
    "Observation:\n",
    "1. There are 10 doctors who charge Fees of less than 50.\n",
    "2. Some doctors who have experience of more than 30 years also charge Fees which are less than 50. This might be due to their humanitarian mindset."
   ]
  },
  {
   "cell_type": "markdown",
   "metadata": {},
   "source": [
    "# Data Visualization"
   ]
  },
  {
   "cell_type": "markdown",
   "metadata": {},
   "source": [
    "# Univariate Analysis"
   ]
  },
  {
   "cell_type": "code",
   "execution_count": 20,
   "metadata": {},
   "outputs": [
    {
     "data": {
      "image/png": "[encoded data removed]",
      "text/plain": [
       "<Figure size 1440x1080 with 1 Axes>"
      ]
     },
     "metadata": {
      "needs_background": "light"
     },
     "output_type": "display_data"
    },
    {
     "name": "stdout",
     "output_type": "stream",
     "text": [
      "100    1306\n",
      "500     938\n",
      "200     904\n",
      "300     864\n",
      "400     424\n",
      "250     307\n",
      "150     253\n",
      "600     215\n",
      "700     153\n",
      "800     143\n",
      "350     143\n",
      "50       81\n",
      "450      65\n",
      "750      34\n",
      "550      22\n",
      "650      21\n",
      "900      18\n",
      "70       18\n",
      "80       12\n",
      "60       11\n",
      "30        4\n",
      "10        2\n",
      "260       2\n",
      "130       2\n",
      "180       2\n",
      "40        2\n",
      "380       2\n",
      "220       1\n",
      "280       1\n",
      "499       1\n",
      "5         1\n",
      "920       1\n",
      "299       1\n",
      "125       1\n",
      "230       1\n",
      "430       1\n",
      "630       1\n",
      "850       1\n",
      "950       1\n",
      "20        1\n",
      "Name: Fees, dtype: int64\n"
     ]
    }
   ],
   "source": [
    "# Checking the Fees column.\n",
    "plt.figure(figsize=(20,15))\n",
    "sns.countplot(x='Fees',data=df,palette='rainbow')\n",
    "plt.title('Fees charged by different doctors',fontsize=20)\n",
    "plt.xticks(rotation='vertical')\n",
    "plt.show()\n",
    "\n",
    "print(df['Fees'].value_counts())"
   ]
  },
  {
   "cell_type": "markdown",
   "metadata": {},
   "source": [
    "Observation:\n",
    "1. Maximum no. of doctors charge a Fees of 100.\n",
    "2. Then comes doctors who charge Fees of 200, 300, and 500."
   ]
  },
  {
   "cell_type": "code",
   "execution_count": 21,
   "metadata": {},
   "outputs": [
    {
     "data": {
      "image/png": "[encoded data removed]",
      "text/plain": [
       "<Figure size 864x432 with 1 Axes>"
      ]
     },
     "metadata": {
      "needs_background": "light"
     },
     "output_type": "display_data"
    },
    {
     "name": "stdout",
     "output_type": "stream",
     "text": [
      "Dentist             1397\n",
      "General Medicine    1173\n",
      "Dermatologists      1034\n",
      "Homeopath            843\n",
      "Ayurveda             786\n",
      "ENT Specialist       728\n",
      "Name: Profile, dtype: int64\n"
     ]
    }
   ],
   "source": [
    "# Checking the profile of different doctors\n",
    "plt.figure(figsize=(12,6))\n",
    "sns.countplot(x='Profile',data=df,palette='rainbow')\n",
    "plt.title('The Profile of different Doctors',fontsize=20)\n",
    "plt.xticks(rotation=0)\n",
    "plt.show()\n",
    "\n",
    "print(df['Profile'].value_counts())"
   ]
  },
  {
   "cell_type": "markdown",
   "metadata": {},
   "source": [
    "Observation: Maximum number of doctor Profile are of Dentist, followed by General Medicine and Dermatologists"
   ]
  },
  {
   "cell_type": "code",
   "execution_count": 22,
   "metadata": {},
   "outputs": [
    {
     "data": {
      "image/png": "[encoded data removed]",
      "text/plain": [
       "<Figure size 1440x1080 with 1 Axes>"
      ]
     },
     "metadata": {
      "needs_background": "light"
     },
     "output_type": "display_data"
    },
    {
     "name": "stdout",
     "output_type": "stream",
     "text": [
      "9     323\n",
      "10    294\n",
      "11    288\n",
      "8     282\n",
      "12    279\n",
      "     ... \n",
      "64      1\n",
      "65      1\n",
      "58      1\n",
      "66      1\n",
      "61      1\n",
      "Name: Experience, Length: 64, dtype: int64\n"
     ]
    }
   ],
   "source": [
    "# Checking the Experience column.\n",
    "plt.figure(figsize=(20,15))\n",
    "sns.countplot(x='Experience',data=df,palette='rainbow')\n",
    "plt.title('Experience of different doctors',fontsize=25)\n",
    "plt.xticks(rotation='vertical')\n",
    "plt.show()\n",
    "\n",
    "print(df['Experience'].value_counts())"
   ]
  },
  {
   "cell_type": "markdown",
   "metadata": {},
   "source": [
    "Observation:\n",
    "1. Maximum doctors have experience ranging between 7 to 14 years.\n",
    "2. Few doctors have experience of more than 50 years."
   ]
  },
  {
   "cell_type": "markdown",
   "metadata": {},
   "source": [
    "Observation:\n",
    "1. Looking at above graph, it seems maximum patients are dissatisfied with doctor's service as they give rating of 0%.\n",
    "2. Few doctors have rating of above 90%."
   ]
  },
  {
   "cell_type": "markdown",
   "metadata": {},
   "source": [
    "# Bivariate Analysis"
   ]
  },
  {
   "cell_type": "code",
   "execution_count": 24,
   "metadata": {
    "scrolled": true
   },
   "outputs": [
    {
     "data": {
      "image/png": "[encoded data removed]",
      "text/plain": [
       "<Figure size 1440x1080 with 1 Axes>"
      ]
     },
     "metadata": {
      "needs_background": "light"
     },
     "output_type": "display_data"
    },
    {
     "name": "stdout",
     "output_type": "stream",
     "text": [
      "Fees  Profile         \n",
      "5     Dentist             1\n",
      "10    Ayurveda            1\n",
      "      Dentist             1\n",
      "20    General Medicine    1\n",
      "30    Ayurveda            4\n",
      "                         ..\n",
      "900   Homeopath           3\n",
      "      Ayurveda            1\n",
      "      Dentist             1\n",
      "920   Homeopath           1\n",
      "950   General Medicine    1\n",
      "Name: Profile, Length: 133, dtype: int64\n"
     ]
    }
   ],
   "source": [
    "# Gender vs Loan status\n",
    "plt.figure(figsize=(20,15))\n",
    "sns.countplot(x='Fees',hue='Profile',data=df)\n",
    "plt.title('Profile Vs Fees Charged by Doctors',fontsize=25)\n",
    "plt.xlabel('Fees Charged by doctors of different profile')\n",
    "plt.ylabel('Count')\n",
    "plt.show()\n",
    "\n",
    "print(df.groupby('Fees')['Profile'].value_counts())"
   ]
  },
  {
   "cell_type": "code",
   "execution_count": 25,
   "metadata": {},
   "outputs": [
    {
     "data": {
      "image/png": "[encoded data removed]",
      "text/plain": [
       "<Figure size 432x288 with 1 Axes>"
      ]
     },
     "metadata": {
      "needs_background": "light"
     },
     "output_type": "display_data"
    }
   ],
   "source": [
    "# Histogram of Fees column.\n",
    "sns.distplot(df['Fees'],color='r')\n",
    "plt.title('Histogram of Fees')\n",
    "plt.show()"
   ]
  },
  {
   "cell_type": "markdown",
   "metadata": {},
   "source": [
    "Observation: Histogram of Fees is not normally distributed."
   ]
  },
  {
   "cell_type": "code",
   "execution_count": 26,
   "metadata": {},
   "outputs": [
    {
     "data": {
      "image/png": "[encoded data removed]",
      "text/plain": [
       "<Figure size 432x288 with 1 Axes>"
      ]
     },
     "metadata": {
      "needs_background": "light"
     },
     "output_type": "display_data"
    }
   ],
   "source": [
    "# Histogram of Experience\n",
    "sns.distplot(df['Experience'],color='g')\n",
    "plt.title('Histogram of Experience')\n",
    "plt.show()"
   ]
  },
  {
   "cell_type": "markdown",
   "metadata": {},
   "source": [
    "Observation: Histogram of Experience is slightly right-skewed denoting mean is greater than median in Experience column."
   ]
  },
  {
   "cell_type": "markdown",
   "metadata": {},
   "source": [
    "# Converting categorical data into numeric variables."
   ]
  },
  {
   "cell_type": "code",
   "execution_count": 27,
   "metadata": {},
   "outputs": [],
   "source": [
    "# Transforming non-numeric columns into numeric ones.\n",
    "\n",
    "from sklearn.preprocessing import LabelEncoder\n",
    "\n",
    "le=LabelEncoder()\n",
    "\n",
    "for column in df.columns:\n",
    "    if df[column].dtype==np.number:\n",
    "        continue\n",
    "    df[column]=le.fit_transform(df[column])"
   ]
  },
  {
   "cell_type": "code",
   "execution_count": 28,
   "metadata": {},
   "outputs": [
    {
     "data": {
      "text/html": [
       "<div>\n",
       "<style scoped>\n",
       "    .dataframe tbody tr th:only-of-type {\n",
       "        vertical-align: middle;\n",
       "    }\n",
       "\n",
       "    .dataframe tbody tr th {\n",
       "        vertical-align: top;\n",
       "    }\n",
       "\n",
       "    .dataframe thead th {\n",
       "        text-align: right;\n",
       "    }\n",
       "</style>\n",
       "<table border=\"1\" class=\"dataframe\">\n",
       "  <thead>\n",
       "    <tr style=\"text-align: right;\">\n",
       "      <th></th>\n",
       "      <th>Qualification</th>\n",
       "      <th>Experience</th>\n",
       "      <th>Rating</th>\n",
       "      <th>Place</th>\n",
       "      <th>Profile</th>\n",
       "      <th>Miscellaneous_Info</th>\n",
       "      <th>Fees</th>\n",
       "    </tr>\n",
       "  </thead>\n",
       "  <tbody>\n",
       "    <tr>\n",
       "      <th>0</th>\n",
       "      <td>401</td>\n",
       "      <td>23</td>\n",
       "      <td>51</td>\n",
       "      <td>299</td>\n",
       "      <td>5</td>\n",
       "      <td>130</td>\n",
       "      <td>9</td>\n",
       "    </tr>\n",
       "    <tr>\n",
       "      <th>1</th>\n",
       "      <td>73</td>\n",
       "      <td>11</td>\n",
       "      <td>49</td>\n",
       "      <td>866</td>\n",
       "      <td>0</td>\n",
       "      <td>1422</td>\n",
       "      <td>22</td>\n",
       "    </tr>\n",
       "    <tr>\n",
       "      <th>2</th>\n",
       "      <td>1135</td>\n",
       "      <td>8</td>\n",
       "      <td>0</td>\n",
       "      <td>457</td>\n",
       "      <td>3</td>\n",
       "      <td>1595</td>\n",
       "      <td>21</td>\n",
       "    </tr>\n",
       "    <tr>\n",
       "      <th>3</th>\n",
       "      <td>464</td>\n",
       "      <td>11</td>\n",
       "      <td>0</td>\n",
       "      <td>68</td>\n",
       "      <td>0</td>\n",
       "      <td>1695</td>\n",
       "      <td>17</td>\n",
       "    </tr>\n",
       "    <tr>\n",
       "      <th>4</th>\n",
       "      <td>10</td>\n",
       "      <td>19</td>\n",
       "      <td>51</td>\n",
       "      <td>337</td>\n",
       "      <td>0</td>\n",
       "      <td>253</td>\n",
       "      <td>17</td>\n",
       "    </tr>\n",
       "  </tbody>\n",
       "</table>\n",
       "</div>"
      ],
      "text/plain": [
       "   Qualification  Experience  Rating  Place  Profile  Miscellaneous_Info  Fees\n",
       "0            401          23      51    299        5                 130     9\n",
       "1             73          11      49    866        0                1422    22\n",
       "2           1135           8       0    457        3                1595    21\n",
       "3            464          11       0     68        0                1695    17\n",
       "4             10          19      51    337        0                 253    17"
      ]
     },
     "execution_count": 28,
     "metadata": {},
     "output_type": "execute_result"
    }
   ],
   "source": [
    "df.head()"
   ]
  },
  {
   "cell_type": "code",
   "execution_count": 29,
   "metadata": {},
   "outputs": [
    {
     "data": {
      "text/html": [
       "<div>\n",
       "<style scoped>\n",
       "    .dataframe tbody tr th:only-of-type {\n",
       "        vertical-align: middle;\n",
       "    }\n",
       "\n",
       "    .dataframe tbody tr th {\n",
       "        vertical-align: top;\n",
       "    }\n",
       "\n",
       "    .dataframe thead th {\n",
       "        text-align: right;\n",
       "    }\n",
       "</style>\n",
       "<table border=\"1\" class=\"dataframe\">\n",
       "  <thead>\n",
       "    <tr style=\"text-align: right;\">\n",
       "      <th></th>\n",
       "      <th>Qualification</th>\n",
       "      <th>Experience</th>\n",
       "      <th>Place</th>\n",
       "      <th>Profile</th>\n",
       "      <th>Miscellaneous_Info</th>\n",
       "      <th>Fees</th>\n",
       "    </tr>\n",
       "  </thead>\n",
       "  <tbody>\n",
       "    <tr>\n",
       "      <th>0</th>\n",
       "      <td>401</td>\n",
       "      <td>23</td>\n",
       "      <td>299</td>\n",
       "      <td>5</td>\n",
       "      <td>130</td>\n",
       "      <td>9</td>\n",
       "    </tr>\n",
       "    <tr>\n",
       "      <th>1</th>\n",
       "      <td>73</td>\n",
       "      <td>11</td>\n",
       "      <td>866</td>\n",
       "      <td>0</td>\n",
       "      <td>1422</td>\n",
       "      <td>22</td>\n",
       "    </tr>\n",
       "    <tr>\n",
       "      <th>2</th>\n",
       "      <td>1135</td>\n",
       "      <td>8</td>\n",
       "      <td>457</td>\n",
       "      <td>3</td>\n",
       "      <td>1595</td>\n",
       "      <td>21</td>\n",
       "    </tr>\n",
       "    <tr>\n",
       "      <th>3</th>\n",
       "      <td>464</td>\n",
       "      <td>11</td>\n",
       "      <td>68</td>\n",
       "      <td>0</td>\n",
       "      <td>1695</td>\n",
       "      <td>17</td>\n",
       "    </tr>\n",
       "    <tr>\n",
       "      <th>4</th>\n",
       "      <td>10</td>\n",
       "      <td>19</td>\n",
       "      <td>337</td>\n",
       "      <td>0</td>\n",
       "      <td>253</td>\n",
       "      <td>17</td>\n",
       "    </tr>\n",
       "    <tr>\n",
       "      <th>...</th>\n",
       "      <td>...</td>\n",
       "      <td>...</td>\n",
       "      <td>...</td>\n",
       "      <td>...</td>\n",
       "      <td>...</td>\n",
       "      <td>...</td>\n",
       "    </tr>\n",
       "    <tr>\n",
       "      <th>5956</th>\n",
       "      <td>1075</td>\n",
       "      <td>18</td>\n",
       "      <td>70</td>\n",
       "      <td>3</td>\n",
       "      <td>1385</td>\n",
       "      <td>21</td>\n",
       "    </tr>\n",
       "    <tr>\n",
       "      <th>5957</th>\n",
       "      <td>596</td>\n",
       "      <td>32</td>\n",
       "      <td>541</td>\n",
       "      <td>4</td>\n",
       "      <td>1595</td>\n",
       "      <td>9</td>\n",
       "    </tr>\n",
       "    <tr>\n",
       "      <th>5958</th>\n",
       "      <td>596</td>\n",
       "      <td>40</td>\n",
       "      <td>216</td>\n",
       "      <td>4</td>\n",
       "      <td>1173</td>\n",
       "      <td>30</td>\n",
       "    </tr>\n",
       "    <tr>\n",
       "      <th>5959</th>\n",
       "      <td>943</td>\n",
       "      <td>14</td>\n",
       "      <td>850</td>\n",
       "      <td>4</td>\n",
       "      <td>2202</td>\n",
       "      <td>9</td>\n",
       "    </tr>\n",
       "    <tr>\n",
       "      <th>5960</th>\n",
       "      <td>243</td>\n",
       "      <td>16</td>\n",
       "      <td>603</td>\n",
       "      <td>1</td>\n",
       "      <td>1595</td>\n",
       "      <td>14</td>\n",
       "    </tr>\n",
       "  </tbody>\n",
       "</table>\n",
       "<p>5961 rows × 6 columns</p>\n",
       "</div>"
      ],
      "text/plain": [
       "      Qualification  Experience  Place  Profile  Miscellaneous_Info  Fees\n",
       "0               401          23    299        5                 130     9\n",
       "1                73          11    866        0                1422    22\n",
       "2              1135           8    457        3                1595    21\n",
       "3               464          11     68        0                1695    17\n",
       "4                10          19    337        0                 253    17\n",
       "...             ...         ...    ...      ...                 ...   ...\n",
       "5956           1075          18     70        3                1385    21\n",
       "5957            596          32    541        4                1595     9\n",
       "5958            596          40    216        4                1173    30\n",
       "5959            943          14    850        4                2202     9\n",
       "5960            243          16    603        1                1595    14\n",
       "\n",
       "[5961 rows x 6 columns]"
      ]
     },
     "execution_count": 29,
     "metadata": {},
     "output_type": "execute_result"
    }
   ],
   "source": [
    "# Dropping rating column as it may impact our score in model building thus may impact predictions.\n",
    "df=df.drop(columns=['Rating'],axis=1)\n",
    "df"
   ]
  },
  {
   "cell_type": "markdown",
   "metadata": {},
   "source": [
    "# Checking skewness"
   ]
  },
  {
   "cell_type": "code",
   "execution_count": 30,
   "metadata": {},
   "outputs": [
    {
     "data": {
      "text/plain": [
       "Qualification         0.239720\n",
       "Experience            0.998674\n",
       "Place                 0.124862\n",
       "Profile               0.108803\n",
       "Miscellaneous_Info   -0.218459\n",
       "Fees                  0.185038\n",
       "dtype: float64"
      ]
     },
     "execution_count": 30,
     "metadata": {},
     "output_type": "execute_result"
    }
   ],
   "source": [
    "df.skew()"
   ]
  },
  {
   "cell_type": "code",
   "execution_count": 31,
   "metadata": {},
   "outputs": [],
   "source": [
    "# Treating skewness via square root and cube root method.\n",
    "df.skew()\n",
    "for col in df.skew().index:\n",
    "    if col in df.describe().columns:\n",
    "        if df[col].skew()>0.55:\n",
    "            df[col]=np.sqrt(df[col])\n",
    "        if df[col].skew()<-0.55:\n",
    "            df[col]=np.cbrt(df[col])"
   ]
  },
  {
   "cell_type": "code",
   "execution_count": 32,
   "metadata": {},
   "outputs": [
    {
     "data": {
      "text/plain": [
       "Qualification         0.239720\n",
       "Experience            0.093907\n",
       "Place                 0.124862\n",
       "Profile               0.108803\n",
       "Miscellaneous_Info   -0.218459\n",
       "Fees                  0.185038\n",
       "dtype: float64"
      ]
     },
     "execution_count": 32,
     "metadata": {},
     "output_type": "execute_result"
    }
   ],
   "source": [
    "# Checking skewness again\n",
    "df.skew()"
   ]
  },
  {
   "cell_type": "markdown",
   "metadata": {},
   "source": [
    "# Plotting Outliers"
   ]
  },
  {
   "cell_type": "code",
   "execution_count": 33,
   "metadata": {},
   "outputs": [],
   "source": [
    "collist=df.columns.values\n",
    "ncol=10\n",
    "nrows=8"
   ]
  },
  {
   "cell_type": "code",
   "execution_count": 34,
   "metadata": {
    "scrolled": true
   },
   "outputs": [
    {
     "data": {
      "image/png": "[encoded data removed]",
      "text/plain": [
       "<Figure size 720x3600 with 5 Axes>"
      ]
     },
     "metadata": {
      "needs_background": "light"
     },
     "output_type": "display_data"
    }
   ],
   "source": [
    "plt.figure(figsize=(ncol,5*ncol))\n",
    "for i in range(1, len(collist)):\n",
    "    plt.subplot(nrows,ncol,i+1)\n",
    "    sns.boxplot(df[collist[i]],color='green',orient='v')\n",
    "    plt.tight_layout()"
   ]
  },
  {
   "cell_type": "markdown",
   "metadata": {},
   "source": [
    "Observation: There are some outliers present in the dataset."
   ]
  },
  {
   "cell_type": "code",
   "execution_count": 35,
   "metadata": {},
   "outputs": [
    {
     "name": "stdout",
     "output_type": "stream",
     "text": [
      "(5961, 6)\n",
      "(5961, 6)\n"
     ]
    }
   ],
   "source": [
    "#Removing Outliers\n",
    "from scipy.stats import zscore\n",
    "z_score=abs(zscore(df))\n",
    "print(df.shape)\n",
    "df_new=df.loc[(z_score<3).all(axis=1)]\n",
    "print(df_new.shape)"
   ]
  },
  {
   "cell_type": "markdown",
   "metadata": {},
   "source": [
    "Observation: There were outliers present in 127 rows. These are have been removed now."
   ]
  },
  {
   "cell_type": "markdown",
   "metadata": {},
   "source": [
    "# Loading Test Data"
   ]
  },
  {
   "cell_type": "code",
   "execution_count": 36,
   "metadata": {},
   "outputs": [
    {
     "data": {
      "text/html": [
       "<div>\n",
       "<style scoped>\n",
       "    .dataframe tbody tr th:only-of-type {\n",
       "        vertical-align: middle;\n",
       "    }\n",
       "\n",
       "    .dataframe tbody tr th {\n",
       "        vertical-align: top;\n",
       "    }\n",
       "\n",
       "    .dataframe thead th {\n",
       "        text-align: right;\n",
       "    }\n",
       "</style>\n",
       "<table border=\"1\" class=\"dataframe\">\n",
       "  <thead>\n",
       "    <tr style=\"text-align: right;\">\n",
       "      <th></th>\n",
       "      <th>Qualification</th>\n",
       "      <th>Experience</th>\n",
       "      <th>Rating</th>\n",
       "      <th>Place</th>\n",
       "      <th>Profile</th>\n",
       "      <th>Miscellaneous_Info</th>\n",
       "    </tr>\n",
       "  </thead>\n",
       "  <tbody>\n",
       "    <tr>\n",
       "      <th>0</th>\n",
       "      <td>MBBS</td>\n",
       "      <td>35 years experience</td>\n",
       "      <td>NaN</td>\n",
       "      <td>Ghatkopar East, Mumbai</td>\n",
       "      <td>General Medicine</td>\n",
       "      <td>NaN</td>\n",
       "    </tr>\n",
       "    <tr>\n",
       "      <th>1</th>\n",
       "      <td>MBBS, Diploma in Otorhinolaryngology (DLO)</td>\n",
       "      <td>31 years experience</td>\n",
       "      <td>NaN</td>\n",
       "      <td>West Marredpally, Hyderabad</td>\n",
       "      <td>ENT Specialist</td>\n",
       "      <td>NaN</td>\n",
       "    </tr>\n",
       "    <tr>\n",
       "      <th>2</th>\n",
       "      <td>MBBS, DDVL</td>\n",
       "      <td>40 years experience</td>\n",
       "      <td>70%</td>\n",
       "      <td>KK Nagar, Chennai</td>\n",
       "      <td>Dermatologists</td>\n",
       "      <td>70% 4 Feedback KK Nagar, Chennai</td>\n",
       "    </tr>\n",
       "    <tr>\n",
       "      <th>3</th>\n",
       "      <td>BAMS</td>\n",
       "      <td>0 years experience</td>\n",
       "      <td>NaN</td>\n",
       "      <td>New Ashok Nagar, Delhi</td>\n",
       "      <td>Ayurveda</td>\n",
       "      <td>NaN</td>\n",
       "    </tr>\n",
       "    <tr>\n",
       "      <th>4</th>\n",
       "      <td>BDS, MDS - Conservative Dentistry &amp; Endodontics</td>\n",
       "      <td>16 years experience</td>\n",
       "      <td>100%</td>\n",
       "      <td>Kanakpura Road, Bangalore</td>\n",
       "      <td>Dentist</td>\n",
       "      <td>General Dentistry Conservative Dentistry Cosme...</td>\n",
       "    </tr>\n",
       "    <tr>\n",
       "      <th>...</th>\n",
       "      <td>...</td>\n",
       "      <td>...</td>\n",
       "      <td>...</td>\n",
       "      <td>...</td>\n",
       "      <td>...</td>\n",
       "      <td>...</td>\n",
       "    </tr>\n",
       "    <tr>\n",
       "      <th>1982</th>\n",
       "      <td>BAMS, Doctor of Medicine</td>\n",
       "      <td>10 years experience</td>\n",
       "      <td>NaN</td>\n",
       "      <td>Basavanagudi, Bangalore</td>\n",
       "      <td>Ayurveda</td>\n",
       "      <td>NaN</td>\n",
       "    </tr>\n",
       "    <tr>\n",
       "      <th>1983</th>\n",
       "      <td>MD - Dermatology , Venereology &amp; Leprosy, MBBS</td>\n",
       "      <td>4 years experience</td>\n",
       "      <td>NaN</td>\n",
       "      <td>Choolai, Chennai</td>\n",
       "      <td>Dermatologists</td>\n",
       "      <td>NaN</td>\n",
       "    </tr>\n",
       "    <tr>\n",
       "      <th>1984</th>\n",
       "      <td>MBBS, MD / MS - Obstetrics &amp; Gynaecology</td>\n",
       "      <td>9 years experience</td>\n",
       "      <td>NaN</td>\n",
       "      <td>Porur, Chennai</td>\n",
       "      <td>General Medicine</td>\n",
       "      <td>NaN</td>\n",
       "    </tr>\n",
       "    <tr>\n",
       "      <th>1985</th>\n",
       "      <td>BDS</td>\n",
       "      <td>12 years experience</td>\n",
       "      <td>98%</td>\n",
       "      <td>Arekere, Bangalore</td>\n",
       "      <td>Dentist</td>\n",
       "      <td>RCT - Root Canal Treatment Root Canal Treatmen...</td>\n",
       "    </tr>\n",
       "    <tr>\n",
       "      <th>1986</th>\n",
       "      <td>MBBS, MD - Dermatology , Venereology &amp; Leprosy</td>\n",
       "      <td>8 years experience</td>\n",
       "      <td>NaN</td>\n",
       "      <td>Pallikaranai, Chennai</td>\n",
       "      <td>Dermatologists</td>\n",
       "      <td>1 Feedback Pallikaranai, Chennai ₹500</td>\n",
       "    </tr>\n",
       "  </tbody>\n",
       "</table>\n",
       "<p>1987 rows × 6 columns</p>\n",
       "</div>"
      ],
      "text/plain": [
       "                                        Qualification           Experience  \\\n",
       "0                                                MBBS  35 years experience   \n",
       "1          MBBS, Diploma in Otorhinolaryngology (DLO)  31 years experience   \n",
       "2                                          MBBS, DDVL  40 years experience   \n",
       "3                                                BAMS   0 years experience   \n",
       "4     BDS, MDS - Conservative Dentistry & Endodontics  16 years experience   \n",
       "...                                               ...                  ...   \n",
       "1982                         BAMS, Doctor of Medicine  10 years experience   \n",
       "1983   MD - Dermatology , Venereology & Leprosy, MBBS   4 years experience   \n",
       "1984         MBBS, MD / MS - Obstetrics & Gynaecology   9 years experience   \n",
       "1985                                              BDS  12 years experience   \n",
       "1986   MBBS, MD - Dermatology , Venereology & Leprosy   8 years experience   \n",
       "\n",
       "     Rating                        Place           Profile  \\\n",
       "0       NaN       Ghatkopar East, Mumbai  General Medicine   \n",
       "1       NaN  West Marredpally, Hyderabad    ENT Specialist   \n",
       "2       70%            KK Nagar, Chennai    Dermatologists   \n",
       "3       NaN       New Ashok Nagar, Delhi          Ayurveda   \n",
       "4      100%    Kanakpura Road, Bangalore           Dentist   \n",
       "...     ...                          ...               ...   \n",
       "1982    NaN      Basavanagudi, Bangalore          Ayurveda   \n",
       "1983    NaN             Choolai, Chennai    Dermatologists   \n",
       "1984    NaN               Porur, Chennai  General Medicine   \n",
       "1985    98%           Arekere, Bangalore           Dentist   \n",
       "1986    NaN        Pallikaranai, Chennai    Dermatologists   \n",
       "\n",
       "                                     Miscellaneous_Info  \n",
       "0                                                   NaN  \n",
       "1                                                   NaN  \n",
       "2                      70% 4 Feedback KK Nagar, Chennai  \n",
       "3                                                   NaN  \n",
       "4     General Dentistry Conservative Dentistry Cosme...  \n",
       "...                                                 ...  \n",
       "1982                                                NaN  \n",
       "1983                                                NaN  \n",
       "1984                                                NaN  \n",
       "1985  RCT - Root Canal Treatment Root Canal Treatmen...  \n",
       "1986              1 Feedback Pallikaranai, Chennai ₹500  \n",
       "\n",
       "[1987 rows x 6 columns]"
      ]
     },
     "execution_count": 36,
     "metadata": {},
     "output_type": "execute_result"
    }
   ],
   "source": [
    "df_test=pd.read_excel(\"E:\\Datasets\\doctor_consultation_fee\\Final_Test.xlsx\")\n",
    "df_test"
   ]
  },
  {
   "cell_type": "code",
   "execution_count": 37,
   "metadata": {},
   "outputs": [
    {
     "data": {
      "text/plain": [
       "True"
      ]
     },
     "execution_count": 37,
     "metadata": {},
     "output_type": "execute_result"
    }
   ],
   "source": [
    "# Checking for null values\n",
    "df_test.isnull().values.any()"
   ]
  },
  {
   "cell_type": "code",
   "execution_count": 38,
   "metadata": {},
   "outputs": [
    {
     "data": {
      "text/plain": [
       "Qualification            0\n",
       "Experience               0\n",
       "Rating                1090\n",
       "Place                    6\n",
       "Profile                  0\n",
       "Miscellaneous_Info     834\n",
       "dtype: int64"
      ]
     },
     "execution_count": 38,
     "metadata": {},
     "output_type": "execute_result"
    }
   ],
   "source": [
    "# Checking null values column wise\n",
    "df_test.isnull().sum()"
   ]
  },
  {
   "cell_type": "code",
   "execution_count": 39,
   "metadata": {},
   "outputs": [],
   "source": [
    "#Imputing the missing value with their mode.\n",
    "from sklearn.impute import SimpleImputer\n",
    "imp=SimpleImputer(missing_values=np.NaN,strategy='most_frequent')\n",
    "df_test['Place']=imp.fit_transform(df_test['Place'].values.reshape(-1,1))\n",
    "df_test['Miscellaneous_Info']=imp.fit_transform(df_test['Miscellaneous_Info'].values.reshape(-1,1))"
   ]
  },
  {
   "cell_type": "code",
   "execution_count": 40,
   "metadata": {},
   "outputs": [],
   "source": [
    "df_test['Rating'].fillna('0%',inplace = True)"
   ]
  },
  {
   "cell_type": "code",
   "execution_count": 41,
   "metadata": {},
   "outputs": [
    {
     "data": {
      "text/plain": [
       "Qualification         0\n",
       "Experience            0\n",
       "Rating                0\n",
       "Place                 0\n",
       "Profile               0\n",
       "Miscellaneous_Info    0\n",
       "dtype: int64"
      ]
     },
     "execution_count": 41,
     "metadata": {},
     "output_type": "execute_result"
    }
   ],
   "source": [
    "#Now checking the null values again.\n",
    "df_test.isnull().sum()"
   ]
  },
  {
   "cell_type": "code",
   "execution_count": 42,
   "metadata": {},
   "outputs": [
    {
     "data": {
      "text/html": [
       "<div>\n",
       "<style scoped>\n",
       "    .dataframe tbody tr th:only-of-type {\n",
       "        vertical-align: middle;\n",
       "    }\n",
       "\n",
       "    .dataframe tbody tr th {\n",
       "        vertical-align: top;\n",
       "    }\n",
       "\n",
       "    .dataframe thead th {\n",
       "        text-align: right;\n",
       "    }\n",
       "</style>\n",
       "<table border=\"1\" class=\"dataframe\">\n",
       "  <thead>\n",
       "    <tr style=\"text-align: right;\">\n",
       "      <th></th>\n",
       "      <th>Qualification</th>\n",
       "      <th>Experience</th>\n",
       "      <th>Rating</th>\n",
       "      <th>Place</th>\n",
       "      <th>Profile</th>\n",
       "      <th>Miscellaneous_Info</th>\n",
       "    </tr>\n",
       "  </thead>\n",
       "  <tbody>\n",
       "    <tr>\n",
       "      <th>0</th>\n",
       "      <td>MBBS</td>\n",
       "      <td>35</td>\n",
       "      <td>0</td>\n",
       "      <td>Ghatkopar East, Mumbai</td>\n",
       "      <td>General Medicine</td>\n",
       "      <td>Acrylic Partial Denture Crowns and Bridges Fix...</td>\n",
       "    </tr>\n",
       "    <tr>\n",
       "      <th>1</th>\n",
       "      <td>MBBS, Diploma in Otorhinolaryngology (DLO)</td>\n",
       "      <td>31</td>\n",
       "      <td>0</td>\n",
       "      <td>West Marredpally, Hyderabad</td>\n",
       "      <td>ENT Specialist</td>\n",
       "      <td>Acrylic Partial Denture Crowns and Bridges Fix...</td>\n",
       "    </tr>\n",
       "    <tr>\n",
       "      <th>2</th>\n",
       "      <td>MBBS, DDVL</td>\n",
       "      <td>40</td>\n",
       "      <td>70</td>\n",
       "      <td>KK Nagar, Chennai</td>\n",
       "      <td>Dermatologists</td>\n",
       "      <td>70% 4 Feedback KK Nagar, Chennai</td>\n",
       "    </tr>\n",
       "    <tr>\n",
       "      <th>3</th>\n",
       "      <td>BAMS</td>\n",
       "      <td>0</td>\n",
       "      <td>0</td>\n",
       "      <td>New Ashok Nagar, Delhi</td>\n",
       "      <td>Ayurveda</td>\n",
       "      <td>Acrylic Partial Denture Crowns and Bridges Fix...</td>\n",
       "    </tr>\n",
       "    <tr>\n",
       "      <th>4</th>\n",
       "      <td>BDS, MDS - Conservative Dentistry &amp; Endodontics</td>\n",
       "      <td>16</td>\n",
       "      <td>100</td>\n",
       "      <td>Kanakpura Road, Bangalore</td>\n",
       "      <td>Dentist</td>\n",
       "      <td>General Dentistry Conservative Dentistry Cosme...</td>\n",
       "    </tr>\n",
       "    <tr>\n",
       "      <th>...</th>\n",
       "      <td>...</td>\n",
       "      <td>...</td>\n",
       "      <td>...</td>\n",
       "      <td>...</td>\n",
       "      <td>...</td>\n",
       "      <td>...</td>\n",
       "    </tr>\n",
       "    <tr>\n",
       "      <th>1982</th>\n",
       "      <td>BAMS, Doctor of Medicine</td>\n",
       "      <td>10</td>\n",
       "      <td>0</td>\n",
       "      <td>Basavanagudi, Bangalore</td>\n",
       "      <td>Ayurveda</td>\n",
       "      <td>Acrylic Partial Denture Crowns and Bridges Fix...</td>\n",
       "    </tr>\n",
       "    <tr>\n",
       "      <th>1983</th>\n",
       "      <td>MD - Dermatology , Venereology &amp; Leprosy, MBBS</td>\n",
       "      <td>4</td>\n",
       "      <td>0</td>\n",
       "      <td>Choolai, Chennai</td>\n",
       "      <td>Dermatologists</td>\n",
       "      <td>Acrylic Partial Denture Crowns and Bridges Fix...</td>\n",
       "    </tr>\n",
       "    <tr>\n",
       "      <th>1984</th>\n",
       "      <td>MBBS, MD / MS - Obstetrics &amp; Gynaecology</td>\n",
       "      <td>9</td>\n",
       "      <td>0</td>\n",
       "      <td>Porur, Chennai</td>\n",
       "      <td>General Medicine</td>\n",
       "      <td>Acrylic Partial Denture Crowns and Bridges Fix...</td>\n",
       "    </tr>\n",
       "    <tr>\n",
       "      <th>1985</th>\n",
       "      <td>BDS</td>\n",
       "      <td>12</td>\n",
       "      <td>98</td>\n",
       "      <td>Arekere, Bangalore</td>\n",
       "      <td>Dentist</td>\n",
       "      <td>RCT - Root Canal Treatment Root Canal Treatmen...</td>\n",
       "    </tr>\n",
       "    <tr>\n",
       "      <th>1986</th>\n",
       "      <td>MBBS, MD - Dermatology , Venereology &amp; Leprosy</td>\n",
       "      <td>8</td>\n",
       "      <td>0</td>\n",
       "      <td>Pallikaranai, Chennai</td>\n",
       "      <td>Dermatologists</td>\n",
       "      <td>1 Feedback Pallikaranai, Chennai ₹500</td>\n",
       "    </tr>\n",
       "  </tbody>\n",
       "</table>\n",
       "<p>1987 rows × 6 columns</p>\n",
       "</div>"
      ],
      "text/plain": [
       "                                        Qualification  Experience  Rating  \\\n",
       "0                                                MBBS          35       0   \n",
       "1          MBBS, Diploma in Otorhinolaryngology (DLO)          31       0   \n",
       "2                                          MBBS, DDVL          40      70   \n",
       "3                                                BAMS           0       0   \n",
       "4     BDS, MDS - Conservative Dentistry & Endodontics          16     100   \n",
       "...                                               ...         ...     ...   \n",
       "1982                         BAMS, Doctor of Medicine          10       0   \n",
       "1983   MD - Dermatology , Venereology & Leprosy, MBBS           4       0   \n",
       "1984         MBBS, MD / MS - Obstetrics & Gynaecology           9       0   \n",
       "1985                                              BDS          12      98   \n",
       "1986   MBBS, MD - Dermatology , Venereology & Leprosy           8       0   \n",
       "\n",
       "                            Place           Profile  \\\n",
       "0          Ghatkopar East, Mumbai  General Medicine   \n",
       "1     West Marredpally, Hyderabad    ENT Specialist   \n",
       "2               KK Nagar, Chennai    Dermatologists   \n",
       "3          New Ashok Nagar, Delhi          Ayurveda   \n",
       "4       Kanakpura Road, Bangalore           Dentist   \n",
       "...                           ...               ...   \n",
       "1982      Basavanagudi, Bangalore          Ayurveda   \n",
       "1983             Choolai, Chennai    Dermatologists   \n",
       "1984               Porur, Chennai  General Medicine   \n",
       "1985           Arekere, Bangalore           Dentist   \n",
       "1986        Pallikaranai, Chennai    Dermatologists   \n",
       "\n",
       "                                     Miscellaneous_Info  \n",
       "0     Acrylic Partial Denture Crowns and Bridges Fix...  \n",
       "1     Acrylic Partial Denture Crowns and Bridges Fix...  \n",
       "2                      70% 4 Feedback KK Nagar, Chennai  \n",
       "3     Acrylic Partial Denture Crowns and Bridges Fix...  \n",
       "4     General Dentistry Conservative Dentistry Cosme...  \n",
       "...                                                 ...  \n",
       "1982  Acrylic Partial Denture Crowns and Bridges Fix...  \n",
       "1983  Acrylic Partial Denture Crowns and Bridges Fix...  \n",
       "1984  Acrylic Partial Denture Crowns and Bridges Fix...  \n",
       "1985  RCT - Root Canal Treatment Root Canal Treatmen...  \n",
       "1986              1 Feedback Pallikaranai, Chennai ₹500  \n",
       "\n",
       "[1987 rows x 6 columns]"
      ]
     },
     "execution_count": 42,
     "metadata": {},
     "output_type": "execute_result"
    }
   ],
   "source": [
    "#Converting Exprience and Rating into integers.\n",
    "df_test['Experience'] =df_test['Experience'].str.slice(stop=2).astype(int)\n",
    "df_test['Rating']=df_test['Rating'].str.slice(stop=-1).astype(int)\n",
    "df_test"
   ]
  },
  {
   "cell_type": "markdown",
   "metadata": {},
   "source": [
    "# Converting categorical data into numeric variables."
   ]
  },
  {
   "cell_type": "code",
   "execution_count": 43,
   "metadata": {},
   "outputs": [],
   "source": [
    "# Transforming non-numeric columns into numeric ones.\n",
    "\n",
    "from sklearn.preprocessing import LabelEncoder\n",
    "\n",
    "le=LabelEncoder()\n",
    "\n",
    "for column in df_test.columns:\n",
    "    if df_test[column].dtype==np.number:\n",
    "        continue\n",
    "    df_test[column]=le.fit_transform(df_test[column])"
   ]
  },
  {
   "cell_type": "code",
   "execution_count": 44,
   "metadata": {},
   "outputs": [
    {
     "data": {
      "text/html": [
       "<div>\n",
       "<style scoped>\n",
       "    .dataframe tbody tr th:only-of-type {\n",
       "        vertical-align: middle;\n",
       "    }\n",
       "\n",
       "    .dataframe tbody tr th {\n",
       "        vertical-align: top;\n",
       "    }\n",
       "\n",
       "    .dataframe thead th {\n",
       "        text-align: right;\n",
       "    }\n",
       "</style>\n",
       "<table border=\"1\" class=\"dataframe\">\n",
       "  <thead>\n",
       "    <tr style=\"text-align: right;\">\n",
       "      <th></th>\n",
       "      <th>Qualification</th>\n",
       "      <th>Experience</th>\n",
       "      <th>Rating</th>\n",
       "      <th>Place</th>\n",
       "      <th>Profile</th>\n",
       "      <th>Miscellaneous_Info</th>\n",
       "    </tr>\n",
       "  </thead>\n",
       "  <tbody>\n",
       "    <tr>\n",
       "      <th>0</th>\n",
       "      <td>241</td>\n",
       "      <td>34</td>\n",
       "      <td>0</td>\n",
       "      <td>142</td>\n",
       "      <td>4</td>\n",
       "      <td>598</td>\n",
       "    </tr>\n",
       "    <tr>\n",
       "      <th>1</th>\n",
       "      <td>340</td>\n",
       "      <td>30</td>\n",
       "      <td>0</td>\n",
       "      <td>580</td>\n",
       "      <td>3</td>\n",
       "      <td>598</td>\n",
       "    </tr>\n",
       "    <tr>\n",
       "      <th>2</th>\n",
       "      <td>258</td>\n",
       "      <td>39</td>\n",
       "      <td>9</td>\n",
       "      <td>212</td>\n",
       "      <td>2</td>\n",
       "      <td>153</td>\n",
       "    </tr>\n",
       "    <tr>\n",
       "      <th>3</th>\n",
       "      <td>6</td>\n",
       "      <td>0</td>\n",
       "      <td>0</td>\n",
       "      <td>374</td>\n",
       "      <td>0</td>\n",
       "      <td>598</td>\n",
       "    </tr>\n",
       "    <tr>\n",
       "      <th>4</th>\n",
       "      <td>79</td>\n",
       "      <td>15</td>\n",
       "      <td>36</td>\n",
       "      <td>231</td>\n",
       "      <td>1</td>\n",
       "      <td>816</td>\n",
       "    </tr>\n",
       "  </tbody>\n",
       "</table>\n",
       "</div>"
      ],
      "text/plain": [
       "   Qualification  Experience  Rating  Place  Profile  Miscellaneous_Info\n",
       "0            241          34       0    142        4                 598\n",
       "1            340          30       0    580        3                 598\n",
       "2            258          39       9    212        2                 153\n",
       "3              6           0       0    374        0                 598\n",
       "4             79          15      36    231        1                 816"
      ]
     },
     "execution_count": 44,
     "metadata": {},
     "output_type": "execute_result"
    }
   ],
   "source": [
    "df_test.head()"
   ]
  },
  {
   "cell_type": "code",
   "execution_count": 45,
   "metadata": {},
   "outputs": [
    {
     "data": {
      "text/html": [
       "<div>\n",
       "<style scoped>\n",
       "    .dataframe tbody tr th:only-of-type {\n",
       "        vertical-align: middle;\n",
       "    }\n",
       "\n",
       "    .dataframe tbody tr th {\n",
       "        vertical-align: top;\n",
       "    }\n",
       "\n",
       "    .dataframe thead th {\n",
       "        text-align: right;\n",
       "    }\n",
       "</style>\n",
       "<table border=\"1\" class=\"dataframe\">\n",
       "  <thead>\n",
       "    <tr style=\"text-align: right;\">\n",
       "      <th></th>\n",
       "      <th>Qualification</th>\n",
       "      <th>Experience</th>\n",
       "      <th>Place</th>\n",
       "      <th>Profile</th>\n",
       "      <th>Miscellaneous_Info</th>\n",
       "      <th>Fees</th>\n",
       "    </tr>\n",
       "  </thead>\n",
       "  <tbody>\n",
       "    <tr>\n",
       "      <th>0</th>\n",
       "      <td>401</td>\n",
       "      <td>4.795832</td>\n",
       "      <td>299</td>\n",
       "      <td>5</td>\n",
       "      <td>130</td>\n",
       "      <td>9</td>\n",
       "    </tr>\n",
       "    <tr>\n",
       "      <th>1</th>\n",
       "      <td>73</td>\n",
       "      <td>3.316625</td>\n",
       "      <td>866</td>\n",
       "      <td>0</td>\n",
       "      <td>1422</td>\n",
       "      <td>22</td>\n",
       "    </tr>\n",
       "    <tr>\n",
       "      <th>2</th>\n",
       "      <td>1135</td>\n",
       "      <td>2.828427</td>\n",
       "      <td>457</td>\n",
       "      <td>3</td>\n",
       "      <td>1595</td>\n",
       "      <td>21</td>\n",
       "    </tr>\n",
       "    <tr>\n",
       "      <th>3</th>\n",
       "      <td>464</td>\n",
       "      <td>3.316625</td>\n",
       "      <td>68</td>\n",
       "      <td>0</td>\n",
       "      <td>1695</td>\n",
       "      <td>17</td>\n",
       "    </tr>\n",
       "    <tr>\n",
       "      <th>4</th>\n",
       "      <td>10</td>\n",
       "      <td>4.358899</td>\n",
       "      <td>337</td>\n",
       "      <td>0</td>\n",
       "      <td>253</td>\n",
       "      <td>17</td>\n",
       "    </tr>\n",
       "    <tr>\n",
       "      <th>...</th>\n",
       "      <td>...</td>\n",
       "      <td>...</td>\n",
       "      <td>...</td>\n",
       "      <td>...</td>\n",
       "      <td>...</td>\n",
       "      <td>...</td>\n",
       "    </tr>\n",
       "    <tr>\n",
       "      <th>5956</th>\n",
       "      <td>1075</td>\n",
       "      <td>4.242641</td>\n",
       "      <td>70</td>\n",
       "      <td>3</td>\n",
       "      <td>1385</td>\n",
       "      <td>21</td>\n",
       "    </tr>\n",
       "    <tr>\n",
       "      <th>5957</th>\n",
       "      <td>596</td>\n",
       "      <td>5.656854</td>\n",
       "      <td>541</td>\n",
       "      <td>4</td>\n",
       "      <td>1595</td>\n",
       "      <td>9</td>\n",
       "    </tr>\n",
       "    <tr>\n",
       "      <th>5958</th>\n",
       "      <td>596</td>\n",
       "      <td>6.324555</td>\n",
       "      <td>216</td>\n",
       "      <td>4</td>\n",
       "      <td>1173</td>\n",
       "      <td>30</td>\n",
       "    </tr>\n",
       "    <tr>\n",
       "      <th>5959</th>\n",
       "      <td>943</td>\n",
       "      <td>3.741657</td>\n",
       "      <td>850</td>\n",
       "      <td>4</td>\n",
       "      <td>2202</td>\n",
       "      <td>9</td>\n",
       "    </tr>\n",
       "    <tr>\n",
       "      <th>5960</th>\n",
       "      <td>243</td>\n",
       "      <td>4.000000</td>\n",
       "      <td>603</td>\n",
       "      <td>1</td>\n",
       "      <td>1595</td>\n",
       "      <td>14</td>\n",
       "    </tr>\n",
       "  </tbody>\n",
       "</table>\n",
       "<p>5961 rows × 6 columns</p>\n",
       "</div>"
      ],
      "text/plain": [
       "      Qualification  Experience  Place  Profile  Miscellaneous_Info  Fees\n",
       "0               401    4.795832    299        5                 130     9\n",
       "1                73    3.316625    866        0                1422    22\n",
       "2              1135    2.828427    457        3                1595    21\n",
       "3               464    3.316625     68        0                1695    17\n",
       "4                10    4.358899    337        0                 253    17\n",
       "...             ...         ...    ...      ...                 ...   ...\n",
       "5956           1075    4.242641     70        3                1385    21\n",
       "5957            596    5.656854    541        4                1595     9\n",
       "5958            596    6.324555    216        4                1173    30\n",
       "5959            943    3.741657    850        4                2202     9\n",
       "5960            243    4.000000    603        1                1595    14\n",
       "\n",
       "[5961 rows x 6 columns]"
      ]
     },
     "execution_count": 45,
     "metadata": {},
     "output_type": "execute_result"
    }
   ],
   "source": [
    "# Dropping rating column as it may impact our score in model building thus may impact predictions.\n",
    "df_test=df_test.drop(columns=['Rating'],axis=1)\n",
    "df"
   ]
  },
  {
   "cell_type": "code",
   "execution_count": 46,
   "metadata": {},
   "outputs": [
    {
     "data": {
      "text/plain": [
       "Qualification         0.280822\n",
       "Experience            0.951028\n",
       "Place                 0.046487\n",
       "Profile               0.028926\n",
       "Miscellaneous_Info   -0.309475\n",
       "dtype: float64"
      ]
     },
     "execution_count": 46,
     "metadata": {},
     "output_type": "execute_result"
    }
   ],
   "source": [
    "df_test.skew()"
   ]
  },
  {
   "cell_type": "code",
   "execution_count": 47,
   "metadata": {},
   "outputs": [],
   "source": [
    "# Treating skewness via square root and cube root method.\n",
    "df_test.skew()\n",
    "for col in df_test.skew().index:\n",
    "    if col in df_test.describe().columns:\n",
    "        if df_test[col].skew()>0.55:\n",
    "            df_test[col]=np.sqrt(df_test[col])\n",
    "        if df_test[col].skew()<-0.55:\n",
    "            df_test[col]=np.cbrt(df_test[col])"
   ]
  },
  {
   "cell_type": "code",
   "execution_count": 48,
   "metadata": {},
   "outputs": [
    {
     "data": {
      "text/plain": [
       "Qualification         0.280822\n",
       "Experience            0.060526\n",
       "Place                 0.046487\n",
       "Profile               0.028926\n",
       "Miscellaneous_Info   -0.309475\n",
       "dtype: float64"
      ]
     },
     "execution_count": 48,
     "metadata": {},
     "output_type": "execute_result"
    }
   ],
   "source": [
    "df_test.skew()"
   ]
  },
  {
   "cell_type": "code",
   "execution_count": 49,
   "metadata": {},
   "outputs": [
    {
     "name": "stdout",
     "output_type": "stream",
     "text": [
      "(1987, 5)\n",
      "(1987, 5)\n"
     ]
    }
   ],
   "source": [
    "#Removing Outliers\n",
    "from scipy.stats import zscore\n",
    "z_score=abs(zscore(df_test))\n",
    "print(df_test.shape)\n",
    "df_test_new=df_test.loc[(z_score<3).all(axis=1)]\n",
    "print(df_test_new.shape)"
   ]
  },
  {
   "cell_type": "markdown",
   "metadata": {},
   "source": [
    "# Model Building"
   ]
  },
  {
   "cell_type": "code",
   "execution_count": 50,
   "metadata": {},
   "outputs": [
    {
     "data": {
      "text/html": [
       "<div>\n",
       "<style scoped>\n",
       "    .dataframe tbody tr th:only-of-type {\n",
       "        vertical-align: middle;\n",
       "    }\n",
       "\n",
       "    .dataframe tbody tr th {\n",
       "        vertical-align: top;\n",
       "    }\n",
       "\n",
       "    .dataframe thead th {\n",
       "        text-align: right;\n",
       "    }\n",
       "</style>\n",
       "<table border=\"1\" class=\"dataframe\">\n",
       "  <thead>\n",
       "    <tr style=\"text-align: right;\">\n",
       "      <th></th>\n",
       "      <th>Qualification</th>\n",
       "      <th>Experience</th>\n",
       "      <th>Place</th>\n",
       "      <th>Profile</th>\n",
       "      <th>Miscellaneous_Info</th>\n",
       "    </tr>\n",
       "  </thead>\n",
       "  <tbody>\n",
       "    <tr>\n",
       "      <th>0</th>\n",
       "      <td>401</td>\n",
       "      <td>4.795832</td>\n",
       "      <td>299</td>\n",
       "      <td>5</td>\n",
       "      <td>130</td>\n",
       "    </tr>\n",
       "    <tr>\n",
       "      <th>1</th>\n",
       "      <td>73</td>\n",
       "      <td>3.316625</td>\n",
       "      <td>866</td>\n",
       "      <td>0</td>\n",
       "      <td>1422</td>\n",
       "    </tr>\n",
       "    <tr>\n",
       "      <th>2</th>\n",
       "      <td>1135</td>\n",
       "      <td>2.828427</td>\n",
       "      <td>457</td>\n",
       "      <td>3</td>\n",
       "      <td>1595</td>\n",
       "    </tr>\n",
       "    <tr>\n",
       "      <th>3</th>\n",
       "      <td>464</td>\n",
       "      <td>3.316625</td>\n",
       "      <td>68</td>\n",
       "      <td>0</td>\n",
       "      <td>1695</td>\n",
       "    </tr>\n",
       "    <tr>\n",
       "      <th>4</th>\n",
       "      <td>10</td>\n",
       "      <td>4.358899</td>\n",
       "      <td>337</td>\n",
       "      <td>0</td>\n",
       "      <td>253</td>\n",
       "    </tr>\n",
       "  </tbody>\n",
       "</table>\n",
       "</div>"
      ],
      "text/plain": [
       "   Qualification  Experience  Place  Profile  Miscellaneous_Info\n",
       "0            401    4.795832    299        5                 130\n",
       "1             73    3.316625    866        0                1422\n",
       "2           1135    2.828427    457        3                1595\n",
       "3            464    3.316625     68        0                1695\n",
       "4             10    4.358899    337        0                 253"
      ]
     },
     "execution_count": 50,
     "metadata": {},
     "output_type": "execute_result"
    }
   ],
   "source": [
    "#Splitting the data into input and output variable.\n",
    "x=df_new.drop(columns=['Fees'],axis=1)\n",
    "x.head()"
   ]
  },
  {
   "cell_type": "code",
   "execution_count": 51,
   "metadata": {},
   "outputs": [
    {
     "data": {
      "text/plain": [
       "0     9\n",
       "1    22\n",
       "2    21\n",
       "3    17\n",
       "4    17\n",
       "Name: Fees, dtype: int64"
      ]
     },
     "execution_count": 51,
     "metadata": {},
     "output_type": "execute_result"
    }
   ],
   "source": [
    "y=df_new['Fees']\n",
    "y.head()"
   ]
  },
  {
   "cell_type": "code",
   "execution_count": 52,
   "metadata": {},
   "outputs": [
    {
     "name": "stdout",
     "output_type": "stream",
     "text": [
      "(5961, 5) \t\t (5961,)\n"
     ]
    }
   ],
   "source": [
    "#Checking the shape of input and target variable\n",
    "print(x.shape,'\\t\\t',y.shape)"
   ]
  },
  {
   "cell_type": "code",
   "execution_count": 53,
   "metadata": {},
   "outputs": [],
   "source": [
    "# Scaling the input variables\n",
    "from sklearn.preprocessing import StandardScaler\n",
    "ss=StandardScaler()\n",
    "x=ss.fit_transform(x)"
   ]
  },
  {
   "cell_type": "code",
   "execution_count": 54,
   "metadata": {},
   "outputs": [],
   "source": [
    "# Splitting the data into training and testing data\n",
    "from sklearn.model_selection import train_test_split\n",
    "x_train,x_test,y_train,y_test=train_test_split(x,y,test_size=.25,random_state=183)"
   ]
  },
  {
   "cell_type": "code",
   "execution_count": 55,
   "metadata": {},
   "outputs": [
    {
     "name": "stdout",
     "output_type": "stream",
     "text": [
      "(4470, 5) \t\t (1491, 5)\n"
     ]
    }
   ],
   "source": [
    "# Checking the shape\n",
    "print(x_train.shape,'\\t\\t',x_test.shape)"
   ]
  },
  {
   "cell_type": "code",
   "execution_count": 56,
   "metadata": {},
   "outputs": [
    {
     "name": "stdout",
     "output_type": "stream",
     "text": [
      "(4470,) \t\t (1491,)\n"
     ]
    }
   ],
   "source": [
    "# Checking the shape\n",
    "print(y_train.shape,'\\t\\t',y_test.shape)"
   ]
  },
  {
   "cell_type": "code",
   "execution_count": 57,
   "metadata": {},
   "outputs": [],
   "source": [
    "# Importing Models Library\n",
    "from sklearn.linear_model import LinearRegression,ElasticNet,Lasso,Ridge\n",
    "from sklearn.svm import SVR\n",
    "from sklearn.neighbors import KNeighborsRegressor\n",
    "from sklearn.tree import DecisionTreeRegressor\n",
    "\n",
    "#Importing Boosting models\n",
    "from sklearn.ensemble import RandomForestRegressor\n",
    "from sklearn.ensemble import AdaBoostRegressor\n",
    "from sklearn.ensemble import GradientBoostingRegressor\n",
    "\n",
    "# Importing Error Metrics\n",
    "from sklearn.metrics import mean_absolute_error,mean_squared_error,r2_score\n",
    "from sklearn.model_selection import GridSearchCV,cross_val_score"
   ]
  },
  {
   "cell_type": "code",
   "execution_count": 58,
   "metadata": {},
   "outputs": [
    {
     "name": "stdout",
     "output_type": "stream",
     "text": [
      "Score of LinearRegression(copy_X=True, fit_intercept=True, n_jobs=None, normalize=False) is: 0.06740445427295572\n",
      "Error:\n",
      "Mean absolute error: 6.8017168318004995\n",
      "Mean squared error: 62.36761856414256\n",
      "Root Mean Squared Error: 7.897317175100831\n",
      "r2_score: 0.09057207315745675\n",
      "**************************************************************************************************\n",
      "\n",
      "\n",
      "Score of DecisionTreeRegressor(ccp_alpha=0.0, criterion='mse', max_depth=None,\n",
      "                      max_features=None, max_leaf_nodes=None,\n",
      "                      min_impurity_decrease=0.0, min_impurity_split=None,\n",
      "                      min_samples_leaf=1, min_samples_split=2,\n",
      "                      min_weight_fraction_leaf=0.0, presort='deprecated',\n",
      "                      random_state=None, splitter='best') is: 0.9985623324554823\n",
      "Error:\n",
      "Mean absolute error: 7.844735077129443\n",
      "Mean squared error: 108.19668008048289\n",
      "Root Mean Squared Error: 10.40176331592307\n",
      "r2_score: -0.5776950398649909\n",
      "**************************************************************************************************\n",
      "\n",
      "\n",
      "Score of KNeighborsRegressor(algorithm='auto', leaf_size=30, metric='minkowski',\n",
      "                    metric_params=None, n_jobs=None, n_neighbors=5, p=2,\n",
      "                    weights='uniform') is: 0.35994919709567885\n",
      "Error:\n",
      "Mean absolute error: 6.595171026156943\n",
      "Mean squared error: 64.7100469483568\n",
      "Root Mean Squared Error: 8.044255524805065\n",
      "r2_score: 0.05641540919822308\n",
      "**************************************************************************************************\n",
      "\n",
      "\n",
      "Score of SVR(C=1.0, cache_size=200, coef0=0.0, degree=3, epsilon=0.1, gamma='scale',\n",
      "    kernel='rbf', max_iter=-1, shrinking=True, tol=0.001, verbose=False) is: 0.1550306871504139\n",
      "Error:\n",
      "Mean absolute error: 6.19584111679975\n",
      "Mean squared error: 58.085006285324546\n",
      "Root Mean Squared Error: 7.621351998518671\n",
      "r2_score: 0.15301997955282953\n",
      "**************************************************************************************************\n",
      "\n",
      "\n",
      "Score of Lasso(alpha=1.0, copy_X=True, fit_intercept=True, max_iter=1000,\n",
      "      normalize=False, positive=False, precompute=False, random_state=None,\n",
      "      selection='cyclic', tol=0.0001, warm_start=False) is: 0.04666747447038255\n",
      "Error:\n",
      "Mean absolute error: 7.055837096015216\n",
      "Mean squared error: 64.72857725783281\n",
      "Root Mean Squared Error: 8.045407215165234\n",
      "r2_score: 0.0561452051834076\n",
      "**************************************************************************************************\n",
      "\n",
      "\n",
      "Score of Ridge(alpha=1.0, copy_X=True, fit_intercept=True, max_iter=None,\n",
      "      normalize=False, random_state=None, solver='auto', tol=0.001) is: 0.06740445128344286\n",
      "Error:\n",
      "Mean absolute error: 6.8017787256126825\n",
      "Mean squared error: 62.36793533547797\n",
      "Root Mean Squared Error: 7.897337230704915\n",
      "r2_score: 0.09056745408259903\n",
      "**************************************************************************************************\n",
      "\n",
      "\n",
      "Score of ElasticNet(alpha=1.0, copy_X=True, fit_intercept=True, l1_ratio=0.5,\n",
      "           max_iter=1000, normalize=False, positive=False, precompute=False,\n",
      "           random_state=None, selection='cyclic', tol=0.0001, warm_start=False) is: 0.04829603544398664\n",
      "Error:\n",
      "Mean absolute error: 7.043624987305337\n",
      "Mean squared error: 64.58653979804824\n",
      "Root Mean Squared Error: 8.03657512862589\n",
      "r2_score: 0.05821635741848963\n",
      "**************************************************************************************************\n",
      "\n",
      "\n",
      "Score of RandomForestRegressor(bootstrap=True, ccp_alpha=0.0, criterion='mse',\n",
      "                      max_depth=None, max_features='auto', max_leaf_nodes=None,\n",
      "                      max_samples=None, min_impurity_decrease=0.0,\n",
      "                      min_impurity_split=None, min_samples_leaf=1,\n",
      "                      min_samples_split=2, min_weight_fraction_leaf=0.0,\n",
      "                      n_estimators=100, n_jobs=None, oob_score=False,\n",
      "                      random_state=None, verbose=0, warm_start=False) is: 0.8824831272887016\n",
      "Error:\n",
      "Mean absolute error: 6.184361949474625\n",
      "Mean squared error: 57.3435159590506\n",
      "Root Mean Squared Error: 7.572550162201014\n",
      "r2_score: 0.16383219309764518\n",
      "**************************************************************************************************\n",
      "\n",
      "\n",
      "Score of AdaBoostRegressor(base_estimator=None, learning_rate=1.0, loss='linear',\n",
      "                  n_estimators=50, random_state=None) is: 0.14734158734469005\n",
      "Error:\n",
      "Mean absolute error: 6.502562450809523\n",
      "Mean squared error: 57.82792521688023\n",
      "Root Mean Squared Error: 7.604467451234191\n",
      "r2_score: 0.15676866690835733\n",
      "**************************************************************************************************\n",
      "\n",
      "\n",
      "Score of GradientBoostingRegressor(alpha=0.9, ccp_alpha=0.0, criterion='friedman_mse',\n",
      "                          init=None, learning_rate=0.1, loss='ls', max_depth=3,\n",
      "                          max_features=None, max_leaf_nodes=None,\n",
      "                          min_impurity_decrease=0.0, min_impurity_split=None,\n",
      "                          min_samples_leaf=1, min_samples_split=2,\n",
      "                          min_weight_fraction_leaf=0.0, n_estimators=100,\n",
      "                          n_iter_no_change=None, presort='deprecated',\n",
      "                          random_state=None, subsample=1.0, tol=0.0001,\n",
      "                          validation_fraction=0.1, verbose=0, warm_start=False) is: 0.27590910938765967\n",
      "Error:\n",
      "Mean absolute error: 6.054560813701199\n",
      "Mean squared error: 53.44547173719943\n",
      "Root Mean Squared Error: 7.310640993592794\n",
      "r2_score: 0.2206724309812318\n",
      "**************************************************************************************************\n",
      "\n",
      "\n"
     ]
    }
   ],
   "source": [
    "# Using algorithms via for loop\n",
    "\n",
    "model=[LinearRegression(),DecisionTreeRegressor(),KNeighborsRegressor(),SVR(),Lasso(),Ridge(),ElasticNet(),RandomForestRegressor(),AdaBoostRegressor(),GradientBoostingRegressor()]\n",
    "for m in model:\n",
    "    m.fit(x_train,y_train)\n",
    "    print('Score of',m, 'is:',m.score(x_train,y_train))\n",
    "    predm=m.predict(x_test)\n",
    "    print('Error:')\n",
    "    print('Mean absolute error:',mean_absolute_error(y_test,predm))\n",
    "    print('Mean squared error:',mean_squared_error(y_test,predm))\n",
    "    print('Root Mean Squared Error:',np.sqrt(mean_squared_error(y_test,predm)))\n",
    "    print('r2_score:',r2_score(y_test,predm))\n",
    "    print('**************************************************************************************************')\n",
    "    print('\\n')"
   ]
  },
  {
   "cell_type": "code",
   "execution_count": 59,
   "metadata": {},
   "outputs": [
    {
     "name": "stdout",
     "output_type": "stream",
     "text": [
      "Score of LinearRegression(copy_X=True, fit_intercept=True, n_jobs=None, normalize=False) is:\n",
      "Score: [0.08090038 0.06360712 0.06414865 0.08141959]\n",
      "Mean Score: 0.0725189358651544\n",
      "Standard deviation: 0.008645117954828203\n",
      "*************************************************************************************************\n",
      "\n",
      "\n",
      "Score of DecisionTreeRegressor(ccp_alpha=0.0, criterion='mse', max_depth=None,\n",
      "                      max_features=None, max_leaf_nodes=None,\n",
      "                      min_impurity_decrease=0.0, min_impurity_split=None,\n",
      "                      min_samples_leaf=1, min_samples_split=2,\n",
      "                      min_weight_fraction_leaf=0.0, presort='deprecated',\n",
      "                      random_state=None, splitter='best') is:\n",
      "Score: [-0.58667024 -0.51411249 -0.46009442 -0.36494219]\n",
      "Mean Score: -0.48145483497811203\n",
      "Standard deviation: 0.08088304449675614\n",
      "*************************************************************************************************\n",
      "\n",
      "\n",
      "Score of KNeighborsRegressor(algorithm='auto', leaf_size=30, metric='minkowski',\n",
      "                    metric_params=None, n_jobs=None, n_neighbors=5, p=2,\n",
      "                    weights='uniform') is:\n",
      "Score: [0.0295683  0.03201837 0.04607773 0.04357905]\n",
      "Mean Score: 0.037810860388345\n",
      "Standard deviation: 0.007125762468807034\n",
      "*************************************************************************************************\n",
      "\n",
      "\n",
      "Score of SVR(C=1.0, cache_size=200, coef0=0.0, degree=3, epsilon=0.1, gamma='scale',\n",
      "    kernel='rbf', max_iter=-1, shrinking=True, tol=0.001, verbose=False) is:\n",
      "Score: [0.14657572 0.12412175 0.13370425 0.14807274]\n",
      "Mean Score: 0.1381186185419127\n",
      "Standard deviation: 0.00982351888034079\n",
      "*************************************************************************************************\n",
      "\n",
      "\n",
      "Score of Lasso(alpha=1.0, copy_X=True, fit_intercept=True, max_iter=1000,\n",
      "      normalize=False, positive=False, precompute=False, random_state=None,\n",
      "      selection='cyclic', tol=0.0001, warm_start=False) is:\n",
      "Score: [0.05625753 0.04489953 0.04962635 0.05665235]\n",
      "Mean Score: 0.05185893983026599\n",
      "Standard deviation: 0.004892397818832985\n",
      "*************************************************************************************************\n",
      "\n",
      "\n",
      "Score of Ridge(alpha=1.0, copy_X=True, fit_intercept=True, max_iter=None,\n",
      "      normalize=False, random_state=None, solver='auto', tol=0.001) is:\n",
      "Score: [0.08089773 0.06360982 0.06415068 0.08141897]\n",
      "Mean Score: 0.07251930243449545\n",
      "Standard deviation: 0.008643131986444086\n",
      "*************************************************************************************************\n",
      "\n",
      "\n",
      "Score of ElasticNet(alpha=1.0, copy_X=True, fit_intercept=True, l1_ratio=0.5,\n",
      "           max_iter=1000, normalize=False, positive=False, precompute=False,\n",
      "           random_state=None, selection='cyclic', tol=0.0001, warm_start=False) is:\n",
      "Score: [0.05720732 0.04586399 0.05030944 0.05817586]\n",
      "Mean Score: 0.05288915412701781\n",
      "Standard deviation: 0.005064675440446935\n",
      "*************************************************************************************************\n",
      "\n",
      "\n",
      "Score of RandomForestRegressor(bootstrap=True, ccp_alpha=0.0, criterion='mse',\n",
      "                      max_depth=None, max_features='auto', max_leaf_nodes=None,\n",
      "                      max_samples=None, min_impurity_decrease=0.0,\n",
      "                      min_impurity_split=None, min_samples_leaf=1,\n",
      "                      min_samples_split=2, min_weight_fraction_leaf=0.0,\n",
      "                      n_estimators=100, n_jobs=None, oob_score=False,\n",
      "                      random_state=None, verbose=0, warm_start=False) is:\n",
      "Score: [0.15850299 0.15170594 0.17471871 0.18900596]\n",
      "Mean Score: 0.1684833991070845\n",
      "Standard deviation: 0.01450126059484104\n",
      "*************************************************************************************************\n",
      "\n",
      "\n",
      "Score of AdaBoostRegressor(base_estimator=None, learning_rate=1.0, loss='linear',\n",
      "                  n_estimators=50, random_state=None) is:\n",
      "Score: [0.13693564 0.14244985 0.13690664 0.14647958]\n",
      "Mean Score: 0.14069292678583448\n",
      "Standard deviation: 0.004031912207235239\n",
      "*************************************************************************************************\n",
      "\n",
      "\n",
      "Score of GradientBoostingRegressor(alpha=0.9, ccp_alpha=0.0, criterion='friedman_mse',\n",
      "                          init=None, learning_rate=0.1, loss='ls', max_depth=3,\n",
      "                          max_features=None, max_leaf_nodes=None,\n",
      "                          min_impurity_decrease=0.0, min_impurity_split=None,\n",
      "                          min_samples_leaf=1, min_samples_split=2,\n",
      "                          min_weight_fraction_leaf=0.0, n_estimators=100,\n",
      "                          n_iter_no_change=None, presort='deprecated',\n",
      "                          random_state=None, subsample=1.0, tol=0.0001,\n",
      "                          validation_fraction=0.1, verbose=0, warm_start=False) is:\n",
      "Score: [0.197955   0.1919145  0.2129198  0.20949688]\n",
      "Mean Score: 0.2030715433753491\n",
      "Standard deviation: 0.008498993861853788\n",
      "*************************************************************************************************\n",
      "\n",
      "\n"
     ]
    }
   ],
   "source": [
    "# Cross validating the models\n",
    "from sklearn.model_selection import cross_val_score\n",
    "model=[LinearRegression(),DecisionTreeRegressor(),KNeighborsRegressor(),SVR(),Lasso(),Ridge(),ElasticNet(),RandomForestRegressor(),AdaBoostRegressor(),GradientBoostingRegressor()]\n",
    "\n",
    "for m in model:\n",
    "    score=cross_val_score(m,x,y,cv=4,scoring='r2')\n",
    "    print('Score of',m,'is:')\n",
    "    print('Score:',score)\n",
    "    print('Mean Score:',score.mean())\n",
    "    print('Standard deviation:',score.std())\n",
    "    print('*************************************************************************************************')\n",
    "    print('\\n')"
   ]
  },
  {
   "cell_type": "code",
   "execution_count": 60,
   "metadata": {},
   "outputs": [
    {
     "name": "stdout",
     "output_type": "stream",
     "text": [
      "{'max_depth': 6, 'n_estimators': 700}\n"
     ]
    }
   ],
   "source": [
    "parameters={'n_estimators':[400,500,600,700],'max_depth':[4,5,6,15,20]}\n",
    "RFR=RandomForestRegressor()\n",
    "\n",
    "clf=GridSearchCV(RFR,parameters)\n",
    "clf.fit(x,y)\n",
    "print(clf.best_params_)"
   ]
  },
  {
   "cell_type": "code",
   "execution_count": 61,
   "metadata": {},
   "outputs": [
    {
     "name": "stdout",
     "output_type": "stream",
     "text": [
      "Score: 0.27210846781867215\n",
      "\n",
      "\n",
      "Mean Absolute Error: 6.127360772539672\n",
      "Mean Squared Error 54.43462890628783\n",
      "Root Mean Squared Error: 7.3779827125229716\n",
      "\n",
      "\n",
      "r2_score 0.20624880580015614\n",
      "\n",
      "\n"
     ]
    }
   ],
   "source": [
    "# Using RandomForestRegressor wiith its best parameters\n",
    "\n",
    "rf=RandomForestRegressor(n_estimators=700, min_samples_split=15, min_samples_leaf=1, max_features='auto', max_depth=6)\n",
    "rf.fit(x_train,y_train)\n",
    "print('Score:',rf.score(x_train,y_train))\n",
    "y_pred=rf.predict(x_test)\n",
    "print('\\n')\n",
    "print('Mean Absolute Error:',mean_absolute_error(y_test,y_pred))\n",
    "print('Mean Squared Error',mean_squared_error(y_test,y_pred))\n",
    "print('Root Mean Squared Error:',np.sqrt(mean_squared_error(y_test,y_pred)))\n",
    "print('\\n')\n",
    "print(\"r2_score\",r2_score(y_test,y_pred))\n",
    "print('\\n')"
   ]
  },
  {
   "cell_type": "code",
   "execution_count": 62,
   "metadata": {},
   "outputs": [
    {
     "data": {
      "text/plain": [
       "['doctor_consultation_fee_rf.obj']"
      ]
     },
     "execution_count": 62,
     "metadata": {},
     "output_type": "execute_result"
    }
   ],
   "source": [
    "#Saving the model\n",
    "\n",
    "#Importing joblib\n",
    "from sklearn.externals import joblib\n",
    "\n",
    "#saving the model as a pickle in a file\n",
    "joblib.dump(rf,'doctor_consultation_fee_rf.obj')"
   ]
  },
  {
   "cell_type": "code",
   "execution_count": 63,
   "metadata": {},
   "outputs": [],
   "source": [
    "# Loading the model\n",
    "rf_from_joblib=joblib.load('doctor_consultation_fee_rf.obj')"
   ]
  },
  {
   "cell_type": "code",
   "execution_count": 64,
   "metadata": {},
   "outputs": [
    {
     "data": {
      "text/plain": [
       "array([21.20211645, 21.20211645, 21.20211645, ..., 21.20211645,\n",
       "       20.78925651, 21.20211645])"
      ]
     },
     "execution_count": 64,
     "metadata": {},
     "output_type": "execute_result"
    }
   ],
   "source": [
    "# using the loaded model to make predictions\n",
    "\n",
    "prediction=rf_from_joblib.predict(df_test)\n",
    "prediction"
   ]
  },
  {
   "cell_type": "code",
   "execution_count": 65,
   "metadata": {},
   "outputs": [],
   "source": [
    "res = pd.DataFrame(prediction)\n",
    "\n",
    "res.columns = [\"prediction\"]\n",
    "res.to_csv(\"doctor_consultation_fee_rf.csv\")"
   ]
  },
  {
   "cell_type": "code",
   "execution_count": null,
   "metadata": {},
   "outputs": [],
   "source": []
  }
 ],
 "metadata": {
  "kernelspec": {
   "display_name": "Python 3",
   "language": "python",
   "name": "python3"
  },
  "language_info": {
   "codemirror_mode": {
    "name": "ipython",
    "version": 3
   },
   "file_extension": ".py",
   "mimetype": "text/x-python",
   "name": "python",
   "nbconvert_exporter": "python",
   "pygments_lexer": "ipython3",
   "version": "3.7.6"
  }
 },
 "nbformat": 4,
 "nbformat_minor": 4
}
