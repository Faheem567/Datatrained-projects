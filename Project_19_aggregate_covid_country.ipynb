{
 "cells": [
  {
   "cell_type": "code",
   "execution_count": 1,
   "metadata": {},
   "outputs": [
    {
     "data": {
      "text/html": [
       "<div>\n",
       "<style scoped>\n",
       "    .dataframe tbody tr th:only-of-type {\n",
       "        vertical-align: middle;\n",
       "    }\n",
       "\n",
       "    .dataframe tbody tr th {\n",
       "        vertical-align: top;\n",
       "    }\n",
       "\n",
       "    .dataframe thead th {\n",
       "        text-align: right;\n",
       "    }\n",
       "</style>\n",
       "<table border=\"1\" class=\"dataframe\">\n",
       "  <thead>\n",
       "    <tr style=\"text-align: right;\">\n",
       "      <th></th>\n",
       "      <th>Date</th>\n",
       "      <th>Country</th>\n",
       "      <th>Confirmed</th>\n",
       "      <th>Recovered</th>\n",
       "      <th>Deaths</th>\n",
       "    </tr>\n",
       "  </thead>\n",
       "  <tbody>\n",
       "    <tr>\n",
       "      <th>0</th>\n",
       "      <td>2020-01-22</td>\n",
       "      <td>Afghanistan</td>\n",
       "      <td>0</td>\n",
       "      <td>0</td>\n",
       "      <td>0</td>\n",
       "    </tr>\n",
       "    <tr>\n",
       "      <th>1</th>\n",
       "      <td>2020-01-22</td>\n",
       "      <td>Albania</td>\n",
       "      <td>0</td>\n",
       "      <td>0</td>\n",
       "      <td>0</td>\n",
       "    </tr>\n",
       "    <tr>\n",
       "      <th>2</th>\n",
       "      <td>2020-01-22</td>\n",
       "      <td>Algeria</td>\n",
       "      <td>0</td>\n",
       "      <td>0</td>\n",
       "      <td>0</td>\n",
       "    </tr>\n",
       "    <tr>\n",
       "      <th>3</th>\n",
       "      <td>2020-01-22</td>\n",
       "      <td>Andorra</td>\n",
       "      <td>0</td>\n",
       "      <td>0</td>\n",
       "      <td>0</td>\n",
       "    </tr>\n",
       "    <tr>\n",
       "      <th>4</th>\n",
       "      <td>2020-01-22</td>\n",
       "      <td>Angola</td>\n",
       "      <td>0</td>\n",
       "      <td>0</td>\n",
       "      <td>0</td>\n",
       "    </tr>\n",
       "    <tr>\n",
       "      <th>...</th>\n",
       "      <td>...</td>\n",
       "      <td>...</td>\n",
       "      <td>...</td>\n",
       "      <td>...</td>\n",
       "      <td>...</td>\n",
       "    </tr>\n",
       "    <tr>\n",
       "      <th>23683</th>\n",
       "      <td>2020-05-26</td>\n",
       "      <td>West Bank and Gaza</td>\n",
       "      <td>429</td>\n",
       "      <td>365</td>\n",
       "      <td>3</td>\n",
       "    </tr>\n",
       "    <tr>\n",
       "      <th>23684</th>\n",
       "      <td>2020-05-26</td>\n",
       "      <td>Western Sahara</td>\n",
       "      <td>9</td>\n",
       "      <td>6</td>\n",
       "      <td>1</td>\n",
       "    </tr>\n",
       "    <tr>\n",
       "      <th>23685</th>\n",
       "      <td>2020-05-26</td>\n",
       "      <td>Yemen</td>\n",
       "      <td>249</td>\n",
       "      <td>10</td>\n",
       "      <td>49</td>\n",
       "    </tr>\n",
       "    <tr>\n",
       "      <th>23686</th>\n",
       "      <td>2020-05-26</td>\n",
       "      <td>Zambia</td>\n",
       "      <td>920</td>\n",
       "      <td>336</td>\n",
       "      <td>7</td>\n",
       "    </tr>\n",
       "    <tr>\n",
       "      <th>23687</th>\n",
       "      <td>2020-05-26</td>\n",
       "      <td>Zimbabwe</td>\n",
       "      <td>56</td>\n",
       "      <td>25</td>\n",
       "      <td>4</td>\n",
       "    </tr>\n",
       "  </tbody>\n",
       "</table>\n",
       "<p>23688 rows × 5 columns</p>\n",
       "</div>"
      ],
      "text/plain": [
       "            Date             Country  Confirmed  Recovered  Deaths\n",
       "0     2020-01-22         Afghanistan          0          0       0\n",
       "1     2020-01-22             Albania          0          0       0\n",
       "2     2020-01-22             Algeria          0          0       0\n",
       "3     2020-01-22             Andorra          0          0       0\n",
       "4     2020-01-22              Angola          0          0       0\n",
       "...          ...                 ...        ...        ...     ...\n",
       "23683 2020-05-26  West Bank and Gaza        429        365       3\n",
       "23684 2020-05-26      Western Sahara          9          6       1\n",
       "23685 2020-05-26               Yemen        249         10      49\n",
       "23686 2020-05-26              Zambia        920        336       7\n",
       "23687 2020-05-26            Zimbabwe         56         25       4\n",
       "\n",
       "[23688 rows x 5 columns]"
      ]
     },
     "execution_count": 1,
     "metadata": {},
     "output_type": "execute_result"
    }
   ],
   "source": [
    "import pandas as pd\n",
    "import warnings\n",
    "warnings.filterwarnings(\"ignore\")\n",
    "df=pd.read_csv(\"Project_19_aggregate_covid_country.csv\",parse_dates=['Date'])\n",
    "df"
   ]
  },
  {
   "cell_type": "code",
   "execution_count": 2,
   "metadata": {},
   "outputs": [
    {
     "data": {
      "text/plain": [
       "(23688, 5)"
      ]
     },
     "execution_count": 2,
     "metadata": {},
     "output_type": "execute_result"
    }
   ],
   "source": [
    "df.shape"
   ]
  },
  {
   "cell_type": "code",
   "execution_count": 3,
   "metadata": {},
   "outputs": [
    {
     "data": {
      "text/plain": [
       "Date         datetime64[ns]\n",
       "Country              object\n",
       "Confirmed             int64\n",
       "Recovered             int64\n",
       "Deaths                int64\n",
       "dtype: object"
      ]
     },
     "execution_count": 3,
     "metadata": {},
     "output_type": "execute_result"
    }
   ],
   "source": [
    "df.dtypes"
   ]
  },
  {
   "cell_type": "code",
   "execution_count": 4,
   "metadata": {},
   "outputs": [
    {
     "data": {
      "text/plain": [
       "Date         0\n",
       "Country      0\n",
       "Confirmed    0\n",
       "Recovered    0\n",
       "Deaths       0\n",
       "dtype: int64"
      ]
     },
     "execution_count": 4,
     "metadata": {},
     "output_type": "execute_result"
    }
   ],
   "source": [
    "df.isnull().sum()"
   ]
  },
  {
   "cell_type": "code",
   "execution_count": 5,
   "metadata": {},
   "outputs": [
    {
     "data": {
      "text/plain": [
       "<matplotlib.axes._subplots.AxesSubplot at 0x14b0accd608>"
      ]
     },
     "execution_count": 5,
     "metadata": {},
     "output_type": "execute_result"
    },
    {
     "data": {
      "image/png": "[encoded data removed]",
      "text/plain": [
       "<Figure size 432x288 with 2 Axes>"
      ]
     },
     "metadata": {
      "needs_background": "light"
     },
     "output_type": "display_data"
    }
   ],
   "source": [
    "import seaborn as sns\n",
    "sns.heatmap(df.isnull())\n",
    "# Data has no null values."
   ]
  },
  {
   "cell_type": "code",
   "execution_count": 6,
   "metadata": {},
   "outputs": [
    {
     "data": {
      "text/plain": [
       "array(['2020-01-22T00:00:00.000000000', '2020-01-23T00:00:00.000000000',\n",
       "       '2020-01-24T00:00:00.000000000', '2020-01-25T00:00:00.000000000',\n",
       "       '2020-01-26T00:00:00.000000000', '2020-01-27T00:00:00.000000000',\n",
       "       '2020-01-28T00:00:00.000000000', '2020-01-29T00:00:00.000000000',\n",
       "       '2020-01-30T00:00:00.000000000', '2020-01-31T00:00:00.000000000',\n",
       "       '2020-02-01T00:00:00.000000000', '2020-02-02T00:00:00.000000000',\n",
       "       '2020-02-03T00:00:00.000000000', '2020-02-04T00:00:00.000000000',\n",
       "       '2020-02-05T00:00:00.000000000', '2020-02-06T00:00:00.000000000',\n",
       "       '2020-02-07T00:00:00.000000000', '2020-02-08T00:00:00.000000000',\n",
       "       '2020-02-09T00:00:00.000000000', '2020-02-10T00:00:00.000000000',\n",
       "       '2020-02-11T00:00:00.000000000', '2020-02-12T00:00:00.000000000',\n",
       "       '2020-02-13T00:00:00.000000000', '2020-02-14T00:00:00.000000000',\n",
       "       '2020-02-15T00:00:00.000000000', '2020-02-16T00:00:00.000000000',\n",
       "       '2020-02-17T00:00:00.000000000', '2020-02-18T00:00:00.000000000',\n",
       "       '2020-02-19T00:00:00.000000000', '2020-02-20T00:00:00.000000000',\n",
       "       '2020-02-21T00:00:00.000000000', '2020-02-22T00:00:00.000000000',\n",
       "       '2020-02-23T00:00:00.000000000', '2020-02-24T00:00:00.000000000',\n",
       "       '2020-02-25T00:00:00.000000000', '2020-02-26T00:00:00.000000000',\n",
       "       '2020-02-27T00:00:00.000000000', '2020-02-28T00:00:00.000000000',\n",
       "       '2020-02-29T00:00:00.000000000', '2020-03-01T00:00:00.000000000',\n",
       "       '2020-03-02T00:00:00.000000000', '2020-03-03T00:00:00.000000000',\n",
       "       '2020-03-04T00:00:00.000000000', '2020-03-05T00:00:00.000000000',\n",
       "       '2020-03-06T00:00:00.000000000', '2020-03-07T00:00:00.000000000',\n",
       "       '2020-03-08T00:00:00.000000000', '2020-03-09T00:00:00.000000000',\n",
       "       '2020-03-10T00:00:00.000000000', '2020-03-11T00:00:00.000000000',\n",
       "       '2020-03-12T00:00:00.000000000', '2020-03-13T00:00:00.000000000',\n",
       "       '2020-03-14T00:00:00.000000000', '2020-03-15T00:00:00.000000000',\n",
       "       '2020-03-16T00:00:00.000000000', '2020-03-17T00:00:00.000000000',\n",
       "       '2020-03-18T00:00:00.000000000', '2020-03-19T00:00:00.000000000',\n",
       "       '2020-03-20T00:00:00.000000000', '2020-03-21T00:00:00.000000000',\n",
       "       '2020-03-22T00:00:00.000000000', '2020-03-23T00:00:00.000000000',\n",
       "       '2020-03-24T00:00:00.000000000', '2020-03-25T00:00:00.000000000',\n",
       "       '2020-03-26T00:00:00.000000000', '2020-03-27T00:00:00.000000000',\n",
       "       '2020-03-28T00:00:00.000000000', '2020-03-29T00:00:00.000000000',\n",
       "       '2020-03-30T00:00:00.000000000', '2020-03-31T00:00:00.000000000',\n",
       "       '2020-04-01T00:00:00.000000000', '2020-04-02T00:00:00.000000000',\n",
       "       '2020-04-03T00:00:00.000000000', '2020-04-04T00:00:00.000000000',\n",
       "       '2020-04-05T00:00:00.000000000', '2020-04-06T00:00:00.000000000',\n",
       "       '2020-04-07T00:00:00.000000000', '2020-04-08T00:00:00.000000000',\n",
       "       '2020-04-09T00:00:00.000000000', '2020-04-10T00:00:00.000000000',\n",
       "       '2020-04-11T00:00:00.000000000', '2020-04-12T00:00:00.000000000',\n",
       "       '2020-04-13T00:00:00.000000000', '2020-04-14T00:00:00.000000000',\n",
       "       '2020-04-15T00:00:00.000000000', '2020-04-16T00:00:00.000000000',\n",
       "       '2020-04-17T00:00:00.000000000', '2020-04-18T00:00:00.000000000',\n",
       "       '2020-04-19T00:00:00.000000000', '2020-04-20T00:00:00.000000000',\n",
       "       '2020-04-21T00:00:00.000000000', '2020-04-22T00:00:00.000000000',\n",
       "       '2020-04-23T00:00:00.000000000', '2020-04-24T00:00:00.000000000',\n",
       "       '2020-04-25T00:00:00.000000000', '2020-04-26T00:00:00.000000000',\n",
       "       '2020-04-27T00:00:00.000000000', '2020-04-28T00:00:00.000000000',\n",
       "       '2020-04-29T00:00:00.000000000', '2020-04-30T00:00:00.000000000',\n",
       "       '2020-05-01T00:00:00.000000000', '2020-05-02T00:00:00.000000000',\n",
       "       '2020-05-03T00:00:00.000000000', '2020-05-04T00:00:00.000000000',\n",
       "       '2020-05-05T00:00:00.000000000', '2020-05-06T00:00:00.000000000',\n",
       "       '2020-05-07T00:00:00.000000000', '2020-05-08T00:00:00.000000000',\n",
       "       '2020-05-09T00:00:00.000000000', '2020-05-10T00:00:00.000000000',\n",
       "       '2020-05-11T00:00:00.000000000', '2020-05-12T00:00:00.000000000',\n",
       "       '2020-05-13T00:00:00.000000000', '2020-05-14T00:00:00.000000000',\n",
       "       '2020-05-15T00:00:00.000000000', '2020-05-16T00:00:00.000000000',\n",
       "       '2020-05-17T00:00:00.000000000', '2020-05-18T00:00:00.000000000',\n",
       "       '2020-05-19T00:00:00.000000000', '2020-05-20T00:00:00.000000000',\n",
       "       '2020-05-21T00:00:00.000000000', '2020-05-22T00:00:00.000000000',\n",
       "       '2020-05-23T00:00:00.000000000', '2020-05-24T00:00:00.000000000',\n",
       "       '2020-05-25T00:00:00.000000000', '2020-05-26T00:00:00.000000000'],\n",
       "      dtype='datetime64[ns]')"
      ]
     },
     "execution_count": 6,
     "metadata": {},
     "output_type": "execute_result"
    }
   ],
   "source": [
    "df.Date.unique()"
   ]
  },
  {
   "cell_type": "code",
   "execution_count": 7,
   "metadata": {},
   "outputs": [
    {
     "data": {
      "text/plain": [
       "array(['Afghanistan', 'Albania', 'Algeria', 'Andorra', 'Angola',\n",
       "       'Antigua and Barbuda', 'Argentina', 'Armenia', 'Australia',\n",
       "       'Austria', 'Azerbaijan', 'Bahamas', 'Bahrain', 'Bangladesh',\n",
       "       'Barbados', 'Belarus', 'Belgium', 'Belize', 'Benin', 'Bhutan',\n",
       "       'Bolivia', 'Bosnia and Herzegovina', 'Botswana', 'Brazil',\n",
       "       'Brunei', 'Bulgaria', 'Burkina Faso', 'Burma', 'Burundi',\n",
       "       'Cabo Verde', 'Cambodia', 'Cameroon', 'Canada',\n",
       "       'Central African Republic', 'Chad', 'Chile', 'China', 'Colombia',\n",
       "       'Comoros', 'Congo (Brazzaville)', 'Congo (Kinshasa)', 'Costa Rica',\n",
       "       \"Cote d'Ivoire\", 'Croatia', 'Cuba', 'Cyprus', 'Czechia', 'Denmark',\n",
       "       'Diamond Princess', 'Djibouti', 'Dominica', 'Dominican Republic',\n",
       "       'Ecuador', 'Egypt', 'El Salvador', 'Equatorial Guinea', 'Eritrea',\n",
       "       'Estonia', 'Eswatini', 'Ethiopia', 'Fiji', 'Finland', 'France',\n",
       "       'Gabon', 'Gambia', 'Georgia', 'Germany', 'Ghana', 'Greece',\n",
       "       'Grenada', 'Guatemala', 'Guinea', 'Guinea-Bissau', 'Guyana',\n",
       "       'Haiti', 'Holy See', 'Honduras', 'Hungary', 'Iceland', 'India',\n",
       "       'Indonesia', 'Iran', 'Iraq', 'Ireland', 'Israel', 'Italy',\n",
       "       'Jamaica', 'Japan', 'Jordan', 'Kazakhstan', 'Kenya',\n",
       "       'Korea, South', 'Kosovo', 'Kuwait', 'Kyrgyzstan', 'Laos', 'Latvia',\n",
       "       'Lebanon', 'Lesotho', 'Liberia', 'Libya', 'Liechtenstein',\n",
       "       'Lithuania', 'Luxembourg', 'MS Zaandam', 'Madagascar', 'Malawi',\n",
       "       'Malaysia', 'Maldives', 'Mali', 'Malta', 'Mauritania', 'Mauritius',\n",
       "       'Mexico', 'Moldova', 'Monaco', 'Mongolia', 'Montenegro', 'Morocco',\n",
       "       'Mozambique', 'Namibia', 'Nepal', 'Netherlands', 'New Zealand',\n",
       "       'Nicaragua', 'Niger', 'Nigeria', 'North Macedonia', 'Norway',\n",
       "       'Oman', 'Pakistan', 'Panama', 'Papua New Guinea', 'Paraguay',\n",
       "       'Peru', 'Philippines', 'Poland', 'Portugal', 'Qatar', 'Romania',\n",
       "       'Russia', 'Rwanda', 'Saint Kitts and Nevis', 'Saint Lucia',\n",
       "       'Saint Vincent and the Grenadines', 'San Marino',\n",
       "       'Sao Tome and Principe', 'Saudi Arabia', 'Senegal', 'Serbia',\n",
       "       'Seychelles', 'Sierra Leone', 'Singapore', 'Slovakia', 'Slovenia',\n",
       "       'Somalia', 'South Africa', 'South Sudan', 'Spain', 'Sri Lanka',\n",
       "       'Sudan', 'Suriname', 'Sweden', 'Switzerland', 'Syria', 'Taiwan*',\n",
       "       'Tajikistan', 'Tanzania', 'Thailand', 'Timor-Leste', 'Togo',\n",
       "       'Trinidad and Tobago', 'Tunisia', 'Turkey', 'US', 'Uganda',\n",
       "       'Ukraine', 'United Arab Emirates', 'United Kingdom', 'Uruguay',\n",
       "       'Uzbekistan', 'Venezuela', 'Vietnam', 'West Bank and Gaza',\n",
       "       'Western Sahara', 'Yemen', 'Zambia', 'Zimbabwe'], dtype=object)"
      ]
     },
     "execution_count": 7,
     "metadata": {},
     "output_type": "execute_result"
    }
   ],
   "source": [
    "df.Country.unique()"
   ]
  },
  {
   "cell_type": "code",
   "execution_count": 8,
   "metadata": {},
   "outputs": [
    {
     "data": {
      "text/plain": [
       "188778378"
      ]
     },
     "execution_count": 8,
     "metadata": {},
     "output_type": "execute_result"
    }
   ],
   "source": [
    "df.Confirmed.sum()"
   ]
  },
  {
   "cell_type": "code",
   "execution_count": 9,
   "metadata": {},
   "outputs": [
    {
     "data": {
      "text/plain": [
       "61157719"
      ]
     },
     "execution_count": 9,
     "metadata": {},
     "output_type": "execute_result"
    }
   ],
   "source": [
    "df.Recovered.sum()"
   ]
  },
  {
   "cell_type": "code",
   "execution_count": 10,
   "metadata": {},
   "outputs": [
    {
     "data": {
      "text/plain": [
       "12482037"
      ]
     },
     "execution_count": 10,
     "metadata": {},
     "output_type": "execute_result"
    }
   ],
   "source": [
    "df.Deaths.sum()"
   ]
  },
  {
   "cell_type": "code",
   "execution_count": 11,
   "metadata": {},
   "outputs": [
    {
     "data": {
      "text/plain": [
       "2020-04-09    188\n",
       "2020-05-03    188\n",
       "2020-02-08    188\n",
       "2020-05-19    188\n",
       "2020-01-26    188\n",
       "             ... \n",
       "2020-03-26    188\n",
       "2020-03-13    188\n",
       "2020-02-29    188\n",
       "2020-02-16    188\n",
       "2020-03-27    188\n",
       "Name: Date, Length: 126, dtype: int64"
      ]
     },
     "execution_count": 11,
     "metadata": {},
     "output_type": "execute_result"
    }
   ],
   "source": [
    "df.Date.value_counts()"
   ]
  },
  {
   "cell_type": "code",
   "execution_count": 12,
   "metadata": {},
   "outputs": [
    {
     "data": {
      "text/plain": [
       "Kenya                     126\n",
       "Iraq                      126\n",
       "Pakistan                  126\n",
       "Israel                    126\n",
       "Eritrea                   126\n",
       "                         ... \n",
       "Hungary                   126\n",
       "Tanzania                  126\n",
       "Bosnia and Herzegovina    126\n",
       "Diamond Princess          126\n",
       "Ireland                   126\n",
       "Name: Country, Length: 188, dtype: int64"
      ]
     },
     "execution_count": 12,
     "metadata": {},
     "output_type": "execute_result"
    }
   ],
   "source": [
    "df.Country.value_counts()"
   ]
  },
  {
   "cell_type": "code",
   "execution_count": 13,
   "metadata": {},
   "outputs": [
    {
     "data": {
      "text/plain": [
       "0         8056\n",
       "1          799\n",
       "2          310\n",
       "3          293\n",
       "16         223\n",
       "          ... \n",
       "3638         1\n",
       "110130       1\n",
       "17967        1\n",
       "1559         1\n",
       "3958         1\n",
       "Name: Confirmed, Length: 5308, dtype: int64"
      ]
     },
     "execution_count": 13,
     "metadata": {},
     "output_type": "execute_result"
    }
   ],
   "source": [
    "df.Confirmed.value_counts()"
   ]
  },
  {
   "cell_type": "code",
   "execution_count": 14,
   "metadata": {},
   "outputs": [
    {
     "data": {
      "text/plain": [
       "0         11100\n",
       "1           866\n",
       "2           517\n",
       "4           264\n",
       "3           262\n",
       "          ...  \n",
       "4869          1\n",
       "41731         1\n",
       "361239        1\n",
       "8063          1\n",
       "6141          1\n",
       "Name: Recovered, Length: 3303, dtype: int64"
      ]
     },
     "execution_count": 14,
     "metadata": {},
     "output_type": "execute_result"
    }
   ],
   "source": [
    "df.Recovered.value_counts()"
   ]
  },
  {
   "cell_type": "code",
   "execution_count": 15,
   "metadata": {},
   "outputs": [
    {
     "data": {
      "text/plain": [
       "0        12989\n",
       "1         1244\n",
       "2          655\n",
       "3          550\n",
       "4          324\n",
       "         ...  \n",
       "473          1\n",
       "4603         1\n",
       "521          1\n",
       "2600         1\n",
       "30689        1\n",
       "Name: Deaths, Length: 1768, dtype: int64"
      ]
     },
     "execution_count": 15,
     "metadata": {},
     "output_type": "execute_result"
    }
   ],
   "source": [
    "df.Deaths.value_counts()"
   ]
  },
  {
   "cell_type": "code",
   "execution_count": 16,
   "metadata": {},
   "outputs": [
    {
     "data": {
      "text/html": [
       "<div>\n",
       "<style scoped>\n",
       "    .dataframe tbody tr th:only-of-type {\n",
       "        vertical-align: middle;\n",
       "    }\n",
       "\n",
       "    .dataframe tbody tr th {\n",
       "        vertical-align: top;\n",
       "    }\n",
       "\n",
       "    .dataframe thead th {\n",
       "        text-align: right;\n",
       "    }\n",
       "</style>\n",
       "<table border=\"1\" class=\"dataframe\">\n",
       "  <thead>\n",
       "    <tr style=\"text-align: right;\">\n",
       "      <th></th>\n",
       "      <th>Confirmed</th>\n",
       "      <th>Recovered</th>\n",
       "      <th>Deaths</th>\n",
       "    </tr>\n",
       "  </thead>\n",
       "  <tbody>\n",
       "    <tr>\n",
       "      <th>Confirmed</th>\n",
       "      <td>1.000000</td>\n",
       "      <td>0.810991</td>\n",
       "      <td>0.929718</td>\n",
       "    </tr>\n",
       "    <tr>\n",
       "      <th>Recovered</th>\n",
       "      <td>0.810991</td>\n",
       "      <td>1.000000</td>\n",
       "      <td>0.778094</td>\n",
       "    </tr>\n",
       "    <tr>\n",
       "      <th>Deaths</th>\n",
       "      <td>0.929718</td>\n",
       "      <td>0.778094</td>\n",
       "      <td>1.000000</td>\n",
       "    </tr>\n",
       "  </tbody>\n",
       "</table>\n",
       "</div>"
      ],
      "text/plain": [
       "           Confirmed  Recovered    Deaths\n",
       "Confirmed   1.000000   0.810991  0.929718\n",
       "Recovered   0.810991   1.000000  0.778094\n",
       "Deaths      0.929718   0.778094  1.000000"
      ]
     },
     "execution_count": 16,
     "metadata": {},
     "output_type": "execute_result"
    }
   ],
   "source": [
    "dfcor=df.corr()\n",
    "dfcor"
   ]
  },
  {
   "cell_type": "code",
   "execution_count": 17,
   "metadata": {},
   "outputs": [
    {
     "data": {
      "text/plain": [
       "<matplotlib.axes._subplots.AxesSubplot at 0x14b0cf0ebc8>"
      ]
     },
     "execution_count": 17,
     "metadata": {},
     "output_type": "execute_result"
    },
    {
     "data": {
      "image/png": "[encoded data removed]",
      "text/plain": [
       "<Figure size 432x288 with 2 Axes>"
      ]
     },
     "metadata": {
      "needs_background": "light"
     },
     "output_type": "display_data"
    }
   ],
   "source": [
    "import seaborn as sns\n",
    "sns.heatmap(dfcor)"
   ]
  },
  {
   "cell_type": "code",
   "execution_count": 18,
   "metadata": {},
   "outputs": [
    {
     "data": {
      "text/plain": [
       "<matplotlib.axes._subplots.AxesSubplot at 0x14b0cfb6108>"
      ]
     },
     "execution_count": 18,
     "metadata": {},
     "output_type": "execute_result"
    },
    {
     "data": {
      "image/png": "[encoded data removed]",
      "text/plain": [
       "<Figure size 432x288 with 1 Axes>"
      ]
     },
     "metadata": {
      "needs_background": "light"
     },
     "output_type": "display_data"
    }
   ],
   "source": [
    "sns.distplot(df['Confirmed'])"
   ]
  },
  {
   "cell_type": "code",
   "execution_count": 19,
   "metadata": {},
   "outputs": [
    {
     "data": {
      "text/plain": [
       "<matplotlib.axes._subplots.AxesSubplot at 0x14b0d0c1688>"
      ]
     },
     "execution_count": 19,
     "metadata": {},
     "output_type": "execute_result"
    },
    {
     "data": {
      "image/png": "[encoded data removed]",
      "text/plain": [
       "<Figure size 432x288 with 1 Axes>"
      ]
     },
     "metadata": {
      "needs_background": "light"
     },
     "output_type": "display_data"
    }
   ],
   "source": [
    "sns.distplot(df['Recovered'])"
   ]
  },
  {
   "cell_type": "code",
   "execution_count": 20,
   "metadata": {},
   "outputs": [
    {
     "data": {
      "text/plain": [
       "<matplotlib.axes._subplots.AxesSubplot at 0x14b0d1c41c8>"
      ]
     },
     "execution_count": 20,
     "metadata": {},
     "output_type": "execute_result"
    },
    {
     "data": {
      "image/png": "[encoded data removed]",
      "text/plain": [
       "<Figure size 432x288 with 1 Axes>"
      ]
     },
     "metadata": {
      "needs_background": "light"
     },
     "output_type": "display_data"
    }
   ],
   "source": [
    "sns.distplot(df['Deaths'])"
   ]
  },
  {
   "cell_type": "code",
   "execution_count": 21,
   "metadata": {},
   "outputs": [
    {
     "data": {
      "text/plain": [
       "<seaborn.axisgrid.PairGrid at 0x14b0d2a3888>"
      ]
     },
     "execution_count": 21,
     "metadata": {},
     "output_type": "execute_result"
    },
    {
     "data": {
      "image/png": "[encoded data removed]",
      "text/plain": [
       "<Figure size 540x540 with 12 Axes>"
      ]
     },
     "metadata": {
      "needs_background": "light"
     },
     "output_type": "display_data"
    }
   ],
   "source": [
    "sns.pairplot(df)"
   ]
  },
  {
   "cell_type": "code",
   "execution_count": 22,
   "metadata": {},
   "outputs": [
    {
     "data": {
      "text/html": [
       "<div>\n",
       "<style scoped>\n",
       "    .dataframe tbody tr th:only-of-type {\n",
       "        vertical-align: middle;\n",
       "    }\n",
       "\n",
       "    .dataframe tbody tr th {\n",
       "        vertical-align: top;\n",
       "    }\n",
       "\n",
       "    .dataframe thead th {\n",
       "        text-align: right;\n",
       "    }\n",
       "</style>\n",
       "<table border=\"1\" class=\"dataframe\">\n",
       "  <thead>\n",
       "    <tr style=\"text-align: right;\">\n",
       "      <th></th>\n",
       "      <th>month</th>\n",
       "      <th>year</th>\n",
       "      <th>Country</th>\n",
       "      <th>Confirmed</th>\n",
       "      <th>Recovered</th>\n",
       "      <th>Deaths</th>\n",
       "    </tr>\n",
       "  </thead>\n",
       "  <tbody>\n",
       "    <tr>\n",
       "      <th>0</th>\n",
       "      <td>January</td>\n",
       "      <td>2020</td>\n",
       "      <td>Afghanistan</td>\n",
       "      <td>0</td>\n",
       "      <td>0</td>\n",
       "      <td>0</td>\n",
       "    </tr>\n",
       "    <tr>\n",
       "      <th>1</th>\n",
       "      <td>January</td>\n",
       "      <td>2020</td>\n",
       "      <td>Albania</td>\n",
       "      <td>0</td>\n",
       "      <td>0</td>\n",
       "      <td>0</td>\n",
       "    </tr>\n",
       "    <tr>\n",
       "      <th>2</th>\n",
       "      <td>January</td>\n",
       "      <td>2020</td>\n",
       "      <td>Algeria</td>\n",
       "      <td>0</td>\n",
       "      <td>0</td>\n",
       "      <td>0</td>\n",
       "    </tr>\n",
       "    <tr>\n",
       "      <th>3</th>\n",
       "      <td>January</td>\n",
       "      <td>2020</td>\n",
       "      <td>Andorra</td>\n",
       "      <td>0</td>\n",
       "      <td>0</td>\n",
       "      <td>0</td>\n",
       "    </tr>\n",
       "    <tr>\n",
       "      <th>4</th>\n",
       "      <td>January</td>\n",
       "      <td>2020</td>\n",
       "      <td>Angola</td>\n",
       "      <td>0</td>\n",
       "      <td>0</td>\n",
       "      <td>0</td>\n",
       "    </tr>\n",
       "    <tr>\n",
       "      <th>...</th>\n",
       "      <td>...</td>\n",
       "      <td>...</td>\n",
       "      <td>...</td>\n",
       "      <td>...</td>\n",
       "      <td>...</td>\n",
       "      <td>...</td>\n",
       "    </tr>\n",
       "    <tr>\n",
       "      <th>23683</th>\n",
       "      <td>May</td>\n",
       "      <td>2020</td>\n",
       "      <td>West Bank and Gaza</td>\n",
       "      <td>429</td>\n",
       "      <td>365</td>\n",
       "      <td>3</td>\n",
       "    </tr>\n",
       "    <tr>\n",
       "      <th>23684</th>\n",
       "      <td>May</td>\n",
       "      <td>2020</td>\n",
       "      <td>Western Sahara</td>\n",
       "      <td>9</td>\n",
       "      <td>6</td>\n",
       "      <td>1</td>\n",
       "    </tr>\n",
       "    <tr>\n",
       "      <th>23685</th>\n",
       "      <td>May</td>\n",
       "      <td>2020</td>\n",
       "      <td>Yemen</td>\n",
       "      <td>249</td>\n",
       "      <td>10</td>\n",
       "      <td>49</td>\n",
       "    </tr>\n",
       "    <tr>\n",
       "      <th>23686</th>\n",
       "      <td>May</td>\n",
       "      <td>2020</td>\n",
       "      <td>Zambia</td>\n",
       "      <td>920</td>\n",
       "      <td>336</td>\n",
       "      <td>7</td>\n",
       "    </tr>\n",
       "    <tr>\n",
       "      <th>23687</th>\n",
       "      <td>May</td>\n",
       "      <td>2020</td>\n",
       "      <td>Zimbabwe</td>\n",
       "      <td>56</td>\n",
       "      <td>25</td>\n",
       "      <td>4</td>\n",
       "    </tr>\n",
       "  </tbody>\n",
       "</table>\n",
       "<p>23688 rows × 6 columns</p>\n",
       "</div>"
      ],
      "text/plain": [
       "         month  year             Country  Confirmed  Recovered  Deaths\n",
       "0      January  2020         Afghanistan          0          0       0\n",
       "1      January  2020             Albania          0          0       0\n",
       "2      January  2020             Algeria          0          0       0\n",
       "3      January  2020             Andorra          0          0       0\n",
       "4      January  2020              Angola          0          0       0\n",
       "...        ...   ...                 ...        ...        ...     ...\n",
       "23683      May  2020  West Bank and Gaza        429        365       3\n",
       "23684      May  2020      Western Sahara          9          6       1\n",
       "23685      May  2020               Yemen        249         10      49\n",
       "23686      May  2020              Zambia        920        336       7\n",
       "23687      May  2020            Zimbabwe         56         25       4\n",
       "\n",
       "[23688 rows x 6 columns]"
      ]
     },
     "execution_count": 22,
     "metadata": {},
     "output_type": "execute_result"
    }
   ],
   "source": [
    "import seaborn as sns\n",
    "import matplotlib.pyplot as plt\n",
    "df_dates=pd.DataFrame()\n",
    "df_dates[\"month\"]=df[\"Date\"].dt.month_name()\n",
    "df_dates[\"year\"]=df[\"Date\"].dt.year\n",
    "df_dates[\"Country\"]=df[\"Country\"]\n",
    "df_dates[\"Confirmed\"]=df[\"Confirmed\"]\n",
    "df_dates[\"Recovered\"]=df[\"Recovered\"]\n",
    "df_dates[\"Deaths\"]=df[\"Deaths\"]\n",
    "df_dates"
   ]
  },
  {
   "cell_type": "code",
   "execution_count": 23,
   "metadata": {},
   "outputs": [],
   "source": [
    "df_dates.drop('year',axis=1, inplace=True)"
   ]
  },
  {
   "cell_type": "code",
   "execution_count": 24,
   "metadata": {},
   "outputs": [
    {
     "data": {
      "text/html": [
       "<div>\n",
       "<style scoped>\n",
       "    .dataframe tbody tr th:only-of-type {\n",
       "        vertical-align: middle;\n",
       "    }\n",
       "\n",
       "    .dataframe tbody tr th {\n",
       "        vertical-align: top;\n",
       "    }\n",
       "\n",
       "    .dataframe thead th {\n",
       "        text-align: right;\n",
       "    }\n",
       "</style>\n",
       "<table border=\"1\" class=\"dataframe\">\n",
       "  <thead>\n",
       "    <tr style=\"text-align: right;\">\n",
       "      <th></th>\n",
       "      <th>month</th>\n",
       "      <th>Country</th>\n",
       "      <th>Confirmed</th>\n",
       "      <th>Recovered</th>\n",
       "      <th>Deaths</th>\n",
       "    </tr>\n",
       "  </thead>\n",
       "  <tbody>\n",
       "    <tr>\n",
       "      <th>0</th>\n",
       "      <td>January</td>\n",
       "      <td>Afghanistan</td>\n",
       "      <td>0</td>\n",
       "      <td>0</td>\n",
       "      <td>0</td>\n",
       "    </tr>\n",
       "    <tr>\n",
       "      <th>1</th>\n",
       "      <td>January</td>\n",
       "      <td>Albania</td>\n",
       "      <td>0</td>\n",
       "      <td>0</td>\n",
       "      <td>0</td>\n",
       "    </tr>\n",
       "    <tr>\n",
       "      <th>2</th>\n",
       "      <td>January</td>\n",
       "      <td>Algeria</td>\n",
       "      <td>0</td>\n",
       "      <td>0</td>\n",
       "      <td>0</td>\n",
       "    </tr>\n",
       "    <tr>\n",
       "      <th>3</th>\n",
       "      <td>January</td>\n",
       "      <td>Andorra</td>\n",
       "      <td>0</td>\n",
       "      <td>0</td>\n",
       "      <td>0</td>\n",
       "    </tr>\n",
       "    <tr>\n",
       "      <th>4</th>\n",
       "      <td>January</td>\n",
       "      <td>Angola</td>\n",
       "      <td>0</td>\n",
       "      <td>0</td>\n",
       "      <td>0</td>\n",
       "    </tr>\n",
       "    <tr>\n",
       "      <th>...</th>\n",
       "      <td>...</td>\n",
       "      <td>...</td>\n",
       "      <td>...</td>\n",
       "      <td>...</td>\n",
       "      <td>...</td>\n",
       "    </tr>\n",
       "    <tr>\n",
       "      <th>23683</th>\n",
       "      <td>May</td>\n",
       "      <td>West Bank and Gaza</td>\n",
       "      <td>429</td>\n",
       "      <td>365</td>\n",
       "      <td>3</td>\n",
       "    </tr>\n",
       "    <tr>\n",
       "      <th>23684</th>\n",
       "      <td>May</td>\n",
       "      <td>Western Sahara</td>\n",
       "      <td>9</td>\n",
       "      <td>6</td>\n",
       "      <td>1</td>\n",
       "    </tr>\n",
       "    <tr>\n",
       "      <th>23685</th>\n",
       "      <td>May</td>\n",
       "      <td>Yemen</td>\n",
       "      <td>249</td>\n",
       "      <td>10</td>\n",
       "      <td>49</td>\n",
       "    </tr>\n",
       "    <tr>\n",
       "      <th>23686</th>\n",
       "      <td>May</td>\n",
       "      <td>Zambia</td>\n",
       "      <td>920</td>\n",
       "      <td>336</td>\n",
       "      <td>7</td>\n",
       "    </tr>\n",
       "    <tr>\n",
       "      <th>23687</th>\n",
       "      <td>May</td>\n",
       "      <td>Zimbabwe</td>\n",
       "      <td>56</td>\n",
       "      <td>25</td>\n",
       "      <td>4</td>\n",
       "    </tr>\n",
       "  </tbody>\n",
       "</table>\n",
       "<p>23688 rows × 5 columns</p>\n",
       "</div>"
      ],
      "text/plain": [
       "         month             Country  Confirmed  Recovered  Deaths\n",
       "0      January         Afghanistan          0          0       0\n",
       "1      January             Albania          0          0       0\n",
       "2      January             Algeria          0          0       0\n",
       "3      January             Andorra          0          0       0\n",
       "4      January              Angola          0          0       0\n",
       "...        ...                 ...        ...        ...     ...\n",
       "23683      May  West Bank and Gaza        429        365       3\n",
       "23684      May      Western Sahara          9          6       1\n",
       "23685      May               Yemen        249         10      49\n",
       "23686      May              Zambia        920        336       7\n",
       "23687      May            Zimbabwe         56         25       4\n",
       "\n",
       "[23688 rows x 5 columns]"
      ]
     },
     "execution_count": 24,
     "metadata": {},
     "output_type": "execute_result"
    }
   ],
   "source": [
    "df_dates"
   ]
  },
  {
   "cell_type": "code",
   "execution_count": 25,
   "metadata": {},
   "outputs": [
    {
     "data": {
      "image/png": "[encoded data removed]",
      "text/plain": [
       "<Figure size 432x288 with 1 Axes>"
      ]
     },
     "metadata": {
      "needs_background": "light"
     },
     "output_type": "display_data"
    }
   ],
   "source": [
    "sns.barplot(x=\"month\",y=\"Confirmed\",data=df_dates)\n",
    "plt.show()"
   ]
  },
  {
   "cell_type": "code",
   "execution_count": 26,
   "metadata": {},
   "outputs": [
    {
     "data": {
      "image/png": "[encoded data removed]",
      "text/plain": [
       "<Figure size 432x288 with 1 Axes>"
      ]
     },
     "metadata": {
      "needs_background": "light"
     },
     "output_type": "display_data"
    }
   ],
   "source": [
    "sns.barplot(x=\"month\",y=\"Recovered\",data=df_dates)\n",
    "plt.show()"
   ]
  },
  {
   "cell_type": "code",
   "execution_count": 27,
   "metadata": {},
   "outputs": [
    {
     "data": {
      "image/png": "[encoded data removed]",
      "text/plain": [
       "<Figure size 432x288 with 1 Axes>"
      ]
     },
     "metadata": {
      "needs_background": "light"
     },
     "output_type": "display_data"
    }
   ],
   "source": [
    "sns.barplot(x=\"month\",y=\"Deaths\",data=df_dates)\n",
    "plt.show()"
   ]
  },
  {
   "cell_type": "code",
   "execution_count": 28,
   "metadata": {},
   "outputs": [
    {
     "data": {
      "image/png": "[encoded data removed]",
      "text/plain": [
       "<Figure size 432x288 with 1 Axes>"
      ]
     },
     "metadata": {
      "needs_background": "light"
     },
     "output_type": "display_data"
    }
   ],
   "source": [
    "sns.lineplot(x=\"month\",y=\"Confirmed\",data=df_dates)\n",
    "plt.show()"
   ]
  },
  {
   "cell_type": "code",
   "execution_count": 29,
   "metadata": {},
   "outputs": [
    {
     "data": {
      "image/png": "[encoded data removed]",
      "text/plain": [
       "<Figure size 432x288 with 1 Axes>"
      ]
     },
     "metadata": {
      "needs_background": "light"
     },
     "output_type": "display_data"
    }
   ],
   "source": [
    "sns.lineplot(x=\"month\",y=\"Recovered\",data=df_dates)\n",
    "plt.show()"
   ]
  },
  {
   "cell_type": "code",
   "execution_count": 30,
   "metadata": {},
   "outputs": [
    {
     "data": {
      "image/png": "[encoded data removed]",
      "text/plain": [
       "<Figure size 432x288 with 1 Axes>"
      ]
     },
     "metadata": {
      "needs_background": "light"
     },
     "output_type": "display_data"
    }
   ],
   "source": [
    "sns.lineplot(x=\"month\",y=\"Deaths\",data=df_dates)\n",
    "plt.show()"
   ]
  },
  {
   "cell_type": "code",
   "execution_count": 31,
   "metadata": {},
   "outputs": [
    {
     "data": {
      "text/html": [
       "<div>\n",
       "<style scoped>\n",
       "    .dataframe tbody tr th:only-of-type {\n",
       "        vertical-align: middle;\n",
       "    }\n",
       "\n",
       "    .dataframe tbody tr th {\n",
       "        vertical-align: top;\n",
       "    }\n",
       "\n",
       "    .dataframe thead th {\n",
       "        text-align: right;\n",
       "    }\n",
       "</style>\n",
       "<table border=\"1\" class=\"dataframe\">\n",
       "  <thead>\n",
       "    <tr style=\"text-align: right;\">\n",
       "      <th></th>\n",
       "      <th>Confirmed</th>\n",
       "      <th>Recovered</th>\n",
       "      <th>Deaths</th>\n",
       "    </tr>\n",
       "  </thead>\n",
       "  <tbody>\n",
       "    <tr>\n",
       "      <th>count</th>\n",
       "      <td>2.368800e+04</td>\n",
       "      <td>23688.000000</td>\n",
       "      <td>23688.000000</td>\n",
       "    </tr>\n",
       "    <tr>\n",
       "      <th>mean</th>\n",
       "      <td>7.969368e+03</td>\n",
       "      <td>2581.801714</td>\n",
       "      <td>526.935030</td>\n",
       "    </tr>\n",
       "    <tr>\n",
       "      <th>std</th>\n",
       "      <td>5.842109e+04</td>\n",
       "      <td>15143.101257</td>\n",
       "      <td>3992.815956</td>\n",
       "    </tr>\n",
       "    <tr>\n",
       "      <th>min</th>\n",
       "      <td>0.000000e+00</td>\n",
       "      <td>0.000000</td>\n",
       "      <td>0.000000</td>\n",
       "    </tr>\n",
       "    <tr>\n",
       "      <th>25%</th>\n",
       "      <td>0.000000e+00</td>\n",
       "      <td>0.000000</td>\n",
       "      <td>0.000000</td>\n",
       "    </tr>\n",
       "    <tr>\n",
       "      <th>50%</th>\n",
       "      <td>1.800000e+01</td>\n",
       "      <td>1.000000</td>\n",
       "      <td>0.000000</td>\n",
       "    </tr>\n",
       "    <tr>\n",
       "      <th>75%</th>\n",
       "      <td>7.300000e+02</td>\n",
       "      <td>123.000000</td>\n",
       "      <td>13.000000</td>\n",
       "    </tr>\n",
       "    <tr>\n",
       "      <th>max</th>\n",
       "      <td>1.680913e+06</td>\n",
       "      <td>384902.000000</td>\n",
       "      <td>98913.000000</td>\n",
       "    </tr>\n",
       "  </tbody>\n",
       "</table>\n",
       "</div>"
      ],
      "text/plain": [
       "          Confirmed      Recovered        Deaths\n",
       "count  2.368800e+04   23688.000000  23688.000000\n",
       "mean   7.969368e+03    2581.801714    526.935030\n",
       "std    5.842109e+04   15143.101257   3992.815956\n",
       "min    0.000000e+00       0.000000      0.000000\n",
       "25%    0.000000e+00       0.000000      0.000000\n",
       "50%    1.800000e+01       1.000000      0.000000\n",
       "75%    7.300000e+02     123.000000     13.000000\n",
       "max    1.680913e+06  384902.000000  98913.000000"
      ]
     },
     "execution_count": 31,
     "metadata": {},
     "output_type": "execute_result"
    }
   ],
   "source": [
    "df_dates.describe()\n",
    "# Findings: Large variation is observed between 75 percentile and max. Hence, outliers are present.\n",
    "# Mean is greater than median shows that data is positively skewed.\n",
    "# Most number of deaths occured in the month of April and May as compared to the months of January, February and March."
   ]
  },
  {
   "cell_type": "code",
   "execution_count": 32,
   "metadata": {},
   "outputs": [
    {
     "data": {
      "image/png": "[encoded data removed]",
      "text/plain": [
       "<Figure size 432x288 with 1 Axes>"
      ]
     },
     "metadata": {
      "needs_background": "light"
     },
     "output_type": "display_data"
    }
   ],
   "source": [
    "sns.lineplot(x=\"Country\",y=\"Deaths\",data=df_dates)\n",
    "plt.show()"
   ]
  },
  {
   "cell_type": "code",
   "execution_count": 33,
   "metadata": {},
   "outputs": [],
   "source": [
    "from sklearn.preprocessing import LabelEncoder\n",
    "le=LabelEncoder()\n",
    "list1=['month','Country']\n",
    "for val in list1:\n",
    "    df_dates[val]=le.fit_transform(df_dates[val].astype(str))\n",
    "# Month and Country columns are categorical in nature. Hence, it is replaced by numerals so that data is scaled smoothly."
   ]
  },
  {
   "cell_type": "code",
   "execution_count": 34,
   "metadata": {},
   "outputs": [
    {
     "data": {
      "text/html": [
       "<div>\n",
       "<style scoped>\n",
       "    .dataframe tbody tr th:only-of-type {\n",
       "        vertical-align: middle;\n",
       "    }\n",
       "\n",
       "    .dataframe tbody tr th {\n",
       "        vertical-align: top;\n",
       "    }\n",
       "\n",
       "    .dataframe thead th {\n",
       "        text-align: right;\n",
       "    }\n",
       "</style>\n",
       "<table border=\"1\" class=\"dataframe\">\n",
       "  <thead>\n",
       "    <tr style=\"text-align: right;\">\n",
       "      <th></th>\n",
       "      <th>month</th>\n",
       "      <th>Country</th>\n",
       "      <th>Confirmed</th>\n",
       "      <th>Recovered</th>\n",
       "      <th>Deaths</th>\n",
       "    </tr>\n",
       "  </thead>\n",
       "  <tbody>\n",
       "    <tr>\n",
       "      <th>0</th>\n",
       "      <td>2</td>\n",
       "      <td>0</td>\n",
       "      <td>0</td>\n",
       "      <td>0</td>\n",
       "      <td>0</td>\n",
       "    </tr>\n",
       "    <tr>\n",
       "      <th>1</th>\n",
       "      <td>2</td>\n",
       "      <td>1</td>\n",
       "      <td>0</td>\n",
       "      <td>0</td>\n",
       "      <td>0</td>\n",
       "    </tr>\n",
       "    <tr>\n",
       "      <th>2</th>\n",
       "      <td>2</td>\n",
       "      <td>2</td>\n",
       "      <td>0</td>\n",
       "      <td>0</td>\n",
       "      <td>0</td>\n",
       "    </tr>\n",
       "    <tr>\n",
       "      <th>3</th>\n",
       "      <td>2</td>\n",
       "      <td>3</td>\n",
       "      <td>0</td>\n",
       "      <td>0</td>\n",
       "      <td>0</td>\n",
       "    </tr>\n",
       "    <tr>\n",
       "      <th>4</th>\n",
       "      <td>2</td>\n",
       "      <td>4</td>\n",
       "      <td>0</td>\n",
       "      <td>0</td>\n",
       "      <td>0</td>\n",
       "    </tr>\n",
       "    <tr>\n",
       "      <th>...</th>\n",
       "      <td>...</td>\n",
       "      <td>...</td>\n",
       "      <td>...</td>\n",
       "      <td>...</td>\n",
       "      <td>...</td>\n",
       "    </tr>\n",
       "    <tr>\n",
       "      <th>23683</th>\n",
       "      <td>4</td>\n",
       "      <td>183</td>\n",
       "      <td>429</td>\n",
       "      <td>365</td>\n",
       "      <td>3</td>\n",
       "    </tr>\n",
       "    <tr>\n",
       "      <th>23684</th>\n",
       "      <td>4</td>\n",
       "      <td>184</td>\n",
       "      <td>9</td>\n",
       "      <td>6</td>\n",
       "      <td>1</td>\n",
       "    </tr>\n",
       "    <tr>\n",
       "      <th>23685</th>\n",
       "      <td>4</td>\n",
       "      <td>185</td>\n",
       "      <td>249</td>\n",
       "      <td>10</td>\n",
       "      <td>49</td>\n",
       "    </tr>\n",
       "    <tr>\n",
       "      <th>23686</th>\n",
       "      <td>4</td>\n",
       "      <td>186</td>\n",
       "      <td>920</td>\n",
       "      <td>336</td>\n",
       "      <td>7</td>\n",
       "    </tr>\n",
       "    <tr>\n",
       "      <th>23687</th>\n",
       "      <td>4</td>\n",
       "      <td>187</td>\n",
       "      <td>56</td>\n",
       "      <td>25</td>\n",
       "      <td>4</td>\n",
       "    </tr>\n",
       "  </tbody>\n",
       "</table>\n",
       "<p>23688 rows × 5 columns</p>\n",
       "</div>"
      ],
      "text/plain": [
       "       month  Country  Confirmed  Recovered  Deaths\n",
       "0          2        0          0          0       0\n",
       "1          2        1          0          0       0\n",
       "2          2        2          0          0       0\n",
       "3          2        3          0          0       0\n",
       "4          2        4          0          0       0\n",
       "...      ...      ...        ...        ...     ...\n",
       "23683      4      183        429        365       3\n",
       "23684      4      184          9          6       1\n",
       "23685      4      185        249         10      49\n",
       "23686      4      186        920        336       7\n",
       "23687      4      187         56         25       4\n",
       "\n",
       "[23688 rows x 5 columns]"
      ]
     },
     "execution_count": 34,
     "metadata": {},
     "output_type": "execute_result"
    }
   ],
   "source": [
    "df_dates"
   ]
  },
  {
   "cell_type": "code",
   "execution_count": 35,
   "metadata": {},
   "outputs": [
    {
     "name": "stdout",
     "output_type": "stream",
     "text": [
      "(23688, 5)\n",
      "(23177, 5)\n"
     ]
    }
   ],
   "source": [
    "from scipy.stats import zscore\n",
    "z_score=abs(zscore(df_dates))\n",
    "print(df_dates.shape)\n",
    "df_dates_final=df_dates.loc[(z_score<3).all(axis=1)]\n",
    "print(df_dates_final.shape)\n",
    "# Outliers have been removed."
   ]
  },
  {
   "cell_type": "code",
   "execution_count": 36,
   "metadata": {},
   "outputs": [],
   "source": [
    "df_x=df_dates_final.drop(columns=[\"Deaths\"])\n",
    "y=pd.DataFrame(df_dates_final[\"Deaths\"])"
   ]
  },
  {
   "cell_type": "code",
   "execution_count": 37,
   "metadata": {},
   "outputs": [],
   "source": [
    "from sklearn.preprocessing import StandardScaler\n",
    "sc=StandardScaler()\n",
    "x=sc.fit_transform(df_x)\n",
    "x=pd.DataFrame(x,columns=df_x.columns)\n",
    "# Data is scaled so as to bring it on commom platform."
   ]
  },
  {
   "cell_type": "code",
   "execution_count": 38,
   "metadata": {},
   "outputs": [
    {
     "data": {
      "text/plain": [
       "month        0.032886\n",
       "Country     -0.005144\n",
       "Confirmed    6.906829\n",
       "Recovered    7.472281\n",
       "dtype: float64"
      ]
     },
     "execution_count": 38,
     "metadata": {},
     "output_type": "execute_result"
    }
   ],
   "source": [
    "x.skew()\n",
    "# 'month' and 'country' columns are almost normally distributed as their skewness is between -0.55 and +0.55\n",
    "# while 'Confirmed' and 'Recovered' columns are positively skewed as their skewness is more than +0.55"
   ]
  },
  {
   "cell_type": "code",
   "execution_count": 39,
   "metadata": {},
   "outputs": [
    {
     "name": "stdout",
     "output_type": "stream",
     "text": [
      "r2_score corresponding to random state: 1  is:  0.6117567911366422\n",
      "r2_score corresponding to random state: 2  is:  0.6247754181561027\n",
      "r2_score corresponding to random state: 3  is:  0.6084133130742067\n",
      "r2_score corresponding to random state: 4  is:  0.6065666393119205\n",
      "r2_score corresponding to random state: 5  is:  0.5996467700551937\n",
      "r2_score corresponding to random state: 6  is:  0.5791125462487394\n",
      "r2_score corresponding to random state: 7  is:  0.5719055616871067\n",
      "r2_score corresponding to random state: 8  is:  0.61078167011268\n",
      "r2_score corresponding to random state: 9  is:  0.6009300629480389\n",
      "r2_score corresponding to random state: 10  is:  0.5717673805250866\n",
      "r2_score corresponding to random state: 11  is:  0.5501732520223701\n",
      "r2_score corresponding to random state: 12  is:  0.5593056920798003\n",
      "r2_score corresponding to random state: 13  is:  0.5332923461546377\n",
      "r2_score corresponding to random state: 14  is:  0.5408069451041138\n",
      "r2_score corresponding to random state: 15  is:  0.5494384524955067\n",
      "r2_score corresponding to random state: 16  is:  0.5480876594104637\n",
      "r2_score corresponding to random state: 17  is:  0.5827652974325721\n",
      "r2_score corresponding to random state: 18  is:  0.5612388981291365\n",
      "r2_score corresponding to random state: 19  is:  0.5728973191570867\n",
      "r2_score corresponding to random state: 20  is:  0.5903167636601218\n",
      "r2_score corresponding to random state: 21  is:  0.5680294822979799\n",
      "r2_score corresponding to random state: 22  is:  0.5766356501090165\n",
      "r2_score corresponding to random state: 23  is:  0.592775499244065\n",
      "r2_score corresponding to random state: 24  is:  0.6089536553199659\n",
      "r2_score corresponding to random state: 25  is:  0.6053490592201867\n",
      "r2_score corresponding to random state: 26  is:  0.5891693579837409\n",
      "r2_score corresponding to random state: 27  is:  0.5505446132205754\n",
      "r2_score corresponding to random state: 28  is:  0.6144026547112336\n",
      "r2_score corresponding to random state: 29  is:  0.5852740487454713\n",
      "r2_score corresponding to random state: 30  is:  0.5309484477144557\n",
      "r2_score corresponding to random state: 31  is:  0.5798055106845859\n",
      "r2_score corresponding to random state: 32  is:  0.5895233395698458\n",
      "r2_score corresponding to random state: 33  is:  0.35244096253392043\n",
      "r2_score corresponding to random state: 34  is:  0.570363655346253\n",
      "r2_score corresponding to random state: 35  is:  0.5841534583830359\n",
      "r2_score corresponding to random state: 36  is:  0.5985844209933804\n",
      "r2_score corresponding to random state: 37  is:  0.5147825604348014\n",
      "r2_score corresponding to random state: 38  is:  0.581443444162145\n",
      "r2_score corresponding to random state: 39  is:  0.5404850324966924\n",
      "r2_score corresponding to random state: 40  is:  0.6180024547416771\n",
      "r2_score corresponding to random state: 41  is:  0.513533199422205\n",
      "r2_score corresponding to random state: 42  is:  0.5740701353261857\n",
      "r2_score corresponding to random state: 43  is:  0.5528581116911465\n",
      "r2_score corresponding to random state: 44  is:  0.5908158941372819\n",
      "r2_score corresponding to random state: 45  is:  0.5670599670316936\n",
      "r2_score corresponding to random state: 46  is:  0.5732606343097054\n",
      "r2_score corresponding to random state: 47  is:  0.5896637557066404\n",
      "r2_score corresponding to random state: 48  is:  0.6172261519426339\n",
      "r2_score corresponding to random state: 49  is:  0.60532103256916\n",
      "r2_score corresponding to random state: 50  is:  0.5396633401532962\n",
      "r2_score corresponding to random state: 51  is:  0.5852808735908248\n",
      "r2_score corresponding to random state: 52  is:  0.5724548009109106\n",
      "r2_score corresponding to random state: 53  is:  0.6125681203720972\n",
      "r2_score corresponding to random state: 54  is:  0.606819480538565\n",
      "r2_score corresponding to random state: 55  is:  0.5764460203369998\n",
      "r2_score corresponding to random state: 56  is:  0.5885154207339062\n",
      "r2_score corresponding to random state: 57  is:  0.5940710959325887\n",
      "r2_score corresponding to random state: 58  is:  0.5975418419250957\n",
      "r2_score corresponding to random state: 59  is:  0.5608824394737574\n",
      "r2_score corresponding to random state: 60  is:  0.5307035077615081\n",
      "r2_score corresponding to random state: 61  is:  0.5674541358204981\n",
      "r2_score corresponding to random state: 62  is:  0.5689227819488125\n",
      "r2_score corresponding to random state: 63  is:  0.5357503719245679\n",
      "r2_score corresponding to random state: 64  is:  0.5806094032342601\n",
      "r2_score corresponding to random state: 65  is:  0.5975609607729124\n",
      "r2_score corresponding to random state: 66  is:  0.5361392847465738\n",
      "r2_score corresponding to random state: 67  is:  0.5029860586454499\n",
      "r2_score corresponding to random state: 68  is:  0.6173642579789183\n",
      "r2_score corresponding to random state: 69  is:  0.5741782450801085\n",
      "r2_score corresponding to random state: 70  is:  0.5367075351007768\n",
      "r2_score corresponding to random state: 71  is:  0.5797087815629991\n",
      "r2_score corresponding to random state: 72  is:  0.5148227282571576\n",
      "r2_score corresponding to random state: 73  is:  0.521183582887009\n",
      "r2_score corresponding to random state: 74  is:  0.5566416109285776\n",
      "r2_score corresponding to random state: 75  is:  0.5812059923710649\n",
      "r2_score corresponding to random state: 76  is:  0.564745926953421\n",
      "r2_score corresponding to random state: 77  is:  0.547251333831768\n",
      "r2_score corresponding to random state: 78  is:  0.5350269633285651\n",
      "r2_score corresponding to random state: 79  is:  0.5635975116139769\n",
      "r2_score corresponding to random state: 80  is:  0.636899060520788\n",
      "r2_score corresponding to random state: 81  is:  0.5439878696107148\n",
      "r2_score corresponding to random state: 82  is:  0.5813153708194845\n",
      "r2_score corresponding to random state: 83  is:  0.6313431749106698\n",
      "r2_score corresponding to random state: 84  is:  0.5513469522608034\n",
      "r2_score corresponding to random state: 85  is:  0.5492737545164823\n",
      "r2_score corresponding to random state: 86  is:  0.5582008529580541\n",
      "r2_score corresponding to random state: 87  is:  0.5488638158084984\n",
      "r2_score corresponding to random state: 88  is:  0.6004744349626894\n",
      "r2_score corresponding to random state: 89  is:  0.5839389596959836\n",
      "r2_score corresponding to random state: 90  is:  0.5816251015419203\n",
      "r2_score corresponding to random state: 91  is:  0.5533081553203866\n",
      "r2_score corresponding to random state: 92  is:  0.5983217065210833\n",
      "r2_score corresponding to random state: 93  is:  0.5959917488165252\n",
      "r2_score corresponding to random state: 94  is:  0.6034104188652878\n",
      "r2_score corresponding to random state: 95  is:  0.5385820298264701\n",
      "r2_score corresponding to random state: 96  is:  0.5868775031228913\n",
      "r2_score corresponding to random state: 97  is:  0.5497065768522769\n",
      "r2_score corresponding to random state: 98  is:  0.5855441378820532\n",
      "r2_score corresponding to random state: 99  is:  0.5700832388242416\n",
      "r2_score corresponding to random state: 100  is:  0.5621981190952892\n",
      "r2_score corresponding to random state: 101  is:  0.6051652568424596\n",
      "r2_score corresponding to random state: 102  is:  0.5982067847000634\n",
      "r2_score corresponding to random state: 103  is:  0.5790807277296071\n",
      "r2_score corresponding to random state: 104  is:  0.5789444733432536\n",
      "r2_score corresponding to random state: 105  is:  0.5658262984452361\n",
      "r2_score corresponding to random state: 106  is:  0.5784732358537938\n",
      "r2_score corresponding to random state: 107  is:  0.5674519827256563\n",
      "r2_score corresponding to random state: 108  is:  0.48339133996703276\n",
      "r2_score corresponding to random state: 109  is:  0.6056912782944841\n",
      "r2_score corresponding to random state: 110  is:  0.5782931116501994\n",
      "r2_score corresponding to random state: 111  is:  0.5051762058658091\n",
      "r2_score corresponding to random state: 112  is:  0.6290059292778774\n",
      "r2_score corresponding to random state: 113  is:  0.5115070878012493\n",
      "r2_score corresponding to random state: 114  is:  0.5830928220195128\n",
      "r2_score corresponding to random state: 115  is:  0.5125890804327236\n",
      "r2_score corresponding to random state: 116  is:  0.5561774499183434\n",
      "r2_score corresponding to random state: 117  is:  0.5847074437608408\n",
      "r2_score corresponding to random state: 118  is:  0.5471326318322142\n",
      "r2_score corresponding to random state: 119  is:  0.6278554024745309\n",
      "r2_score corresponding to random state: 120  is:  0.6060069364169792\n",
      "r2_score corresponding to random state: 121  is:  0.5555145012662611\n"
     ]
    },
    {
     "name": "stdout",
     "output_type": "stream",
     "text": [
      "r2_score corresponding to random state: 122  is:  0.5802773383390731\n",
      "r2_score corresponding to random state: 123  is:  0.5281050987992459\n",
      "r2_score corresponding to random state: 124  is:  0.5823569075772186\n",
      "r2_score corresponding to random state: 125  is:  0.576307793014785\n",
      "r2_score corresponding to random state: 126  is:  0.526824989291315\n",
      "r2_score corresponding to random state: 127  is:  0.5296213884647181\n",
      "r2_score corresponding to random state: 128  is:  0.5544869496442288\n",
      "r2_score corresponding to random state: 129  is:  0.5047650111599931\n",
      "r2_score corresponding to random state: 130  is:  0.6182986737305223\n",
      "r2_score corresponding to random state: 131  is:  0.6062859963858189\n",
      "r2_score corresponding to random state: 132  is:  0.5679681233119096\n",
      "r2_score corresponding to random state: 133  is:  0.5570179758813318\n",
      "r2_score corresponding to random state: 134  is:  0.5536611892615134\n",
      "r2_score corresponding to random state: 135  is:  0.604729984523114\n",
      "r2_score corresponding to random state: 136  is:  0.5452712834763895\n",
      "r2_score corresponding to random state: 137  is:  0.5721403072976566\n",
      "r2_score corresponding to random state: 138  is:  0.5799374581698205\n",
      "r2_score corresponding to random state: 139  is:  0.6392003510526199\n",
      "r2_score corresponding to random state: 140  is:  0.5389888753764229\n",
      "r2_score corresponding to random state: 141  is:  0.5949836821656864\n",
      "r2_score corresponding to random state: 142  is:  0.6068215387074567\n",
      "r2_score corresponding to random state: 143  is:  0.5540040734355902\n",
      "r2_score corresponding to random state: 144  is:  0.5672520724121606\n",
      "r2_score corresponding to random state: 145  is:  0.6070490964560062\n",
      "r2_score corresponding to random state: 146  is:  0.5787182712146048\n",
      "r2_score corresponding to random state: 147  is:  0.5893079880992425\n",
      "r2_score corresponding to random state: 148  is:  0.550786040640016\n",
      "r2_score corresponding to random state: 149  is:  0.5268932141669572\n",
      "r2_score corresponding to random state: 150  is:  0.5893828830734698\n",
      "r2_score corresponding to random state: 151  is:  0.5854420684987716\n",
      "r2_score corresponding to random state: 152  is:  0.5878411077310526\n",
      "r2_score corresponding to random state: 153  is:  0.5578093824841718\n",
      "r2_score corresponding to random state: 154  is:  0.5480676110013959\n",
      "r2_score corresponding to random state: 155  is:  0.5746414970405986\n",
      "r2_score corresponding to random state: 156  is:  0.5288956339646153\n",
      "r2_score corresponding to random state: 157  is:  0.5956863088579707\n",
      "r2_score corresponding to random state: 158  is:  0.5798796112813263\n",
      "r2_score corresponding to random state: 159  is:  0.519483527724703\n",
      "r2_score corresponding to random state: 160  is:  0.6005856211590346\n",
      "r2_score corresponding to random state: 161  is:  0.5699636032880178\n",
      "r2_score corresponding to random state: 162  is:  0.5731638877333884\n",
      "r2_score corresponding to random state: 163  is:  0.5953011270795378\n",
      "r2_score corresponding to random state: 164  is:  0.5778872448714301\n",
      "r2_score corresponding to random state: 165  is:  0.47574360852983044\n",
      "r2_score corresponding to random state: 166  is:  0.5617278865212383\n",
      "r2_score corresponding to random state: 167  is:  0.599852908854407\n",
      "r2_score corresponding to random state: 168  is:  0.5741264708669875\n",
      "r2_score corresponding to random state: 169  is:  0.5921393484405959\n",
      "r2_score corresponding to random state: 170  is:  0.5652888372712359\n",
      "r2_score corresponding to random state: 171  is:  0.550517233840625\n",
      "r2_score corresponding to random state: 172  is:  0.5959913805754107\n",
      "r2_score corresponding to random state: 173  is:  0.595844879112568\n",
      "r2_score corresponding to random state: 174  is:  0.599578287870285\n",
      "r2_score corresponding to random state: 175  is:  0.6139280268711365\n",
      "r2_score corresponding to random state: 176  is:  0.5775686006186933\n",
      "r2_score corresponding to random state: 177  is:  0.608737350808007\n",
      "r2_score corresponding to random state: 178  is:  0.5691276382837932\n",
      "r2_score corresponding to random state: 179  is:  0.5714641139151653\n",
      "r2_score corresponding to random state: 180  is:  0.4830961309153494\n",
      "r2_score corresponding to random state: 181  is:  0.5370780375955906\n",
      "r2_score corresponding to random state: 182  is:  0.5659599050202355\n",
      "r2_score corresponding to random state: 183  is:  0.5159354267628156\n",
      "r2_score corresponding to random state: 184  is:  0.515898435761805\n",
      "r2_score corresponding to random state: 185  is:  0.5653877355129069\n",
      "r2_score corresponding to random state: 186  is:  0.5187871275672576\n",
      "r2_score corresponding to random state: 187  is:  0.5891996325670754\n",
      "r2_score corresponding to random state: 188  is:  0.5429678508620073\n",
      "r2_score corresponding to random state: 189  is:  0.6071895389033248\n",
      "r2_score corresponding to random state: 190  is:  0.5798832926322406\n",
      "r2_score corresponding to random state: 191  is:  0.552819573319836\n",
      "r2_score corresponding to random state: 192  is:  0.6286184175360698\n",
      "r2_score corresponding to random state: 193  is:  0.6026680435493099\n",
      "r2_score corresponding to random state: 194  is:  0.5814938308236034\n",
      "r2_score corresponding to random state: 195  is:  0.5509061508927793\n",
      "r2_score corresponding to random state: 196  is:  0.6177078525675448\n",
      "r2_score corresponding to random state: 197  is:  0.5663615857181596\n",
      "r2_score corresponding to random state: 198  is:  0.5796297234234045\n",
      "r2_score corresponding to random state: 199  is:  0.5844070585824189\n",
      "\n",
      "\n",
      "max r2 score corresponding to  139  is  0.6392003510526199\n"
     ]
    }
   ],
   "source": [
    "# Since data is continuous in nature, so Linear Regression model is used. Subsequently, R2 score and mean squared error is calculated to check the accuracy of the model.\n",
    "from sklearn.model_selection import train_test_split\n",
    "from sklearn.metrics import mean_absolute_error\n",
    "from sklearn.metrics import mean_squared_error\n",
    "from sklearn.metrics import r2_score\n",
    "from sklearn import linear_model\n",
    "max_r_score=0\n",
    "for r_state in range(1,200):\n",
    "    x_train,x_test,y_train,y_test=train_test_split(x,y,random_state=r_state,test_size=0.20)\n",
    "    regr=linear_model.LinearRegression()\n",
    "    regr.fit(x_train,y_train)\n",
    "    y_pred=regr.predict(x_test)\n",
    "    r2_scr=r2_score(y_test,y_pred)\n",
    "    print(\"r2_score corresponding to random state:\",r_state,\" is: \",r2_scr)\n",
    "    if r2_scr>max_r_score:\n",
    "        max_r_score=r2_scr\n",
    "        final_r_state=r_state\n",
    "print()\n",
    "print()\n",
    "print(\"max r2 score corresponding to \",final_r_state,\" is \", max_r_score)"
   ]
  },
  {
   "cell_type": "code",
   "execution_count": 40,
   "metadata": {},
   "outputs": [
    {
     "data": {
      "text/plain": [
       "0.2718834640663018"
      ]
     },
     "execution_count": 40,
     "metadata": {},
     "output_type": "execute_result"
    }
   ],
   "source": [
    "from sklearn.model_selection import cross_val_score\n",
    "cross_val_score(linear_model.LinearRegression(),x,y, cv=5,scoring=\"r2\").mean()"
   ]
  },
  {
   "cell_type": "code",
   "execution_count": 41,
   "metadata": {},
   "outputs": [],
   "source": [
    "x_train,x_test,y_train,y_test=train_test_split(x,y,random_state=139,test_size=0.20)\n",
    "lr=linear_model.LinearRegression()\n",
    "lr.fit(x_train,y_train)\n",
    "y_pred=lr.predict(x_test)"
   ]
  },
  {
   "cell_type": "code",
   "execution_count": 42,
   "metadata": {},
   "outputs": [
    {
     "name": "stdout",
     "output_type": "stream",
     "text": [
      "r2 score is:  0.6392003510526199\n",
      "RMSE is:  385.0116260523255\n"
     ]
    }
   ],
   "source": [
    "from sklearn.metrics import mean_squared_error\n",
    "from sklearn.metrics import r2_score\n",
    "import numpy as np\n",
    "print(\"r2 score is: \",r2_score(y_test,y_pred))\n",
    "print(\"RMSE is: \",np.sqrt(mean_squared_error(y_test,y_pred)))"
   ]
  },
  {
   "cell_type": "code",
   "execution_count": 43,
   "metadata": {},
   "outputs": [
    {
     "data": {
      "text/plain": [
       "RandomForestRegressor(bootstrap=True, ccp_alpha=0.0, criterion='mse',\n",
       "                      max_depth=None, max_features='auto', max_leaf_nodes=None,\n",
       "                      max_samples=None, min_impurity_decrease=0.0,\n",
       "                      min_impurity_split=None, min_samples_leaf=1,\n",
       "                      min_samples_split=2, min_weight_fraction_leaf=0.0,\n",
       "                      n_estimators=100, n_jobs=None, oob_score=False,\n",
       "                      random_state=None, verbose=0, warm_start=False)"
      ]
     },
     "execution_count": 43,
     "metadata": {},
     "output_type": "execute_result"
    }
   ],
   "source": [
    "from sklearn.ensemble import RandomForestRegressor\n",
    "rfr=RandomForestRegressor()\n",
    "rfr.fit(x_train,y_train)"
   ]
  },
  {
   "cell_type": "code",
   "execution_count": 44,
   "metadata": {},
   "outputs": [
    {
     "data": {
      "text/plain": [
       "0.9945212717874241"
      ]
     },
     "execution_count": 44,
     "metadata": {},
     "output_type": "execute_result"
    }
   ],
   "source": [
    "rfr.score(x_train,y_train)"
   ]
  },
  {
   "cell_type": "code",
   "execution_count": 45,
   "metadata": {},
   "outputs": [
    {
     "data": {
      "text/plain": [
       "0.9949844354829254"
      ]
     },
     "execution_count": 45,
     "metadata": {},
     "output_type": "execute_result"
    }
   ],
   "source": [
    "rfr=RandomForestRegressor(n_estimators=300,random_state=139)\n",
    "rfr.fit(x_train,y_train)\n",
    "rfr.score(x_train,y_train)"
   ]
  },
  {
   "cell_type": "code",
   "execution_count": 46,
   "metadata": {},
   "outputs": [
    {
     "name": "stdout",
     "output_type": "stream",
     "text": [
      "0.7790130449988033\n"
     ]
    }
   ],
   "source": [
    "from sklearn.ensemble import AdaBoostRegressor\n",
    "model= AdaBoostRegressor()\n",
    "model.fit(x_train,y_train)\n",
    "print(model.score(x_train,y_train))"
   ]
  },
  {
   "cell_type": "code",
   "execution_count": 47,
   "metadata": {},
   "outputs": [
    {
     "data": {
      "text/plain": [
       "0.5613412447546589"
      ]
     },
     "execution_count": 47,
     "metadata": {},
     "output_type": "execute_result"
    }
   ],
   "source": [
    "from sklearn.linear_model import Lasso,Ridge\n",
    "# will reduce the coefficient to zero(those features are not informative)\n",
    "# Default value of alpha= 1.0\n",
    "# alpha=.01\n",
    "ls=Lasso(alpha=1)\n",
    "#ls=lasso(alpha=1.0)  #Default\n",
    "ls.fit(x_train,y_train)\n",
    "ls.score(x_train,y_train)"
   ]
  },
  {
   "cell_type": "code",
   "execution_count": 48,
   "metadata": {},
   "outputs": [
    {
     "data": {
      "image/png": "[encoded data removed]",
      "text/plain": [
       "<Figure size 432x288 with 1 Axes>"
      ]
     },
     "metadata": {
      "needs_background": "light"
     },
     "output_type": "display_data"
    }
   ],
   "source": [
    "plt.bar(df.columns[0:-1],ls.coef_)\n",
    "plt.show()"
   ]
  },
  {
   "cell_type": "code",
   "execution_count": 49,
   "metadata": {},
   "outputs": [
    {
     "data": {
      "text/plain": [
       "array([ -5.11186052, -16.82511344, 523.40627697, -19.21817532])"
      ]
     },
     "execution_count": 49,
     "metadata": {},
     "output_type": "execute_result"
    }
   ],
   "source": [
    "ls.coef_"
   ]
  },
  {
   "cell_type": "code",
   "execution_count": 50,
   "metadata": {},
   "outputs": [
    {
     "data": {
      "text/plain": [
       "0.5613694722050792"
      ]
     },
     "execution_count": 50,
     "metadata": {},
     "output_type": "execute_result"
    }
   ],
   "source": [
    "# trying to minimize the coefficient variance\n",
    "rd=Ridge(alpha=0.0001)\n",
    "#rd=Ridge()\n",
    "rd.fit(x_train,y_train)\n",
    "rd.score(x_train,y_train)"
   ]
  },
  {
   "cell_type": "code",
   "execution_count": 51,
   "metadata": {},
   "outputs": [
    {
     "name": "stdout",
     "output_type": "stream",
     "text": [
      "0.45228519888567253\n",
      "0.39302295335185444\n",
      "0.07500142971225121\n"
     ]
    }
   ],
   "source": [
    "from sklearn.svm import SVR\n",
    "\n",
    "kernellist=['linear','poly','rbf']\n",
    "for i in kernellist:\n",
    "    sv=SVR(kernel=i)\n",
    "    sv.fit(x_train,y_train)\n",
    "    print(sv.score(x_train,y_train))"
   ]
  },
  {
   "cell_type": "code",
   "execution_count": 53,
   "metadata": {},
   "outputs": [
    {
     "data": {
      "text/plain": [
       "['Project_19_aggregate_covid_country.pkl']"
      ]
     },
     "execution_count": 53,
     "metadata": {},
     "output_type": "execute_result"
    }
   ],
   "source": [
    "from sklearn.externals import joblib\n",
    "import warnings\n",
    "warnings.filterwarnings(\"ignore\")\n",
    "joblib.dump(rfr,'Project_19_aggregate_covid_country.pkl')\n",
    "# saving the model by using Algorithm 'Random Forest Regressor' as it gives 99% accuracy."
   ]
  },
  {
   "cell_type": "code",
   "execution_count": null,
   "metadata": {},
   "outputs": [],
   "source": []
  }
 ],
 "metadata": {
  "kernelspec": {
   "display_name": "Python 3",
   "language": "python",
   "name": "python3"
  },
  "language_info": {
   "codemirror_mode": {
    "name": "ipython",
    "version": 3
   },
   "file_extension": ".py",
   "mimetype": "text/x-python",
   "name": "python",
   "nbconvert_exporter": "python",
   "pygments_lexer": "ipython3",
   "version": "3.7.6"
  }
 },
 "nbformat": 4,
 "nbformat_minor": 4
}
