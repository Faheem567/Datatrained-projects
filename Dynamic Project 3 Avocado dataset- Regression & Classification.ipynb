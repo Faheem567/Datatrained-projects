{
 "cells": [
  {
   "cell_type": "code",
   "execution_count": 1,
   "metadata": {},
   "outputs": [],
   "source": [
    "# Importing necessary libraries...\n",
    "import pandas as pd\n",
    "import numpy as np\n",
    "import seaborn as sns\n",
    "import matplotlib.pyplot as plt\n",
    "\n",
    "# Importing warnings\n",
    "import warnings\n",
    "warnings.filterwarnings('ignore')"
   ]
  },
  {
   "cell_type": "code",
   "execution_count": 2,
   "metadata": {},
   "outputs": [
    {
     "data": {
      "text/html": [
       "<div>\n",
       "<style scoped>\n",
       "    .dataframe tbody tr th:only-of-type {\n",
       "        vertical-align: middle;\n",
       "    }\n",
       "\n",
       "    .dataframe tbody tr th {\n",
       "        vertical-align: top;\n",
       "    }\n",
       "\n",
       "    .dataframe thead th {\n",
       "        text-align: right;\n",
       "    }\n",
       "</style>\n",
       "<table border=\"1\" class=\"dataframe\">\n",
       "  <thead>\n",
       "    <tr style=\"text-align: right;\">\n",
       "      <th></th>\n",
       "      <th>Unnamed: 0</th>\n",
       "      <th>Date</th>\n",
       "      <th>AveragePrice</th>\n",
       "      <th>Total Volume</th>\n",
       "      <th>4046</th>\n",
       "      <th>4225</th>\n",
       "      <th>4770</th>\n",
       "      <th>Total Bags</th>\n",
       "      <th>Small Bags</th>\n",
       "      <th>Large Bags</th>\n",
       "      <th>XLarge Bags</th>\n",
       "      <th>type</th>\n",
       "      <th>year</th>\n",
       "      <th>region</th>\n",
       "    </tr>\n",
       "  </thead>\n",
       "  <tbody>\n",
       "    <tr>\n",
       "      <th>0</th>\n",
       "      <td>0.0</td>\n",
       "      <td>27-12-2015</td>\n",
       "      <td>1.33</td>\n",
       "      <td>64236.62</td>\n",
       "      <td>1036.74</td>\n",
       "      <td>54454.85</td>\n",
       "      <td>48.16</td>\n",
       "      <td>8696.87</td>\n",
       "      <td>8603.62</td>\n",
       "      <td>93.25</td>\n",
       "      <td>0.0</td>\n",
       "      <td>conventional</td>\n",
       "      <td>2015.0</td>\n",
       "      <td>Albany</td>\n",
       "    </tr>\n",
       "    <tr>\n",
       "      <th>1</th>\n",
       "      <td>1.0</td>\n",
       "      <td>20-12-2015</td>\n",
       "      <td>1.35</td>\n",
       "      <td>54876.98</td>\n",
       "      <td>674.28</td>\n",
       "      <td>44638.81</td>\n",
       "      <td>58.33</td>\n",
       "      <td>9505.56</td>\n",
       "      <td>9408.07</td>\n",
       "      <td>97.49</td>\n",
       "      <td>0.0</td>\n",
       "      <td>conventional</td>\n",
       "      <td>2015.0</td>\n",
       "      <td>Albany</td>\n",
       "    </tr>\n",
       "    <tr>\n",
       "      <th>2</th>\n",
       "      <td>2.0</td>\n",
       "      <td>13-12-2015</td>\n",
       "      <td>0.93</td>\n",
       "      <td>118220.22</td>\n",
       "      <td>794.70</td>\n",
       "      <td>109149.67</td>\n",
       "      <td>130.50</td>\n",
       "      <td>8145.35</td>\n",
       "      <td>8042.21</td>\n",
       "      <td>103.14</td>\n",
       "      <td>0.0</td>\n",
       "      <td>conventional</td>\n",
       "      <td>2015.0</td>\n",
       "      <td>Albany</td>\n",
       "    </tr>\n",
       "    <tr>\n",
       "      <th>3</th>\n",
       "      <td>3.0</td>\n",
       "      <td>06-12-2015</td>\n",
       "      <td>1.08</td>\n",
       "      <td>78992.15</td>\n",
       "      <td>1132.00</td>\n",
       "      <td>71976.41</td>\n",
       "      <td>72.58</td>\n",
       "      <td>5811.16</td>\n",
       "      <td>5677.40</td>\n",
       "      <td>133.76</td>\n",
       "      <td>0.0</td>\n",
       "      <td>conventional</td>\n",
       "      <td>2015.0</td>\n",
       "      <td>Albany</td>\n",
       "    </tr>\n",
       "    <tr>\n",
       "      <th>4</th>\n",
       "      <td>4.0</td>\n",
       "      <td>29-11-2015</td>\n",
       "      <td>1.28</td>\n",
       "      <td>51039.60</td>\n",
       "      <td>941.48</td>\n",
       "      <td>43838.39</td>\n",
       "      <td>75.78</td>\n",
       "      <td>6183.95</td>\n",
       "      <td>5986.26</td>\n",
       "      <td>197.69</td>\n",
       "      <td>0.0</td>\n",
       "      <td>conventional</td>\n",
       "      <td>2015.0</td>\n",
       "      <td>Albany</td>\n",
       "    </tr>\n",
       "    <tr>\n",
       "      <th>...</th>\n",
       "      <td>...</td>\n",
       "      <td>...</td>\n",
       "      <td>...</td>\n",
       "      <td>...</td>\n",
       "      <td>...</td>\n",
       "      <td>...</td>\n",
       "      <td>...</td>\n",
       "      <td>...</td>\n",
       "      <td>...</td>\n",
       "      <td>...</td>\n",
       "      <td>...</td>\n",
       "      <td>...</td>\n",
       "      <td>...</td>\n",
       "      <td>...</td>\n",
       "    </tr>\n",
       "    <tr>\n",
       "      <th>16463</th>\n",
       "      <td>NaN</td>\n",
       "      <td>NaN</td>\n",
       "      <td>NaN</td>\n",
       "      <td>NaN</td>\n",
       "      <td>NaN</td>\n",
       "      <td>NaN</td>\n",
       "      <td>NaN</td>\n",
       "      <td>NaN</td>\n",
       "      <td>NaN</td>\n",
       "      <td>NaN</td>\n",
       "      <td>NaN</td>\n",
       "      <td>NaN</td>\n",
       "      <td>NaN</td>\n",
       "      <td>NaN</td>\n",
       "    </tr>\n",
       "    <tr>\n",
       "      <th>16464</th>\n",
       "      <td>NaN</td>\n",
       "      <td>NaN</td>\n",
       "      <td>NaN</td>\n",
       "      <td>NaN</td>\n",
       "      <td>NaN</td>\n",
       "      <td>NaN</td>\n",
       "      <td>NaN</td>\n",
       "      <td>NaN</td>\n",
       "      <td>NaN</td>\n",
       "      <td>NaN</td>\n",
       "      <td>NaN</td>\n",
       "      <td>NaN</td>\n",
       "      <td>NaN</td>\n",
       "      <td>NaN</td>\n",
       "    </tr>\n",
       "    <tr>\n",
       "      <th>16465</th>\n",
       "      <td>NaN</td>\n",
       "      <td>NaN</td>\n",
       "      <td>NaN</td>\n",
       "      <td>NaN</td>\n",
       "      <td>NaN</td>\n",
       "      <td>NaN</td>\n",
       "      <td>NaN</td>\n",
       "      <td>NaN</td>\n",
       "      <td>NaN</td>\n",
       "      <td>NaN</td>\n",
       "      <td>NaN</td>\n",
       "      <td>NaN</td>\n",
       "      <td>NaN</td>\n",
       "      <td>NaN</td>\n",
       "    </tr>\n",
       "    <tr>\n",
       "      <th>16466</th>\n",
       "      <td>NaN</td>\n",
       "      <td>NaN</td>\n",
       "      <td>NaN</td>\n",
       "      <td>NaN</td>\n",
       "      <td>NaN</td>\n",
       "      <td>NaN</td>\n",
       "      <td>NaN</td>\n",
       "      <td>NaN</td>\n",
       "      <td>NaN</td>\n",
       "      <td>NaN</td>\n",
       "      <td>NaN</td>\n",
       "      <td>NaN</td>\n",
       "      <td>NaN</td>\n",
       "      <td>NaN</td>\n",
       "    </tr>\n",
       "    <tr>\n",
       "      <th>16467</th>\n",
       "      <td>NaN</td>\n",
       "      <td>NaN</td>\n",
       "      <td>NaN</td>\n",
       "      <td>NaN</td>\n",
       "      <td>NaN</td>\n",
       "      <td>NaN</td>\n",
       "      <td>NaN</td>\n",
       "      <td>NaN</td>\n",
       "      <td>NaN</td>\n",
       "      <td>NaN</td>\n",
       "      <td>NaN</td>\n",
       "      <td>NaN</td>\n",
       "      <td>NaN</td>\n",
       "      <td>NaN</td>\n",
       "    </tr>\n",
       "  </tbody>\n",
       "</table>\n",
       "<p>16468 rows × 14 columns</p>\n",
       "</div>"
      ],
      "text/plain": [
       "       Unnamed: 0        Date  AveragePrice  Total Volume     4046       4225  \\\n",
       "0             0.0  27-12-2015          1.33      64236.62  1036.74   54454.85   \n",
       "1             1.0  20-12-2015          1.35      54876.98   674.28   44638.81   \n",
       "2             2.0  13-12-2015          0.93     118220.22   794.70  109149.67   \n",
       "3             3.0  06-12-2015          1.08      78992.15  1132.00   71976.41   \n",
       "4             4.0  29-11-2015          1.28      51039.60   941.48   43838.39   \n",
       "...           ...         ...           ...           ...      ...        ...   \n",
       "16463         NaN         NaN           NaN           NaN      NaN        NaN   \n",
       "16464         NaN         NaN           NaN           NaN      NaN        NaN   \n",
       "16465         NaN         NaN           NaN           NaN      NaN        NaN   \n",
       "16466         NaN         NaN           NaN           NaN      NaN        NaN   \n",
       "16467         NaN         NaN           NaN           NaN      NaN        NaN   \n",
       "\n",
       "         4770  Total Bags  Small Bags  Large Bags  XLarge Bags          type  \\\n",
       "0       48.16     8696.87     8603.62       93.25          0.0  conventional   \n",
       "1       58.33     9505.56     9408.07       97.49          0.0  conventional   \n",
       "2      130.50     8145.35     8042.21      103.14          0.0  conventional   \n",
       "3       72.58     5811.16     5677.40      133.76          0.0  conventional   \n",
       "4       75.78     6183.95     5986.26      197.69          0.0  conventional   \n",
       "...       ...         ...         ...         ...          ...           ...   \n",
       "16463     NaN         NaN         NaN         NaN          NaN           NaN   \n",
       "16464     NaN         NaN         NaN         NaN          NaN           NaN   \n",
       "16465     NaN         NaN         NaN         NaN          NaN           NaN   \n",
       "16466     NaN         NaN         NaN         NaN          NaN           NaN   \n",
       "16467     NaN         NaN         NaN         NaN          NaN           NaN   \n",
       "\n",
       "         year  region  \n",
       "0      2015.0  Albany  \n",
       "1      2015.0  Albany  \n",
       "2      2015.0  Albany  \n",
       "3      2015.0  Albany  \n",
       "4      2015.0  Albany  \n",
       "...       ...     ...  \n",
       "16463     NaN     NaN  \n",
       "16464     NaN     NaN  \n",
       "16465     NaN     NaN  \n",
       "16466     NaN     NaN  \n",
       "16467     NaN     NaN  \n",
       "\n",
       "[16468 rows x 14 columns]"
      ]
     },
     "execution_count": 2,
     "metadata": {},
     "output_type": "execute_result"
    }
   ],
   "source": [
    "# Loading the dataset\n",
    "df=pd.read_csv(\"avocado.csv\")\n",
    "df"
   ]
  },
  {
   "cell_type": "code",
   "execution_count": 3,
   "metadata": {},
   "outputs": [
    {
     "data": {
      "text/plain": [
       "(16468, 14)"
      ]
     },
     "execution_count": 3,
     "metadata": {},
     "output_type": "execute_result"
    }
   ],
   "source": [
    "df.shape"
   ]
  },
  {
   "cell_type": "code",
   "execution_count": 4,
   "metadata": {},
   "outputs": [
    {
     "data": {
      "text/plain": [
       "Index(['Unnamed: 0', 'Date', 'AveragePrice', 'Total Volume', '4046', '4225',\n",
       "       '4770', 'Total Bags', 'Small Bags', 'Large Bags', 'XLarge Bags', 'type',\n",
       "       'year', 'region'],\n",
       "      dtype='object')"
      ]
     },
     "execution_count": 4,
     "metadata": {},
     "output_type": "execute_result"
    }
   ],
   "source": [
    "# Checking the various columns\n",
    "df.columns"
   ]
  },
  {
   "cell_type": "code",
   "execution_count": 5,
   "metadata": {},
   "outputs": [
    {
     "data": {
      "text/plain": [
       "Unnamed: 0      float64\n",
       "Date             object\n",
       "AveragePrice    float64\n",
       "Total Volume    float64\n",
       "4046            float64\n",
       "4225            float64\n",
       "4770            float64\n",
       "Total Bags      float64\n",
       "Small Bags      float64\n",
       "Large Bags      float64\n",
       "XLarge Bags     float64\n",
       "type             object\n",
       "year            float64\n",
       "region           object\n",
       "dtype: object"
      ]
     },
     "execution_count": 5,
     "metadata": {},
     "output_type": "execute_result"
    }
   ],
   "source": [
    "# Checking the data types of columns\n",
    "df.dtypes"
   ]
  },
  {
   "cell_type": "code",
   "execution_count": 6,
   "metadata": {},
   "outputs": [
    {
     "name": "stdout",
     "output_type": "stream",
     "text": [
      "<class 'pandas.core.frame.DataFrame'>\n",
      "RangeIndex: 16468 entries, 0 to 16467\n",
      "Data columns (total 14 columns):\n",
      " #   Column        Non-Null Count  Dtype  \n",
      "---  ------        --------------  -----  \n",
      " 0   Unnamed: 0    1517 non-null   float64\n",
      " 1   Date          1517 non-null   object \n",
      " 2   AveragePrice  1517 non-null   float64\n",
      " 3   Total Volume  1517 non-null   float64\n",
      " 4   4046          1517 non-null   float64\n",
      " 5   4225          1517 non-null   float64\n",
      " 6   4770          1517 non-null   float64\n",
      " 7   Total Bags    1517 non-null   float64\n",
      " 8   Small Bags    1517 non-null   float64\n",
      " 9   Large Bags    1517 non-null   float64\n",
      " 10  XLarge Bags   1517 non-null   float64\n",
      " 11  type          1517 non-null   object \n",
      " 12  year          1517 non-null   float64\n",
      " 13  region        1517 non-null   object \n",
      "dtypes: float64(11), object(3)\n",
      "memory usage: 1.8+ MB\n"
     ]
    }
   ],
   "source": [
    "# From below, it is clear that 1517 rows have non-null values and rest of the rows have null values\n",
    "df.info()"
   ]
  },
  {
   "cell_type": "code",
   "execution_count": 7,
   "metadata": {},
   "outputs": [
    {
     "data": {
      "text/plain": [
       "Unnamed: 0      14951\n",
       "Date            14951\n",
       "AveragePrice    14951\n",
       "Total Volume    14951\n",
       "4046            14951\n",
       "4225            14951\n",
       "4770            14951\n",
       "Total Bags      14951\n",
       "Small Bags      14951\n",
       "Large Bags      14951\n",
       "XLarge Bags     14951\n",
       "type            14951\n",
       "year            14951\n",
       "region          14951\n",
       "dtype: int64"
      ]
     },
     "execution_count": 7,
     "metadata": {},
     "output_type": "execute_result"
    }
   ],
   "source": [
    "#From below it is clear that the dataset contains 14951 rows with NaN values. These needs to be deleted.\n",
    "#As these rows are of no use to us in data analysis.\n",
    "df.isnull().sum()"
   ]
  },
  {
   "cell_type": "code",
   "execution_count": 8,
   "metadata": {},
   "outputs": [],
   "source": [
    "# Dropping all the 14951 rows which have NaN values in them.\n",
    "df = df.dropna(how = 'all')"
   ]
  },
  {
   "cell_type": "code",
   "execution_count": 9,
   "metadata": {},
   "outputs": [
    {
     "data": {
      "text/html": [
       "<div>\n",
       "<style scoped>\n",
       "    .dataframe tbody tr th:only-of-type {\n",
       "        vertical-align: middle;\n",
       "    }\n",
       "\n",
       "    .dataframe tbody tr th {\n",
       "        vertical-align: top;\n",
       "    }\n",
       "\n",
       "    .dataframe thead th {\n",
       "        text-align: right;\n",
       "    }\n",
       "</style>\n",
       "<table border=\"1\" class=\"dataframe\">\n",
       "  <thead>\n",
       "    <tr style=\"text-align: right;\">\n",
       "      <th></th>\n",
       "      <th>Unnamed: 0</th>\n",
       "      <th>Date</th>\n",
       "      <th>AveragePrice</th>\n",
       "      <th>Total Volume</th>\n",
       "      <th>4046</th>\n",
       "      <th>4225</th>\n",
       "      <th>4770</th>\n",
       "      <th>Total Bags</th>\n",
       "      <th>Small Bags</th>\n",
       "      <th>Large Bags</th>\n",
       "      <th>XLarge Bags</th>\n",
       "      <th>type</th>\n",
       "      <th>year</th>\n",
       "      <th>region</th>\n",
       "    </tr>\n",
       "  </thead>\n",
       "  <tbody>\n",
       "    <tr>\n",
       "      <th>0</th>\n",
       "      <td>0.0</td>\n",
       "      <td>27-12-2015</td>\n",
       "      <td>1.33</td>\n",
       "      <td>64236.62</td>\n",
       "      <td>1036.74</td>\n",
       "      <td>54454.85</td>\n",
       "      <td>48.16</td>\n",
       "      <td>8696.87</td>\n",
       "      <td>8603.62</td>\n",
       "      <td>93.25</td>\n",
       "      <td>0.00</td>\n",
       "      <td>conventional</td>\n",
       "      <td>2015.0</td>\n",
       "      <td>Albany</td>\n",
       "    </tr>\n",
       "    <tr>\n",
       "      <th>1</th>\n",
       "      <td>1.0</td>\n",
       "      <td>20-12-2015</td>\n",
       "      <td>1.35</td>\n",
       "      <td>54876.98</td>\n",
       "      <td>674.28</td>\n",
       "      <td>44638.81</td>\n",
       "      <td>58.33</td>\n",
       "      <td>9505.56</td>\n",
       "      <td>9408.07</td>\n",
       "      <td>97.49</td>\n",
       "      <td>0.00</td>\n",
       "      <td>conventional</td>\n",
       "      <td>2015.0</td>\n",
       "      <td>Albany</td>\n",
       "    </tr>\n",
       "    <tr>\n",
       "      <th>2</th>\n",
       "      <td>2.0</td>\n",
       "      <td>13-12-2015</td>\n",
       "      <td>0.93</td>\n",
       "      <td>118220.22</td>\n",
       "      <td>794.70</td>\n",
       "      <td>109149.67</td>\n",
       "      <td>130.50</td>\n",
       "      <td>8145.35</td>\n",
       "      <td>8042.21</td>\n",
       "      <td>103.14</td>\n",
       "      <td>0.00</td>\n",
       "      <td>conventional</td>\n",
       "      <td>2015.0</td>\n",
       "      <td>Albany</td>\n",
       "    </tr>\n",
       "    <tr>\n",
       "      <th>3</th>\n",
       "      <td>3.0</td>\n",
       "      <td>06-12-2015</td>\n",
       "      <td>1.08</td>\n",
       "      <td>78992.15</td>\n",
       "      <td>1132.00</td>\n",
       "      <td>71976.41</td>\n",
       "      <td>72.58</td>\n",
       "      <td>5811.16</td>\n",
       "      <td>5677.40</td>\n",
       "      <td>133.76</td>\n",
       "      <td>0.00</td>\n",
       "      <td>conventional</td>\n",
       "      <td>2015.0</td>\n",
       "      <td>Albany</td>\n",
       "    </tr>\n",
       "    <tr>\n",
       "      <th>4</th>\n",
       "      <td>4.0</td>\n",
       "      <td>29-11-2015</td>\n",
       "      <td>1.28</td>\n",
       "      <td>51039.60</td>\n",
       "      <td>941.48</td>\n",
       "      <td>43838.39</td>\n",
       "      <td>75.78</td>\n",
       "      <td>6183.95</td>\n",
       "      <td>5986.26</td>\n",
       "      <td>197.69</td>\n",
       "      <td>0.00</td>\n",
       "      <td>conventional</td>\n",
       "      <td>2015.0</td>\n",
       "      <td>Albany</td>\n",
       "    </tr>\n",
       "    <tr>\n",
       "      <th>...</th>\n",
       "      <td>...</td>\n",
       "      <td>...</td>\n",
       "      <td>...</td>\n",
       "      <td>...</td>\n",
       "      <td>...</td>\n",
       "      <td>...</td>\n",
       "      <td>...</td>\n",
       "      <td>...</td>\n",
       "      <td>...</td>\n",
       "      <td>...</td>\n",
       "      <td>...</td>\n",
       "      <td>...</td>\n",
       "      <td>...</td>\n",
       "      <td>...</td>\n",
       "    </tr>\n",
       "    <tr>\n",
       "      <th>1512</th>\n",
       "      <td>10.0</td>\n",
       "      <td>16-10-2016</td>\n",
       "      <td>1.39</td>\n",
       "      <td>190846.01</td>\n",
       "      <td>57529.11</td>\n",
       "      <td>56366.66</td>\n",
       "      <td>17531.78</td>\n",
       "      <td>59418.46</td>\n",
       "      <td>48823.53</td>\n",
       "      <td>10354.65</td>\n",
       "      <td>240.28</td>\n",
       "      <td>conventional</td>\n",
       "      <td>2016.0</td>\n",
       "      <td>Charlotte</td>\n",
       "    </tr>\n",
       "    <tr>\n",
       "      <th>1513</th>\n",
       "      <td>11.0</td>\n",
       "      <td>09-10-2016</td>\n",
       "      <td>1.51</td>\n",
       "      <td>178235.75</td>\n",
       "      <td>43325.87</td>\n",
       "      <td>52189.61</td>\n",
       "      <td>19419.57</td>\n",
       "      <td>63300.70</td>\n",
       "      <td>54704.14</td>\n",
       "      <td>8596.56</td>\n",
       "      <td>0.00</td>\n",
       "      <td>conventional</td>\n",
       "      <td>2016.0</td>\n",
       "      <td>Charlotte</td>\n",
       "    </tr>\n",
       "    <tr>\n",
       "      <th>1514</th>\n",
       "      <td>12.0</td>\n",
       "      <td>02-10-2016</td>\n",
       "      <td>1.48</td>\n",
       "      <td>178410.82</td>\n",
       "      <td>46364.75</td>\n",
       "      <td>52893.38</td>\n",
       "      <td>16736.92</td>\n",
       "      <td>62415.77</td>\n",
       "      <td>53332.61</td>\n",
       "      <td>8258.16</td>\n",
       "      <td>825.00</td>\n",
       "      <td>conventional</td>\n",
       "      <td>2016.0</td>\n",
       "      <td>Charlotte</td>\n",
       "    </tr>\n",
       "    <tr>\n",
       "      <th>1515</th>\n",
       "      <td>13.0</td>\n",
       "      <td>25-09-2016</td>\n",
       "      <td>1.47</td>\n",
       "      <td>189131.52</td>\n",
       "      <td>54110.79</td>\n",
       "      <td>53593.58</td>\n",
       "      <td>17495.42</td>\n",
       "      <td>63931.73</td>\n",
       "      <td>55653.47</td>\n",
       "      <td>8278.26</td>\n",
       "      <td>0.00</td>\n",
       "      <td>conventional</td>\n",
       "      <td>2016.0</td>\n",
       "      <td>Charlotte</td>\n",
       "    </tr>\n",
       "    <tr>\n",
       "      <th>1516</th>\n",
       "      <td>14.0</td>\n",
       "      <td>18-09-2016</td>\n",
       "      <td>1.43</td>\n",
       "      <td>182978.30</td>\n",
       "      <td>43116.41</td>\n",
       "      <td>54193.42</td>\n",
       "      <td>16563.91</td>\n",
       "      <td>69104.56</td>\n",
       "      <td>57456.21</td>\n",
       "      <td>11648.35</td>\n",
       "      <td>0.00</td>\n",
       "      <td>conventional</td>\n",
       "      <td>2016.0</td>\n",
       "      <td>Charlotte</td>\n",
       "    </tr>\n",
       "  </tbody>\n",
       "</table>\n",
       "<p>1517 rows × 14 columns</p>\n",
       "</div>"
      ],
      "text/plain": [
       "      Unnamed: 0        Date  AveragePrice  Total Volume      4046       4225  \\\n",
       "0            0.0  27-12-2015          1.33      64236.62   1036.74   54454.85   \n",
       "1            1.0  20-12-2015          1.35      54876.98    674.28   44638.81   \n",
       "2            2.0  13-12-2015          0.93     118220.22    794.70  109149.67   \n",
       "3            3.0  06-12-2015          1.08      78992.15   1132.00   71976.41   \n",
       "4            4.0  29-11-2015          1.28      51039.60    941.48   43838.39   \n",
       "...          ...         ...           ...           ...       ...        ...   \n",
       "1512        10.0  16-10-2016          1.39     190846.01  57529.11   56366.66   \n",
       "1513        11.0  09-10-2016          1.51     178235.75  43325.87   52189.61   \n",
       "1514        12.0  02-10-2016          1.48     178410.82  46364.75   52893.38   \n",
       "1515        13.0  25-09-2016          1.47     189131.52  54110.79   53593.58   \n",
       "1516        14.0  18-09-2016          1.43     182978.30  43116.41   54193.42   \n",
       "\n",
       "          4770  Total Bags  Small Bags  Large Bags  XLarge Bags          type  \\\n",
       "0        48.16     8696.87     8603.62       93.25         0.00  conventional   \n",
       "1        58.33     9505.56     9408.07       97.49         0.00  conventional   \n",
       "2       130.50     8145.35     8042.21      103.14         0.00  conventional   \n",
       "3        72.58     5811.16     5677.40      133.76         0.00  conventional   \n",
       "4        75.78     6183.95     5986.26      197.69         0.00  conventional   \n",
       "...        ...         ...         ...         ...          ...           ...   \n",
       "1512  17531.78    59418.46    48823.53    10354.65       240.28  conventional   \n",
       "1513  19419.57    63300.70    54704.14     8596.56         0.00  conventional   \n",
       "1514  16736.92    62415.77    53332.61     8258.16       825.00  conventional   \n",
       "1515  17495.42    63931.73    55653.47     8278.26         0.00  conventional   \n",
       "1516  16563.91    69104.56    57456.21    11648.35         0.00  conventional   \n",
       "\n",
       "        year     region  \n",
       "0     2015.0     Albany  \n",
       "1     2015.0     Albany  \n",
       "2     2015.0     Albany  \n",
       "3     2015.0     Albany  \n",
       "4     2015.0     Albany  \n",
       "...      ...        ...  \n",
       "1512  2016.0  Charlotte  \n",
       "1513  2016.0  Charlotte  \n",
       "1514  2016.0  Charlotte  \n",
       "1515  2016.0  Charlotte  \n",
       "1516  2016.0  Charlotte  \n",
       "\n",
       "[1517 rows x 14 columns]"
      ]
     },
     "execution_count": 9,
     "metadata": {},
     "output_type": "execute_result"
    }
   ],
   "source": [
    "# 14951 rows with NaN values have been removed. Now we have 1517 rows and 14 columns.\n",
    "df"
   ]
  },
  {
   "cell_type": "code",
   "execution_count": 10,
   "metadata": {},
   "outputs": [
    {
     "data": {
      "text/plain": [
       "Unnamed: 0      0\n",
       "Date            0\n",
       "AveragePrice    0\n",
       "Total Volume    0\n",
       "4046            0\n",
       "4225            0\n",
       "4770            0\n",
       "Total Bags      0\n",
       "Small Bags      0\n",
       "Large Bags      0\n",
       "XLarge Bags     0\n",
       "type            0\n",
       "year            0\n",
       "region          0\n",
       "dtype: int64"
      ]
     },
     "execution_count": 10,
     "metadata": {},
     "output_type": "execute_result"
    }
   ],
   "source": [
    "df.isnull().sum()"
   ]
  },
  {
   "cell_type": "code",
   "execution_count": 11,
   "metadata": {},
   "outputs": [
    {
     "data": {
      "text/plain": [
       "<matplotlib.axes._subplots.AxesSubplot at 0x220d03996c8>"
      ]
     },
     "execution_count": 11,
     "metadata": {},
     "output_type": "execute_result"
    },
    {
     "data": {
      "image/png": "[encoded data removed]",
      "text/plain": [
       "<Figure size 720x360 with 1 Axes>"
      ]
     },
     "metadata": {
      "needs_background": "light"
     },
     "output_type": "display_data"
    }
   ],
   "source": [
    "# Visualizing the null values with the help of heat map. From the below visualization we can see that there are not any NaN values present.\n",
    "plt.figure(figsize=(10,5))\n",
    "sns.heatmap(df.isnull(),yticklabels=False,cbar=False,cmap='tab10',annot=True)"
   ]
  },
  {
   "cell_type": "markdown",
   "metadata": {},
   "source": [
    "# Checking correlation"
   ]
  },
  {
   "cell_type": "code",
   "execution_count": 12,
   "metadata": {},
   "outputs": [
    {
     "data": {
      "text/html": [
       "<div>\n",
       "<style scoped>\n",
       "    .dataframe tbody tr th:only-of-type {\n",
       "        vertical-align: middle;\n",
       "    }\n",
       "\n",
       "    .dataframe tbody tr th {\n",
       "        vertical-align: top;\n",
       "    }\n",
       "\n",
       "    .dataframe thead th {\n",
       "        text-align: right;\n",
       "    }\n",
       "</style>\n",
       "<table border=\"1\" class=\"dataframe\">\n",
       "  <thead>\n",
       "    <tr style=\"text-align: right;\">\n",
       "      <th></th>\n",
       "      <th>Unnamed: 0</th>\n",
       "      <th>AveragePrice</th>\n",
       "      <th>Total Volume</th>\n",
       "      <th>4046</th>\n",
       "      <th>4225</th>\n",
       "      <th>4770</th>\n",
       "      <th>Total Bags</th>\n",
       "      <th>Small Bags</th>\n",
       "      <th>Large Bags</th>\n",
       "      <th>XLarge Bags</th>\n",
       "      <th>year</th>\n",
       "    </tr>\n",
       "  </thead>\n",
       "  <tbody>\n",
       "    <tr>\n",
       "      <th>Unnamed: 0</th>\n",
       "      <td>1.000000</td>\n",
       "      <td>-0.075531</td>\n",
       "      <td>0.091934</td>\n",
       "      <td>0.092013</td>\n",
       "      <td>0.093566</td>\n",
       "      <td>0.075647</td>\n",
       "      <td>0.081007</td>\n",
       "      <td>0.083485</td>\n",
       "      <td>0.065364</td>\n",
       "      <td>-0.050993</td>\n",
       "      <td>-0.012854</td>\n",
       "    </tr>\n",
       "    <tr>\n",
       "      <th>AveragePrice</th>\n",
       "      <td>-0.075531</td>\n",
       "      <td>1.000000</td>\n",
       "      <td>-0.140470</td>\n",
       "      <td>-0.190096</td>\n",
       "      <td>-0.092084</td>\n",
       "      <td>-0.100567</td>\n",
       "      <td>-0.111597</td>\n",
       "      <td>-0.097682</td>\n",
       "      <td>-0.177480</td>\n",
       "      <td>-0.048284</td>\n",
       "      <td>0.178683</td>\n",
       "    </tr>\n",
       "    <tr>\n",
       "      <th>Total Volume</th>\n",
       "      <td>0.091934</td>\n",
       "      <td>-0.140470</td>\n",
       "      <td>1.000000</td>\n",
       "      <td>0.985568</td>\n",
       "      <td>0.987154</td>\n",
       "      <td>0.934347</td>\n",
       "      <td>0.967689</td>\n",
       "      <td>0.960642</td>\n",
       "      <td>0.910226</td>\n",
       "      <td>0.521717</td>\n",
       "      <td>-0.004189</td>\n",
       "    </tr>\n",
       "    <tr>\n",
       "      <th>4046</th>\n",
       "      <td>0.092013</td>\n",
       "      <td>-0.190096</td>\n",
       "      <td>0.985568</td>\n",
       "      <td>1.000000</td>\n",
       "      <td>0.951952</td>\n",
       "      <td>0.898570</td>\n",
       "      <td>0.930395</td>\n",
       "      <td>0.922278</td>\n",
       "      <td>0.884229</td>\n",
       "      <td>0.474063</td>\n",
       "      <td>-0.040439</td>\n",
       "    </tr>\n",
       "    <tr>\n",
       "      <th>4225</th>\n",
       "      <td>0.093566</td>\n",
       "      <td>-0.092084</td>\n",
       "      <td>0.987154</td>\n",
       "      <td>0.951952</td>\n",
       "      <td>1.000000</td>\n",
       "      <td>0.927757</td>\n",
       "      <td>0.951779</td>\n",
       "      <td>0.943988</td>\n",
       "      <td>0.900496</td>\n",
       "      <td>0.504718</td>\n",
       "      <td>-0.007254</td>\n",
       "    </tr>\n",
       "    <tr>\n",
       "      <th>4770</th>\n",
       "      <td>0.075647</td>\n",
       "      <td>-0.100567</td>\n",
       "      <td>0.934347</td>\n",
       "      <td>0.898570</td>\n",
       "      <td>0.927757</td>\n",
       "      <td>1.000000</td>\n",
       "      <td>0.926405</td>\n",
       "      <td>0.923607</td>\n",
       "      <td>0.840523</td>\n",
       "      <td>0.646053</td>\n",
       "      <td>0.029222</td>\n",
       "    </tr>\n",
       "    <tr>\n",
       "      <th>Total Bags</th>\n",
       "      <td>0.081007</td>\n",
       "      <td>-0.111597</td>\n",
       "      <td>0.967689</td>\n",
       "      <td>0.930395</td>\n",
       "      <td>0.951779</td>\n",
       "      <td>0.926405</td>\n",
       "      <td>1.000000</td>\n",
       "      <td>0.997341</td>\n",
       "      <td>0.911336</td>\n",
       "      <td>0.601856</td>\n",
       "      <td>0.090108</td>\n",
       "    </tr>\n",
       "    <tr>\n",
       "      <th>Small Bags</th>\n",
       "      <td>0.083485</td>\n",
       "      <td>-0.097682</td>\n",
       "      <td>0.960642</td>\n",
       "      <td>0.922278</td>\n",
       "      <td>0.943988</td>\n",
       "      <td>0.923607</td>\n",
       "      <td>0.997341</td>\n",
       "      <td>1.000000</td>\n",
       "      <td>0.879131</td>\n",
       "      <td>0.611300</td>\n",
       "      <td>0.106382</td>\n",
       "    </tr>\n",
       "    <tr>\n",
       "      <th>Large Bags</th>\n",
       "      <td>0.065364</td>\n",
       "      <td>-0.177480</td>\n",
       "      <td>0.910226</td>\n",
       "      <td>0.884229</td>\n",
       "      <td>0.900496</td>\n",
       "      <td>0.840523</td>\n",
       "      <td>0.911336</td>\n",
       "      <td>0.879131</td>\n",
       "      <td>1.000000</td>\n",
       "      <td>0.447779</td>\n",
       "      <td>-0.018678</td>\n",
       "    </tr>\n",
       "    <tr>\n",
       "      <th>XLarge Bags</th>\n",
       "      <td>-0.050993</td>\n",
       "      <td>-0.048284</td>\n",
       "      <td>0.521717</td>\n",
       "      <td>0.474063</td>\n",
       "      <td>0.504718</td>\n",
       "      <td>0.646053</td>\n",
       "      <td>0.601856</td>\n",
       "      <td>0.611300</td>\n",
       "      <td>0.447779</td>\n",
       "      <td>1.000000</td>\n",
       "      <td>0.218342</td>\n",
       "    </tr>\n",
       "    <tr>\n",
       "      <th>year</th>\n",
       "      <td>-0.012854</td>\n",
       "      <td>0.178683</td>\n",
       "      <td>-0.004189</td>\n",
       "      <td>-0.040439</td>\n",
       "      <td>-0.007254</td>\n",
       "      <td>0.029222</td>\n",
       "      <td>0.090108</td>\n",
       "      <td>0.106382</td>\n",
       "      <td>-0.018678</td>\n",
       "      <td>0.218342</td>\n",
       "      <td>1.000000</td>\n",
       "    </tr>\n",
       "  </tbody>\n",
       "</table>\n",
       "</div>"
      ],
      "text/plain": [
       "              Unnamed: 0  AveragePrice  Total Volume      4046      4225  \\\n",
       "Unnamed: 0      1.000000     -0.075531      0.091934  0.092013  0.093566   \n",
       "AveragePrice   -0.075531      1.000000     -0.140470 -0.190096 -0.092084   \n",
       "Total Volume    0.091934     -0.140470      1.000000  0.985568  0.987154   \n",
       "4046            0.092013     -0.190096      0.985568  1.000000  0.951952   \n",
       "4225            0.093566     -0.092084      0.987154  0.951952  1.000000   \n",
       "4770            0.075647     -0.100567      0.934347  0.898570  0.927757   \n",
       "Total Bags      0.081007     -0.111597      0.967689  0.930395  0.951779   \n",
       "Small Bags      0.083485     -0.097682      0.960642  0.922278  0.943988   \n",
       "Large Bags      0.065364     -0.177480      0.910226  0.884229  0.900496   \n",
       "XLarge Bags    -0.050993     -0.048284      0.521717  0.474063  0.504718   \n",
       "year           -0.012854      0.178683     -0.004189 -0.040439 -0.007254   \n",
       "\n",
       "                  4770  Total Bags  Small Bags  Large Bags  XLarge Bags  \\\n",
       "Unnamed: 0    0.075647    0.081007    0.083485    0.065364    -0.050993   \n",
       "AveragePrice -0.100567   -0.111597   -0.097682   -0.177480    -0.048284   \n",
       "Total Volume  0.934347    0.967689    0.960642    0.910226     0.521717   \n",
       "4046          0.898570    0.930395    0.922278    0.884229     0.474063   \n",
       "4225          0.927757    0.951779    0.943988    0.900496     0.504718   \n",
       "4770          1.000000    0.926405    0.923607    0.840523     0.646053   \n",
       "Total Bags    0.926405    1.000000    0.997341    0.911336     0.601856   \n",
       "Small Bags    0.923607    0.997341    1.000000    0.879131     0.611300   \n",
       "Large Bags    0.840523    0.911336    0.879131    1.000000     0.447779   \n",
       "XLarge Bags   0.646053    0.601856    0.611300    0.447779     1.000000   \n",
       "year          0.029222    0.090108    0.106382   -0.018678     0.218342   \n",
       "\n",
       "                  year  \n",
       "Unnamed: 0   -0.012854  \n",
       "AveragePrice  0.178683  \n",
       "Total Volume -0.004189  \n",
       "4046         -0.040439  \n",
       "4225         -0.007254  \n",
       "4770          0.029222  \n",
       "Total Bags    0.090108  \n",
       "Small Bags    0.106382  \n",
       "Large Bags   -0.018678  \n",
       "XLarge Bags   0.218342  \n",
       "year          1.000000  "
      ]
     },
     "execution_count": 12,
     "metadata": {},
     "output_type": "execute_result"
    }
   ],
   "source": [
    "df_cor=df.corr()\n",
    "df_cor"
   ]
  },
  {
   "cell_type": "markdown",
   "metadata": {},
   "source": [
    "Here we can see the correlation between the columns.\n",
    "For better understanding we can see it via visualization(with the help of heatmap)."
   ]
  },
  {
   "cell_type": "code",
   "execution_count": 13,
   "metadata": {},
   "outputs": [
    {
     "data": {
      "text/plain": [
       "<matplotlib.axes._subplots.AxesSubplot at 0x220e0528a48>"
      ]
     },
     "execution_count": 13,
     "metadata": {},
     "output_type": "execute_result"
    },
    {
     "data": {
      "image/png": "[encoded data removed]",
      "text/plain": [
       "<Figure size 1008x1008 with 2 Axes>"
      ]
     },
     "metadata": {
      "needs_background": "light"
     },
     "output_type": "display_data"
    }
   ],
   "source": [
    "plt.figure(figsize=(14,14))\n",
    "sns.heatmap(df_cor,annot=True,cmap='winter')"
   ]
  },
  {
   "cell_type": "raw",
   "metadata": {},
   "source": [
    "Observations:\n",
    "    1. Total bags and Small bags are highly positively correlated.\n",
    "    2. Similarly, Total volume, 4046, 4225, 4770, Total Bags, Small Bags, Large Bags are positively correlated with one another."
   ]
  },
  {
   "cell_type": "markdown",
   "metadata": {},
   "source": [
    "# Summary Statistics"
   ]
  },
  {
   "cell_type": "code",
   "execution_count": 14,
   "metadata": {},
   "outputs": [
    {
     "data": {
      "text/html": [
       "<div>\n",
       "<style scoped>\n",
       "    .dataframe tbody tr th:only-of-type {\n",
       "        vertical-align: middle;\n",
       "    }\n",
       "\n",
       "    .dataframe tbody tr th {\n",
       "        vertical-align: top;\n",
       "    }\n",
       "\n",
       "    .dataframe thead th {\n",
       "        text-align: right;\n",
       "    }\n",
       "</style>\n",
       "<table border=\"1\" class=\"dataframe\">\n",
       "  <thead>\n",
       "    <tr style=\"text-align: right;\">\n",
       "      <th></th>\n",
       "      <th>Unnamed: 0</th>\n",
       "      <th>AveragePrice</th>\n",
       "      <th>Total Volume</th>\n",
       "      <th>4046</th>\n",
       "      <th>4225</th>\n",
       "      <th>4770</th>\n",
       "      <th>Total Bags</th>\n",
       "      <th>Small Bags</th>\n",
       "      <th>Large Bags</th>\n",
       "      <th>XLarge Bags</th>\n",
       "      <th>year</th>\n",
       "    </tr>\n",
       "  </thead>\n",
       "  <tbody>\n",
       "    <tr>\n",
       "      <th>count</th>\n",
       "      <td>1517.000000</td>\n",
       "      <td>1517.000000</td>\n",
       "      <td>1.517000e+03</td>\n",
       "      <td>1.517000e+03</td>\n",
       "      <td>1.517000e+03</td>\n",
       "      <td>1.517000e+03</td>\n",
       "      <td>1.517000e+03</td>\n",
       "      <td>1.517000e+03</td>\n",
       "      <td>1.517000e+03</td>\n",
       "      <td>1517.000000</td>\n",
       "      <td>1517.000000</td>\n",
       "    </tr>\n",
       "    <tr>\n",
       "      <th>mean</th>\n",
       "      <td>26.995386</td>\n",
       "      <td>1.074990</td>\n",
       "      <td>1.601879e+06</td>\n",
       "      <td>6.464387e+05</td>\n",
       "      <td>6.114375e+05</td>\n",
       "      <td>5.040550e+04</td>\n",
       "      <td>2.935974e+05</td>\n",
       "      <td>2.487736e+05</td>\n",
       "      <td>4.264205e+04</td>\n",
       "      <td>2181.771074</td>\n",
       "      <td>2015.162821</td>\n",
       "    </tr>\n",
       "    <tr>\n",
       "      <th>std</th>\n",
       "      <td>14.848287</td>\n",
       "      <td>0.188891</td>\n",
       "      <td>4.433143e+06</td>\n",
       "      <td>1.947614e+06</td>\n",
       "      <td>1.672906e+06</td>\n",
       "      <td>1.377812e+05</td>\n",
       "      <td>7.579765e+05</td>\n",
       "      <td>6.474765e+05</td>\n",
       "      <td>1.182157e+05</td>\n",
       "      <td>7455.712144</td>\n",
       "      <td>0.369324</td>\n",
       "    </tr>\n",
       "    <tr>\n",
       "      <th>min</th>\n",
       "      <td>0.000000</td>\n",
       "      <td>0.490000</td>\n",
       "      <td>3.875074e+04</td>\n",
       "      <td>4.677200e+02</td>\n",
       "      <td>1.783770e+03</td>\n",
       "      <td>0.000000e+00</td>\n",
       "      <td>3.311770e+03</td>\n",
       "      <td>3.311770e+03</td>\n",
       "      <td>0.000000e+00</td>\n",
       "      <td>0.000000</td>\n",
       "      <td>2015.000000</td>\n",
       "    </tr>\n",
       "    <tr>\n",
       "      <th>25%</th>\n",
       "      <td>14.000000</td>\n",
       "      <td>0.980000</td>\n",
       "      <td>1.474700e+05</td>\n",
       "      <td>2.040034e+04</td>\n",
       "      <td>4.147606e+04</td>\n",
       "      <td>9.112500e+02</td>\n",
       "      <td>3.620689e+04</td>\n",
       "      <td>2.972722e+04</td>\n",
       "      <td>5.407400e+02</td>\n",
       "      <td>0.000000</td>\n",
       "      <td>2015.000000</td>\n",
       "    </tr>\n",
       "    <tr>\n",
       "      <th>50%</th>\n",
       "      <td>29.000000</td>\n",
       "      <td>1.080000</td>\n",
       "      <td>4.027919e+05</td>\n",
       "      <td>8.175117e+04</td>\n",
       "      <td>1.186649e+05</td>\n",
       "      <td>7.688170e+03</td>\n",
       "      <td>7.397906e+04</td>\n",
       "      <td>6.237569e+04</td>\n",
       "      <td>5.044350e+03</td>\n",
       "      <td>0.000000</td>\n",
       "      <td>2015.000000</td>\n",
       "    </tr>\n",
       "    <tr>\n",
       "      <th>75%</th>\n",
       "      <td>39.000000</td>\n",
       "      <td>1.190000</td>\n",
       "      <td>9.819751e+05</td>\n",
       "      <td>3.775785e+05</td>\n",
       "      <td>4.851503e+05</td>\n",
       "      <td>2.916730e+04</td>\n",
       "      <td>1.576097e+05</td>\n",
       "      <td>1.461994e+05</td>\n",
       "      <td>2.926767e+04</td>\n",
       "      <td>401.480000</td>\n",
       "      <td>2015.000000</td>\n",
       "    </tr>\n",
       "    <tr>\n",
       "      <th>max</th>\n",
       "      <td>51.000000</td>\n",
       "      <td>1.680000</td>\n",
       "      <td>4.465546e+07</td>\n",
       "      <td>1.893304e+07</td>\n",
       "      <td>1.895648e+07</td>\n",
       "      <td>1.381516e+06</td>\n",
       "      <td>6.736304e+06</td>\n",
       "      <td>5.893642e+06</td>\n",
       "      <td>1.121076e+06</td>\n",
       "      <td>108072.790000</td>\n",
       "      <td>2016.000000</td>\n",
       "    </tr>\n",
       "  </tbody>\n",
       "</table>\n",
       "</div>"
      ],
      "text/plain": [
       "        Unnamed: 0  AveragePrice  Total Volume          4046          4225  \\\n",
       "count  1517.000000   1517.000000  1.517000e+03  1.517000e+03  1.517000e+03   \n",
       "mean     26.995386      1.074990  1.601879e+06  6.464387e+05  6.114375e+05   \n",
       "std      14.848287      0.188891  4.433143e+06  1.947614e+06  1.672906e+06   \n",
       "min       0.000000      0.490000  3.875074e+04  4.677200e+02  1.783770e+03   \n",
       "25%      14.000000      0.980000  1.474700e+05  2.040034e+04  4.147606e+04   \n",
       "50%      29.000000      1.080000  4.027919e+05  8.175117e+04  1.186649e+05   \n",
       "75%      39.000000      1.190000  9.819751e+05  3.775785e+05  4.851503e+05   \n",
       "max      51.000000      1.680000  4.465546e+07  1.893304e+07  1.895648e+07   \n",
       "\n",
       "               4770    Total Bags    Small Bags    Large Bags    XLarge Bags  \\\n",
       "count  1.517000e+03  1.517000e+03  1.517000e+03  1.517000e+03    1517.000000   \n",
       "mean   5.040550e+04  2.935974e+05  2.487736e+05  4.264205e+04    2181.771074   \n",
       "std    1.377812e+05  7.579765e+05  6.474765e+05  1.182157e+05    7455.712144   \n",
       "min    0.000000e+00  3.311770e+03  3.311770e+03  0.000000e+00       0.000000   \n",
       "25%    9.112500e+02  3.620689e+04  2.972722e+04  5.407400e+02       0.000000   \n",
       "50%    7.688170e+03  7.397906e+04  6.237569e+04  5.044350e+03       0.000000   \n",
       "75%    2.916730e+04  1.576097e+05  1.461994e+05  2.926767e+04     401.480000   \n",
       "max    1.381516e+06  6.736304e+06  5.893642e+06  1.121076e+06  108072.790000   \n",
       "\n",
       "              year  \n",
       "count  1517.000000  \n",
       "mean   2015.162821  \n",
       "std       0.369324  \n",
       "min    2015.000000  \n",
       "25%    2015.000000  \n",
       "50%    2015.000000  \n",
       "75%    2015.000000  \n",
       "max    2016.000000  "
      ]
     },
     "execution_count": 14,
     "metadata": {},
     "output_type": "execute_result"
    }
   ],
   "source": [
    "df.describe()"
   ]
  },
  {
   "cell_type": "raw",
   "metadata": {},
   "source": [
    "Observation: There is extreme gap between 75%ile and max in XLarge Bags. Hence, outliers are present in the dataset."
   ]
  },
  {
   "cell_type": "code",
   "execution_count": 15,
   "metadata": {},
   "outputs": [],
   "source": [
    "# Dropping the irrelevant column 'Unnamed: 0', 'Small Bags', 'Large Bags' and 'XLarge Bags'\n",
    "df.drop(['Unnamed: 0', 'Small Bags', 'Large Bags', 'XLarge Bags'], axis=1, inplace=True)"
   ]
  },
  {
   "cell_type": "code",
   "execution_count": 16,
   "metadata": {},
   "outputs": [
    {
     "data": {
      "text/html": [
       "<div>\n",
       "<style scoped>\n",
       "    .dataframe tbody tr th:only-of-type {\n",
       "        vertical-align: middle;\n",
       "    }\n",
       "\n",
       "    .dataframe tbody tr th {\n",
       "        vertical-align: top;\n",
       "    }\n",
       "\n",
       "    .dataframe thead th {\n",
       "        text-align: right;\n",
       "    }\n",
       "</style>\n",
       "<table border=\"1\" class=\"dataframe\">\n",
       "  <thead>\n",
       "    <tr style=\"text-align: right;\">\n",
       "      <th></th>\n",
       "      <th>Date</th>\n",
       "      <th>AveragePrice</th>\n",
       "      <th>Total Volume</th>\n",
       "      <th>4046</th>\n",
       "      <th>4225</th>\n",
       "      <th>4770</th>\n",
       "      <th>Total Bags</th>\n",
       "      <th>type</th>\n",
       "      <th>year</th>\n",
       "      <th>region</th>\n",
       "    </tr>\n",
       "  </thead>\n",
       "  <tbody>\n",
       "    <tr>\n",
       "      <th>0</th>\n",
       "      <td>27-12-2015</td>\n",
       "      <td>1.33</td>\n",
       "      <td>64236.62</td>\n",
       "      <td>1036.74</td>\n",
       "      <td>54454.85</td>\n",
       "      <td>48.16</td>\n",
       "      <td>8696.87</td>\n",
       "      <td>conventional</td>\n",
       "      <td>2015.0</td>\n",
       "      <td>Albany</td>\n",
       "    </tr>\n",
       "    <tr>\n",
       "      <th>1</th>\n",
       "      <td>20-12-2015</td>\n",
       "      <td>1.35</td>\n",
       "      <td>54876.98</td>\n",
       "      <td>674.28</td>\n",
       "      <td>44638.81</td>\n",
       "      <td>58.33</td>\n",
       "      <td>9505.56</td>\n",
       "      <td>conventional</td>\n",
       "      <td>2015.0</td>\n",
       "      <td>Albany</td>\n",
       "    </tr>\n",
       "    <tr>\n",
       "      <th>2</th>\n",
       "      <td>13-12-2015</td>\n",
       "      <td>0.93</td>\n",
       "      <td>118220.22</td>\n",
       "      <td>794.70</td>\n",
       "      <td>109149.67</td>\n",
       "      <td>130.50</td>\n",
       "      <td>8145.35</td>\n",
       "      <td>conventional</td>\n",
       "      <td>2015.0</td>\n",
       "      <td>Albany</td>\n",
       "    </tr>\n",
       "    <tr>\n",
       "      <th>3</th>\n",
       "      <td>06-12-2015</td>\n",
       "      <td>1.08</td>\n",
       "      <td>78992.15</td>\n",
       "      <td>1132.00</td>\n",
       "      <td>71976.41</td>\n",
       "      <td>72.58</td>\n",
       "      <td>5811.16</td>\n",
       "      <td>conventional</td>\n",
       "      <td>2015.0</td>\n",
       "      <td>Albany</td>\n",
       "    </tr>\n",
       "    <tr>\n",
       "      <th>4</th>\n",
       "      <td>29-11-2015</td>\n",
       "      <td>1.28</td>\n",
       "      <td>51039.60</td>\n",
       "      <td>941.48</td>\n",
       "      <td>43838.39</td>\n",
       "      <td>75.78</td>\n",
       "      <td>6183.95</td>\n",
       "      <td>conventional</td>\n",
       "      <td>2015.0</td>\n",
       "      <td>Albany</td>\n",
       "    </tr>\n",
       "    <tr>\n",
       "      <th>...</th>\n",
       "      <td>...</td>\n",
       "      <td>...</td>\n",
       "      <td>...</td>\n",
       "      <td>...</td>\n",
       "      <td>...</td>\n",
       "      <td>...</td>\n",
       "      <td>...</td>\n",
       "      <td>...</td>\n",
       "      <td>...</td>\n",
       "      <td>...</td>\n",
       "    </tr>\n",
       "    <tr>\n",
       "      <th>1512</th>\n",
       "      <td>16-10-2016</td>\n",
       "      <td>1.39</td>\n",
       "      <td>190846.01</td>\n",
       "      <td>57529.11</td>\n",
       "      <td>56366.66</td>\n",
       "      <td>17531.78</td>\n",
       "      <td>59418.46</td>\n",
       "      <td>conventional</td>\n",
       "      <td>2016.0</td>\n",
       "      <td>Charlotte</td>\n",
       "    </tr>\n",
       "    <tr>\n",
       "      <th>1513</th>\n",
       "      <td>09-10-2016</td>\n",
       "      <td>1.51</td>\n",
       "      <td>178235.75</td>\n",
       "      <td>43325.87</td>\n",
       "      <td>52189.61</td>\n",
       "      <td>19419.57</td>\n",
       "      <td>63300.70</td>\n",
       "      <td>conventional</td>\n",
       "      <td>2016.0</td>\n",
       "      <td>Charlotte</td>\n",
       "    </tr>\n",
       "    <tr>\n",
       "      <th>1514</th>\n",
       "      <td>02-10-2016</td>\n",
       "      <td>1.48</td>\n",
       "      <td>178410.82</td>\n",
       "      <td>46364.75</td>\n",
       "      <td>52893.38</td>\n",
       "      <td>16736.92</td>\n",
       "      <td>62415.77</td>\n",
       "      <td>conventional</td>\n",
       "      <td>2016.0</td>\n",
       "      <td>Charlotte</td>\n",
       "    </tr>\n",
       "    <tr>\n",
       "      <th>1515</th>\n",
       "      <td>25-09-2016</td>\n",
       "      <td>1.47</td>\n",
       "      <td>189131.52</td>\n",
       "      <td>54110.79</td>\n",
       "      <td>53593.58</td>\n",
       "      <td>17495.42</td>\n",
       "      <td>63931.73</td>\n",
       "      <td>conventional</td>\n",
       "      <td>2016.0</td>\n",
       "      <td>Charlotte</td>\n",
       "    </tr>\n",
       "    <tr>\n",
       "      <th>1516</th>\n",
       "      <td>18-09-2016</td>\n",
       "      <td>1.43</td>\n",
       "      <td>182978.30</td>\n",
       "      <td>43116.41</td>\n",
       "      <td>54193.42</td>\n",
       "      <td>16563.91</td>\n",
       "      <td>69104.56</td>\n",
       "      <td>conventional</td>\n",
       "      <td>2016.0</td>\n",
       "      <td>Charlotte</td>\n",
       "    </tr>\n",
       "  </tbody>\n",
       "</table>\n",
       "<p>1517 rows × 10 columns</p>\n",
       "</div>"
      ],
      "text/plain": [
       "            Date  AveragePrice  Total Volume      4046       4225      4770  \\\n",
       "0     27-12-2015          1.33      64236.62   1036.74   54454.85     48.16   \n",
       "1     20-12-2015          1.35      54876.98    674.28   44638.81     58.33   \n",
       "2     13-12-2015          0.93     118220.22    794.70  109149.67    130.50   \n",
       "3     06-12-2015          1.08      78992.15   1132.00   71976.41     72.58   \n",
       "4     29-11-2015          1.28      51039.60    941.48   43838.39     75.78   \n",
       "...          ...           ...           ...       ...        ...       ...   \n",
       "1512  16-10-2016          1.39     190846.01  57529.11   56366.66  17531.78   \n",
       "1513  09-10-2016          1.51     178235.75  43325.87   52189.61  19419.57   \n",
       "1514  02-10-2016          1.48     178410.82  46364.75   52893.38  16736.92   \n",
       "1515  25-09-2016          1.47     189131.52  54110.79   53593.58  17495.42   \n",
       "1516  18-09-2016          1.43     182978.30  43116.41   54193.42  16563.91   \n",
       "\n",
       "      Total Bags          type    year     region  \n",
       "0        8696.87  conventional  2015.0     Albany  \n",
       "1        9505.56  conventional  2015.0     Albany  \n",
       "2        8145.35  conventional  2015.0     Albany  \n",
       "3        5811.16  conventional  2015.0     Albany  \n",
       "4        6183.95  conventional  2015.0     Albany  \n",
       "...          ...           ...     ...        ...  \n",
       "1512    59418.46  conventional  2016.0  Charlotte  \n",
       "1513    63300.70  conventional  2016.0  Charlotte  \n",
       "1514    62415.77  conventional  2016.0  Charlotte  \n",
       "1515    63931.73  conventional  2016.0  Charlotte  \n",
       "1516    69104.56  conventional  2016.0  Charlotte  \n",
       "\n",
       "[1517 rows x 10 columns]"
      ]
     },
     "execution_count": 16,
     "metadata": {},
     "output_type": "execute_result"
    }
   ],
   "source": [
    "df"
   ]
  },
  {
   "cell_type": "markdown",
   "metadata": {},
   "source": [
    "# Data Visualization"
   ]
  },
  {
   "cell_type": "code",
   "execution_count": 17,
   "metadata": {},
   "outputs": [
    {
     "data": {
      "text/plain": [
       "array(['Albany', 'Atlanta', 'BaltimoreWashington', 'Boise', 'Boston',\n",
       "       'BuffaloRochester', 'California', 'Charlotte', 'Chicago',\n",
       "       'Columbus', 'DallasFtWorth', 'Denver', 'Detroit', 'GrandRapids',\n",
       "       'GreatLakes', 'HarrisburgScranton', 'HartfordSpringfield',\n",
       "       'Houston', 'Indianapolis', 'Jacksonville', 'LasVegas',\n",
       "       'LosAngeles', 'Louisville', 'MiamiFtLauderdale', 'Midsouth',\n",
       "       'Nashville', 'NewYork', 'Northeast', 'NorthernNewEngland',\n",
       "       'Orlando', 'Philadelphia', 'PhoenixTucson', 'Pittsburgh', 'Plains',\n",
       "       'Portland', 'RaleighGreensboro', 'RichmondNorfolk', 'Roanoke',\n",
       "       'SanDiego', 'SanFrancisco', 'Seattle', 'SouthCarolina',\n",
       "       'SouthCentral', 'Southeast', 'Spokane', 'StLouis', 'Syracuse',\n",
       "       'Tampa', 'TotalUS', 'West', 'WestTexNewMexico'], dtype=object)"
      ]
     },
     "execution_count": 17,
     "metadata": {},
     "output_type": "execute_result"
    }
   ],
   "source": [
    "df['region'].unique()"
   ]
  },
  {
   "cell_type": "code",
   "execution_count": 18,
   "metadata": {},
   "outputs": [
    {
     "data": {
      "image/png": "[encoded data removed]",
      "text/plain": [
       "<Figure size 720x720 with 1 Axes>"
      ]
     },
     "metadata": {
      "needs_background": "light"
     },
     "output_type": "display_data"
    }
   ],
   "source": [
    "df.AveragePrice.plot(kind = 'hist',bins = 50,figsize = (10,10))\n",
    "plt.xlabel(\"Average Prices\")\n",
    "plt.ylabel(\"Frequency\")\n",
    "plt.show()\n",
    "# From below graph, it can be interpreted that the average price is normally distributed."
   ]
  },
  {
   "cell_type": "code",
   "execution_count": 19,
   "metadata": {},
   "outputs": [
    {
     "data": {
      "text/plain": [
       "array(['27-12-2015', '20-12-2015', '13-12-2015', '06-12-2015',\n",
       "       '29-11-2015', '22-11-2015', '15-11-2015', '08-11-2015',\n",
       "       '01-11-2015', '25-10-2015', '18-10-2015', '11-10-2015',\n",
       "       '04-10-2015', '27-09-2015', '20-09-2015', '13-09-2015',\n",
       "       '06-09-2015', '30-08-2015', '23-08-2015', '16-08-2015',\n",
       "       '09-08-2015', '02-08-2015', '26-07-2015', '19-07-2015',\n",
       "       '12-07-2015', '05-07-2015', '28-06-2015', '21-06-2015',\n",
       "       '14-06-2015', '07-06-2015', '31-05-2015', '24-05-2015',\n",
       "       '17-05-2015', '10-05-2015', '03-05-2015', '26-04-2015',\n",
       "       '19-04-2015', '12-04-2015', '05-04-2015', '29-03-2015',\n",
       "       '22-03-2015', '15-03-2015', '08-03-2015', '01-03-2015',\n",
       "       '22-02-2015', '15-02-2015', '08-02-2015', '01-02-2015',\n",
       "       '25-01-2015', '18-01-2015', '11-01-2015', '04-01-2015',\n",
       "       '25-12-2016', '18-12-2016', '11-12-2016', '04-12-2016',\n",
       "       '27-11-2016', '20-11-2016', '13-11-2016', '06-11-2016',\n",
       "       '30-10-2016', '23-10-2016', '16-10-2016', '09-10-2016',\n",
       "       '02-10-2016', '25-09-2016', '18-09-2016', '08-05-2016',\n",
       "       '01-05-2016', '24-04-2016', '17-04-2016', '10-04-2016',\n",
       "       '03-04-2016', '27-03-2016', '20-03-2016', '13-03-2016',\n",
       "       '06-03-2016', '28-02-2016', '21-02-2016', '14-02-2016',\n",
       "       '07-02-2016', '31-01-2016', '12-06-2016', '05-06-2016',\n",
       "       '29-05-2016', '22-05-2016', '15-05-2016', '24-01-2016',\n",
       "       '17-01-2016', '10-01-2016', '03-01-2016', '11-09-2016',\n",
       "       '04-09-2016', '28-08-2016', '21-08-2016', '14-08-2016',\n",
       "       '07-08-2016', '31-07-2016', '24-07-2016', '17-07-2016',\n",
       "       '10-07-2016', '03-07-2016', '26-06-2016', '19-06-2016'],\n",
       "      dtype=object)"
      ]
     },
     "execution_count": 19,
     "metadata": {},
     "output_type": "execute_result"
    }
   ],
   "source": [
    "df['Date'].unique()"
   ]
  },
  {
   "cell_type": "code",
   "execution_count": 20,
   "metadata": {},
   "outputs": [],
   "source": [
    "df_2015=df[df.year==2015]\n",
    "df_2016=df[df.year==2016]"
   ]
  },
  {
   "cell_type": "code",
   "execution_count": 21,
   "metadata": {},
   "outputs": [
    {
     "data": {
      "image/png": "[encoded data removed]",
      "text/plain": [
       "<Figure size 720x720 with 1 Axes>"
      ]
     },
     "metadata": {
      "needs_background": "light"
     },
     "output_type": "display_data"
    }
   ],
   "source": [
    "plt.figure(figsize=(10,10))\n",
    "plt.bar(\"2015\",df_2015.AveragePrice.mean(),color=\"red\")\n",
    "plt.bar(\"2016\",df_2016.AveragePrice.mean(),color=\"blue\")\n",
    "plt.ylim(0,1.6)\n",
    "plt.xlabel(\"Years\")\n",
    "plt.ylabel(\"Average Prices\")\n",
    "plt.grid()\n",
    "plt.show()\n",
    "# From below graph, it is clear that the AveragePrice has risen slightly from the year 2015 to 2016."
   ]
  },
  {
   "cell_type": "code",
   "execution_count": 22,
   "metadata": {},
   "outputs": [
    {
     "data": {
      "text/plain": [
       "array(['conventional'], dtype=object)"
      ]
     },
     "execution_count": 22,
     "metadata": {},
     "output_type": "execute_result"
    }
   ],
   "source": [
    "df['type'].unique()"
   ]
  },
  {
   "cell_type": "markdown",
   "metadata": {},
   "source": [
    "# Plotting Outliers"
   ]
  },
  {
   "cell_type": "code",
   "execution_count": 23,
   "metadata": {},
   "outputs": [
    {
     "data": {
      "text/plain": [
       "<matplotlib.axes._subplots.AxesSubplot at 0x220dd93da08>"
      ]
     },
     "execution_count": 23,
     "metadata": {},
     "output_type": "execute_result"
    },
    {
     "data": {
      "image/png": "[encoded data removed]",
      "text/plain": [
       "<Figure size 432x288 with 1 Axes>"
      ]
     },
     "metadata": {
      "needs_background": "light"
     },
     "output_type": "display_data"
    }
   ],
   "source": [
    "df['AveragePrice'].plot.box()"
   ]
  },
  {
   "cell_type": "code",
   "execution_count": 24,
   "metadata": {},
   "outputs": [
    {
     "data": {
      "text/plain": [
       "<matplotlib.axes._subplots.AxesSubplot at 0x220ddb72dc8>"
      ]
     },
     "execution_count": 24,
     "metadata": {},
     "output_type": "execute_result"
    },
    {
     "data": {
      "image/png": "[encoded data removed]",
      "text/plain": [
       "<Figure size 432x288 with 1 Axes>"
      ]
     },
     "metadata": {
      "needs_background": "light"
     },
     "output_type": "display_data"
    }
   ],
   "source": [
    "df['Total Volume'].plot.box()"
   ]
  },
  {
   "cell_type": "code",
   "execution_count": 25,
   "metadata": {},
   "outputs": [
    {
     "data": {
      "text/plain": [
       "<matplotlib.axes._subplots.AxesSubplot at 0x220de0c8888>"
      ]
     },
     "execution_count": 25,
     "metadata": {},
     "output_type": "execute_result"
    },
    {
     "data": {
      "image/png": "[encoded data removed]",
      "text/plain": [
       "<Figure size 432x288 with 1 Axes>"
      ]
     },
     "metadata": {
      "needs_background": "light"
     },
     "output_type": "display_data"
    }
   ],
   "source": [
    "df['4046'].plot.box()"
   ]
  },
  {
   "cell_type": "code",
   "execution_count": 26,
   "metadata": {},
   "outputs": [
    {
     "data": {
      "text/plain": [
       "<matplotlib.axes._subplots.AxesSubplot at 0x220de12d8c8>"
      ]
     },
     "execution_count": 26,
     "metadata": {},
     "output_type": "execute_result"
    },
    {
     "data": {
      "image/png": "[encoded data removed]",
      "text/plain": [
       "<Figure size 432x288 with 1 Axes>"
      ]
     },
     "metadata": {
      "needs_background": "light"
     },
     "output_type": "display_data"
    }
   ],
   "source": [
    "df['4225'].plot.box()"
   ]
  },
  {
   "cell_type": "code",
   "execution_count": 27,
   "metadata": {},
   "outputs": [
    {
     "data": {
      "text/plain": [
       "<matplotlib.axes._subplots.AxesSubplot at 0x220de0c8148>"
      ]
     },
     "execution_count": 27,
     "metadata": {},
     "output_type": "execute_result"
    },
    {
     "data": {
      "image/png": "[encoded data removed]",
      "text/plain": [
       "<Figure size 432x288 with 1 Axes>"
      ]
     },
     "metadata": {
      "needs_background": "light"
     },
     "output_type": "display_data"
    }
   ],
   "source": [
    "df['4770'].plot.box()"
   ]
  },
  {
   "cell_type": "code",
   "execution_count": 28,
   "metadata": {},
   "outputs": [
    {
     "data": {
      "text/plain": [
       "<matplotlib.axes._subplots.AxesSubplot at 0x220de2074c8>"
      ]
     },
     "execution_count": 28,
     "metadata": {},
     "output_type": "execute_result"
    },
    {
     "data": {
      "image/png": "[encoded data removed]",
      "text/plain": [
       "<Figure size 432x288 with 1 Axes>"
      ]
     },
     "metadata": {
      "needs_background": "light"
     },
     "output_type": "display_data"
    }
   ],
   "source": [
    "df['Total Bags'].plot.box()"
   ]
  },
  {
   "cell_type": "markdown",
   "metadata": {},
   "source": [
    "Observation: Extreme outliers are present in the dataset as shown in boxplot."
   ]
  },
  {
   "cell_type": "code",
   "execution_count": 29,
   "metadata": {},
   "outputs": [
    {
     "data": {
      "text/plain": [
       "AveragePrice   -0.109444\n",
       "Total Volume    6.200138\n",
       "4046            6.051830\n",
       "4225            6.394926\n",
       "4770            5.405164\n",
       "Total Bags      5.366378\n",
       "year            1.828332\n",
       "dtype: float64"
      ]
     },
     "execution_count": 29,
     "metadata": {},
     "output_type": "execute_result"
    }
   ],
   "source": [
    "# Checking skewness of data\n",
    "df.skew()"
   ]
  },
  {
   "cell_type": "code",
   "execution_count": 30,
   "metadata": {},
   "outputs": [],
   "source": [
    "# Dropping 'Date', 'type'(as there is only 'conventional type' option in the dataset) and 'year' in dataset.\n",
    "df.drop(['Date', 'type', 'year'], axis=1, inplace=True)"
   ]
  },
  {
   "cell_type": "code",
   "execution_count": 31,
   "metadata": {},
   "outputs": [
    {
     "data": {
      "text/html": [
       "<div>\n",
       "<style scoped>\n",
       "    .dataframe tbody tr th:only-of-type {\n",
       "        vertical-align: middle;\n",
       "    }\n",
       "\n",
       "    .dataframe tbody tr th {\n",
       "        vertical-align: top;\n",
       "    }\n",
       "\n",
       "    .dataframe thead th {\n",
       "        text-align: right;\n",
       "    }\n",
       "</style>\n",
       "<table border=\"1\" class=\"dataframe\">\n",
       "  <thead>\n",
       "    <tr style=\"text-align: right;\">\n",
       "      <th></th>\n",
       "      <th>AveragePrice</th>\n",
       "      <th>Total Volume</th>\n",
       "      <th>4046</th>\n",
       "      <th>4225</th>\n",
       "      <th>4770</th>\n",
       "      <th>Total Bags</th>\n",
       "      <th>region</th>\n",
       "    </tr>\n",
       "  </thead>\n",
       "  <tbody>\n",
       "    <tr>\n",
       "      <th>0</th>\n",
       "      <td>1.33</td>\n",
       "      <td>64236.62</td>\n",
       "      <td>1036.74</td>\n",
       "      <td>54454.85</td>\n",
       "      <td>48.16</td>\n",
       "      <td>8696.87</td>\n",
       "      <td>Albany</td>\n",
       "    </tr>\n",
       "    <tr>\n",
       "      <th>1</th>\n",
       "      <td>1.35</td>\n",
       "      <td>54876.98</td>\n",
       "      <td>674.28</td>\n",
       "      <td>44638.81</td>\n",
       "      <td>58.33</td>\n",
       "      <td>9505.56</td>\n",
       "      <td>Albany</td>\n",
       "    </tr>\n",
       "    <tr>\n",
       "      <th>2</th>\n",
       "      <td>0.93</td>\n",
       "      <td>118220.22</td>\n",
       "      <td>794.70</td>\n",
       "      <td>109149.67</td>\n",
       "      <td>130.50</td>\n",
       "      <td>8145.35</td>\n",
       "      <td>Albany</td>\n",
       "    </tr>\n",
       "    <tr>\n",
       "      <th>3</th>\n",
       "      <td>1.08</td>\n",
       "      <td>78992.15</td>\n",
       "      <td>1132.00</td>\n",
       "      <td>71976.41</td>\n",
       "      <td>72.58</td>\n",
       "      <td>5811.16</td>\n",
       "      <td>Albany</td>\n",
       "    </tr>\n",
       "    <tr>\n",
       "      <th>4</th>\n",
       "      <td>1.28</td>\n",
       "      <td>51039.60</td>\n",
       "      <td>941.48</td>\n",
       "      <td>43838.39</td>\n",
       "      <td>75.78</td>\n",
       "      <td>6183.95</td>\n",
       "      <td>Albany</td>\n",
       "    </tr>\n",
       "    <tr>\n",
       "      <th>...</th>\n",
       "      <td>...</td>\n",
       "      <td>...</td>\n",
       "      <td>...</td>\n",
       "      <td>...</td>\n",
       "      <td>...</td>\n",
       "      <td>...</td>\n",
       "      <td>...</td>\n",
       "    </tr>\n",
       "    <tr>\n",
       "      <th>1512</th>\n",
       "      <td>1.39</td>\n",
       "      <td>190846.01</td>\n",
       "      <td>57529.11</td>\n",
       "      <td>56366.66</td>\n",
       "      <td>17531.78</td>\n",
       "      <td>59418.46</td>\n",
       "      <td>Charlotte</td>\n",
       "    </tr>\n",
       "    <tr>\n",
       "      <th>1513</th>\n",
       "      <td>1.51</td>\n",
       "      <td>178235.75</td>\n",
       "      <td>43325.87</td>\n",
       "      <td>52189.61</td>\n",
       "      <td>19419.57</td>\n",
       "      <td>63300.70</td>\n",
       "      <td>Charlotte</td>\n",
       "    </tr>\n",
       "    <tr>\n",
       "      <th>1514</th>\n",
       "      <td>1.48</td>\n",
       "      <td>178410.82</td>\n",
       "      <td>46364.75</td>\n",
       "      <td>52893.38</td>\n",
       "      <td>16736.92</td>\n",
       "      <td>62415.77</td>\n",
       "      <td>Charlotte</td>\n",
       "    </tr>\n",
       "    <tr>\n",
       "      <th>1515</th>\n",
       "      <td>1.47</td>\n",
       "      <td>189131.52</td>\n",
       "      <td>54110.79</td>\n",
       "      <td>53593.58</td>\n",
       "      <td>17495.42</td>\n",
       "      <td>63931.73</td>\n",
       "      <td>Charlotte</td>\n",
       "    </tr>\n",
       "    <tr>\n",
       "      <th>1516</th>\n",
       "      <td>1.43</td>\n",
       "      <td>182978.30</td>\n",
       "      <td>43116.41</td>\n",
       "      <td>54193.42</td>\n",
       "      <td>16563.91</td>\n",
       "      <td>69104.56</td>\n",
       "      <td>Charlotte</td>\n",
       "    </tr>\n",
       "  </tbody>\n",
       "</table>\n",
       "<p>1517 rows × 7 columns</p>\n",
       "</div>"
      ],
      "text/plain": [
       "      AveragePrice  Total Volume      4046       4225      4770  Total Bags  \\\n",
       "0             1.33      64236.62   1036.74   54454.85     48.16     8696.87   \n",
       "1             1.35      54876.98    674.28   44638.81     58.33     9505.56   \n",
       "2             0.93     118220.22    794.70  109149.67    130.50     8145.35   \n",
       "3             1.08      78992.15   1132.00   71976.41     72.58     5811.16   \n",
       "4             1.28      51039.60    941.48   43838.39     75.78     6183.95   \n",
       "...            ...           ...       ...        ...       ...         ...   \n",
       "1512          1.39     190846.01  57529.11   56366.66  17531.78    59418.46   \n",
       "1513          1.51     178235.75  43325.87   52189.61  19419.57    63300.70   \n",
       "1514          1.48     178410.82  46364.75   52893.38  16736.92    62415.77   \n",
       "1515          1.47     189131.52  54110.79   53593.58  17495.42    63931.73   \n",
       "1516          1.43     182978.30  43116.41   54193.42  16563.91    69104.56   \n",
       "\n",
       "         region  \n",
       "0        Albany  \n",
       "1        Albany  \n",
       "2        Albany  \n",
       "3        Albany  \n",
       "4        Albany  \n",
       "...         ...  \n",
       "1512  Charlotte  \n",
       "1513  Charlotte  \n",
       "1514  Charlotte  \n",
       "1515  Charlotte  \n",
       "1516  Charlotte  \n",
       "\n",
       "[1517 rows x 7 columns]"
      ]
     },
     "execution_count": 31,
     "metadata": {},
     "output_type": "execute_result"
    }
   ],
   "source": [
    "df"
   ]
  },
  {
   "cell_type": "code",
   "execution_count": 32,
   "metadata": {},
   "outputs": [],
   "source": [
    "# Converting categorical column 'region' into numerical column using Label Encoder\n",
    "from sklearn.preprocessing import LabelEncoder\n",
    "le=LabelEncoder()\n",
    "\n",
    "list1=['region']\n",
    "for val in list1:\n",
    "    df[val]=le.fit_transform(df[val].astype(str))"
   ]
  },
  {
   "cell_type": "code",
   "execution_count": 33,
   "metadata": {},
   "outputs": [
    {
     "data": {
      "text/html": [
       "<div>\n",
       "<style scoped>\n",
       "    .dataframe tbody tr th:only-of-type {\n",
       "        vertical-align: middle;\n",
       "    }\n",
       "\n",
       "    .dataframe tbody tr th {\n",
       "        vertical-align: top;\n",
       "    }\n",
       "\n",
       "    .dataframe thead th {\n",
       "        text-align: right;\n",
       "    }\n",
       "</style>\n",
       "<table border=\"1\" class=\"dataframe\">\n",
       "  <thead>\n",
       "    <tr style=\"text-align: right;\">\n",
       "      <th></th>\n",
       "      <th>AveragePrice</th>\n",
       "      <th>Total Volume</th>\n",
       "      <th>4046</th>\n",
       "      <th>4225</th>\n",
       "      <th>4770</th>\n",
       "      <th>Total Bags</th>\n",
       "      <th>region</th>\n",
       "    </tr>\n",
       "  </thead>\n",
       "  <tbody>\n",
       "    <tr>\n",
       "      <th>0</th>\n",
       "      <td>1.33</td>\n",
       "      <td>64236.62</td>\n",
       "      <td>1036.74</td>\n",
       "      <td>54454.85</td>\n",
       "      <td>48.16</td>\n",
       "      <td>8696.87</td>\n",
       "      <td>0</td>\n",
       "    </tr>\n",
       "    <tr>\n",
       "      <th>1</th>\n",
       "      <td>1.35</td>\n",
       "      <td>54876.98</td>\n",
       "      <td>674.28</td>\n",
       "      <td>44638.81</td>\n",
       "      <td>58.33</td>\n",
       "      <td>9505.56</td>\n",
       "      <td>0</td>\n",
       "    </tr>\n",
       "    <tr>\n",
       "      <th>2</th>\n",
       "      <td>0.93</td>\n",
       "      <td>118220.22</td>\n",
       "      <td>794.70</td>\n",
       "      <td>109149.67</td>\n",
       "      <td>130.50</td>\n",
       "      <td>8145.35</td>\n",
       "      <td>0</td>\n",
       "    </tr>\n",
       "    <tr>\n",
       "      <th>3</th>\n",
       "      <td>1.08</td>\n",
       "      <td>78992.15</td>\n",
       "      <td>1132.00</td>\n",
       "      <td>71976.41</td>\n",
       "      <td>72.58</td>\n",
       "      <td>5811.16</td>\n",
       "      <td>0</td>\n",
       "    </tr>\n",
       "    <tr>\n",
       "      <th>4</th>\n",
       "      <td>1.28</td>\n",
       "      <td>51039.60</td>\n",
       "      <td>941.48</td>\n",
       "      <td>43838.39</td>\n",
       "      <td>75.78</td>\n",
       "      <td>6183.95</td>\n",
       "      <td>0</td>\n",
       "    </tr>\n",
       "    <tr>\n",
       "      <th>...</th>\n",
       "      <td>...</td>\n",
       "      <td>...</td>\n",
       "      <td>...</td>\n",
       "      <td>...</td>\n",
       "      <td>...</td>\n",
       "      <td>...</td>\n",
       "      <td>...</td>\n",
       "    </tr>\n",
       "    <tr>\n",
       "      <th>1512</th>\n",
       "      <td>1.39</td>\n",
       "      <td>190846.01</td>\n",
       "      <td>57529.11</td>\n",
       "      <td>56366.66</td>\n",
       "      <td>17531.78</td>\n",
       "      <td>59418.46</td>\n",
       "      <td>7</td>\n",
       "    </tr>\n",
       "    <tr>\n",
       "      <th>1513</th>\n",
       "      <td>1.51</td>\n",
       "      <td>178235.75</td>\n",
       "      <td>43325.87</td>\n",
       "      <td>52189.61</td>\n",
       "      <td>19419.57</td>\n",
       "      <td>63300.70</td>\n",
       "      <td>7</td>\n",
       "    </tr>\n",
       "    <tr>\n",
       "      <th>1514</th>\n",
       "      <td>1.48</td>\n",
       "      <td>178410.82</td>\n",
       "      <td>46364.75</td>\n",
       "      <td>52893.38</td>\n",
       "      <td>16736.92</td>\n",
       "      <td>62415.77</td>\n",
       "      <td>7</td>\n",
       "    </tr>\n",
       "    <tr>\n",
       "      <th>1515</th>\n",
       "      <td>1.47</td>\n",
       "      <td>189131.52</td>\n",
       "      <td>54110.79</td>\n",
       "      <td>53593.58</td>\n",
       "      <td>17495.42</td>\n",
       "      <td>63931.73</td>\n",
       "      <td>7</td>\n",
       "    </tr>\n",
       "    <tr>\n",
       "      <th>1516</th>\n",
       "      <td>1.43</td>\n",
       "      <td>182978.30</td>\n",
       "      <td>43116.41</td>\n",
       "      <td>54193.42</td>\n",
       "      <td>16563.91</td>\n",
       "      <td>69104.56</td>\n",
       "      <td>7</td>\n",
       "    </tr>\n",
       "  </tbody>\n",
       "</table>\n",
       "<p>1517 rows × 7 columns</p>\n",
       "</div>"
      ],
      "text/plain": [
       "      AveragePrice  Total Volume      4046       4225      4770  Total Bags  \\\n",
       "0             1.33      64236.62   1036.74   54454.85     48.16     8696.87   \n",
       "1             1.35      54876.98    674.28   44638.81     58.33     9505.56   \n",
       "2             0.93     118220.22    794.70  109149.67    130.50     8145.35   \n",
       "3             1.08      78992.15   1132.00   71976.41     72.58     5811.16   \n",
       "4             1.28      51039.60    941.48   43838.39     75.78     6183.95   \n",
       "...            ...           ...       ...        ...       ...         ...   \n",
       "1512          1.39     190846.01  57529.11   56366.66  17531.78    59418.46   \n",
       "1513          1.51     178235.75  43325.87   52189.61  19419.57    63300.70   \n",
       "1514          1.48     178410.82  46364.75   52893.38  16736.92    62415.77   \n",
       "1515          1.47     189131.52  54110.79   53593.58  17495.42    63931.73   \n",
       "1516          1.43     182978.30  43116.41   54193.42  16563.91    69104.56   \n",
       "\n",
       "      region  \n",
       "0          0  \n",
       "1          0  \n",
       "2          0  \n",
       "3          0  \n",
       "4          0  \n",
       "...      ...  \n",
       "1512       7  \n",
       "1513       7  \n",
       "1514       7  \n",
       "1515       7  \n",
       "1516       7  \n",
       "\n",
       "[1517 rows x 7 columns]"
      ]
     },
     "execution_count": 33,
     "metadata": {},
     "output_type": "execute_result"
    }
   ],
   "source": [
    "df"
   ]
  },
  {
   "cell_type": "code",
   "execution_count": 34,
   "metadata": {},
   "outputs": [],
   "source": [
    "#Treating skewness via log method\n",
    "\n",
    "for col in df.columns:\n",
    "    if df[col].skew()>0.55:\n",
    "        df[col]=np.log1p(df[col])"
   ]
  },
  {
   "cell_type": "code",
   "execution_count": 35,
   "metadata": {},
   "outputs": [
    {
     "data": {
      "text/plain": [
       "AveragePrice   -0.109444\n",
       "Total Volume    0.667468\n",
       "4046           -0.160268\n",
       "4225            0.184436\n",
       "4770           -0.355508\n",
       "Total Bags      0.695502\n",
       "region          0.288146\n",
       "dtype: float64"
      ]
     },
     "execution_count": 35,
     "metadata": {},
     "output_type": "execute_result"
    }
   ],
   "source": [
    "# Checking again the skewness of the dataset.\n",
    "df.skew()"
   ]
  },
  {
   "cell_type": "markdown",
   "metadata": {},
   "source": [
    "# Removing Outliers"
   ]
  },
  {
   "cell_type": "code",
   "execution_count": 36,
   "metadata": {},
   "outputs": [
    {
     "data": {
      "text/plain": [
       "array([[1.35048079, 1.35676174, 1.82816171, ..., 1.81061284, 1.6847247 ,\n",
       "        1.3143384 ],\n",
       "       [1.45639674, 1.46638736, 2.01206913, ..., 1.73759363, 1.62012346,\n",
       "        1.3143384 ],\n",
       "       [0.76783831, 0.9321394 , 1.94183376, ..., 1.42852642, 1.73232564,\n",
       "        1.3143384 ],\n",
       "       ...,\n",
       "       [2.14485045, 0.64565294, 0.20190426, ..., 0.4534771 , 0.25269255,\n",
       "        0.88028586],\n",
       "       [2.09189247, 0.60503087, 0.13577946, ..., 0.4706876 , 0.23525501,\n",
       "        0.88028586],\n",
       "       [1.88006056, 0.62805557, 0.23299293, ..., 0.44944229, 0.17871961,\n",
       "        0.88028586]])"
      ]
     },
     "execution_count": 36,
     "metadata": {},
     "output_type": "execute_result"
    }
   ],
   "source": [
    "from scipy.stats import zscore\n",
    "z=np.abs(zscore(df))\n",
    "z"
   ]
  },
  {
   "cell_type": "code",
   "execution_count": 37,
   "metadata": {},
   "outputs": [
    {
     "name": "stdout",
     "output_type": "stream",
     "text": [
      "(array([ 760, 1182, 1182, 1183, 1183, 1184, 1184, 1185, 1185, 1186, 1186,\n",
      "       1188, 1188, 1189, 1189, 1191, 1202, 1346, 1411, 1457, 1458],\n",
      "      dtype=int64), array([0, 1, 5, 1, 5, 1, 5, 1, 5, 1, 5, 1, 5, 1, 5, 5, 1, 4, 0, 0, 0],\n",
      "      dtype=int64))\n"
     ]
    }
   ],
   "source": [
    "threshold=3\n",
    "print(np.where(z>3))"
   ]
  },
  {
   "cell_type": "code",
   "execution_count": 38,
   "metadata": {},
   "outputs": [],
   "source": [
    "df_new=df[(z<3).all(axis=1)]"
   ]
  },
  {
   "cell_type": "code",
   "execution_count": 39,
   "metadata": {},
   "outputs": [
    {
     "name": "stdout",
     "output_type": "stream",
     "text": [
      "(1517, 7) \t (1503, 7)\n"
     ]
    }
   ],
   "source": [
    "print(df.shape, '\\t',df_new.shape)"
   ]
  },
  {
   "cell_type": "markdown",
   "metadata": {},
   "source": [
    "# Model Training"
   ]
  },
  {
   "cell_type": "code",
   "execution_count": 40,
   "metadata": {},
   "outputs": [],
   "source": [
    "# Separating into input and output variables\n",
    "df_x=df.drop(columns=['AveragePrice'])"
   ]
  },
  {
   "cell_type": "code",
   "execution_count": 41,
   "metadata": {},
   "outputs": [],
   "source": [
    "y=pd.DataFrame(df['AveragePrice'])"
   ]
  },
  {
   "cell_type": "code",
   "execution_count": 42,
   "metadata": {},
   "outputs": [],
   "source": [
    "#Scaling the input variable\n",
    "from sklearn.preprocessing import StandardScaler\n",
    "sc=StandardScaler()\n",
    "x=sc.fit_transform(df_x)\n",
    "x=pd.DataFrame(x,columns=df_x.columns)"
   ]
  },
  {
   "cell_type": "code",
   "execution_count": 43,
   "metadata": {},
   "outputs": [
    {
     "data": {
      "text/plain": [
       "Total Volume    0.667468\n",
       "4046           -0.160268\n",
       "4225            0.184436\n",
       "4770           -0.355508\n",
       "Total Bags      0.695502\n",
       "region          0.288146\n",
       "dtype: float64"
      ]
     },
     "execution_count": 43,
     "metadata": {},
     "output_type": "execute_result"
    }
   ],
   "source": [
    "# Check again the skewness\n",
    "x.skew()"
   ]
  },
  {
   "cell_type": "code",
   "execution_count": 44,
   "metadata": {},
   "outputs": [],
   "source": [
    "#Breaking our input and target variable into train and test data\n",
    "from sklearn.model_selection import train_test_split\n",
    "x_train,x_test,y_train,y_test=train_test_split(x,y,test_size=.20,random_state=42)"
   ]
  },
  {
   "cell_type": "code",
   "execution_count": 45,
   "metadata": {},
   "outputs": [
    {
     "name": "stdout",
     "output_type": "stream",
     "text": [
      "(1213, 6) \t (304, 6)\n"
     ]
    }
   ],
   "source": [
    "print(x_train.shape, '\\t',x_test.shape)"
   ]
  },
  {
   "cell_type": "code",
   "execution_count": 46,
   "metadata": {},
   "outputs": [],
   "source": [
    "# Importing our Models Library\n",
    "from sklearn.linear_model import LinearRegression,Lasso,Ridge,ElasticNet\n",
    "from sklearn.svm import SVR\n",
    "from sklearn.neighbors import KNeighborsRegressor\n",
    "from sklearn.tree import DecisionTreeRegressor\n",
    "\n",
    "# Importing Error Metrics\n",
    "from sklearn.metrics import mean_absolute_error,mean_squared_error,r2_score"
   ]
  },
  {
   "cell_type": "code",
   "execution_count": 47,
   "metadata": {},
   "outputs": [
    {
     "name": "stdout",
     "output_type": "stream",
     "text": [
      "Score of LinearRegression(copy_X=True, fit_intercept=True, n_jobs=None, normalize=False) is: 0.34744701535071243\n",
      "Error:\n",
      "Mean absolute error: 0.11313909319528968\n",
      "Mean squared error: 0.021835740463282453\n",
      "Root Mean Squared Error: 0.1477692135164915\n",
      "r2_score: 0.377770362586199\n",
      "**************************************************************************************************\n",
      "\n",
      "\n",
      "Score of DecisionTreeRegressor(ccp_alpha=0.0, criterion='mse', max_depth=None,\n",
      "                      max_features=None, max_leaf_nodes=None,\n",
      "                      min_impurity_decrease=0.0, min_impurity_split=None,\n",
      "                      min_samples_leaf=1, min_samples_split=2,\n",
      "                      min_weight_fraction_leaf=0.0, presort='deprecated',\n",
      "                      random_state=None, splitter='best') is: 1.0\n",
      "Error:\n",
      "Mean absolute error: 0.07529605263157894\n",
      "Mean squared error: 0.012020723684210527\n",
      "Root Mean Squared Error: 0.10963906094184922\n",
      "r2_score: 0.6574583512725343\n",
      "**************************************************************************************************\n",
      "\n",
      "\n",
      "Score of KNeighborsRegressor(algorithm='auto', leaf_size=30, metric='minkowski',\n",
      "                    metric_params=None, n_jobs=None, n_neighbors=5, p=2,\n",
      "                    weights='uniform') is: 0.8837085709410434\n",
      "Error:\n",
      "Mean absolute error: 0.05664473684210527\n",
      "Mean squared error: 0.006068289473684212\n",
      "Root Mean Squared Error: 0.0778992263997802\n",
      "r2_score: 0.8270784741519636\n",
      "**************************************************************************************************\n",
      "\n",
      "\n",
      "Score of SVR(C=1.0, cache_size=200, coef0=0.0, degree=3, epsilon=0.1, gamma='scale',\n",
      "    kernel='rbf', max_iter=-1, shrinking=True, tol=0.001, verbose=False) is: 0.7146793316898562\n",
      "Error:\n",
      "Mean absolute error: 0.0793869488007665\n",
      "Mean squared error: 0.010943361268659323\n",
      "Root Mean Squared Error: 0.10461052178753016\n",
      "r2_score: 0.6881587905967206\n",
      "**************************************************************************************************\n",
      "\n",
      "\n",
      "Score of Lasso(alpha=1.0, copy_X=True, fit_intercept=True, max_iter=1000,\n",
      "      normalize=False, positive=False, precompute=False, random_state=None,\n",
      "      selection='cyclic', tol=0.0001, warm_start=False) is: 0.0\n",
      "Error:\n",
      "Mean absolute error: 0.14404480518071766\n",
      "Mean squared error: 0.03524373407766401\n",
      "Root Mean Squared Error: 0.1877331459217152\n",
      "r2_score: -0.004302826969794671\n",
      "**************************************************************************************************\n",
      "\n",
      "\n",
      "Score of Ridge(alpha=1.0, copy_X=True, fit_intercept=True, max_iter=None,\n",
      "      normalize=False, random_state=None, solver='auto', tol=0.001) is: 0.34733717078739035\n",
      "Error:\n",
      "Mean absolute error: 0.11326431042773193\n",
      "Mean squared error: 0.021877185376425145\n",
      "Root Mean Squared Error: 0.14790938231371648\n",
      "r2_score: 0.37658935142146255\n",
      "**************************************************************************************************\n",
      "\n",
      "\n",
      "Score of ElasticNet(alpha=1.0, copy_X=True, fit_intercept=True, l1_ratio=0.5,\n",
      "           max_iter=1000, normalize=False, positive=False, precompute=False,\n",
      "           random_state=None, selection='cyclic', tol=0.0001, warm_start=False) is: 0.0\n",
      "Error:\n",
      "Mean absolute error: 0.14404480518071766\n",
      "Mean squared error: 0.03524373407766401\n",
      "Root Mean Squared Error: 0.1877331459217152\n",
      "r2_score: -0.004302826969794671\n",
      "**************************************************************************************************\n",
      "\n",
      "\n"
     ]
    }
   ],
   "source": [
    "# Using algorithms via for loop\n",
    "\n",
    "model=[LinearRegression(),DecisionTreeRegressor(),KNeighborsRegressor(),SVR(),Lasso(),Ridge(),ElasticNet()]\n",
    "for m in model:\n",
    "    m.fit(x_train,y_train)\n",
    "    print('Score of',m, 'is:',m.score(x_train,y_train))\n",
    "    predm=m.predict(x_test)\n",
    "    print('Error:')\n",
    "    print('Mean absolute error:',mean_absolute_error(y_test,predm))\n",
    "    print('Mean squared error:',mean_squared_error(y_test,predm))\n",
    "    print('Root Mean Squared Error:',np.sqrt(mean_squared_error(y_test,predm)))\n",
    "    print('r2_score:',r2_score(y_test,predm))\n",
    "    print('**************************************************************************************************')\n",
    "    print('\\n')\n",
    "\n",
    "# From below, we can observe that KNeighborsRegressor is giving the best r2_score of 0.82"
   ]
  },
  {
   "cell_type": "code",
   "execution_count": 48,
   "metadata": {},
   "outputs": [
    {
     "name": "stdout",
     "output_type": "stream",
     "text": [
      "Score of LinearRegression(copy_X=True, fit_intercept=True, n_jobs=None, normalize=False) is:\n",
      "Score: [ 0.04541979 -0.02868892  0.37151254  0.19366238]\n",
      "Mean Score: 0.14547644945676286\n",
      "Standard deviation: 0.15310054620533417\n",
      "*************************************************************************************************\n",
      "\n",
      "\n",
      "Score of DecisionTreeRegressor(ccp_alpha=0.0, criterion='mse', max_depth=None,\n",
      "                      max_features=None, max_leaf_nodes=None,\n",
      "                      min_impurity_decrease=0.0, min_impurity_split=None,\n",
      "                      min_samples_leaf=1, min_samples_split=2,\n",
      "                      min_weight_fraction_leaf=0.0, presort='deprecated',\n",
      "                      random_state=None, splitter='best') is:\n",
      "Score: [-3.22850156 -2.15037553  0.2571489   0.06381105]\n",
      "Mean Score: -1.2644792849106106\n",
      "Standard deviation: 1.476643423833437\n",
      "*************************************************************************************************\n",
      "\n",
      "\n",
      "Score of KNeighborsRegressor(algorithm='auto', leaf_size=30, metric='minkowski',\n",
      "                    metric_params=None, n_jobs=None, n_neighbors=5, p=2,\n",
      "                    weights='uniform') is:\n",
      "Score: [-4.11128465 -0.62633935  0.12155423  0.24026018]\n",
      "Mean Score: -1.0939523969781837\n",
      "Standard deviation: 1.7734525282668947\n",
      "*************************************************************************************************\n",
      "\n",
      "\n",
      "Score of SVR(C=1.0, cache_size=200, coef0=0.0, degree=3, epsilon=0.1, gamma='scale',\n",
      "    kernel='rbf', max_iter=-1, shrinking=True, tol=0.001, verbose=False) is:\n",
      "Score: [-1.73205046 -0.65586501  0.42950962  0.15379532]\n",
      "Mean Score: -0.451152634257747\n",
      "Standard deviation: 0.8402580606356607\n",
      "*************************************************************************************************\n",
      "\n",
      "\n",
      "Score of Lasso(alpha=1.0, copy_X=True, fit_intercept=True, max_iter=1000,\n",
      "      normalize=False, positive=False, precompute=False, random_state=None,\n",
      "      selection='cyclic', tol=0.0001, warm_start=False) is:\n",
      "Score: [-0.0364242  -0.07733235 -0.20651883 -0.0087813 ]\n",
      "Mean Score: -0.08226417222470633\n",
      "Standard deviation: 0.07577034117729047\n",
      "*************************************************************************************************\n",
      "\n",
      "\n",
      "Score of Ridge(alpha=1.0, copy_X=True, fit_intercept=True, max_iter=None,\n",
      "      normalize=False, random_state=None, solver='auto', tol=0.001) is:\n",
      "Score: [ 0.06324111 -0.01530823  0.36659293  0.19363455]\n",
      "Mean Score: 0.1520400919963508\n",
      "Standard deviation: 0.14461478178176077\n",
      "*************************************************************************************************\n",
      "\n",
      "\n",
      "Score of ElasticNet(alpha=1.0, copy_X=True, fit_intercept=True, l1_ratio=0.5,\n",
      "           max_iter=1000, normalize=False, positive=False, precompute=False,\n",
      "           random_state=None, selection='cyclic', tol=0.0001, warm_start=False) is:\n",
      "Score: [-0.0364242  -0.07733235 -0.20651883 -0.0087813 ]\n",
      "Mean Score: -0.08226417222470633\n",
      "Standard deviation: 0.07577034117729047\n",
      "*************************************************************************************************\n",
      "\n",
      "\n"
     ]
    }
   ],
   "source": [
    "# Cross validate the models\n",
    "from sklearn.model_selection import cross_val_score\n",
    "model=[LinearRegression(),DecisionTreeRegressor(),KNeighborsRegressor(),SVR(),Lasso(),Ridge(),ElasticNet()]\n",
    "for m in model:\n",
    "    score=cross_val_score(m,x,y,cv=4,scoring='r2')\n",
    "    print('Score of',m,'is:')\n",
    "    print('Score:',score)\n",
    "    print('Mean Score:',score.mean())\n",
    "    print('Standard deviation:',score.std())\n",
    "    print('*************************************************************************************************')\n",
    "    print('\\n')"
   ]
  },
  {
   "cell_type": "code",
   "execution_count": 49,
   "metadata": {},
   "outputs": [
    {
     "data": {
      "text/plain": [
       "{'alpha': 1, 'random_state': 42}"
      ]
     },
     "execution_count": 49,
     "metadata": {},
     "output_type": "execute_result"
    }
   ],
   "source": [
    "# Ridge model is giving best result so finding its best parameters using GridSearchCV\n",
    "from sklearn.model_selection import GridSearchCV\n",
    "ridge=Ridge()\n",
    "parameters={'alpha':[0.001,0.01,0.1,1],'random_state':range(42,100)}\n",
    "clf=GridSearchCV(ridge,parameters)\n",
    "clf.fit(x,y)\n",
    "clf.best_params_"
   ]
  },
  {
   "cell_type": "code",
   "execution_count": 50,
   "metadata": {},
   "outputs": [
    {
     "name": "stdout",
     "output_type": "stream",
     "text": [
      "Score: 0.34733717078739035\n",
      "\n",
      "\n",
      "Mean absolute error: 0.11326431042773193\n",
      "Mean squared error: 0.021877185376425145\n",
      "Root Mean Squared Error: 0.14790938231371648\n",
      "\n",
      "\n",
      "r2_score: 0.37658935142146255\n"
     ]
    }
   ],
   "source": [
    "# Using Ridge model with best results\n",
    "\n",
    "ridge=Ridge(alpha=1,random_state=42)\n",
    "ridge.fit(x_train,y_train)\n",
    "print('Score:',ridge.score(x_train,y_train))\n",
    "predrd=ridge.predict(x_test)\n",
    "print('\\n')\n",
    "print('Mean absolute error:',mean_absolute_error(y_test,predrd))\n",
    "print('Mean squared error:',mean_squared_error(y_test,predrd))\n",
    "print('Root Mean Squared Error:',np.sqrt(mean_squared_error(y_test,predrd)))\n",
    "print('\\n')\n",
    "print('r2_score:',r2_score(y_test,predrd))"
   ]
  },
  {
   "cell_type": "code",
   "execution_count": 51,
   "metadata": {},
   "outputs": [
    {
     "name": "stdout",
     "output_type": "stream",
     "text": [
      "Score: [ 0.06324111 -0.01530823  0.36659293  0.19363455]\n",
      "Mean Score: 0.1520400919963508\n",
      "Standard deviation: 0.14461478178176077\n"
     ]
    }
   ],
   "source": [
    "# Cross validate Ridge\n",
    "\n",
    "score=cross_val_score(ridge,x,y,cv=4,scoring='r2')\n",
    "print('Score:',score)\n",
    "print('Mean Score:',score.mean())\n",
    "print('Standard deviation:',score.std())"
   ]
  },
  {
   "cell_type": "markdown",
   "metadata": {},
   "source": [
    "# Using Ensemble technique to boost up our score"
   ]
  },
  {
   "cell_type": "code",
   "execution_count": 52,
   "metadata": {},
   "outputs": [
    {
     "name": "stdout",
     "output_type": "stream",
     "text": [
      "Score: 0.9674920176017981\n",
      "\n",
      "\n",
      "Mean absolute error: 0.05774506578947367\n",
      "Mean squared error: 0.00648867351973684\n",
      "Root Mean Squared Error: 0.0805523030070329\n",
      "\n",
      "\n",
      "r2_score 0.8150992416185067\n"
     ]
    }
   ],
   "source": [
    "#Using Random Forest\n",
    "from sklearn.ensemble import RandomForestRegressor\n",
    "rf=RandomForestRegressor(n_estimators=20,random_state=42)\n",
    "rf.fit(x_train,y_train)\n",
    "print('Score:',rf.score(x_train,y_train))\n",
    "predrf=rf.predict(x_test)\n",
    "print('\\n')\n",
    "print('Mean absolute error:',mean_absolute_error(y_test,predrf))\n",
    "print('Mean squared error:',mean_squared_error(y_test,predrf))\n",
    "print('Root Mean Squared Error:',np.sqrt(mean_squared_error(y_test,predrf)))\n",
    "print('\\n')\n",
    "print('r2_score',r2_score(y_test,predrf))"
   ]
  },
  {
   "cell_type": "code",
   "execution_count": 53,
   "metadata": {},
   "outputs": [
    {
     "name": "stdout",
     "output_type": "stream",
     "text": [
      "Score: 0.3442048235742877\n",
      "\n",
      "\n",
      "Mean absolute error: 0.11385876442990257\n",
      "Mean squared error: 0.021976921437825734\n",
      "Root mean squared error: 0.14824615151101136\n",
      "\n",
      "\n",
      "r2_score: 0.3737472800281556\n"
     ]
    }
   ],
   "source": [
    "# Using Ada Boost\n",
    "from sklearn.ensemble import AdaBoostRegressor\n",
    "ridge=Ridge()\n",
    "\n",
    "adb=AdaBoostRegressor(base_estimator=ridge,n_estimators=20,learning_rate=0.1,random_state=59)\n",
    "adb.fit(x_train,y_train)\n",
    "print('Score:',adb.score(x_train,y_train))\n",
    "predadb=adb.predict(x_test)\n",
    "print('\\n')\n",
    "print('Mean absolute error:',mean_absolute_error(y_test,predadb))\n",
    "print('Mean squared error:',mean_squared_error(y_test,predadb))\n",
    "print('Root mean squared error:',np.sqrt(mean_squared_error(y_test,predadb)))\n",
    "print('\\n')\n",
    "print('r2_score:',r2_score(y_test,predadb))"
   ]
  },
  {
   "cell_type": "markdown",
   "metadata": {},
   "source": [
    "RandomForest is working well because it gives the best r2_score of 96% and also it is also it is not suffering from overfitting or underfitting. So we save RandomForest Regressor as our final Model."
   ]
  },
  {
   "cell_type": "code",
   "execution_count": 54,
   "metadata": {},
   "outputs": [
    {
     "data": {
      "text/plain": [
       "['avocado_linear_regression.obj']"
      ]
     },
     "execution_count": 54,
     "metadata": {},
     "output_type": "execute_result"
    }
   ],
   "source": [
    "#Saving the RandomForest Regressor as our final model\n",
    "from sklearn.externals import joblib\n",
    "joblib.dump(rf,'avocado_linear_regression.obj')"
   ]
  },
  {
   "cell_type": "code",
   "execution_count": 73,
   "metadata": {},
   "outputs": [
    {
     "data": {
      "text/plain": [
       "array([0.9995, 1.0065, 1.0065, 0.9995, 0.9995, 0.978 , 0.994 , 0.9995,\n",
       "       1.0065, 0.9995, 0.994 , 0.9995, 0.9995, 0.994 , 0.9995, 0.9995,\n",
       "       0.9995, 1.0065, 1.0065, 1.0065, 0.9995, 0.994 , 0.9995, 0.9995,\n",
       "       0.9995, 0.9995, 0.994 , 0.9995, 0.9995, 0.9995, 1.0065, 0.9995,\n",
       "       0.9995, 1.0065, 0.994 , 0.9995, 1.0065, 1.0065, 0.994 , 0.9995,\n",
       "       1.0065, 0.9995, 0.9995, 0.9995, 0.982 , 1.0065, 1.0065, 0.9995,\n",
       "       1.0065, 1.0065, 1.0065, 0.9995, 0.994 , 0.9915, 0.9995, 0.9995,\n",
       "       0.9995, 0.9995, 0.9995, 0.9995, 0.9995, 0.9995, 0.9995, 1.0065,\n",
       "       1.0065, 0.994 , 0.9995, 0.9995, 0.9995, 0.9995, 0.9995, 1.0065,\n",
       "       0.994 , 1.0065, 1.0065, 0.9995, 1.0065, 1.0065, 1.0065, 0.994 ,\n",
       "       0.9995, 0.978 , 1.0065, 0.978 , 0.9995, 0.9995, 0.994 , 1.0065,\n",
       "       0.994 , 1.0065, 0.9995, 1.0065, 0.994 , 0.9995, 1.0065, 0.9995,\n",
       "       0.9995, 0.978 , 0.994 , 0.9995, 0.994 , 0.994 , 1.0065, 0.9995,\n",
       "       0.9995, 0.9995, 0.982 , 0.9995, 0.994 , 0.994 , 0.994 , 0.9995,\n",
       "       0.994 , 0.9995, 0.994 , 1.0065, 0.9995, 0.8895, 1.0065, 0.978 ,\n",
       "       1.0065, 0.994 , 0.8895, 1.0065, 0.9995, 0.994 , 0.994 , 0.9995,\n",
       "       0.9995, 0.9995, 0.9995, 0.9995, 0.9995, 1.0065, 0.9505, 1.0065,\n",
       "       0.9995, 0.994 , 0.9995, 0.9995, 0.9995, 0.978 , 0.9995, 0.9995,\n",
       "       0.994 , 1.0065, 0.9995, 0.9995, 0.9995, 0.9995, 0.9995, 0.994 ,\n",
       "       0.994 , 0.9995, 0.994 , 1.0065, 0.978 , 0.9995, 1.0065, 1.0065,\n",
       "       0.9995, 0.9995, 0.9755, 0.9995, 0.9995, 1.0065, 0.9995, 1.0065,\n",
       "       0.9995, 0.9995, 0.9995, 1.0065, 0.978 , 0.9995, 1.0065, 0.994 ,\n",
       "       0.9995, 1.0065, 1.0065, 0.9995, 0.9995, 1.0065, 1.0065, 1.0065,\n",
       "       0.966 , 0.9995, 1.0065, 1.0065, 0.9995, 0.994 , 0.9995, 0.994 ,\n",
       "       1.0065, 0.994 , 0.9995, 0.9995, 0.9995, 1.0065, 1.0065, 0.978 ,\n",
       "       1.0065, 1.0065, 1.0065, 0.9995, 1.0065, 0.994 , 0.994 , 0.978 ,\n",
       "       0.994 , 1.0065, 1.0065, 0.994 , 0.9995, 1.0065, 0.9995, 1.0065,\n",
       "       0.9995, 0.9995, 0.978 , 1.0065, 0.9915, 0.9915, 0.9995, 1.0065,\n",
       "       0.9995, 1.0065, 0.994 , 0.994 , 0.9995, 0.994 , 0.9995, 0.9995,\n",
       "       1.0065, 0.978 , 0.9995, 0.9995, 0.9995, 0.9995, 1.0065, 1.0065,\n",
       "       0.978 , 0.9995, 0.9995, 0.9995, 0.9995, 1.0065, 0.9995, 0.9995,\n",
       "       0.9915, 0.994 , 0.9995, 0.9995, 0.9995, 0.9995, 0.9995, 1.0065,\n",
       "       0.9995, 1.0065, 1.0065, 1.0065, 0.8895, 1.0065, 0.9995, 0.9995,\n",
       "       1.0065, 0.9995, 1.0065, 0.978 , 0.9995, 0.978 , 0.9995, 1.0065,\n",
       "       1.0065, 0.9995, 0.978 , 0.9995, 0.994 , 0.9995, 0.9995, 0.994 ,\n",
       "       0.9995, 0.9995, 0.9995, 0.9995, 0.9995, 1.0065, 0.9995, 0.9995,\n",
       "       0.994 , 1.0065, 1.0065, 0.9995, 0.994 , 1.0065, 0.9995, 1.0065,\n",
       "       1.0065, 1.0065, 0.9995, 1.0065, 0.978 , 1.0065, 0.982 , 1.0065])"
      ]
     },
     "execution_count": 73,
     "metadata": {},
     "output_type": "execute_result"
    }
   ],
   "source": [
    "# Loading the model\n",
    "rf_from_joblib=joblib.load('avocado_linear_regression.obj')\n",
    "\n",
    "# using the loaded model to make predictions\n",
    "\n",
    "rf_from_joblib.predict(x_test)"
   ]
  },
  {
   "cell_type": "markdown",
   "metadata": {},
   "source": [
    "# Classification- Where target variable is 'region'"
   ]
  },
  {
   "cell_type": "code",
   "execution_count": 55,
   "metadata": {},
   "outputs": [
    {
     "data": {
      "text/html": [
       "<div>\n",
       "<style scoped>\n",
       "    .dataframe tbody tr th:only-of-type {\n",
       "        vertical-align: middle;\n",
       "    }\n",
       "\n",
       "    .dataframe tbody tr th {\n",
       "        vertical-align: top;\n",
       "    }\n",
       "\n",
       "    .dataframe thead th {\n",
       "        text-align: right;\n",
       "    }\n",
       "</style>\n",
       "<table border=\"1\" class=\"dataframe\">\n",
       "  <thead>\n",
       "    <tr style=\"text-align: right;\">\n",
       "      <th></th>\n",
       "      <th>AveragePrice</th>\n",
       "      <th>Total Volume</th>\n",
       "      <th>4046</th>\n",
       "      <th>4225</th>\n",
       "      <th>4770</th>\n",
       "      <th>Total Bags</th>\n",
       "      <th>region</th>\n",
       "    </tr>\n",
       "  </thead>\n",
       "  <tbody>\n",
       "    <tr>\n",
       "      <th>0</th>\n",
       "      <td>1.33</td>\n",
       "      <td>11.070344</td>\n",
       "      <td>6.944801</td>\n",
       "      <td>10.905146</td>\n",
       "      <td>3.895080</td>\n",
       "      <td>9.070833</td>\n",
       "      <td>0</td>\n",
       "    </tr>\n",
       "    <tr>\n",
       "      <th>1</th>\n",
       "      <td>1.35</td>\n",
       "      <td>10.912867</td>\n",
       "      <td>6.515127</td>\n",
       "      <td>10.706381</td>\n",
       "      <td>4.083115</td>\n",
       "      <td>9.159737</td>\n",
       "      <td>0</td>\n",
       "    </tr>\n",
       "    <tr>\n",
       "      <th>2</th>\n",
       "      <td>0.93</td>\n",
       "      <td>11.680313</td>\n",
       "      <td>6.679222</td>\n",
       "      <td>11.600485</td>\n",
       "      <td>4.879007</td>\n",
       "      <td>9.005325</td>\n",
       "      <td>0</td>\n",
       "    </tr>\n",
       "    <tr>\n",
       "      <th>3</th>\n",
       "      <td>1.08</td>\n",
       "      <td>11.277116</td>\n",
       "      <td>7.032624</td>\n",
       "      <td>11.184108</td>\n",
       "      <td>4.298373</td>\n",
       "      <td>8.667708</td>\n",
       "      <td>0</td>\n",
       "    </tr>\n",
       "    <tr>\n",
       "      <th>4</th>\n",
       "      <td>1.28</td>\n",
       "      <td>10.840377</td>\n",
       "      <td>6.848515</td>\n",
       "      <td>10.688288</td>\n",
       "      <td>4.340944</td>\n",
       "      <td>8.729874</td>\n",
       "      <td>0</td>\n",
       "    </tr>\n",
       "    <tr>\n",
       "      <th>...</th>\n",
       "      <td>...</td>\n",
       "      <td>...</td>\n",
       "      <td>...</td>\n",
       "      <td>...</td>\n",
       "      <td>...</td>\n",
       "      <td>...</td>\n",
       "      <td>...</td>\n",
       "    </tr>\n",
       "    <tr>\n",
       "      <th>1512</th>\n",
       "      <td>1.39</td>\n",
       "      <td>12.159227</td>\n",
       "      <td>10.960064</td>\n",
       "      <td>10.939651</td>\n",
       "      <td>9.771828</td>\n",
       "      <td>10.992377</td>\n",
       "      <td>7</td>\n",
       "    </tr>\n",
       "    <tr>\n",
       "      <th>1513</th>\n",
       "      <td>1.51</td>\n",
       "      <td>12.090868</td>\n",
       "      <td>10.676528</td>\n",
       "      <td>10.862658</td>\n",
       "      <td>9.874088</td>\n",
       "      <td>11.055667</td>\n",
       "      <td>7</td>\n",
       "    </tr>\n",
       "    <tr>\n",
       "      <th>1514</th>\n",
       "      <td>1.48</td>\n",
       "      <td>12.091850</td>\n",
       "      <td>10.744316</td>\n",
       "      <td>10.876052</td>\n",
       "      <td>9.725432</td>\n",
       "      <td>11.041589</td>\n",
       "      <td>7</td>\n",
       "    </tr>\n",
       "    <tr>\n",
       "      <th>1515</th>\n",
       "      <td>1.47</td>\n",
       "      <td>12.150203</td>\n",
       "      <td>10.898807</td>\n",
       "      <td>10.889203</td>\n",
       "      <td>9.769752</td>\n",
       "      <td>11.065587</td>\n",
       "      <td>7</td>\n",
       "    </tr>\n",
       "    <tr>\n",
       "      <th>1516</th>\n",
       "      <td>1.43</td>\n",
       "      <td>12.117128</td>\n",
       "      <td>10.671682</td>\n",
       "      <td>10.900333</td>\n",
       "      <td>9.715042</td>\n",
       "      <td>11.143390</td>\n",
       "      <td>7</td>\n",
       "    </tr>\n",
       "  </tbody>\n",
       "</table>\n",
       "<p>1517 rows × 7 columns</p>\n",
       "</div>"
      ],
      "text/plain": [
       "      AveragePrice  Total Volume       4046       4225      4770  Total Bags  \\\n",
       "0             1.33     11.070344   6.944801  10.905146  3.895080    9.070833   \n",
       "1             1.35     10.912867   6.515127  10.706381  4.083115    9.159737   \n",
       "2             0.93     11.680313   6.679222  11.600485  4.879007    9.005325   \n",
       "3             1.08     11.277116   7.032624  11.184108  4.298373    8.667708   \n",
       "4             1.28     10.840377   6.848515  10.688288  4.340944    8.729874   \n",
       "...            ...           ...        ...        ...       ...         ...   \n",
       "1512          1.39     12.159227  10.960064  10.939651  9.771828   10.992377   \n",
       "1513          1.51     12.090868  10.676528  10.862658  9.874088   11.055667   \n",
       "1514          1.48     12.091850  10.744316  10.876052  9.725432   11.041589   \n",
       "1515          1.47     12.150203  10.898807  10.889203  9.769752   11.065587   \n",
       "1516          1.43     12.117128  10.671682  10.900333  9.715042   11.143390   \n",
       "\n",
       "      region  \n",
       "0          0  \n",
       "1          0  \n",
       "2          0  \n",
       "3          0  \n",
       "4          0  \n",
       "...      ...  \n",
       "1512       7  \n",
       "1513       7  \n",
       "1514       7  \n",
       "1515       7  \n",
       "1516       7  \n",
       "\n",
       "[1517 rows x 7 columns]"
      ]
     },
     "execution_count": 55,
     "metadata": {},
     "output_type": "execute_result"
    }
   ],
   "source": [
    "df"
   ]
  },
  {
   "cell_type": "code",
   "execution_count": 56,
   "metadata": {},
   "outputs": [],
   "source": [
    "# Separating into input and output variables\n",
    "x=df.drop(columns=['region'])"
   ]
  },
  {
   "cell_type": "code",
   "execution_count": 57,
   "metadata": {},
   "outputs": [],
   "source": [
    "y=pd.DataFrame(df['region'])"
   ]
  },
  {
   "cell_type": "code",
   "execution_count": 58,
   "metadata": {},
   "outputs": [],
   "source": [
    "array = df.values\n",
    "x = array[:,0:-1].astype(float)\n",
    "y = array[:,-1]\n",
    "validation_size = 0.2\n",
    "seed = 7\n",
    "x_train, x_test, y_train, y_test = train_test_split(x, y, test_size=validation_size, random_state=seed)"
   ]
  },
  {
   "cell_type": "code",
   "execution_count": 59,
   "metadata": {},
   "outputs": [
    {
     "name": "stdout",
     "output_type": "stream",
     "text": [
      "(1213, 6) \t (304, 6)\n"
     ]
    }
   ],
   "source": [
    "print(x_train.shape, '\\t',x_test.shape)"
   ]
  },
  {
   "cell_type": "code",
   "execution_count": 60,
   "metadata": {},
   "outputs": [
    {
     "name": "stdout",
     "output_type": "stream",
     "text": [
      "(1213,) \t (304,)\n"
     ]
    }
   ],
   "source": [
    "print(y_train.shape,'\\t',y_test.shape)"
   ]
  },
  {
   "cell_type": "code",
   "execution_count": 61,
   "metadata": {},
   "outputs": [
    {
     "name": "stdout",
     "output_type": "stream",
     "text": [
      "0.2730263157894737\n",
      "[[13  0  0 ...  0  0  0]\n",
      " [ 0  7  0 ...  0  0  0]\n",
      " [ 0  0 15 ...  0  0  0]\n",
      " ...\n",
      " [ 0  0  0 ...  0  0  0]\n",
      " [ 0  0  0 ...  0  0  0]\n",
      " [ 0  0  0 ...  0  0  0]]\n",
      "              precision    recall  f1-score   support\n",
      "\n",
      "         0.0       0.50      0.68      0.58        19\n",
      "         1.0       0.19      1.00      0.33         7\n",
      "         2.0       0.68      1.00      0.81        15\n",
      "         3.0       0.42      0.91      0.57        11\n",
      "         4.0       0.10      0.44      0.16         9\n",
      "         5.0       0.62      0.62      0.62         8\n",
      "         6.0       0.17      1.00      0.29        23\n",
      "         7.0       0.00      0.00      0.00         1\n",
      "         8.0       0.00      0.00      0.00         2\n",
      "         9.0       0.00      0.00      0.00        11\n",
      "        10.0       0.00      0.00      0.00         2\n",
      "        11.0       0.00      0.00      0.00         3\n",
      "        12.0       0.00      0.00      0.00        12\n",
      "        13.0       0.00      0.00      0.00         6\n",
      "        14.0       0.00      0.00      0.00         6\n",
      "        15.0       0.00      0.00      0.00         3\n",
      "        17.0       0.00      0.00      0.00         6\n",
      "        18.0       0.00      0.00      0.00         3\n",
      "        19.0       0.00      0.00      0.00         7\n",
      "        20.0       0.00      0.00      0.00         2\n",
      "        22.0       0.00      0.00      0.00         3\n",
      "        23.0       0.00      0.00      0.00         5\n",
      "        24.0       0.00      0.00      0.00         3\n",
      "        25.0       0.00      0.00      0.00         4\n",
      "        26.0       0.00      0.00      0.00        11\n",
      "        27.0       0.00      0.00      0.00         2\n",
      "        28.0       0.00      0.00      0.00         7\n",
      "        29.0       0.00      0.00      0.00         7\n",
      "        30.0       0.00      0.00      0.00         4\n",
      "        31.0       0.83      0.50      0.62        10\n",
      "        32.0       0.00      0.00      0.00         4\n",
      "        33.0       0.00      0.00      0.00         2\n",
      "        34.0       0.00      0.00      0.00         8\n",
      "        35.0       0.00      0.00      0.00         6\n",
      "        36.0       0.00      0.00      0.00         7\n",
      "        37.0       0.00      0.00      0.00         2\n",
      "        38.0       0.00      0.00      0.00         3\n",
      "        39.0       0.00      0.00      0.00         4\n",
      "        40.0       0.00      0.00      0.00         1\n",
      "        41.0       0.00      0.00      0.00         4\n",
      "        42.0       0.00      0.00      0.00        10\n",
      "        43.0       0.00      0.00      0.00         3\n",
      "        44.0       0.00      0.00      0.00        10\n",
      "        45.0       0.00      0.00      0.00         4\n",
      "        46.0       0.00      0.00      0.00         3\n",
      "        47.0       0.20      0.25      0.22         4\n",
      "        48.0       0.00      0.00      0.00         7\n",
      "        49.0       0.00      0.00      0.00         7\n",
      "        50.0       0.00      0.00      0.00         3\n",
      "\n",
      "    accuracy                           0.27       304\n",
      "   macro avg       0.08      0.13      0.09       304\n",
      "weighted avg       0.15      0.27      0.17       304\n",
      "\n"
     ]
    }
   ],
   "source": [
    "from sklearn.naive_bayes import MultinomialNB\n",
    "from sklearn.tree import DecisionTreeClassifier\n",
    "from sklearn.neighbors import KNeighborsClassifier\n",
    "from sklearn.naive_bayes import GaussianNB\n",
    "from sklearn.svm import SVC\n",
    "from sklearn.ensemble import AdaBoostClassifier, GradientBoostingClassifier, RandomForestClassifier, ExtraTreesClassifier\n",
    "from sklearn.metrics import classification_report, confusion_matrix, accuracy_score\n",
    "mnb=MultinomialNB()\n",
    "mnb.fit(x_train,y_train)\n",
    "predmnb=mnb.predict(x_test)\n",
    "print(accuracy_score(y_test,predmnb))\n",
    "print(confusion_matrix(y_test,predmnb))\n",
    "print(classification_report(y_test,predmnb))"
   ]
  },
  {
   "cell_type": "code",
   "execution_count": 62,
   "metadata": {},
   "outputs": [
    {
     "name": "stdout",
     "output_type": "stream",
     "text": [
      "0.5493421052631579\n",
      "[[15  0  0 ...  0  0  0]\n",
      " [ 0  7  0 ...  0  0  0]\n",
      " [ 0  0 15 ...  0  0  0]\n",
      " ...\n",
      " [ 0  0  0 ...  7  0  0]\n",
      " [ 0  0  0 ...  0  0  0]\n",
      " [ 0  0  0 ...  0  0  0]]\n",
      "              precision    recall  f1-score   support\n",
      "\n",
      "         0.0       0.79      0.79      0.79        19\n",
      "         1.0       0.78      1.00      0.88         7\n",
      "         2.0       0.56      1.00      0.71        15\n",
      "         3.0       0.90      0.82      0.86        11\n",
      "         4.0       0.42      0.89      0.57         9\n",
      "         5.0       0.86      0.75      0.80         8\n",
      "         6.0       0.49      1.00      0.66        23\n",
      "         7.0       0.33      1.00      0.50         1\n",
      "         8.0       0.00      0.00      0.00         2\n",
      "         9.0       0.48      1.00      0.65        11\n",
      "        10.0       0.00      0.00      0.00         2\n",
      "        11.0       0.00      0.00      0.00         3\n",
      "        12.0       0.80      1.00      0.89        12\n",
      "        13.0       0.00      0.00      0.00         6\n",
      "        14.0       0.00      0.00      0.00         6\n",
      "        15.0       1.00      1.00      1.00         3\n",
      "        17.0       0.00      0.00      0.00         6\n",
      "        18.0       0.00      0.00      0.00         3\n",
      "        19.0       0.88      1.00      0.93         7\n",
      "        20.0       0.00      0.00      0.00         2\n",
      "        22.0       0.16      1.00      0.27         3\n",
      "        23.0       0.00      0.00      0.00         5\n",
      "        24.0       0.00      0.00      0.00         3\n",
      "        25.0       0.00      0.00      0.00         4\n",
      "        26.0       0.92      1.00      0.96        11\n",
      "        27.0       1.00      1.00      1.00         2\n",
      "        28.0       0.00      0.00      0.00         7\n",
      "        29.0       0.00      0.00      0.00         7\n",
      "        30.0       0.00      0.00      0.00         4\n",
      "        31.0       0.36      0.80      0.50        10\n",
      "        32.0       0.00      0.00      0.00         4\n",
      "        33.0       0.00      0.00      0.00         2\n",
      "        34.0       0.00      0.00      0.00         8\n",
      "        35.0       0.00      0.00      0.00         6\n",
      "        36.0       0.00      0.00      0.00         7\n",
      "        37.0       0.00      0.00      0.00         2\n",
      "        38.0       0.18      1.00      0.30         3\n",
      "        39.0       0.00      0.00      0.00         4\n",
      "        40.0       0.00      0.00      0.00         1\n",
      "        41.0       0.00      0.00      0.00         4\n",
      "        42.0       0.50      0.20      0.29        10\n",
      "        43.0       0.00      0.00      0.00         3\n",
      "        44.0       0.91      1.00      0.95        10\n",
      "        45.0       0.00      0.00      0.00         4\n",
      "        46.0       0.00      0.00      0.00         3\n",
      "        47.0       0.20      1.00      0.33         4\n",
      "        48.0       1.00      1.00      1.00         7\n",
      "        49.0       0.00      0.00      0.00         7\n",
      "        50.0       0.00      0.00      0.00         3\n",
      "\n",
      "    accuracy                           0.55       304\n",
      "   macro avg       0.28      0.39      0.30       304\n",
      "weighted avg       0.41      0.55      0.45       304\n",
      "\n"
     ]
    }
   ],
   "source": [
    "from sklearn.svm import SVC\n",
    "svc=SVC(kernel='rbf')\n",
    "svc.fit(x_train,y_train)\n",
    "svc.score(x_train,y_train)\n",
    "predsvc=svc.predict(x_test)\n",
    "print(accuracy_score(y_test,predsvc))\n",
    "print(confusion_matrix(y_test,predsvc))\n",
    "print(classification_report(y_test,predsvc))"
   ]
  },
  {
   "cell_type": "code",
   "execution_count": 63,
   "metadata": {},
   "outputs": [
    {
     "name": "stdout",
     "output_type": "stream",
     "text": [
      "0.8585526315789473\n",
      "[[17  0  0 ...  0  0  0]\n",
      " [ 0  7  0 ...  0  0  0]\n",
      " [ 0  0 13 ...  0  0  0]\n",
      " ...\n",
      " [ 0  0  0 ...  7  0  0]\n",
      " [ 0  0  0 ...  0  7  0]\n",
      " [ 0  0  0 ...  0  0  2]]\n",
      "              precision    recall  f1-score   support\n",
      "\n",
      "         0.0       0.89      0.89      0.89        19\n",
      "         1.0       0.70      1.00      0.82         7\n",
      "         2.0       1.00      0.87      0.93        15\n",
      "         3.0       1.00      1.00      1.00        11\n",
      "         4.0       0.89      0.89      0.89         9\n",
      "         5.0       1.00      0.88      0.93         8\n",
      "         6.0       0.92      1.00      0.96        23\n",
      "         7.0       0.00      0.00      0.00         1\n",
      "         8.0       1.00      1.00      1.00         2\n",
      "         9.0       1.00      1.00      1.00        11\n",
      "        10.0       0.50      0.50      0.50         2\n",
      "        11.0       0.67      0.67      0.67         3\n",
      "        12.0       0.92      0.92      0.92        12\n",
      "        13.0       1.00      0.83      0.91         6\n",
      "        14.0       1.00      0.83      0.91         6\n",
      "        15.0       0.67      0.67      0.67         3\n",
      "        16.0       0.00      0.00      0.00         0\n",
      "        17.0       0.71      0.83      0.77         6\n",
      "        18.0       1.00      0.67      0.80         3\n",
      "        19.0       0.86      0.86      0.86         7\n",
      "        20.0       0.67      1.00      0.80         2\n",
      "        21.0       0.00      0.00      0.00         0\n",
      "        22.0       0.60      1.00      0.75         3\n",
      "        23.0       0.00      0.00      0.00         5\n",
      "        24.0       1.00      1.00      1.00         3\n",
      "        25.0       1.00      1.00      1.00         4\n",
      "        26.0       1.00      1.00      1.00        11\n",
      "        27.0       0.67      1.00      0.80         2\n",
      "        28.0       0.75      0.86      0.80         7\n",
      "        29.0       0.80      0.57      0.67         7\n",
      "        30.0       1.00      0.75      0.86         4\n",
      "        31.0       0.88      0.70      0.78        10\n",
      "        32.0       0.60      0.75      0.67         4\n",
      "        33.0       1.00      1.00      1.00         2\n",
      "        34.0       0.86      0.75      0.80         8\n",
      "        35.0       0.80      0.67      0.73         6\n",
      "        36.0       0.88      1.00      0.93         7\n",
      "        37.0       1.00      0.50      0.67         2\n",
      "        38.0       0.50      0.33      0.40         3\n",
      "        39.0       0.50      0.75      0.60         4\n",
      "        40.0       1.00      1.00      1.00         1\n",
      "        41.0       0.80      1.00      0.89         4\n",
      "        42.0       1.00      0.90      0.95        10\n",
      "        43.0       1.00      0.67      0.80         3\n",
      "        44.0       1.00      0.90      0.95        10\n",
      "        45.0       1.00      0.75      0.86         4\n",
      "        46.0       1.00      1.00      1.00         3\n",
      "        47.0       0.44      1.00      0.62         4\n",
      "        48.0       1.00      1.00      1.00         7\n",
      "        49.0       1.00      1.00      1.00         7\n",
      "        50.0       0.50      0.67      0.57         3\n",
      "\n",
      "    accuracy                           0.86       304\n",
      "   macro avg       0.78      0.78      0.77       304\n",
      "weighted avg       0.87      0.86      0.86       304\n",
      "\n"
     ]
    }
   ],
   "source": [
    "from sklearn.tree import DecisionTreeClassifier\n",
    "dtc=DecisionTreeClassifier()\n",
    "dtc.fit(x_train,y_train)\n",
    "dtc.score(x_train,y_train)\n",
    "preddtc=dtc.predict(x_test)\n",
    "print(accuracy_score(y_test,preddtc))\n",
    "print(confusion_matrix(y_test,preddtc))\n",
    "print(classification_report(y_test,preddtc))"
   ]
  },
  {
   "cell_type": "code",
   "execution_count": 64,
   "metadata": {},
   "outputs": [
    {
     "name": "stdout",
     "output_type": "stream",
     "text": [
      "0.8585526315789473\n",
      "[[17  0  0 ...  0  0  0]\n",
      " [ 0  7  0 ...  0  0  0]\n",
      " [ 0  0 13 ...  0  0  0]\n",
      " ...\n",
      " [ 0  0  0 ...  7  0  0]\n",
      " [ 0  0  0 ...  0  7  0]\n",
      " [ 0  0  0 ...  0  0  2]]\n",
      "              precision    recall  f1-score   support\n",
      "\n",
      "         0.0       0.89      0.89      0.89        19\n",
      "         1.0       0.70      1.00      0.82         7\n",
      "         2.0       1.00      0.87      0.93        15\n",
      "         3.0       1.00      1.00      1.00        11\n",
      "         4.0       0.89      0.89      0.89         9\n",
      "         5.0       1.00      0.88      0.93         8\n",
      "         6.0       0.92      1.00      0.96        23\n",
      "         7.0       0.00      0.00      0.00         1\n",
      "         8.0       1.00      1.00      1.00         2\n",
      "         9.0       1.00      1.00      1.00        11\n",
      "        10.0       0.50      0.50      0.50         2\n",
      "        11.0       0.67      0.67      0.67         3\n",
      "        12.0       0.92      0.92      0.92        12\n",
      "        13.0       1.00      0.83      0.91         6\n",
      "        14.0       1.00      0.83      0.91         6\n",
      "        15.0       0.67      0.67      0.67         3\n",
      "        16.0       0.00      0.00      0.00         0\n",
      "        17.0       0.71      0.83      0.77         6\n",
      "        18.0       1.00      0.67      0.80         3\n",
      "        19.0       0.86      0.86      0.86         7\n",
      "        20.0       0.67      1.00      0.80         2\n",
      "        21.0       0.00      0.00      0.00         0\n",
      "        22.0       0.60      1.00      0.75         3\n",
      "        23.0       0.00      0.00      0.00         5\n",
      "        24.0       1.00      1.00      1.00         3\n",
      "        25.0       1.00      1.00      1.00         4\n",
      "        26.0       1.00      1.00      1.00        11\n",
      "        27.0       0.67      1.00      0.80         2\n",
      "        28.0       0.75      0.86      0.80         7\n",
      "        29.0       0.80      0.57      0.67         7\n",
      "        30.0       1.00      0.75      0.86         4\n",
      "        31.0       0.88      0.70      0.78        10\n",
      "        32.0       0.60      0.75      0.67         4\n",
      "        33.0       1.00      1.00      1.00         2\n",
      "        34.0       0.86      0.75      0.80         8\n",
      "        35.0       0.80      0.67      0.73         6\n",
      "        36.0       0.88      1.00      0.93         7\n",
      "        37.0       1.00      0.50      0.67         2\n",
      "        38.0       0.50      0.33      0.40         3\n",
      "        39.0       0.50      0.75      0.60         4\n",
      "        40.0       1.00      1.00      1.00         1\n",
      "        41.0       0.80      1.00      0.89         4\n",
      "        42.0       1.00      0.90      0.95        10\n",
      "        43.0       1.00      0.67      0.80         3\n",
      "        44.0       1.00      0.90      0.95        10\n",
      "        45.0       1.00      0.75      0.86         4\n",
      "        46.0       1.00      1.00      1.00         3\n",
      "        47.0       0.44      1.00      0.62         4\n",
      "        48.0       1.00      1.00      1.00         7\n",
      "        49.0       1.00      1.00      1.00         7\n",
      "        50.0       0.50      0.67      0.57         3\n",
      "\n",
      "    accuracy                           0.86       304\n",
      "   macro avg       0.78      0.78      0.77       304\n",
      "weighted avg       0.87      0.86      0.86       304\n",
      "\n"
     ]
    }
   ],
   "source": [
    "from sklearn.neighbors import KNeighborsClassifier\n",
    "knn=KNeighborsClassifier()\n",
    "knn.fit(x_train,y_train)\n",
    "knn.score(x_train,y_train)\n",
    "predknn=dtc.predict(x_test)\n",
    "print(accuracy_score(y_test,preddtc))\n",
    "print(confusion_matrix(y_test,preddtc))\n",
    "print(classification_report(y_test,preddtc))"
   ]
  },
  {
   "cell_type": "code",
   "execution_count": 65,
   "metadata": {},
   "outputs": [
    {
     "name": "stdout",
     "output_type": "stream",
     "text": [
      "0.8980263157894737\n",
      "[[15  0  0 ...  0  0  0]\n",
      " [ 0  7  0 ...  0  0  0]\n",
      " [ 0  0 15 ...  0  0  0]\n",
      " ...\n",
      " [ 0  0  0 ...  7  0  0]\n",
      " [ 0  0  0 ...  0  6  0]\n",
      " [ 0  0  0 ...  0  0  3]]\n",
      "              precision    recall  f1-score   support\n",
      "\n",
      "         0.0       0.94      0.79      0.86        19\n",
      "         1.0       0.58      1.00      0.74         7\n",
      "         2.0       1.00      1.00      1.00        15\n",
      "         3.0       1.00      1.00      1.00        11\n",
      "         4.0       0.90      1.00      0.95         9\n",
      "         5.0       1.00      0.88      0.93         8\n",
      "         6.0       0.95      0.87      0.91        23\n",
      "         7.0       0.50      1.00      0.67         1\n",
      "         8.0       1.00      1.00      1.00         2\n",
      "         9.0       1.00      1.00      1.00        11\n",
      "        10.0       0.67      1.00      0.80         2\n",
      "        11.0       1.00      1.00      1.00         3\n",
      "        12.0       0.92      1.00      0.96        12\n",
      "        13.0       1.00      1.00      1.00         6\n",
      "        14.0       1.00      0.67      0.80         6\n",
      "        15.0       1.00      1.00      1.00         3\n",
      "        16.0       0.00      0.00      0.00         0\n",
      "        17.0       1.00      0.83      0.91         6\n",
      "        18.0       1.00      1.00      1.00         3\n",
      "        19.0       1.00      1.00      1.00         7\n",
      "        20.0       1.00      1.00      1.00         2\n",
      "        22.0       0.75      1.00      0.86         3\n",
      "        23.0       1.00      0.40      0.57         5\n",
      "        24.0       0.60      1.00      0.75         3\n",
      "        25.0       1.00      1.00      1.00         4\n",
      "        26.0       1.00      1.00      1.00        11\n",
      "        27.0       1.00      1.00      1.00         2\n",
      "        28.0       1.00      0.71      0.83         7\n",
      "        29.0       0.80      0.57      0.67         7\n",
      "        30.0       1.00      0.75      0.86         4\n",
      "        31.0       0.88      0.70      0.78        10\n",
      "        32.0       0.50      1.00      0.67         4\n",
      "        33.0       1.00      1.00      1.00         2\n",
      "        34.0       1.00      0.75      0.86         8\n",
      "        35.0       1.00      0.67      0.80         6\n",
      "        36.0       1.00      1.00      1.00         7\n",
      "        37.0       1.00      1.00      1.00         2\n",
      "        38.0       0.43      1.00      0.60         3\n",
      "        39.0       1.00      1.00      1.00         4\n",
      "        40.0       1.00      1.00      1.00         1\n",
      "        41.0       1.00      1.00      1.00         4\n",
      "        42.0       1.00      1.00      1.00        10\n",
      "        43.0       1.00      1.00      1.00         3\n",
      "        44.0       1.00      0.90      0.95        10\n",
      "        45.0       0.75      0.75      0.75         4\n",
      "        46.0       1.00      1.00      1.00         3\n",
      "        47.0       0.75      0.75      0.75         4\n",
      "        48.0       1.00      1.00      1.00         7\n",
      "        49.0       0.67      0.86      0.75         7\n",
      "        50.0       1.00      1.00      1.00         3\n",
      "\n",
      "    accuracy                           0.90       304\n",
      "   macro avg       0.89      0.90      0.88       304\n",
      "weighted avg       0.93      0.90      0.90       304\n",
      "\n"
     ]
    }
   ],
   "source": [
    "svc=SVC(kernel='poly')\n",
    "svc.fit(x_train,y_train)\n",
    "svc.score(x_train,y_train)\n",
    "predsvc=svc.predict(x_test)\n",
    "print(accuracy_score(y_test,predsvc))\n",
    "print(confusion_matrix(y_test,predsvc))\n",
    "print(classification_report(y_test,predsvc))"
   ]
  },
  {
   "cell_type": "code",
   "execution_count": 66,
   "metadata": {},
   "outputs": [],
   "source": [
    "def svmkernel(ker):\n",
    "    svc=SVC(kernel=ker)\n",
    "    svc.fit(x_train,y_train)\n",
    "    svc.score(x_train,y_train)\n",
    "    predsvc=svc.predict(x_test)\n",
    "    print(accuracy_score(y_test,predsvc))\n",
    "    print(confusion_matrix(y_test,predsvc))\n",
    "    print(classification_report(y_test,predsvc))"
   ]
  },
  {
   "cell_type": "code",
   "execution_count": 67,
   "metadata": {},
   "outputs": [
    {
     "name": "stdout",
     "output_type": "stream",
     "text": [
      "0.5493421052631579\n",
      "[[15  0  0 ...  0  0  0]\n",
      " [ 0  7  0 ...  0  0  0]\n",
      " [ 0  0 15 ...  0  0  0]\n",
      " ...\n",
      " [ 0  0  0 ...  7  0  0]\n",
      " [ 0  0  0 ...  0  0  0]\n",
      " [ 0  0  0 ...  0  0  0]]\n",
      "              precision    recall  f1-score   support\n",
      "\n",
      "         0.0       0.79      0.79      0.79        19\n",
      "         1.0       0.78      1.00      0.88         7\n",
      "         2.0       0.56      1.00      0.71        15\n",
      "         3.0       0.90      0.82      0.86        11\n",
      "         4.0       0.42      0.89      0.57         9\n",
      "         5.0       0.86      0.75      0.80         8\n",
      "         6.0       0.49      1.00      0.66        23\n",
      "         7.0       0.33      1.00      0.50         1\n",
      "         8.0       0.00      0.00      0.00         2\n",
      "         9.0       0.48      1.00      0.65        11\n",
      "        10.0       0.00      0.00      0.00         2\n",
      "        11.0       0.00      0.00      0.00         3\n",
      "        12.0       0.80      1.00      0.89        12\n",
      "        13.0       0.00      0.00      0.00         6\n",
      "        14.0       0.00      0.00      0.00         6\n",
      "        15.0       1.00      1.00      1.00         3\n",
      "        17.0       0.00      0.00      0.00         6\n",
      "        18.0       0.00      0.00      0.00         3\n",
      "        19.0       0.88      1.00      0.93         7\n",
      "        20.0       0.00      0.00      0.00         2\n",
      "        22.0       0.16      1.00      0.27         3\n",
      "        23.0       0.00      0.00      0.00         5\n",
      "        24.0       0.00      0.00      0.00         3\n",
      "        25.0       0.00      0.00      0.00         4\n",
      "        26.0       0.92      1.00      0.96        11\n",
      "        27.0       1.00      1.00      1.00         2\n",
      "        28.0       0.00      0.00      0.00         7\n",
      "        29.0       0.00      0.00      0.00         7\n",
      "        30.0       0.00      0.00      0.00         4\n",
      "        31.0       0.36      0.80      0.50        10\n",
      "        32.0       0.00      0.00      0.00         4\n",
      "        33.0       0.00      0.00      0.00         2\n",
      "        34.0       0.00      0.00      0.00         8\n",
      "        35.0       0.00      0.00      0.00         6\n",
      "        36.0       0.00      0.00      0.00         7\n",
      "        37.0       0.00      0.00      0.00         2\n",
      "        38.0       0.18      1.00      0.30         3\n",
      "        39.0       0.00      0.00      0.00         4\n",
      "        40.0       0.00      0.00      0.00         1\n",
      "        41.0       0.00      0.00      0.00         4\n",
      "        42.0       0.50      0.20      0.29        10\n",
      "        43.0       0.00      0.00      0.00         3\n",
      "        44.0       0.91      1.00      0.95        10\n",
      "        45.0       0.00      0.00      0.00         4\n",
      "        46.0       0.00      0.00      0.00         3\n",
      "        47.0       0.20      1.00      0.33         4\n",
      "        48.0       1.00      1.00      1.00         7\n",
      "        49.0       0.00      0.00      0.00         7\n",
      "        50.0       0.00      0.00      0.00         3\n",
      "\n",
      "    accuracy                           0.55       304\n",
      "   macro avg       0.28      0.39      0.30       304\n",
      "weighted avg       0.41      0.55      0.45       304\n",
      "\n"
     ]
    }
   ],
   "source": [
    "svmkernel('rbf')"
   ]
  },
  {
   "cell_type": "code",
   "execution_count": 68,
   "metadata": {},
   "outputs": [
    {
     "name": "stdout",
     "output_type": "stream",
     "text": [
      "0.8980263157894737\n",
      "[[15  0  0 ...  0  0  0]\n",
      " [ 0  7  0 ...  0  0  0]\n",
      " [ 0  0 15 ...  0  0  0]\n",
      " ...\n",
      " [ 0  0  0 ...  7  0  0]\n",
      " [ 0  0  0 ...  0  6  0]\n",
      " [ 0  0  0 ...  0  0  3]]\n",
      "              precision    recall  f1-score   support\n",
      "\n",
      "         0.0       0.94      0.79      0.86        19\n",
      "         1.0       0.58      1.00      0.74         7\n",
      "         2.0       1.00      1.00      1.00        15\n",
      "         3.0       1.00      1.00      1.00        11\n",
      "         4.0       0.90      1.00      0.95         9\n",
      "         5.0       1.00      0.88      0.93         8\n",
      "         6.0       0.95      0.87      0.91        23\n",
      "         7.0       0.50      1.00      0.67         1\n",
      "         8.0       1.00      1.00      1.00         2\n",
      "         9.0       1.00      1.00      1.00        11\n",
      "        10.0       0.67      1.00      0.80         2\n",
      "        11.0       1.00      1.00      1.00         3\n",
      "        12.0       0.92      1.00      0.96        12\n",
      "        13.0       1.00      1.00      1.00         6\n",
      "        14.0       1.00      0.67      0.80         6\n",
      "        15.0       1.00      1.00      1.00         3\n",
      "        16.0       0.00      0.00      0.00         0\n",
      "        17.0       1.00      0.83      0.91         6\n",
      "        18.0       1.00      1.00      1.00         3\n",
      "        19.0       1.00      1.00      1.00         7\n",
      "        20.0       1.00      1.00      1.00         2\n",
      "        22.0       0.75      1.00      0.86         3\n",
      "        23.0       1.00      0.40      0.57         5\n",
      "        24.0       0.60      1.00      0.75         3\n",
      "        25.0       1.00      1.00      1.00         4\n",
      "        26.0       1.00      1.00      1.00        11\n",
      "        27.0       1.00      1.00      1.00         2\n",
      "        28.0       1.00      0.71      0.83         7\n",
      "        29.0       0.80      0.57      0.67         7\n",
      "        30.0       1.00      0.75      0.86         4\n",
      "        31.0       0.88      0.70      0.78        10\n",
      "        32.0       0.50      1.00      0.67         4\n",
      "        33.0       1.00      1.00      1.00         2\n",
      "        34.0       1.00      0.75      0.86         8\n",
      "        35.0       1.00      0.67      0.80         6\n",
      "        36.0       1.00      1.00      1.00         7\n",
      "        37.0       1.00      1.00      1.00         2\n",
      "        38.0       0.43      1.00      0.60         3\n",
      "        39.0       1.00      1.00      1.00         4\n",
      "        40.0       1.00      1.00      1.00         1\n",
      "        41.0       1.00      1.00      1.00         4\n",
      "        42.0       1.00      1.00      1.00        10\n",
      "        43.0       1.00      1.00      1.00         3\n",
      "        44.0       1.00      0.90      0.95        10\n",
      "        45.0       0.75      0.75      0.75         4\n",
      "        46.0       1.00      1.00      1.00         3\n",
      "        47.0       0.75      0.75      0.75         4\n",
      "        48.0       1.00      1.00      1.00         7\n",
      "        49.0       0.67      0.86      0.75         7\n",
      "        50.0       1.00      1.00      1.00         3\n",
      "\n",
      "    accuracy                           0.90       304\n",
      "   macro avg       0.89      0.90      0.88       304\n",
      "weighted avg       0.93      0.90      0.90       304\n",
      "\n"
     ]
    }
   ],
   "source": [
    "svmkernel('poly')"
   ]
  },
  {
   "cell_type": "code",
   "execution_count": 69,
   "metadata": {},
   "outputs": [
    {
     "name": "stdout",
     "output_type": "stream",
     "text": [
      "0.9243421052631579\n",
      "[[18  0  0 ...  0  0  0]\n",
      " [ 0  7  0 ...  0  0  0]\n",
      " [ 0  0 15 ...  0  0  0]\n",
      " ...\n",
      " [ 0  0  0 ...  7  0  0]\n",
      " [ 0  0  0 ...  0  7  0]\n",
      " [ 0  0  0 ...  0  0  2]]\n",
      "              precision    recall  f1-score   support\n",
      "\n",
      "         0.0       0.95      0.95      0.95        19\n",
      "         1.0       0.88      1.00      0.93         7\n",
      "         2.0       1.00      1.00      1.00        15\n",
      "         3.0       1.00      1.00      1.00        11\n",
      "         4.0       1.00      0.89      0.94         9\n",
      "         5.0       1.00      0.88      0.93         8\n",
      "         6.0       1.00      0.96      0.98        23\n",
      "         7.0       0.00      0.00      0.00         1\n",
      "         8.0       1.00      1.00      1.00         2\n",
      "         9.0       1.00      1.00      1.00        11\n",
      "        10.0       1.00      0.50      0.67         2\n",
      "        11.0       0.75      1.00      0.86         3\n",
      "        12.0       0.92      1.00      0.96        12\n",
      "        13.0       1.00      1.00      1.00         6\n",
      "        14.0       1.00      0.67      0.80         6\n",
      "        15.0       1.00      1.00      1.00         3\n",
      "        16.0       0.00      0.00      0.00         0\n",
      "        17.0       0.83      0.83      0.83         6\n",
      "        18.0       1.00      1.00      1.00         3\n",
      "        19.0       1.00      1.00      1.00         7\n",
      "        20.0       1.00      0.50      0.67         2\n",
      "        22.0       0.60      1.00      0.75         3\n",
      "        23.0       1.00      1.00      1.00         5\n",
      "        24.0       0.60      1.00      0.75         3\n",
      "        25.0       1.00      1.00      1.00         4\n",
      "        26.0       1.00      1.00      1.00        11\n",
      "        27.0       1.00      1.00      1.00         2\n",
      "        28.0       0.83      0.71      0.77         7\n",
      "        29.0       1.00      0.71      0.83         7\n",
      "        30.0       1.00      1.00      1.00         4\n",
      "        31.0       0.78      0.70      0.74        10\n",
      "        32.0       0.75      0.75      0.75         4\n",
      "        33.0       1.00      1.00      1.00         2\n",
      "        34.0       1.00      1.00      1.00         8\n",
      "        35.0       0.80      0.67      0.73         6\n",
      "        36.0       1.00      1.00      1.00         7\n",
      "        37.0       1.00      1.00      1.00         2\n",
      "        38.0       0.60      1.00      0.75         3\n",
      "        39.0       0.75      0.75      0.75         4\n",
      "        40.0       1.00      1.00      1.00         1\n",
      "        41.0       1.00      1.00      1.00         4\n",
      "        42.0       1.00      1.00      1.00        10\n",
      "        43.0       1.00      1.00      1.00         3\n",
      "        44.0       1.00      0.90      0.95        10\n",
      "        45.0       1.00      1.00      1.00         4\n",
      "        46.0       1.00      1.00      1.00         3\n",
      "        47.0       0.80      1.00      0.89         4\n",
      "        48.0       1.00      1.00      1.00         7\n",
      "        49.0       0.88      1.00      0.93         7\n",
      "        50.0       0.67      0.67      0.67         3\n",
      "\n",
      "    accuracy                           0.92       304\n",
      "   macro avg       0.89      0.88      0.88       304\n",
      "weighted avg       0.94      0.92      0.93       304\n",
      "\n"
     ]
    }
   ],
   "source": [
    "from sklearn.ensemble import RandomForestClassifier\n",
    "\n",
    "rf=RandomForestClassifier(n_estimators=100,random_state=42)\n",
    "rf.fit(x_train,y_train)\n",
    "predrf=rf.predict(x_test)\n",
    "print(accuracy_score(y_test,predrf))\n",
    "print(confusion_matrix(y_test,predrf))\n",
    "print(classification_report(y_test,predrf))"
   ]
  },
  {
   "cell_type": "code",
   "execution_count": 70,
   "metadata": {},
   "outputs": [
    {
     "name": "stdout",
     "output_type": "stream",
     "text": [
      "0.07236842105263158\n",
      "[[0 0 0 ... 0 0 0]\n",
      " [0 0 0 ... 0 0 0]\n",
      " [0 0 0 ... 0 0 0]\n",
      " ...\n",
      " [0 0 0 ... 0 0 0]\n",
      " [0 0 0 ... 0 0 0]\n",
      " [0 0 0 ... 0 0 0]]\n",
      "              precision    recall  f1-score   support\n",
      "\n",
      "         0.0       0.00      0.00      0.00        19\n",
      "         1.0       0.00      0.00      0.00         7\n",
      "         2.0       0.00      0.00      0.00        15\n",
      "         3.0       0.58      1.00      0.73        11\n",
      "         4.0       0.04      1.00      0.08         9\n",
      "         5.0       0.00      0.00      0.00         8\n",
      "         6.0       0.00      0.00      0.00        23\n",
      "         7.0       0.00      0.00      0.00         1\n",
      "         8.0       0.00      0.00      0.00         2\n",
      "         9.0       0.00      0.00      0.00        11\n",
      "        10.0       0.00      0.00      0.00         2\n",
      "        11.0       0.00      0.00      0.00         3\n",
      "        12.0       0.00      0.00      0.00        12\n",
      "        13.0       0.00      0.00      0.00         6\n",
      "        14.0       0.00      0.00      0.00         6\n",
      "        15.0       0.00      0.00      0.00         3\n",
      "        17.0       0.00      0.00      0.00         6\n",
      "        18.0       0.00      0.00      0.00         3\n",
      "        19.0       0.00      0.00      0.00         7\n",
      "        20.0       0.00      0.00      0.00         2\n",
      "        21.0       0.00      0.00      0.00         0\n",
      "        22.0       0.00      0.00      0.00         3\n",
      "        23.0       0.00      0.00      0.00         5\n",
      "        24.0       0.13      0.67      0.22         3\n",
      "        25.0       0.00      0.00      0.00         4\n",
      "        26.0       0.00      0.00      0.00        11\n",
      "        27.0       0.00      0.00      0.00         2\n",
      "        28.0       0.00      0.00      0.00         7\n",
      "        29.0       0.00      0.00      0.00         7\n",
      "        30.0       0.00      0.00      0.00         4\n",
      "        31.0       0.00      0.00      0.00        10\n",
      "        32.0       0.00      0.00      0.00         4\n",
      "        33.0       0.00      0.00      0.00         2\n",
      "        34.0       0.00      0.00      0.00         8\n",
      "        35.0       0.00      0.00      0.00         6\n",
      "        36.0       0.00      0.00      0.00         7\n",
      "        37.0       0.00      0.00      0.00         2\n",
      "        38.0       0.00      0.00      0.00         3\n",
      "        39.0       0.00      0.00      0.00         4\n",
      "        40.0       0.00      0.00      0.00         1\n",
      "        41.0       0.00      0.00      0.00         4\n",
      "        42.0       0.00      0.00      0.00        10\n",
      "        43.0       0.00      0.00      0.00         3\n",
      "        44.0       0.00      0.00      0.00        10\n",
      "        45.0       0.00      0.00      0.00         4\n",
      "        46.0       0.00      0.00      0.00         3\n",
      "        47.0       0.00      0.00      0.00         4\n",
      "        48.0       0.00      0.00      0.00         7\n",
      "        49.0       0.00      0.00      0.00         7\n",
      "        50.0       0.00      0.00      0.00         3\n",
      "\n",
      "    accuracy                           0.07       304\n",
      "   macro avg       0.02      0.05      0.02       304\n",
      "weighted avg       0.02      0.07      0.03       304\n",
      "\n"
     ]
    }
   ],
   "source": [
    "from sklearn.ensemble import AdaBoostClassifier\n",
    "ad=AdaBoostClassifier()\n",
    "ad.fit(x_train,y_train)\n",
    "ad_pred=ad.predict(x_test)\n",
    "print(accuracy_score(y_test,ad_pred))\n",
    "print(confusion_matrix(y_test,ad_pred))\n",
    "print(classification_report(y_test,ad_pred))"
   ]
  },
  {
   "cell_type": "code",
   "execution_count": 71,
   "metadata": {},
   "outputs": [
    {
     "name": "stdout",
     "output_type": "stream",
     "text": [
      "[0.83881579 0.91447368 0.88778878 0.95049505 0.88118812]\n",
      "Mean:  0.894552284175786 \n",
      "STD 0.037033384758847064\n"
     ]
    }
   ],
   "source": [
    "from sklearn.model_selection import cross_val_score\n",
    "rfscores=cross_val_score(rf,x,y,cv=5)\n",
    "print(rfscores)\n",
    "print(\"Mean: \",rfscores.mean(),\"\\nSTD\",rfscores.std())"
   ]
  },
  {
   "cell_type": "markdown",
   "metadata": {},
   "source": [
    "Random Forest Classifier is working fine giving accuracy score of 0.92, mean of 0.89 with standard deviation of 0.037. So, we save Random Forest Classifier as our model."
   ]
  },
  {
   "cell_type": "markdown",
   "metadata": {},
   "source": [
    "# Saving the best model"
   ]
  },
  {
   "cell_type": "code",
   "execution_count": 72,
   "metadata": {},
   "outputs": [
    {
     "data": {
      "text/plain": [
       "['avocado_classification.obj']"
      ]
     },
     "execution_count": 72,
     "metadata": {},
     "output_type": "execute_result"
    }
   ],
   "source": [
    "#Saving the RandomForest Classifier as our final model\n",
    "from sklearn.externals import joblib\n",
    "joblib.dump(rf,'avocado_classification.obj')"
   ]
  },
  {
   "cell_type": "code",
   "execution_count": 74,
   "metadata": {},
   "outputs": [
    {
     "data": {
      "text/plain": [
       "array([47., 45.,  0., 18., 14., 31., 45., 34., 28.,  3., 26., 43., 26.,\n",
       "       27.,  4., 25., 22.,  2.,  1., 12., 25., 13., 13., 12., 22.,  1.,\n",
       "       11.,  9., 11.,  3.,  2., 42.,  0., 35., 26., 48., 35., 12.,  8.,\n",
       "       42.,  5., 17.,  1., 22., 26., 16., 41., 36.,  2.,  6., 44.,  3.,\n",
       "        8.,  5., 44., 48., 49., 48., 48., 38.,  9.,  1.,  1.,  6., 24.,\n",
       "        4.,  3.,  2., 18., 24.,  1., 30.,  5.,  1., 47., 28.,  2.,  9.,\n",
       "       25., 29.,  3., 31.,  6., 31.,  9., 23., 23.,  2.,  0.,  6.,  0.,\n",
       "       32., 46., 34., 19.,  2., 38., 50., 27., 34.,  2., 29., 24.,  3.,\n",
       "       24., 15., 26., 23., 13., 29., 26.,  6.,  4.,  0., 39.,  5.,  3.,\n",
       "        6., 37., 17., 14., 29.,  0.,  2.,  1.,  5., 28., 48.,  3., 12.,\n",
       "        9.,  6., 12., 35.,  0., 13., 49.,  0., 49., 19., 12., 31., 26.,\n",
       "       12., 28.,  4., 33., 24., 41., 48., 38., 16., 45.,  0.,  2.,  5.,\n",
       "       42.,  9., 18.,  0., 47.,  2.,  3.,  6., 49., 35., 44., 44.,  6.,\n",
       "        4., 36., 33., 31., 32.,  2.,  0.,  6., 44., 47., 41.,  3.,  6.,\n",
       "       15.,  5.,  0., 49., 47.,  6.,  6., 26., 20., 32.,  2.,  0., 48.,\n",
       "        0., 17., 43.,  6., 31.,  6.,  6., 43., 34., 34., 39., 19., 10.,\n",
       "       46., 30., 44., 39., 29.,  2., 42.,  0., 44., 38., 31., 12.,  6.,\n",
       "       30.,  9., 41., 12., 37., 19., 45., 42.,  4., 49., 36.,  6., 17.,\n",
       "       12., 36., 42., 15., 12.,  0., 50., 17., 19., 13.,  9., 34., 36.,\n",
       "        9.,  0., 30.,  6.,  6., 49., 36., 23., 22., 42., 26.,  2., 19.,\n",
       "        0., 34., 36., 42.,  3., 49., 14., 31., 11., 42., 12., 44., 44.,\n",
       "       28., 50.,  9., 46.,  6.,  6., 23., 11., 19., 42., 31., 39.,  0.,\n",
       "       14., 25.,  7.,  4., 40., 38.,  4., 35.,  9., 26., 34., 22., 12.,\n",
       "       26., 17., 28., 32., 13.])"
      ]
     },
     "execution_count": 74,
     "metadata": {},
     "output_type": "execute_result"
    }
   ],
   "source": [
    "# Loading the model from the file\n",
    "rf_from_joblib=joblib.load('avocado_classification.obj')\n",
    "\n",
    "# Using the loaded model to make predictions\n",
    "rf_from_joblib.predict(x_test)\n"
   ]
  }
 ],
 "metadata": {
  "kernelspec": {
   "display_name": "Python 3",
   "language": "python",
   "name": "python3"
  },
  "language_info": {
   "codemirror_mode": {
    "name": "ipython",
    "version": 3
   },
   "file_extension": ".py",
   "mimetype": "text/x-python",
   "name": "python",
   "nbconvert_exporter": "python",
   "pygments_lexer": "ipython3",
   "version": "3.7.6"
  }
 },
 "nbformat": 4,
 "nbformat_minor": 4
}
